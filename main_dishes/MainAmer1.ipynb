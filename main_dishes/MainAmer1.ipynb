{
 "cells": [
  {
   "cell_type": "markdown",
   "metadata": {},
   "source": [
    "# Main Dishes, American, Pull #1"
   ]
  },
  {
   "cell_type": "code",
   "execution_count": 1,
   "metadata": {
    "collapsed": true
   },
   "outputs": [],
   "source": [
    "import json\n",
    "import requests\n",
    "import pandas as pd\n",
    "import numpy as np \n",
    "import re"
   ]
  },
  {
   "cell_type": "code",
   "execution_count": 2,
   "metadata": {
    "collapsed": true
   },
   "outputs": [],
   "source": [
    "# Course search terms\n",
    "allowedCourse = requests.get('http://api.yummly.com/v1/api/metadata/course?_app_id=e2b9bebc&_app_key=4193215272970d956cfd5384a08580a9')\n",
    "\n",
    "# Cuisine search terms\n",
    "allowedCuisine = requests.get('http://api.yummly.com/v1/api/metadata/cuisine?_app_id=e2b9bebc&_app_key=4193215272970d956cfd5384a08580a9')"
   ]
  },
  {
   "cell_type": "code",
   "execution_count": 3,
   "metadata": {
    "collapsed": false
   },
   "outputs": [
    {
     "name": "stdout",
     "output_type": "stream",
     "text": [
      "[u'course^course-Main Dishes', u'course^course-Desserts', u'course^course-Side Dishes', u'course^course-Appetizers', u'course^course-Salads', u'course^course-Breakfast and Brunch', u'course^course-Breads', u'course^course-Soups', u'course^course-Beverages', u'course^course-Condiments and Sauces', u'course^course-Cocktails', u'course^course-Snacks', u'course^course-Lunch']\n",
      "[u'cuisine^cuisine-american', u'cuisine^cuisine-kid-friendly', u'cuisine^cuisine-italian', u'cuisine^cuisine-asian', u'cuisine^cuisine-mexican', u'cuisine^cuisine-southern', u'cuisine^cuisine-french', u'cuisine^cuisine-southwestern', u'cuisine^cuisine-barbecue-bbq', u'cuisine^cuisine-indian', u'cuisine^cuisine-chinese', u'cuisine^cuisine-cajun', u'cuisine^cuisine-mediterranean', u'cuisine^cuisine-greek', u'cuisine^cuisine-english', u'cuisine^cuisine-spanish', u'cuisine^cuisine-thai', u'cuisine^cuisine-german', u'cuisine^cuisine-moroccan', u'cuisine^cuisine-irish', u'cuisine^cuisine-japanese', u'cuisine^cuisine-cuban', u'cuisine^cuisine-hawaiian', u'cuisine^cuisine-swedish', u'cuisine^cuisine-hungarian', u'cuisine^cuisine-portuguese']\n"
     ]
    }
   ],
   "source": [
    "# Slice crap off beggining and end\n",
    "response_course = allowedCourse.text[23:-2]\n",
    "response_cuisine = allowedCuisine.text[24:-2]\n",
    "\n",
    "# Print search terms\n",
    "course_list = json.loads(response_course)\n",
    "cuisine_list = json.loads(response_cuisine)\n",
    "print [x['searchValue'] for x in course_list]\n",
    "print [x['searchValue'] for x in cuisine_list]"
   ]
  },
  {
   "cell_type": "code",
   "execution_count": 278,
   "metadata": {
    "collapsed": true
   },
   "outputs": [],
   "source": [
    "url = 'http://api.yummly.com/v1/api/recipes?'\n",
    "headers = {'X-Yummly-App-ID':'e2b9bebc', 'X-Yummly-App-Key':'4193215272970d956cfd5384a08580a9'}"
   ]
  },
  {
   "cell_type": "code",
   "execution_count": 279,
   "metadata": {
    "collapsed": true
   },
   "outputs": [],
   "source": [
    "parameters = {'allowedCourse[]': 'course^course-Main Dishes', \n",
    "              'excludedCourse[]': ['course^course-Appetizers', 'course^course-Salads', \n",
    "                                   'course^course-Condiments and Sauces',\n",
    "                                   'course^course-Lunch', 'course^course-Soups', 'course^course-Snacks',\n",
    "                                   'course^course-Breakfast and Brunch', 'course^course-Side Dishes',],\n",
    "              'allowedCuisine[]': 'cuisine^cuisine-asian',\n",
    "              'excludedCuisine[]': ['cuisine^cuisine-american', 'cuisine^cuisine-italian', 'cuisine^cuisine-indian',\n",
    "                                    'cuisine^cuisine-mexican', 'cuisine^cuisine-mediterranean', 'cuisine^cuisine-chinese',\n",
    "                                   'cuisine^cuisine-japanese'],\n",
    "              'maxResult': 500,\n",
    "             'start': 1500}"
   ]
  },
  {
   "cell_type": "code",
   "execution_count": 280,
   "metadata": {
    "collapsed": false
   },
   "outputs": [
    {
     "data": {
      "text/plain": [
       "200"
      ]
     },
     "execution_count": 280,
     "metadata": {},
     "output_type": "execute_result"
    }
   ],
   "source": [
    "response = requests.get(url, headers=headers, params=parameters)\n",
    "response.status_code"
   ]
  },
  {
   "cell_type": "code",
   "execution_count": 281,
   "metadata": {
    "collapsed": false
   },
   "outputs": [
    {
     "name": "stdout",
     "output_type": "stream",
     "text": [
      "<type 'dict'>\n",
      "[u'matches', u'totalMatchCount', u'attribution', u'facetCounts', u'criteria']\n",
      "11722\n"
     ]
    }
   ],
   "source": [
    "# Decode JSON\n",
    "api_call = response.json()\n",
    "print type(api_call)\n",
    "\n",
    "# Print keys\n",
    "response_keys = api_call.keys()\n",
    "print response_keys\n",
    "\n",
    "# Print total match count\n",
    "print api_call['totalMatchCount']"
   ]
  },
  {
   "cell_type": "code",
   "execution_count": 282,
   "metadata": {
    "collapsed": false
   },
   "outputs": [],
   "source": [
    "#forming lists to create dataframes of the features we want. \n",
    "main_list = []\n",
    "ingredients_list = []\n",
    "attributes_list = []\n",
    "flavors_dict = {}\n",
    "\n",
    "for food in api_call['matches']:\n",
    "\n",
    "    _d1 = {}\n",
    "    _d1['id'] = food['id']\n",
    "    _d1['rating'] = food['rating']\n",
    "    _d1['recipeName'] = food['recipeName']\n",
    "    _d1['sourceDisplayName'] = food['sourceDisplayName']\n",
    "    \n",
    "    main_list.append(_d1)\n",
    "    \n",
    "    _d2 = {}\n",
    "    _d2['id'] = food['id']\n",
    "    _d2['course'] = 'Main Dish'\n",
    "    _d2['ingredient_list'] = food['ingredients']\n",
    "    for i in food['ingredients']:\n",
    "        i = i.lower() # additional code to conver to lowercase\n",
    "        i = re.sub(r'\\d+%\\s', '', i) # additional code to remove 1%, 2%, etc\n",
    "        i = re.sub(r'\\xae', '', i) # remove '\\xae' characters\n",
    "        i = re.sub(r'shredded\\s', '', i)\n",
    "        i = re.sub(r'chopped\\s', '', i)\n",
    "        i = re.sub(r'diced\\s', '', i)\n",
    "        i = re.sub(r'crumbled\\s', '', i)\n",
    "        i = re.sub(r'fresh\\s', '', i)\n",
    "        i = re.sub(r'grated\\s', '', i)\n",
    "        i = re.sub(r'fat free\\s', '', i)\n",
    "        i = re.sub(r'boneless\\s', '', i)\n",
    "        i = re.sub(r'boneless skinless\\s', '', i)\n",
    "        i = re.sub(r'minced\\s', '', i)\n",
    "        i = re.sub(r'sliced\\s', '', i)\n",
    "        i = re.sub(r'(?!ground beef)ground ', '', i)\n",
    "        i = re.sub(r'^dried\\s', '', i)\n",
    "        i = re.sub(r'^cooked\\s', '', i)\n",
    "        \n",
    "        _d2[i] = 1\n",
    "    ingredients_list.append(_d2)\n",
    "\n",
    "    _d3 = {}\n",
    "    _d3['id'] = food['id']\n",
    "    for k, v in food['attributes'].items():\n",
    "        for i in v:\n",
    "            _d3[i] = 1\n",
    "    attributes_list.append(_d3)\n",
    "    \n",
    "\n",
    "    flavors_dict[food.get('id')] = food.get('flavors')"
   ]
  },
  {
   "cell_type": "code",
   "execution_count": 283,
   "metadata": {
    "collapsed": false
   },
   "outputs": [],
   "source": [
    "# read in dictionary for course and cuisine and create list of possible values for each\n",
    "course_df = pd.read_csv('../datasets/master_courses.csv', names=['course'])\n",
    "cuisine_df = pd.read_csv('../datasets/master_cuisines.csv', names=['cuisine'])\n",
    "\n",
    "course_list = course_df.course\n",
    "cuisine_list= cuisine_df.cuisine"
   ]
  },
  {
   "cell_type": "code",
   "execution_count": 284,
   "metadata": {
    "collapsed": true
   },
   "outputs": [],
   "source": [
    "#create dictionary of cuisine and course for each recipe\n",
    "course_dict={}\n",
    "cuisine_dict={}\n",
    "for food in api_call['matches']:\n",
    "    course_dict[food.get('id')]= food['attributes'].get('course')\n",
    "    cuisine_dict[food.get('id')]= food['attributes'].get('cuisine')\n",
    "    \n",
    "_courses= {}\n",
    "\n",
    "for k, v in course_dict.iteritems():\n",
    "    course_val = {}\n",
    "    for course in course_list:\n",
    "        try:\n",
    "            if course in v :\n",
    "                course_val[course] = 1\n",
    "            else:\n",
    "                course_val[course] = 0\n",
    "        except TypeError:\n",
    "            course_val[course] = 0\n",
    "    \n",
    "        _courses[k] = course_val\n",
    "        \n",
    "_cuisines= {}       \n",
    "\n",
    "for k, v in cuisine_dict.iteritems():\n",
    "    cuisine_val = {}\n",
    "    for course in cuisine_list:\n",
    "        try:\n",
    "            if course in v :\n",
    "                cuisine_val[course] = 1\n",
    "            else:\n",
    "                cuisine_val[course] = 0\n",
    "        except TypeError:\n",
    "            cuisine_val[course] = 0\n",
    "    \n",
    "        _cuisines[k] = cuisine_val"
   ]
  },
  {
   "cell_type": "markdown",
   "metadata": {},
   "source": [
    "## Recipe Detail Query"
   ]
  },
  {
   "cell_type": "code",
   "execution_count": 285,
   "metadata": {
    "collapsed": false
   },
   "outputs": [],
   "source": [
    "#get list of recipe ids\n",
    "recipe_ids=[]\n",
    "for recipe in api_call['matches']:\n",
    "    recipe_ids.append(recipe['id'])"
   ]
  },
  {
   "cell_type": "code",
   "execution_count": 286,
   "metadata": {
    "collapsed": true
   },
   "outputs": [],
   "source": [
    "# second api call to get other features for each recipe\n",
    "key_id= '_app_id=e2b9bebc&_app_key=4193215272970d956cfd5384a08580a9'\n",
    "url='http://api.yummly.com/v1/api/recipe/'"
   ]
  },
  {
   "cell_type": "code",
   "execution_count": 287,
   "metadata": {
    "collapsed": false
   },
   "outputs": [],
   "source": [
    "# retrieve other features for all recipes\n",
    "\n",
    "def get_recipe(_id):\n",
    "    response = requests.get(url + _id + '?' + key_id)\n",
    "    return response.json()\n",
    "\n",
    "recipes=[]\n",
    "for _id in recipe_ids :\n",
    "    recipes.append(get_recipe(_id))"
   ]
  },
  {
   "cell_type": "code",
   "execution_count": 288,
   "metadata": {
    "collapsed": true
   },
   "outputs": [],
   "source": [
    "#for each recipe create a new dictionary of selected attributes and append into a list\n",
    "\n",
    "recipe_details=[]\n",
    "for recipe in recipes:\n",
    "    _dict={}\n",
    "    _dict['id']=recipe['id']\n",
    "    _dict['ingredientCount']= len(recipe['ingredientLines'])\n",
    "    _dict['numberOfServings']= recipe['numberOfServings']\n",
    "    _dict['prepTimeInSeconds'] = recipe.get('prepTimeInSeconds')\n",
    "    _dict['cookTimeInSeconds'] = recipe.get('cookTimeInSeconds')\n",
    "    _dict['totalTimeInSeconds']= recipe.get('totalTimeInSeconds')\n",
    "    \n",
    "    \n",
    "    recipe_details.append(_dict)"
   ]
  },
  {
   "cell_type": "code",
   "execution_count": 289,
   "metadata": {
    "collapsed": false
   },
   "outputs": [],
   "source": [
    "#create dataframes, arrange column index and save into csv\n",
    "# df_main = pd.DataFrame(main_list)\n",
    "# df_main.to_csv('asian/main_as4.csv', encoding ='utf-8')\n",
    "\n",
    "# df_ingredients = pd.DataFrame(ingredients_list)\n",
    "# df_ingredients = df_ingredients.fillna(0)\n",
    "# cols = list(df_ingredients)\n",
    "# cols.insert(0, cols.pop(cols.index('id')))\n",
    "# cols.insert(1, cols.pop(cols.index('course')))\n",
    "# df_ingredients= df_ingredients.ix[:,cols]\n",
    "# df_ingredients.to_csv('asian/main_as_ingredients4.csv', encoding ='utf-8')\n",
    "\n",
    "# df_attributes = pd.DataFrame(attributes_list)\n",
    "# df_attributes = df_attributes.fillna(0)\n",
    "# cols = list(df_attributes)\n",
    "# cols.insert(0, cols.pop(cols.index('id')))\n",
    "# df_attributes = df_attributes.ix[:,cols]\n",
    "# df_attributes.to_csv('asian/main_as_attributes4.csv', encoding= 'utf-8')\n",
    "\n",
    "# df_flavors = pd.DataFrame(flavors_dict).transpose()\n",
    "# df_flavors.reset_index(level=0, inplace=True)\n",
    "# df_flavors.to_csv('asian/main_as_flavors4.csv', encoding= 'utf-8')\n",
    "\n",
    "# df_courses = pd.DataFrame(_courses).transpose()\n",
    "# df_courses.reset_index(level=0, inplace=True)\n",
    "# df_courses.to_csv('asian/main_as_courses4.csv', encoding= 'utf-8')\n",
    "\n",
    "# df_cuisines = pd.DataFrame(_cuisines).transpose()\n",
    "# df_cuisines.reset_index(level=0, inplace=True)\n",
    "# df_cuisines.to_csv('asian/main_as_cuisines4.csv', encoding= 'utf-8')\n",
    "\n",
    "# df_details=pd.DataFrame(recipe_details)\n",
    "# cols = list(df_details)\n",
    "# cols.insert(0, cols.pop(cols.index('id')))\n",
    "# df_details=df_details.ix[:,cols]\n",
    "# df_details.to_csv('asian/main_as_details4.csv', encoding= 'utf-8')"
   ]
  },
  {
   "cell_type": "code",
   "execution_count": null,
   "metadata": {
    "collapsed": true
   },
   "outputs": [],
   "source": []
  }
 ],
 "metadata": {
  "kernelspec": {
   "display_name": "Python 2",
   "language": "python",
   "name": "python2"
  },
  "language_info": {
   "codemirror_mode": {
    "name": "ipython",
    "version": 2
   },
   "file_extension": ".py",
   "mimetype": "text/x-python",
   "name": "python",
   "nbconvert_exporter": "python",
   "pygments_lexer": "ipython2",
   "version": "2.7.11"
  }
 },
 "nbformat": 4,
 "nbformat_minor": 0
}

{
 "cells": [
  {
   "cell_type": "code",
   "execution_count": 1,
   "metadata": {
    "collapsed": true
   },
   "outputs": [],
   "source": [
    "from yummly import Client\n",
    "import json\n",
    "import requests\n",
    "import pandas as pd\n",
    "import numpy as np \n",
    "import re"
   ]
  },
  {
   "cell_type": "code",
   "execution_count": 6,
   "metadata": {
    "collapsed": true
   },
   "outputs": [],
   "source": [
    "# API call for the first 500 BB recipes labeled as such only!\n",
    "header= {'X-Yummly-App-ID':'79663a75', 'X-Yummly-App-Key':'02b233108f476f3110e0f65437c4d6dd'}\n",
    "url='http://api.yummly.com/v1/api/recipes?'\n",
    "parameters={\n",
    "            'allowedCourse[]':'course^course-Desserts',\n",
    "            'excludedCourse[]': ['course^course-Main Dishes','course^course-Appetizers', 'course^course-Soups', 'course^course-Lunch',\n",
    "                                'course^course-Side Dishes','course^course-Salads','course^course-Breads',\n",
    "                                 'course^course-Breakfast and Brunch', 'course^course-Beverages', 'course^course-Condiments and Sauces',\n",
    "                                'course^course-Cocktails', 'course^course-Snacks'],\n",
    "            'maxResult': 501,\n",
    "            'start': 1550\n",
    "            }\n",
    "\n",
    "response=requests.get(url, headers = header, params = parameters)"
   ]
  },
  {
   "cell_type": "code",
   "execution_count": 7,
   "metadata": {
    "collapsed": false
   },
   "outputs": [
    {
     "data": {
      "text/plain": [
       "200"
      ]
     },
     "execution_count": 7,
     "metadata": {},
     "output_type": "execute_result"
    }
   ],
   "source": [
    "response.status_code"
   ]
  },
  {
   "cell_type": "code",
   "execution_count": 8,
   "metadata": {
    "collapsed": false
   },
   "outputs": [
    {
     "name": "stdout",
     "output_type": "stream",
     "text": [
      "<type 'dict'>\n",
      "[u'matches', u'totalMatchCount', u'attribution', u'facetCounts', u'criteria']\n"
     ]
    }
   ],
   "source": [
    "DS=response.json()\n",
    "print type(DS)\n",
    "print DS.keys()"
   ]
  },
  {
   "cell_type": "code",
   "execution_count": 9,
   "metadata": {
    "collapsed": false
   },
   "outputs": [
    {
     "name": "stdout",
     "output_type": "stream",
     "text": [
      "500\n",
      "<type 'list'>\n",
      "[u'flavors', u'rating', u'totalTimeInSeconds', u'ingredients', u'smallImageUrls', u'sourceDisplayName', u'recipeName', u'attributes', u'id', u'imageUrlsBySize']\n"
     ]
    }
   ],
   "source": [
    "#only interrested in the information under matches. \n",
    "print len(DS['matches'])\n",
    "print type(DS['matches'])\n",
    "print DS['matches'][0].keys()"
   ]
  },
  {
   "cell_type": "code",
   "execution_count": 10,
   "metadata": {
    "collapsed": false
   },
   "outputs": [
    {
     "data": {
      "text/plain": [
       "{u'attributes': {u'course': [u'Desserts']},\n",
       " u'flavors': None,\n",
       " u'id': u'Frozen-Yogurt-Fruit-Bark-1575470',\n",
       " u'imageUrlsBySize': {u'90': u'https://lh3.googleusercontent.com/j8nei93O89zy3mxtn07GZX2umts469KQ7NUoUZaHIeCYrUVmNxIRHZE38p093o8NtDIqBdAOJZoDgYj2NVrV=s90-c'},\n",
       " u'ingredients': [u'plain yogurt',\n",
       "  u'vanilla',\n",
       "  u'fruit',\n",
       "  u'sweetener',\n",
       "  u'yoghurt'],\n",
       " u'rating': 4,\n",
       " u'recipeName': u'Frozen Yogurt Fruit Bark',\n",
       " u'smallImageUrls': [u'https://lh3.googleusercontent.com/AN_s-Mj-CokDj5fxSdq2EJZfYHH38pVgq4XR6wI9GgqOvtKoP-M3XWhY2dvwwzYFM00ScND6k_BYc0VDgCCFuZE=s90'],\n",
       " u'sourceDisplayName': u\"Courtney's Sweets\",\n",
       " u'totalTimeInSeconds': 11400}"
      ]
     },
     "execution_count": 10,
     "metadata": {},
     "output_type": "execute_result"
    }
   ],
   "source": [
    "#checkout one recipe\n",
    "DS_matches=DS['matches']\n",
    "DS_matches[499]"
   ]
  },
  {
   "cell_type": "code",
   "execution_count": 12,
   "metadata": {
    "collapsed": false
   },
   "outputs": [
    {
     "name": "stdout",
     "output_type": "stream",
     "text": [
      "Easy_-No-Bake_-Mud-Pie-1708171\n",
      "Lemonade-Popsicles-1682120\n",
      "Raw-Brownies-With-Frosting-1707657\n",
      "Snickers-Chocolate-Cake-Mix-Bars-1710321\n"
     ]
    },
    {
     "data": {
      "text/plain": [
       "[]"
      ]
     },
     "execution_count": 12,
     "metadata": {},
     "output_type": "execute_result"
    }
   ],
   "source": [
    "#import previous list of recipes collected\n",
    "df=pd.read_csv('DS_main.csv')\n",
    "df1=pd.read_csv('DS_main_1.csv')\n",
    "df2=pd.read_csv('DS_main_2.csv')\n",
    "DS_ids=df.id\n",
    "DS1_ids=df1.id\n",
    "DS2_ids=df2.id\n",
    "print DS_ids[0]\n",
    "print DS1_ids[0]\n",
    "print DS2_ids[0]\n",
    "DS3_ids=[]\n",
    "for recipe in DS_matches:\n",
    "    DS3_ids.append(recipe['id'])\n",
    "print DS3_ids[0]\n",
    "#check if there are dupplicate recipes\n",
    "[i for i, j in zip(DS_ids, DS3_ids) if i == j]\n",
    "[i for i, j in zip(DS1_ids, DS3_ids) if i == j]\n",
    "[i for i, j in zip(DS2_ids, DS3_ids) if i == j]"
   ]
  },
  {
   "cell_type": "code",
   "execution_count": 13,
   "metadata": {
    "collapsed": true
   },
   "outputs": [],
   "source": [
    "#forming lists to create dataframes of the features we want. \n",
    "main_list = []\n",
    "ingredients_list = []\n",
    "attributes_list = []\n",
    "\n",
    "\n",
    "for food in DS_matches:\n",
    "\n",
    "    _d1 = {}\n",
    "    _d1['id'] = food['id']\n",
    "    _d1['rating'] = food['rating']\n",
    "    _d1['recipeName'] = food['recipeName']\n",
    "    _d1['sourceDisplayName'] = food['sourceDisplayName']\n",
    "    main_list.append(_d1)\n",
    "    \n",
    "    _d2 = {}\n",
    "    _d2['id'] = food['id']\n",
    "    _d2['course'] = 'Breakfast and Brunch' \n",
    "    _d2['ingredient_list'] =  food['ingredients']\n",
    "    for i in food['ingredients']:\n",
    "        i = i.lower() # additional code to convert to lowercase\n",
    "        i = re.sub(r'\\d+%\\s', '', i) # additional code to remove 1%, 2%, etc\n",
    "        i = re.sub(r'\\xae', '', i) # remove '\\xae' characters\n",
    "        i = re.sub(r'shredded\\s', '', i)\n",
    "        i = re.sub(r'chopped\\s', '', i)\n",
    "        i = re.sub(r'diced\\s', '', i)\n",
    "        i = re.sub(r'crumbled\\s', '', i)\n",
    "        i = re.sub(r'fresh\\s', '', i)\n",
    "        i = re.sub(r'grated\\s', '', i)\n",
    "        i = re.sub(r'fat free\\s', '', i)\n",
    "        i = re.sub(r'boneless\\s', '', i)\n",
    "        i = re.sub(r'boneless skinless\\s', '', i)\n",
    "        i = re.sub(r'minced\\s', '', i)\n",
    "        i = re.sub(r'sliced\\s', '', i)\n",
    "        i = re.sub(r'(?!ground beef)ground ', '', i)\n",
    "        i = re.sub(r'^dried\\s', '', i)\n",
    "        i = re.sub(r'^cooked\\s', '', i)\n",
    "        \n",
    "        _d2[i] = 1\n",
    "    ingredients_list.append(_d2)\n",
    "\n",
    "    _d3 = {}\n",
    "    _d3['id'] = food['id']\n",
    "    for k, v in food['attributes'].items():\n",
    "        for i in v:\n",
    "            _d3[i] = 1\n",
    "    attributes_list.append(_d3)\n",
    "\n",
    "flavors_dict = {}\n",
    "\n",
    "for food in DS_matches:\n",
    "    flavors_dict[food.get('id')] = food.get('flavors') "
   ]
  },
  {
   "cell_type": "code",
   "execution_count": 14,
   "metadata": {
    "collapsed": true
   },
   "outputs": [],
   "source": [
    "# read in csv for cuisine and create list of possible values \n",
    "cuisine_df = pd.read_csv('/Users/bruktawitabebe/Desktop/Yummly/cuisine_headers.csv', names=['cuisine'])\n",
    "cuisine_list= cuisine_df.cuisine"
   ]
  },
  {
   "cell_type": "code",
   "execution_count": 15,
   "metadata": {
    "collapsed": false
   },
   "outputs": [],
   "source": [
    "#create dictionary of cuisine and course for each recipe\n",
    "\n",
    "cuisine_dict={}\n",
    "for food in DS_matches:\n",
    "    cuisine_dict[food.get('id')]= food['attributes'].get('cuisine')\n",
    "            \n",
    "_cuisines= {}       \n",
    "\n",
    "for k, v in cuisine_dict.iteritems():\n",
    "    cuisine_val = {}\n",
    "    for course in cuisine_list:\n",
    "        try:\n",
    "            if course in v :\n",
    "                cuisine_val[course] = 1\n",
    "            else:\n",
    "                cuisine_val[course] = 0\n",
    "        except TypeError:\n",
    "            cuisine_val[course] = 0\n",
    "    \n",
    "        _cuisines[k] = cuisine_val"
   ]
  },
  {
   "cell_type": "code",
   "execution_count": 16,
   "metadata": {
    "collapsed": true
   },
   "outputs": [],
   "source": [
    "#get list of recipe ids\n",
    "recipe_ids=[]\n",
    "for recipe in DS_matches:\n",
    "    recipe_ids.append(recipe['id'])"
   ]
  },
  {
   "cell_type": "code",
   "execution_count": 17,
   "metadata": {
    "collapsed": true
   },
   "outputs": [],
   "source": [
    "# second api call to get other features for each recipe\n",
    "key_id= '_app_id=79663a75&_app_key=02b233108f476f3110e0f65437c4d6dd'\n",
    "url='http://api.yummly.com/v1/api/recipe/'"
   ]
  },
  {
   "cell_type": "code",
   "execution_count": 18,
   "metadata": {
    "collapsed": true
   },
   "outputs": [],
   "source": [
    "# retrieve other features for all recipes\n",
    "\n",
    "def get_recipe(_id):\n",
    "    response = requests.get(url + _id + '?' + key_id)\n",
    "    return response.json()\n",
    "\n",
    "recipes=[]\n",
    "for _id in recipe_ids :\n",
    "    recipes.append(get_recipe(_id))"
   ]
  },
  {
   "cell_type": "code",
   "execution_count": 19,
   "metadata": {
    "collapsed": false
   },
   "outputs": [
    {
     "data": {
      "text/plain": [
       "200"
      ]
     },
     "execution_count": 19,
     "metadata": {},
     "output_type": "execute_result"
    }
   ],
   "source": [
    "response.status_code"
   ]
  },
  {
   "cell_type": "code",
   "execution_count": 20,
   "metadata": {
    "collapsed": false
   },
   "outputs": [
    {
     "name": "stdout",
     "output_type": "stream",
     "text": [
      "500\n",
      "[u'totalTime', u'ingredientLines', u'attribution', u'name', u'rating', u'numberOfServings', u'yield', u'nutritionEstimates', u'source', u'flavors', u'images', u'attributes', u'id', u'totalTimeInSeconds']\n"
     ]
    }
   ],
   "source": [
    "print len(recipes)\n",
    "print recipes[1].keys()"
   ]
  },
  {
   "cell_type": "code",
   "execution_count": 21,
   "metadata": {
    "collapsed": true
   },
   "outputs": [],
   "source": [
    "#for each recipe create a new dictionary of selected attributes and append into a list\n",
    "\n",
    "recipe_details=[]\n",
    "for recipe in recipes:\n",
    "    _dict={}\n",
    "    #import pdb; pdb.set_trace()\n",
    "    _dict['id']=recipe['id']\n",
    "    _dict['ingredientCount'] = len(recipe['ingredientLines'])\n",
    "    _dict['numberOfServings'] = recipe['numberOfServings']\n",
    "    _dict['prepTimeInSeconds'] = recipe.get('prepTimeInSeconds')\n",
    "    _dict['cookTimeInSeconds'] = recipe.get('cookTimeInSeconds')\n",
    "    _dict['totalTimeInSeconds'] = recipe.get('totalTimeInSeconds')\n",
    "    \n",
    "    recipe_details.append(_dict)"
   ]
  },
  {
   "cell_type": "code",
   "execution_count": 22,
   "metadata": {
    "collapsed": false
   },
   "outputs": [],
   "source": [
    "#create dataframes, arrange column index and save into csv\n",
    "df_main = pd.DataFrame(main_list)\n",
    "df_main.to_csv('DS_main_3.csv', encoding ='utf-8')\n",
    "\n",
    "df_ingredients = pd.DataFrame(ingredients_list)\n",
    "df_ingredients = df_ingredients.fillna(0)\n",
    "cols = list(df_ingredients)\n",
    "cols.insert(0, cols.pop(cols.index('id')))\n",
    "cols.insert(1, cols.pop(cols.index('course')))\n",
    "df_ingredients= df_ingredients.ix[:,cols]\n",
    "df_ingredients.to_csv('DS_ingredients_3.csv', encoding ='utf-8')\n",
    "\n",
    "df_attributes = pd.DataFrame(attributes_list)\n",
    "df_attributes = df_attributes.fillna(0)\n",
    "cols = list(df_attributes)\n",
    "cols.insert(0, cols.pop(cols.index('id')))\n",
    "df_attributes = df_attributes.ix[:,cols]\n",
    "df_attributes.to_csv('DS_attributes_3.csv')\n",
    "\n",
    "df_flavors = pd.DataFrame(flavors_dict).transpose()\n",
    "df_flavors.reset_index(level=0, inplace=True)\n",
    "df_flavors.to_csv('DS_flavors_3.csv')\n",
    "\n",
    "df_cuisines = pd.DataFrame(_cuisines).transpose()\n",
    "df_cuisines.reset_index(level=0, inplace=True)\n",
    "df_cuisines.to_csv('DS_cuisines_3.csv')\n",
    "\n",
    "df_details=pd.DataFrame(recipe_details)\n",
    "cols = list(df_details)\n",
    "cols.insert(0, cols.pop(cols.index('id')))\n",
    "df_details=df_details.ix[:,cols]\n",
    "df_details.to_csv('DS_details_3.csv')"
   ]
  }
 ],
 "metadata": {
  "kernelspec": {
   "display_name": "Python 2",
   "language": "python",
   "name": "python2"
  },
  "language_info": {
   "codemirror_mode": {
    "name": "ipython",
    "version": 2
   },
   "file_extension": ".py",
   "mimetype": "text/x-python",
   "name": "python",
   "nbconvert_exporter": "python",
   "pygments_lexer": "ipython2",
   "version": "2.7.11"
  }
 },
 "nbformat": 4,
 "nbformat_minor": 0
}

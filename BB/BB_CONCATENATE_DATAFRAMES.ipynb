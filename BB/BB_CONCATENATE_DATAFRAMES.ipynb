{
 "cells": [
  {
   "cell_type": "code",
   "execution_count": 1,
   "metadata": {
    "collapsed": true
   },
   "outputs": [],
   "source": [
    "import pandas as pd\n",
    "import numpy as np"
   ]
  },
  {
   "cell_type": "markdown",
   "metadata": {},
   "source": [
    "# Breakfast & Brunch"
   ]
  },
  {
   "cell_type": "markdown",
   "metadata": {},
   "source": [
    "* ***Main***"
   ]
  },
  {
   "cell_type": "code",
   "execution_count": 74,
   "metadata": {
    "collapsed": true
   },
   "outputs": [],
   "source": [
    "df = pd.read_csv('BB_main.csv')\n",
    "df1 = pd.read_csv('BB_main_1.csv')\n",
    "df2 = pd.read_csv('BB_main_2.csv')\n",
    "df3 = pd.read_csv('BB_main_3.csv')"
   ]
  },
  {
   "cell_type": "code",
   "execution_count": 75,
   "metadata": {
    "collapsed": false
   },
   "outputs": [
    {
     "name": "stdout",
     "output_type": "stream",
     "text": [
      "(500, 5)\n"
     ]
    },
    {
     "data": {
      "text/plain": [
       "0"
      ]
     },
     "execution_count": 75,
     "metadata": {},
     "output_type": "execute_result"
    }
   ],
   "source": [
    "print df.shape\n",
    "df2.id.duplicated().sum()"
   ]
  },
  {
   "cell_type": "code",
   "execution_count": 76,
   "metadata": {
    "collapsed": false
   },
   "outputs": [],
   "source": [
    "df = df.drop('Unnamed: 0', 1)"
   ]
  },
  {
   "cell_type": "code",
   "execution_count": 77,
   "metadata": {
    "collapsed": false
   },
   "outputs": [
    {
     "name": "stdout",
     "output_type": "stream",
     "text": [
      "(500, 5)\n"
     ]
    },
    {
     "data": {
      "text/plain": [
       "0"
      ]
     },
     "execution_count": 77,
     "metadata": {},
     "output_type": "execute_result"
    }
   ],
   "source": [
    "print df1.shape\n",
    "df1 = df1.drop('Unnamed: 0', 1)\n",
    "df.id.duplicated().sum()"
   ]
  },
  {
   "cell_type": "code",
   "execution_count": 78,
   "metadata": {
    "collapsed": false
   },
   "outputs": [
    {
     "name": "stdout",
     "output_type": "stream",
     "text": [
      "(500, 5)\n"
     ]
    },
    {
     "data": {
      "text/html": [
       "<div>\n",
       "<table border=\"1\" class=\"dataframe\">\n",
       "  <thead>\n",
       "    <tr style=\"text-align: right;\">\n",
       "      <th></th>\n",
       "      <th>id</th>\n",
       "      <th>rating</th>\n",
       "      <th>recipeName</th>\n",
       "      <th>sourceDisplayName</th>\n",
       "    </tr>\n",
       "  </thead>\n",
       "  <tbody>\n",
       "    <tr>\n",
       "      <th>0</th>\n",
       "      <td>Gluten-Free-Waffles-1629571</td>\n",
       "      <td>4</td>\n",
       "      <td>Gluten-Free Waffles</td>\n",
       "      <td>Dinner Was Delish</td>\n",
       "    </tr>\n",
       "    <tr>\n",
       "      <th>1</th>\n",
       "      <td>Peanut-Butter-Pancakes-1342291</td>\n",
       "      <td>4</td>\n",
       "      <td>Peanut Butter Pancakes</td>\n",
       "      <td>Just So Tasty</td>\n",
       "    </tr>\n",
       "    <tr>\n",
       "      <th>2</th>\n",
       "      <td>Kahlua-and-Cream-French-Toast-1597605</td>\n",
       "      <td>4</td>\n",
       "      <td>Kahlua and Cream French Toast</td>\n",
       "      <td>Dizzy Busy and Hungry</td>\n",
       "    </tr>\n",
       "  </tbody>\n",
       "</table>\n",
       "</div>"
      ],
      "text/plain": [
       "                                      id  rating  \\\n",
       "0            Gluten-Free-Waffles-1629571       4   \n",
       "1         Peanut-Butter-Pancakes-1342291       4   \n",
       "2  Kahlua-and-Cream-French-Toast-1597605       4   \n",
       "\n",
       "                      recipeName      sourceDisplayName  \n",
       "0            Gluten-Free Waffles      Dinner Was Delish  \n",
       "1         Peanut Butter Pancakes          Just So Tasty  \n",
       "2  Kahlua and Cream French Toast  Dizzy Busy and Hungry  "
      ]
     },
     "execution_count": 78,
     "metadata": {},
     "output_type": "execute_result"
    }
   ],
   "source": [
    "print df2.shape\n",
    "df2 = df2.drop('Unnamed: 0', 1)\n",
    "df2.head(3)"
   ]
  },
  {
   "cell_type": "code",
   "execution_count": 79,
   "metadata": {
    "collapsed": false
   },
   "outputs": [
    {
     "name": "stdout",
     "output_type": "stream",
     "text": [
      "(500, 5)\n"
     ]
    },
    {
     "data": {
      "text/html": [
       "<div>\n",
       "<table border=\"1\" class=\"dataframe\">\n",
       "  <thead>\n",
       "    <tr style=\"text-align: right;\">\n",
       "      <th></th>\n",
       "      <th>id</th>\n",
       "      <th>rating</th>\n",
       "      <th>recipeName</th>\n",
       "      <th>sourceDisplayName</th>\n",
       "    </tr>\n",
       "  </thead>\n",
       "  <tbody>\n",
       "    <tr>\n",
       "      <th>0</th>\n",
       "      <td>Chocolate-Breakfast-Oatmeal-1237224</td>\n",
       "      <td>4</td>\n",
       "      <td>Chocolate Breakfast Oatmeal</td>\n",
       "      <td>Family Food on the Table</td>\n",
       "    </tr>\n",
       "    <tr>\n",
       "      <th>1</th>\n",
       "      <td>Fluffy-French-Toast-785994</td>\n",
       "      <td>5</td>\n",
       "      <td>Fluffy French Toast</td>\n",
       "      <td>AllRecipes</td>\n",
       "    </tr>\n",
       "    <tr>\n",
       "      <th>2</th>\n",
       "      <td>Overnight-Cranberry-Orange-French-Toast-Casser...</td>\n",
       "      <td>4</td>\n",
       "      <td>Overnight Cranberry Orange French Toast Casserole</td>\n",
       "      <td>Kristine's Kitchen</td>\n",
       "    </tr>\n",
       "  </tbody>\n",
       "</table>\n",
       "</div>"
      ],
      "text/plain": [
       "                                                  id  rating  \\\n",
       "0                Chocolate-Breakfast-Oatmeal-1237224       4   \n",
       "1                         Fluffy-French-Toast-785994       5   \n",
       "2  Overnight-Cranberry-Orange-French-Toast-Casser...       4   \n",
       "\n",
       "                                          recipeName         sourceDisplayName  \n",
       "0                        Chocolate Breakfast Oatmeal  Family Food on the Table  \n",
       "1                                Fluffy French Toast                AllRecipes  \n",
       "2  Overnight Cranberry Orange French Toast Casserole        Kristine's Kitchen  "
      ]
     },
     "execution_count": 79,
     "metadata": {},
     "output_type": "execute_result"
    }
   ],
   "source": [
    "print df3.shape\n",
    "df3 = df3.drop('Unnamed: 0', 1)\n",
    "df3.head(3)"
   ]
  },
  {
   "cell_type": "code",
   "execution_count": 80,
   "metadata": {
    "collapsed": true
   },
   "outputs": [],
   "source": [
    "#concatenate the main tables. \n",
    "BB_main= pd.concat([df, df1, df2, df3], join = 'outer', axis = 0, ignore_index = True)\n",
    "#create a new dataframe with selected columns\n",
    "BB_main_reduced = BB_main.drop(['recipeName', 'sourceDisplayName'], axis = 1)"
   ]
  },
  {
   "cell_type": "code",
   "execution_count": 81,
   "metadata": {
    "collapsed": false
   },
   "outputs": [
    {
     "name": "stdout",
     "output_type": "stream",
     "text": [
      "(2000, 4)\n"
     ]
    },
    {
     "data": {
      "text/html": [
       "<div>\n",
       "<table border=\"1\" class=\"dataframe\">\n",
       "  <thead>\n",
       "    <tr style=\"text-align: right;\">\n",
       "      <th></th>\n",
       "      <th>id</th>\n",
       "      <th>rating</th>\n",
       "      <th>recipeName</th>\n",
       "      <th>sourceDisplayName</th>\n",
       "    </tr>\n",
       "  </thead>\n",
       "  <tbody>\n",
       "    <tr>\n",
       "      <th>0</th>\n",
       "      <td>Clean-Eating-Banana-Pancakes-1708094</td>\n",
       "      <td>3</td>\n",
       "      <td>Clean Eating Banana Pancakes</td>\n",
       "      <td>The Happier Homemaker</td>\n",
       "    </tr>\n",
       "    <tr>\n",
       "      <th>1</th>\n",
       "      <td>Norwegian-Pancakes-1707570</td>\n",
       "      <td>4</td>\n",
       "      <td>Norwegian Pancakes</td>\n",
       "      <td>Enjoy cooking</td>\n",
       "    </tr>\n",
       "    <tr>\n",
       "      <th>2</th>\n",
       "      <td>Egg-Bake-Breakfast-Foil-Packet-1708169</td>\n",
       "      <td>4</td>\n",
       "      <td>Egg Bake Breakfast Foil Packet</td>\n",
       "      <td>Julie's Eats &amp; Treats</td>\n",
       "    </tr>\n",
       "  </tbody>\n",
       "</table>\n",
       "</div>"
      ],
      "text/plain": [
       "                                       id  rating  \\\n",
       "0    Clean-Eating-Banana-Pancakes-1708094       3   \n",
       "1              Norwegian-Pancakes-1707570       4   \n",
       "2  Egg-Bake-Breakfast-Foil-Packet-1708169       4   \n",
       "\n",
       "                       recipeName      sourceDisplayName  \n",
       "0    Clean Eating Banana Pancakes  The Happier Homemaker  \n",
       "1              Norwegian Pancakes          Enjoy cooking  \n",
       "2  Egg Bake Breakfast Foil Packet  Julie's Eats & Treats  "
      ]
     },
     "execution_count": 81,
     "metadata": {},
     "output_type": "execute_result"
    }
   ],
   "source": [
    "#peek at dataframe\n",
    "print BB_main.shape\n",
    "BB_main.head(3)"
   ]
  },
  {
   "cell_type": "code",
   "execution_count": 82,
   "metadata": {
    "collapsed": false
   },
   "outputs": [
    {
     "name": "stdout",
     "output_type": "stream",
     "text": [
      "True\n"
     ]
    },
    {
     "data": {
      "text/plain": [
       "(1999, 4)"
      ]
     },
     "execution_count": 82,
     "metadata": {},
     "output_type": "execute_result"
    }
   ],
   "source": [
    "for i in BB_main.duplicated('id'):\n",
    "    if i == True:\n",
    "        print i\n",
    "BB_main = BB_main.drop_duplicates('id')\n",
    "BB_main.shape"
   ]
  },
  {
   "cell_type": "markdown",
   "metadata": {},
   "source": [
    "* ***Flavors***"
   ]
  },
  {
   "cell_type": "code",
   "execution_count": 83,
   "metadata": {
    "collapsed": true
   },
   "outputs": [],
   "source": [
    "fdf = pd.read_csv('BB_flavors.csv')\n",
    "fdf1 = pd.read_csv('BB_flavors_1.csv')\n",
    "fdf2 = pd.read_csv('BB_flavors_2.csv')\n",
    "fdf3 = pd.read_csv('BB_flavors_3.csv')"
   ]
  },
  {
   "cell_type": "code",
   "execution_count": 84,
   "metadata": {
    "collapsed": false
   },
   "outputs": [
    {
     "name": "stdout",
     "output_type": "stream",
     "text": [
      "(500, 8)\n"
     ]
    },
    {
     "data": {
      "text/plain": [
       "0"
      ]
     },
     "execution_count": 84,
     "metadata": {},
     "output_type": "execute_result"
    }
   ],
   "source": [
    "print fdf.shape\n",
    "fdf = fdf.drop('Unnamed: 0', 1)\n",
    "fdf = fdf.rename(columns = {'index':'id'})\n",
    "fdf1.id.duplicated().sum()"
   ]
  },
  {
   "cell_type": "code",
   "execution_count": 85,
   "metadata": {
    "collapsed": false
   },
   "outputs": [
    {
     "name": "stdout",
     "output_type": "stream",
     "text": [
      "(500, 8)\n"
     ]
    },
    {
     "data": {
      "text/html": [
       "<div>\n",
       "<table border=\"1\" class=\"dataframe\">\n",
       "  <thead>\n",
       "    <tr style=\"text-align: right;\">\n",
       "      <th></th>\n",
       "      <th>id</th>\n",
       "      <th>bitter</th>\n",
       "      <th>meaty</th>\n",
       "      <th>piquant</th>\n",
       "      <th>salty</th>\n",
       "      <th>sour</th>\n",
       "      <th>sweet</th>\n",
       "    </tr>\n",
       "  </thead>\n",
       "  <tbody>\n",
       "    <tr>\n",
       "      <th>0</th>\n",
       "      <td>1-2-3-Gluten-Free-Pancakes-1533270</td>\n",
       "      <td>0.333333</td>\n",
       "      <td>0.500000</td>\n",
       "      <td>0.0</td>\n",
       "      <td>0.166667</td>\n",
       "      <td>0.166667</td>\n",
       "      <td>0.5</td>\n",
       "    </tr>\n",
       "    <tr>\n",
       "      <th>1</th>\n",
       "      <td>2-INGREDIENT-PANCAKES-1683615</td>\n",
       "      <td>NaN</td>\n",
       "      <td>NaN</td>\n",
       "      <td>NaN</td>\n",
       "      <td>NaN</td>\n",
       "      <td>NaN</td>\n",
       "      <td>NaN</td>\n",
       "    </tr>\n",
       "    <tr>\n",
       "      <th>2</th>\n",
       "      <td>2-Ingredient-Pancakes-1264118</td>\n",
       "      <td>0.166667</td>\n",
       "      <td>0.166667</td>\n",
       "      <td>0.0</td>\n",
       "      <td>0.166667</td>\n",
       "      <td>0.333333</td>\n",
       "      <td>0.5</td>\n",
       "    </tr>\n",
       "  </tbody>\n",
       "</table>\n",
       "</div>"
      ],
      "text/plain": [
       "                                   id    bitter     meaty  piquant     salty  \\\n",
       "0  1-2-3-Gluten-Free-Pancakes-1533270  0.333333  0.500000      0.0  0.166667   \n",
       "1       2-INGREDIENT-PANCAKES-1683615       NaN       NaN      NaN       NaN   \n",
       "2       2-Ingredient-Pancakes-1264118  0.166667  0.166667      0.0  0.166667   \n",
       "\n",
       "       sour  sweet  \n",
       "0  0.166667    0.5  \n",
       "1       NaN    NaN  \n",
       "2  0.333333    0.5  "
      ]
     },
     "execution_count": 85,
     "metadata": {},
     "output_type": "execute_result"
    }
   ],
   "source": [
    "print fdf1.shape\n",
    "fdf1 = fdf1.drop('Unnamed: 0', 1)\n",
    "fdf1.head(3)"
   ]
  },
  {
   "cell_type": "code",
   "execution_count": 86,
   "metadata": {
    "collapsed": false
   },
   "outputs": [
    {
     "name": "stdout",
     "output_type": "stream",
     "text": [
      "(500, 8)\n"
     ]
    },
    {
     "data": {
      "text/plain": [
       "0"
      ]
     },
     "execution_count": 86,
     "metadata": {},
     "output_type": "execute_result"
    }
   ],
   "source": [
    "print fdf2.shape\n",
    "fdf2 = fdf2.drop('Unnamed: 0', 1)\n",
    "fdf2 = fdf2.rename(columns = {'index':'id'})\n",
    "fdf2.id.duplicated().sum()"
   ]
  },
  {
   "cell_type": "code",
   "execution_count": 87,
   "metadata": {
    "collapsed": false
   },
   "outputs": [
    {
     "name": "stdout",
     "output_type": "stream",
     "text": [
      "(500, 8)\n"
     ]
    },
    {
     "data": {
      "text/plain": [
       "0"
      ]
     },
     "execution_count": 87,
     "metadata": {},
     "output_type": "execute_result"
    }
   ],
   "source": [
    "print fdf3.shape\n",
    "fdf3 = fdf3.drop('Unnamed: 0', 1)\n",
    "fdf3 = fdf3.rename(columns = {'index':'id'})\n",
    "fdf3.id.duplicated().sum()"
   ]
  },
  {
   "cell_type": "code",
   "execution_count": 88,
   "metadata": {
    "collapsed": true
   },
   "outputs": [],
   "source": [
    "#concatenate the flavors tables. \n",
    "BB_flavors= pd.concat([fdf, fdf1, fdf2, fdf3], join = 'outer', axis = 0, ignore_index = True)"
   ]
  },
  {
   "cell_type": "code",
   "execution_count": 89,
   "metadata": {
    "collapsed": false
   },
   "outputs": [
    {
     "name": "stdout",
     "output_type": "stream",
     "text": [
      "(2000, 7)\n"
     ]
    },
    {
     "data": {
      "text/html": [
       "<div>\n",
       "<table border=\"1\" class=\"dataframe\">\n",
       "  <thead>\n",
       "    <tr style=\"text-align: right;\">\n",
       "      <th></th>\n",
       "      <th>id</th>\n",
       "      <th>bitter</th>\n",
       "      <th>meaty</th>\n",
       "      <th>piquant</th>\n",
       "      <th>salty</th>\n",
       "      <th>sour</th>\n",
       "      <th>sweet</th>\n",
       "    </tr>\n",
       "  </thead>\n",
       "  <tbody>\n",
       "    <tr>\n",
       "      <th>0</th>\n",
       "      <td>2--Minute-Low-Carb-English-Muffin-1697908</td>\n",
       "      <td>NaN</td>\n",
       "      <td>NaN</td>\n",
       "      <td>NaN</td>\n",
       "      <td>NaN</td>\n",
       "      <td>NaN</td>\n",
       "      <td>NaN</td>\n",
       "    </tr>\n",
       "    <tr>\n",
       "      <th>1</th>\n",
       "      <td>2-Ingredient-Pancakes-1686555</td>\n",
       "      <td>0.166667</td>\n",
       "      <td>0.166667</td>\n",
       "      <td>0.0</td>\n",
       "      <td>0.166667</td>\n",
       "      <td>0.333333</td>\n",
       "      <td>0.5</td>\n",
       "    </tr>\n",
       "  </tbody>\n",
       "</table>\n",
       "</div>"
      ],
      "text/plain": [
       "                                          id    bitter     meaty  piquant  \\\n",
       "0  2--Minute-Low-Carb-English-Muffin-1697908       NaN       NaN      NaN   \n",
       "1              2-Ingredient-Pancakes-1686555  0.166667  0.166667      0.0   \n",
       "\n",
       "      salty      sour  sweet  \n",
       "0       NaN       NaN    NaN  \n",
       "1  0.166667  0.333333    0.5  "
      ]
     },
     "execution_count": 89,
     "metadata": {},
     "output_type": "execute_result"
    }
   ],
   "source": [
    "#peek at dataframe\n",
    "print BB_flavors.shape\n",
    "BB_flavors.head(2)"
   ]
  },
  {
   "cell_type": "code",
   "execution_count": 90,
   "metadata": {
    "collapsed": false
   },
   "outputs": [
    {
     "name": "stdout",
     "output_type": "stream",
     "text": [
      "True\n"
     ]
    },
    {
     "data": {
      "text/plain": [
       "(1999, 7)"
      ]
     },
     "execution_count": 90,
     "metadata": {},
     "output_type": "execute_result"
    }
   ],
   "source": [
    "for i in BB_flavors.duplicated('id'):\n",
    "    if i == True:\n",
    "        print i\n",
    "BB_flavors = BB_flavors.drop_duplicates('id')\n",
    "BB_flavors.shape"
   ]
  },
  {
   "cell_type": "markdown",
   "metadata": {},
   "source": [
    "* ***Cuisine***"
   ]
  },
  {
   "cell_type": "code",
   "execution_count": 91,
   "metadata": {
    "collapsed": true
   },
   "outputs": [],
   "source": [
    "cdf = pd.read_csv('BB_cuisines.csv')\n",
    "cdf1 = pd.read_csv('BB_cuisines_1.csv')\n",
    "cdf2 = pd.read_csv('BB_cuisines_2.csv')\n",
    "cdf3 = pd.read_csv('BB_cuisines_3.csv')"
   ]
  },
  {
   "cell_type": "code",
   "execution_count": 92,
   "metadata": {
    "collapsed": false
   },
   "outputs": [
    {
     "name": "stdout",
     "output_type": "stream",
     "text": [
      "(500, 28)\n",
      "Index([u'id', u'American', u'Asian', u'Barbecue', u'Cajun & Creole',\n",
      "       u'Chinese', u'Cuban', u'English', u'French', u'German', u'Greek',\n",
      "       u'Hawaiian', u'Hungarian', u'Indian', u'Irish', u'Italian', u'Japanese',\n",
      "       u'Kid-Friendly', u'Mediterranean', u'Mexican', u'Moroccan',\n",
      "       u'Portuguese', u'Southern & Soul Food', u'Southwestern', u'Spanish',\n",
      "       u'Swedish', u'Thai'],\n",
      "      dtype='object')\n"
     ]
    },
    {
     "data": {
      "text/plain": [
       "0"
      ]
     },
     "execution_count": 92,
     "metadata": {},
     "output_type": "execute_result"
    }
   ],
   "source": [
    "print cdf.shape\n",
    "cdf = cdf.drop('Unnamed: 0', 1)\n",
    "cdf = cdf.rename(columns = {'index':'id'})\n",
    "print cdf.columns\n",
    "cdf.id.duplicated().sum()"
   ]
  },
  {
   "cell_type": "code",
   "execution_count": 93,
   "metadata": {
    "collapsed": false
   },
   "outputs": [
    {
     "name": "stdout",
     "output_type": "stream",
     "text": [
      "(500, 28)\n",
      "Index([u'id', u'American', u'Asian', u'Barbecue', u'Cajun & Creole',\n",
      "       u'Chinese', u'Cuban', u'English', u'French', u'German', u'Greek',\n",
      "       u'Hawaiian', u'Hungarian', u'Indian', u'Irish', u'Italian', u'Japanese',\n",
      "       u'Kid-Friendly', u'Mediterranean', u'Mexican', u'Moroccan',\n",
      "       u'Portuguese', u'Southern & Soul Food', u'Southwestern', u'Spanish',\n",
      "       u'Swedish', u'Thai'],\n",
      "      dtype='object')\n"
     ]
    },
    {
     "data": {
      "text/plain": [
       "0"
      ]
     },
     "execution_count": 93,
     "metadata": {},
     "output_type": "execute_result"
    }
   ],
   "source": [
    "print cdf1.shape\n",
    "cdf1 = cdf1.drop('Unnamed: 0', 1)\n",
    "print cdf1.columns\n",
    "cdf1.id.duplicated().sum()"
   ]
  },
  {
   "cell_type": "code",
   "execution_count": 94,
   "metadata": {
    "collapsed": false
   },
   "outputs": [
    {
     "name": "stdout",
     "output_type": "stream",
     "text": [
      "(500, 28)\n",
      "Index([u'id', u'American', u'Asian', u'Barbecue', u'Cajun & Creole',\n",
      "       u'Chinese', u'Cuban', u'English', u'French', u'German', u'Greek',\n",
      "       u'Hawaiian', u'Hungarian', u'Indian', u'Irish', u'Italian', u'Japanese',\n",
      "       u'Kid-Friendly', u'Mediterranean', u'Mexican', u'Moroccan',\n",
      "       u'Portuguese', u'Southern & Soul Food', u'Southwestern', u'Spanish',\n",
      "       u'Swedish', u'Thai'],\n",
      "      dtype='object')\n"
     ]
    },
    {
     "data": {
      "text/plain": [
       "0"
      ]
     },
     "execution_count": 94,
     "metadata": {},
     "output_type": "execute_result"
    }
   ],
   "source": [
    "print cdf2.shape\n",
    "cdf2 = cdf2.drop('Unnamed: 0', 1)\n",
    "cdf2 = cdf2.rename(columns = {'index':'id'})\n",
    "print cdf2.columns\n",
    "cdf2.id.duplicated().sum()"
   ]
  },
  {
   "cell_type": "code",
   "execution_count": 95,
   "metadata": {
    "collapsed": false
   },
   "outputs": [
    {
     "name": "stdout",
     "output_type": "stream",
     "text": [
      "(500, 28)\n",
      "Index([u'id', u'American', u'Asian', u'Barbecue', u'Cajun & Creole',\n",
      "       u'Chinese', u'Cuban', u'English', u'French', u'German', u'Greek',\n",
      "       u'Hawaiian', u'Hungarian', u'Indian', u'Irish', u'Italian', u'Japanese',\n",
      "       u'Kid-Friendly', u'Mediterranean', u'Mexican', u'Moroccan',\n",
      "       u'Portuguese', u'Southern & Soul Food', u'Southwestern', u'Spanish',\n",
      "       u'Swedish', u'Thai'],\n",
      "      dtype='object')\n"
     ]
    },
    {
     "data": {
      "text/plain": [
       "0"
      ]
     },
     "execution_count": 95,
     "metadata": {},
     "output_type": "execute_result"
    }
   ],
   "source": [
    "print cdf3.shape\n",
    "cdf3 = cdf3.drop('Unnamed: 0', 1)\n",
    "cdf3 = cdf3.rename(columns = {'index':'id'})\n",
    "print cdf3.columns\n",
    "cdf3.id.duplicated().sum()"
   ]
  },
  {
   "cell_type": "code",
   "execution_count": 96,
   "metadata": {
    "collapsed": true
   },
   "outputs": [],
   "source": [
    "#concatenate the cuisines tables. \n",
    "BB_cuisines= pd.concat([cdf, cdf1, cdf2, cdf3], join = 'outer', axis = 0, ignore_index = True)"
   ]
  },
  {
   "cell_type": "code",
   "execution_count": 97,
   "metadata": {
    "collapsed": false
   },
   "outputs": [
    {
     "name": "stdout",
     "output_type": "stream",
     "text": [
      "(2000, 27)\n"
     ]
    },
    {
     "data": {
      "text/html": [
       "<div>\n",
       "<table border=\"1\" class=\"dataframe\">\n",
       "  <thead>\n",
       "    <tr style=\"text-align: right;\">\n",
       "      <th></th>\n",
       "      <th>id</th>\n",
       "      <th>American</th>\n",
       "      <th>Asian</th>\n",
       "      <th>Barbecue</th>\n",
       "      <th>Cajun &amp; Creole</th>\n",
       "      <th>Chinese</th>\n",
       "      <th>Cuban</th>\n",
       "      <th>English</th>\n",
       "      <th>French</th>\n",
       "      <th>German</th>\n",
       "      <th>...</th>\n",
       "      <th>Kid-Friendly</th>\n",
       "      <th>Mediterranean</th>\n",
       "      <th>Mexican</th>\n",
       "      <th>Moroccan</th>\n",
       "      <th>Portuguese</th>\n",
       "      <th>Southern &amp; Soul Food</th>\n",
       "      <th>Southwestern</th>\n",
       "      <th>Spanish</th>\n",
       "      <th>Swedish</th>\n",
       "      <th>Thai</th>\n",
       "    </tr>\n",
       "  </thead>\n",
       "  <tbody>\n",
       "    <tr>\n",
       "      <th>0</th>\n",
       "      <td>2--Minute-Low-Carb-English-Muffin-1697908</td>\n",
       "      <td>0</td>\n",
       "      <td>0</td>\n",
       "      <td>0</td>\n",
       "      <td>0</td>\n",
       "      <td>0</td>\n",
       "      <td>0</td>\n",
       "      <td>1</td>\n",
       "      <td>0</td>\n",
       "      <td>0</td>\n",
       "      <td>...</td>\n",
       "      <td>0</td>\n",
       "      <td>0</td>\n",
       "      <td>0</td>\n",
       "      <td>0</td>\n",
       "      <td>0</td>\n",
       "      <td>0</td>\n",
       "      <td>0</td>\n",
       "      <td>0</td>\n",
       "      <td>0</td>\n",
       "      <td>0</td>\n",
       "    </tr>\n",
       "    <tr>\n",
       "      <th>1</th>\n",
       "      <td>2-Ingredient-Pancakes-1686555</td>\n",
       "      <td>0</td>\n",
       "      <td>0</td>\n",
       "      <td>0</td>\n",
       "      <td>0</td>\n",
       "      <td>0</td>\n",
       "      <td>0</td>\n",
       "      <td>0</td>\n",
       "      <td>0</td>\n",
       "      <td>0</td>\n",
       "      <td>...</td>\n",
       "      <td>0</td>\n",
       "      <td>0</td>\n",
       "      <td>0</td>\n",
       "      <td>0</td>\n",
       "      <td>0</td>\n",
       "      <td>0</td>\n",
       "      <td>0</td>\n",
       "      <td>0</td>\n",
       "      <td>0</td>\n",
       "      <td>0</td>\n",
       "    </tr>\n",
       "    <tr>\n",
       "      <th>2</th>\n",
       "      <td>2-Ingredient-Protein-Crepes-1684862</td>\n",
       "      <td>0</td>\n",
       "      <td>0</td>\n",
       "      <td>0</td>\n",
       "      <td>0</td>\n",
       "      <td>0</td>\n",
       "      <td>0</td>\n",
       "      <td>0</td>\n",
       "      <td>0</td>\n",
       "      <td>0</td>\n",
       "      <td>...</td>\n",
       "      <td>0</td>\n",
       "      <td>0</td>\n",
       "      <td>0</td>\n",
       "      <td>0</td>\n",
       "      <td>0</td>\n",
       "      <td>0</td>\n",
       "      <td>0</td>\n",
       "      <td>0</td>\n",
       "      <td>0</td>\n",
       "      <td>0</td>\n",
       "    </tr>\n",
       "  </tbody>\n",
       "</table>\n",
       "<p>3 rows × 27 columns</p>\n",
       "</div>"
      ],
      "text/plain": [
       "                                          id  American  Asian  Barbecue  \\\n",
       "0  2--Minute-Low-Carb-English-Muffin-1697908         0      0         0   \n",
       "1              2-Ingredient-Pancakes-1686555         0      0         0   \n",
       "2        2-Ingredient-Protein-Crepes-1684862         0      0         0   \n",
       "\n",
       "   Cajun & Creole  Chinese  Cuban  English  French  German  ...   \\\n",
       "0               0        0      0        1       0       0  ...    \n",
       "1               0        0      0        0       0       0  ...    \n",
       "2               0        0      0        0       0       0  ...    \n",
       "\n",
       "   Kid-Friendly  Mediterranean  Mexican  Moroccan  Portuguese  \\\n",
       "0             0              0        0         0           0   \n",
       "1             0              0        0         0           0   \n",
       "2             0              0        0         0           0   \n",
       "\n",
       "   Southern & Soul Food  Southwestern  Spanish  Swedish  Thai  \n",
       "0                     0             0        0        0     0  \n",
       "1                     0             0        0        0     0  \n",
       "2                     0             0        0        0     0  \n",
       "\n",
       "[3 rows x 27 columns]"
      ]
     },
     "execution_count": 97,
     "metadata": {},
     "output_type": "execute_result"
    }
   ],
   "source": [
    "#peek at dataframe\n",
    "print BB_cuisines.shape\n",
    "BB_cuisines.head(3)"
   ]
  },
  {
   "cell_type": "code",
   "execution_count": 98,
   "metadata": {
    "collapsed": false
   },
   "outputs": [
    {
     "name": "stdout",
     "output_type": "stream",
     "text": [
      "True\n"
     ]
    },
    {
     "data": {
      "text/plain": [
       "(1999, 27)"
      ]
     },
     "execution_count": 98,
     "metadata": {},
     "output_type": "execute_result"
    }
   ],
   "source": [
    "for i in BB_cuisines.duplicated('id'):\n",
    "    if i == True:\n",
    "        print i\n",
    "BB_cuisines = BB_cuisines.drop_duplicates('id')\n",
    "BB_cuisines.shape"
   ]
  },
  {
   "cell_type": "markdown",
   "metadata": {},
   "source": [
    "* ***Details*** "
   ]
  },
  {
   "cell_type": "code",
   "execution_count": 99,
   "metadata": {
    "collapsed": true
   },
   "outputs": [],
   "source": [
    "ddf = pd.read_csv('BB_details.csv')\n",
    "ddf1 = pd.read_csv('BB_details_1.csv')\n",
    "ddf2 = pd.read_csv('BB_details_2.csv')\n",
    "ddf3 = pd.read_csv('BB_details_3.csv')"
   ]
  },
  {
   "cell_type": "code",
   "execution_count": 100,
   "metadata": {
    "collapsed": false
   },
   "outputs": [
    {
     "data": {
      "text/plain": [
       "0"
      ]
     },
     "execution_count": 100,
     "metadata": {},
     "output_type": "execute_result"
    }
   ],
   "source": [
    "len(set(ddf3.id) & set(ddf2.id))"
   ]
  },
  {
   "cell_type": "code",
   "execution_count": 101,
   "metadata": {
    "collapsed": false
   },
   "outputs": [
    {
     "name": "stdout",
     "output_type": "stream",
     "text": [
      "(500, 7)\n",
      "Index([u'id', u'cookTimeInSeconds', u'ingredientCount', u'numberOfServings',\n",
      "       u'prepTimeInSeconds', u'totalTimeInSeconds'],\n",
      "      dtype='object')\n"
     ]
    },
    {
     "data": {
      "text/plain": [
       "0"
      ]
     },
     "execution_count": 101,
     "metadata": {},
     "output_type": "execute_result"
    }
   ],
   "source": [
    "print ddf.shape\n",
    "ddf = ddf.drop('Unnamed: 0', 1)\n",
    "print ddf.columns\n",
    "ddf.id.duplicated().sum()"
   ]
  },
  {
   "cell_type": "code",
   "execution_count": 102,
   "metadata": {
    "collapsed": false
   },
   "outputs": [
    {
     "name": "stdout",
     "output_type": "stream",
     "text": [
      "(500, 7)\n",
      "Index([u'id', u'cookTimeInSeconds', u'ingredientCount', u'numberOfServings',\n",
      "       u'prepTimeInSeconds', u'totalTimeInSeconds'],\n",
      "      dtype='object')\n"
     ]
    },
    {
     "data": {
      "text/plain": [
       "0"
      ]
     },
     "execution_count": 102,
     "metadata": {},
     "output_type": "execute_result"
    }
   ],
   "source": [
    "print ddf1.shape\n",
    "ddf1 = ddf1.drop('Unnamed: 0', 1)\n",
    "print ddf1.columns\n",
    "ddf1.id.duplicated().sum()"
   ]
  },
  {
   "cell_type": "code",
   "execution_count": 103,
   "metadata": {
    "collapsed": false
   },
   "outputs": [
    {
     "name": "stdout",
     "output_type": "stream",
     "text": [
      "(500, 7)\n",
      "Index([u'id', u'cookTimeInSeconds', u'ingredientCount', u'numberOfServings',\n",
      "       u'prepTimeInSeconds', u'totalTimeInSeconds'],\n",
      "      dtype='object')\n"
     ]
    },
    {
     "data": {
      "text/plain": [
       "0"
      ]
     },
     "execution_count": 103,
     "metadata": {},
     "output_type": "execute_result"
    }
   ],
   "source": [
    "print ddf2.shape\n",
    "ddf2 = ddf2.drop('Unnamed: 0', 1)\n",
    "print ddf2.columns\n",
    "ddf2.id.duplicated().sum()"
   ]
  },
  {
   "cell_type": "code",
   "execution_count": 104,
   "metadata": {
    "collapsed": false
   },
   "outputs": [
    {
     "name": "stdout",
     "output_type": "stream",
     "text": [
      "(500, 7)\n",
      "Index([u'id', u'cookTimeInSeconds', u'ingredientCount', u'numberOfServings',\n",
      "       u'prepTimeInSeconds', u'totalTimeInSeconds'],\n",
      "      dtype='object')\n"
     ]
    },
    {
     "data": {
      "text/plain": [
       "0"
      ]
     },
     "execution_count": 104,
     "metadata": {},
     "output_type": "execute_result"
    }
   ],
   "source": [
    "print ddf3.shape\n",
    "ddf3 = ddf3.drop('Unnamed: 0', 1)\n",
    "print ddf3.columns\n",
    "ddf3.id.duplicated().sum()"
   ]
  },
  {
   "cell_type": "code",
   "execution_count": 105,
   "metadata": {
    "collapsed": true
   },
   "outputs": [],
   "source": [
    "#concatenate the details tables. \n",
    "BB_details= pd.concat([ddf, ddf1, ddf2, ddf3], join = 'outer', axis = 0, ignore_index = True)"
   ]
  },
  {
   "cell_type": "code",
   "execution_count": 106,
   "metadata": {
    "collapsed": false
   },
   "outputs": [
    {
     "name": "stdout",
     "output_type": "stream",
     "text": [
      "(2000, 6)\n"
     ]
    },
    {
     "data": {
      "text/html": [
       "<div>\n",
       "<table border=\"1\" class=\"dataframe\">\n",
       "  <thead>\n",
       "    <tr style=\"text-align: right;\">\n",
       "      <th></th>\n",
       "      <th>id</th>\n",
       "      <th>cookTimeInSeconds</th>\n",
       "      <th>ingredientCount</th>\n",
       "      <th>numberOfServings</th>\n",
       "      <th>prepTimeInSeconds</th>\n",
       "      <th>totalTimeInSeconds</th>\n",
       "    </tr>\n",
       "  </thead>\n",
       "  <tbody>\n",
       "    <tr>\n",
       "      <th>0</th>\n",
       "      <td>Clean-Eating-Banana-Pancakes-1708094</td>\n",
       "      <td>NaN</td>\n",
       "      <td>4</td>\n",
       "      <td>4</td>\n",
       "      <td>NaN</td>\n",
       "      <td>1500</td>\n",
       "    </tr>\n",
       "    <tr>\n",
       "      <th>1</th>\n",
       "      <td>Norwegian-Pancakes-1707570</td>\n",
       "      <td>NaN</td>\n",
       "      <td>5</td>\n",
       "      <td>6</td>\n",
       "      <td>NaN</td>\n",
       "      <td>1500</td>\n",
       "    </tr>\n",
       "    <tr>\n",
       "      <th>2</th>\n",
       "      <td>Egg-Bake-Breakfast-Foil-Packet-1708169</td>\n",
       "      <td>600.0</td>\n",
       "      <td>7</td>\n",
       "      <td>4</td>\n",
       "      <td>600.0</td>\n",
       "      <td>1200</td>\n",
       "    </tr>\n",
       "  </tbody>\n",
       "</table>\n",
       "</div>"
      ],
      "text/plain": [
       "                                       id  cookTimeInSeconds  ingredientCount  \\\n",
       "0    Clean-Eating-Banana-Pancakes-1708094                NaN                4   \n",
       "1              Norwegian-Pancakes-1707570                NaN                5   \n",
       "2  Egg-Bake-Breakfast-Foil-Packet-1708169              600.0                7   \n",
       "\n",
       "   numberOfServings  prepTimeInSeconds  totalTimeInSeconds  \n",
       "0                 4                NaN                1500  \n",
       "1                 6                NaN                1500  \n",
       "2                 4              600.0                1200  "
      ]
     },
     "execution_count": 106,
     "metadata": {},
     "output_type": "execute_result"
    }
   ],
   "source": [
    "#peek at dataframe\n",
    "print BB_details.shape\n",
    "BB_details.head(3)"
   ]
  },
  {
   "cell_type": "code",
   "execution_count": 107,
   "metadata": {
    "collapsed": false
   },
   "outputs": [
    {
     "name": "stdout",
     "output_type": "stream",
     "text": [
      "True\n"
     ]
    },
    {
     "data": {
      "text/plain": [
       "(1999, 6)"
      ]
     },
     "execution_count": 107,
     "metadata": {},
     "output_type": "execute_result"
    }
   ],
   "source": [
    "for i in BB_details.duplicated('id'):\n",
    "    if i == True:\n",
    "        print i\n",
    "BB_details = BB_details.drop_duplicates('id')\n",
    "BB_details.shape"
   ]
  },
  {
   "cell_type": "markdown",
   "metadata": {},
   "source": [
    "* ***Ingredients***"
   ]
  },
  {
   "cell_type": "code",
   "execution_count": 108,
   "metadata": {
    "collapsed": true
   },
   "outputs": [],
   "source": [
    "idf = pd.read_csv('BB_ingredients.csv')\n",
    "idf1 = pd.read_csv('BB_ingredients_1.csv')\n",
    "idf2 = pd.read_csv('BB_ingredients_2.csv')\n",
    "idf3 = pd.read_csv('BB_ingredients_3.csv')"
   ]
  },
  {
   "cell_type": "code",
   "execution_count": 109,
   "metadata": {
    "collapsed": false
   },
   "outputs": [
    {
     "data": {
      "text/plain": [
       "0"
      ]
     },
     "execution_count": 109,
     "metadata": {},
     "output_type": "execute_result"
    }
   ],
   "source": [
    "len(set(idf2.id) & set(idf.id))"
   ]
  },
  {
   "cell_type": "code",
   "execution_count": 110,
   "metadata": {
    "collapsed": false
   },
   "outputs": [
    {
     "name": "stdout",
     "output_type": "stream",
     "text": [
      "(500, 708)\n",
      "Index([u'id', u'course', u'active dry yeast', u'agave nectar',\n",
      "       u'all-purpose flour', u'almond butter', u'almond extract',\n",
      "       u'almond flour', u'almond meal', u'almond milk',\n",
      "       ...\n",
      "       u'whole wheat tortillas', u'whole wheat white flour',\n",
      "       u'wholemeal bread', u'wild rice', u'yellow bell pepper',\n",
      "       u'yellow cornmeal', u'yellow onion', u'yellow squash', u'yoghurt',\n",
      "       u'zucchini'],\n",
      "      dtype='object', length=707)\n"
     ]
    },
    {
     "data": {
      "text/plain": [
       "0"
      ]
     },
     "execution_count": 110,
     "metadata": {},
     "output_type": "execute_result"
    }
   ],
   "source": [
    "print idf.shape\n",
    "idf = idf.drop('Unnamed: 0', 1)\n",
    "print idf.columns\n",
    "idf.id.duplicated().sum()"
   ]
  },
  {
   "cell_type": "code",
   "execution_count": 111,
   "metadata": {
    "collapsed": false
   },
   "outputs": [
    {
     "name": "stdout",
     "output_type": "stream",
     "text": [
      "(500, 699)\n",
      "Index([u'id', u'course', u'active dry yeast', u'agave nectar',\n",
      "       u'aged cheddar cheese', u'all-purpose flour', u'allspice',\n",
      "       u'almond butter', u'almond extract', u'almond flour',\n",
      "       ...\n",
      "       u'whole wheat tortillas', u'whole wheat white flour', u'wild rice',\n",
      "       u'worcestershire sauce', u'yeast', u'yellow onion', u'yellow peppers',\n",
      "       u'yellow squash', u'yoghurt', u'zucchini'],\n",
      "      dtype='object', length=698)\n"
     ]
    },
    {
     "data": {
      "text/plain": [
       "0"
      ]
     },
     "execution_count": 111,
     "metadata": {},
     "output_type": "execute_result"
    }
   ],
   "source": [
    "print idf1.shape\n",
    "idf1 = idf1.drop('Unnamed: 0', 1)\n",
    "print idf1.columns\n",
    "idf1.id.duplicated().sum()"
   ]
  },
  {
   "cell_type": "code",
   "execution_count": 112,
   "metadata": {
    "collapsed": false
   },
   "outputs": [
    {
     "name": "stdout",
     "output_type": "stream",
     "text": [
      "(500, 633)\n",
      "Index([u'id', u'course', u'achiote powder', u'active dry yeast',\n",
      "       u'agave nectar', u'all purpose potatoes', u'all-purpose flour',\n",
      "       u'allspice', u'almond butter', u'almond extract',\n",
      "       ...\n",
      "       u'wholemeal bread', u'wholemeal flour', u'xanthan gum', u'yeast',\n",
      "       u'yellow mustard', u'yellow onion', u'yellow peppers', u'yoghurt',\n",
      "       u'yoplait', u'zucchini'],\n",
      "      dtype='object', length=632)\n"
     ]
    },
    {
     "data": {
      "text/plain": [
       "0"
      ]
     },
     "execution_count": 112,
     "metadata": {},
     "output_type": "execute_result"
    }
   ],
   "source": [
    "print idf2.shape\n",
    "idf2 = idf2.drop('Unnamed: 0', 1)\n",
    "print idf2.columns\n",
    "idf2.id.duplicated().sum()"
   ]
  },
  {
   "cell_type": "code",
   "execution_count": 113,
   "metadata": {
    "collapsed": false
   },
   "outputs": [
    {
     "name": "stdout",
     "output_type": "stream",
     "text": [
      "(500, 679)\n",
      "Index([u'id', u'course', u'adams natural peanut butter', u'agave nectar',\n",
      "       u'all purpose potatoes', u'all purpose seasoning', u'all-purpose flour',\n",
      "       u'allspice', u'almond butter', u'almond chocolate milk',\n",
      "       ...\n",
      "       u'xanthan gum', u'xylitol sweetener', u'yeast', u'yellow cornmeal',\n",
      "       u'yellow onion', u'yoghurt', u'yoplait',\n",
      "       u'yoplait greek 100 apple pie yogurt', u'yukon gold potatoes',\n",
      "       u'zucchini'],\n",
      "      dtype='object', length=678)\n"
     ]
    },
    {
     "data": {
      "text/plain": [
       "0"
      ]
     },
     "execution_count": 113,
     "metadata": {},
     "output_type": "execute_result"
    }
   ],
   "source": [
    "print idf3.shape\n",
    "idf3 = idf3.drop('Unnamed: 0', 1)\n",
    "print idf3.columns\n",
    "idf3.id.duplicated().sum()"
   ]
  },
  {
   "cell_type": "code",
   "execution_count": 114,
   "metadata": {
    "collapsed": true
   },
   "outputs": [],
   "source": [
    "#concatenate the ingredients tables. \n",
    "BB_ing= pd.concat([idf, idf1, idf2, idf3], join = 'outer', axis = 0, ignore_index = True)\n",
    "#create a new dataframe with selected columns\n",
    "BB_ing_reduced = BB_ing[['id', 'ingredient_list']]"
   ]
  },
  {
   "cell_type": "code",
   "execution_count": 115,
   "metadata": {
    "collapsed": false
   },
   "outputs": [],
   "source": [
    "#make id first column\n",
    "cols = list(BB_ing)\n",
    "cols.insert(0, cols.pop(cols.index('id')))\n",
    "BB_ing = BB_ing.ix[:, cols]"
   ]
  },
  {
   "cell_type": "code",
   "execution_count": 116,
   "metadata": {
    "collapsed": false
   },
   "outputs": [
    {
     "data": {
      "text/html": [
       "<div>\n",
       "<table border=\"1\" class=\"dataframe\">\n",
       "  <thead>\n",
       "    <tr style=\"text-align: right;\">\n",
       "      <th></th>\n",
       "      <th>id</th>\n",
       "      <th>achiote powder</th>\n",
       "      <th>active dry yeast</th>\n",
       "      <th>adams natural peanut butter</th>\n",
       "      <th>agave nectar</th>\n",
       "      <th>aged cheddar cheese</th>\n",
       "      <th>all purpose potatoes</th>\n",
       "      <th>all purpose seasoning</th>\n",
       "      <th>all-purpose flour</th>\n",
       "      <th>allspice</th>\n",
       "      <th>...</th>\n",
       "      <th>yellow cornmeal</th>\n",
       "      <th>yellow mustard</th>\n",
       "      <th>yellow onion</th>\n",
       "      <th>yellow peppers</th>\n",
       "      <th>yellow squash</th>\n",
       "      <th>yoghurt</th>\n",
       "      <th>yoplait</th>\n",
       "      <th>yoplait greek 100 apple pie yogurt</th>\n",
       "      <th>yukon gold potatoes</th>\n",
       "      <th>zucchini</th>\n",
       "    </tr>\n",
       "  </thead>\n",
       "  <tbody>\n",
       "    <tr>\n",
       "      <th>0</th>\n",
       "      <td>Clean-Eating-Banana-Pancakes-1708094</td>\n",
       "      <td>NaN</td>\n",
       "      <td>0.0</td>\n",
       "      <td>NaN</td>\n",
       "      <td>0.0</td>\n",
       "      <td>NaN</td>\n",
       "      <td>NaN</td>\n",
       "      <td>NaN</td>\n",
       "      <td>0.0</td>\n",
       "      <td>NaN</td>\n",
       "      <td>...</td>\n",
       "      <td>0.0</td>\n",
       "      <td>NaN</td>\n",
       "      <td>0.0</td>\n",
       "      <td>NaN</td>\n",
       "      <td>0.0</td>\n",
       "      <td>0.0</td>\n",
       "      <td>NaN</td>\n",
       "      <td>NaN</td>\n",
       "      <td>NaN</td>\n",
       "      <td>0.0</td>\n",
       "    </tr>\n",
       "    <tr>\n",
       "      <th>1</th>\n",
       "      <td>Norwegian-Pancakes-1707570</td>\n",
       "      <td>NaN</td>\n",
       "      <td>0.0</td>\n",
       "      <td>NaN</td>\n",
       "      <td>0.0</td>\n",
       "      <td>NaN</td>\n",
       "      <td>NaN</td>\n",
       "      <td>NaN</td>\n",
       "      <td>1.0</td>\n",
       "      <td>NaN</td>\n",
       "      <td>...</td>\n",
       "      <td>0.0</td>\n",
       "      <td>NaN</td>\n",
       "      <td>0.0</td>\n",
       "      <td>NaN</td>\n",
       "      <td>0.0</td>\n",
       "      <td>0.0</td>\n",
       "      <td>NaN</td>\n",
       "      <td>NaN</td>\n",
       "      <td>NaN</td>\n",
       "      <td>0.0</td>\n",
       "    </tr>\n",
       "    <tr>\n",
       "      <th>2</th>\n",
       "      <td>Egg-Bake-Breakfast-Foil-Packet-1708169</td>\n",
       "      <td>NaN</td>\n",
       "      <td>0.0</td>\n",
       "      <td>NaN</td>\n",
       "      <td>0.0</td>\n",
       "      <td>NaN</td>\n",
       "      <td>NaN</td>\n",
       "      <td>NaN</td>\n",
       "      <td>0.0</td>\n",
       "      <td>NaN</td>\n",
       "      <td>...</td>\n",
       "      <td>0.0</td>\n",
       "      <td>NaN</td>\n",
       "      <td>0.0</td>\n",
       "      <td>NaN</td>\n",
       "      <td>0.0</td>\n",
       "      <td>0.0</td>\n",
       "      <td>NaN</td>\n",
       "      <td>NaN</td>\n",
       "      <td>NaN</td>\n",
       "      <td>0.0</td>\n",
       "    </tr>\n",
       "  </tbody>\n",
       "</table>\n",
       "<p>3 rows × 1299 columns</p>\n",
       "</div>"
      ],
      "text/plain": [
       "                                       id  achiote powder  active dry yeast  \\\n",
       "0    Clean-Eating-Banana-Pancakes-1708094             NaN               0.0   \n",
       "1              Norwegian-Pancakes-1707570             NaN               0.0   \n",
       "2  Egg-Bake-Breakfast-Foil-Packet-1708169             NaN               0.0   \n",
       "\n",
       "   adams natural peanut butter  agave nectar  aged cheddar cheese  \\\n",
       "0                          NaN           0.0                  NaN   \n",
       "1                          NaN           0.0                  NaN   \n",
       "2                          NaN           0.0                  NaN   \n",
       "\n",
       "   all purpose potatoes  all purpose seasoning  all-purpose flour  allspice  \\\n",
       "0                   NaN                    NaN                0.0       NaN   \n",
       "1                   NaN                    NaN                1.0       NaN   \n",
       "2                   NaN                    NaN                0.0       NaN   \n",
       "\n",
       "     ...     yellow cornmeal  yellow mustard  yellow onion  yellow peppers  \\\n",
       "0    ...                 0.0             NaN           0.0             NaN   \n",
       "1    ...                 0.0             NaN           0.0             NaN   \n",
       "2    ...                 0.0             NaN           0.0             NaN   \n",
       "\n",
       "   yellow squash  yoghurt  yoplait  yoplait greek 100 apple pie yogurt  \\\n",
       "0            0.0      0.0      NaN                                 NaN   \n",
       "1            0.0      0.0      NaN                                 NaN   \n",
       "2            0.0      0.0      NaN                                 NaN   \n",
       "\n",
       "   yukon gold potatoes  zucchini  \n",
       "0                  NaN       0.0  \n",
       "1                  NaN       0.0  \n",
       "2                  NaN       0.0  \n",
       "\n",
       "[3 rows x 1299 columns]"
      ]
     },
     "execution_count": 116,
     "metadata": {},
     "output_type": "execute_result"
    }
   ],
   "source": [
    "BB_ing.head(3)"
   ]
  },
  {
   "cell_type": "code",
   "execution_count": 117,
   "metadata": {
    "collapsed": false
   },
   "outputs": [
    {
     "name": "stdout",
     "output_type": "stream",
     "text": [
      "True\n"
     ]
    },
    {
     "data": {
      "text/plain": [
       "(1999, 1299)"
      ]
     },
     "execution_count": 117,
     "metadata": {},
     "output_type": "execute_result"
    }
   ],
   "source": [
    "for i in BB_ing.duplicated('id'):\n",
    "    if i == True:\n",
    "        print i\n",
    "BB_ing = BB_ing.drop_duplicates('id')\n",
    "BB_ing.shape"
   ]
  },
  {
   "cell_type": "markdown",
   "metadata": {},
   "source": [
    "### Join all tables for Breakfast and Brunch"
   ]
  },
  {
   "cell_type": "code",
   "execution_count": 118,
   "metadata": {
    "collapsed": false
   },
   "outputs": [],
   "source": [
    "# set index to column 'id'\n",
    "_df = [BB_main, BB_main_reduced, BB_cuisines, BB_flavors, BB_details, BB_ing, BB_ing_reduced]\n",
    "\n",
    "for df in _df:\n",
    "    df.set_index('id', inplace = True)"
   ]
  },
  {
   "cell_type": "code",
   "execution_count": 119,
   "metadata": {
    "collapsed": false
   },
   "outputs": [],
   "source": [
    "# join dataframes\n",
    "BB_data = BB_main.join([BB_cuisines, BB_flavors, BB_details, BB_ing])\n",
    "BB_data_reduced = BB_main_reduced.join([BB_flavors, BB_details, BB_ing_reduced])\n",
    "\n",
    "# add course column-Breakfast&Brunch\n",
    "BB_data['course'] = 'Breakfast_Brunch'\n",
    "BB_data_reduced['course'] = 'Breakfast_Brunch'"
   ]
  },
  {
   "cell_type": "code",
   "execution_count": 54,
   "metadata": {
    "collapsed": false
   },
   "outputs": [
    {
     "name": "stdout",
     "output_type": "stream",
     "text": [
      "(1999, 1338)\n"
     ]
    },
    {
     "data": {
      "text/html": [
       "<div>\n",
       "<table border=\"1\" class=\"dataframe\">\n",
       "  <thead>\n",
       "    <tr style=\"text-align: right;\">\n",
       "      <th></th>\n",
       "      <th>rating</th>\n",
       "      <th>recipeName</th>\n",
       "      <th>sourceDisplayName</th>\n",
       "      <th>American</th>\n",
       "      <th>Asian</th>\n",
       "      <th>Barbecue</th>\n",
       "      <th>Cajun &amp; Creole</th>\n",
       "      <th>Chinese</th>\n",
       "      <th>Cuban</th>\n",
       "      <th>English</th>\n",
       "      <th>...</th>\n",
       "      <th>yellow cornmeal</th>\n",
       "      <th>yellow mustard</th>\n",
       "      <th>yellow onion</th>\n",
       "      <th>yellow peppers</th>\n",
       "      <th>yellow squash</th>\n",
       "      <th>yoghurt</th>\n",
       "      <th>yoplait</th>\n",
       "      <th>yoplait greek 100 apple pie yogurt</th>\n",
       "      <th>yukon gold potatoes</th>\n",
       "      <th>zucchini</th>\n",
       "    </tr>\n",
       "    <tr>\n",
       "      <th>id</th>\n",
       "      <th></th>\n",
       "      <th></th>\n",
       "      <th></th>\n",
       "      <th></th>\n",
       "      <th></th>\n",
       "      <th></th>\n",
       "      <th></th>\n",
       "      <th></th>\n",
       "      <th></th>\n",
       "      <th></th>\n",
       "      <th></th>\n",
       "      <th></th>\n",
       "      <th></th>\n",
       "      <th></th>\n",
       "      <th></th>\n",
       "      <th></th>\n",
       "      <th></th>\n",
       "      <th></th>\n",
       "      <th></th>\n",
       "      <th></th>\n",
       "      <th></th>\n",
       "    </tr>\n",
       "  </thead>\n",
       "  <tbody>\n",
       "    <tr>\n",
       "      <th>Clean-Eating-Banana-Pancakes-1708094</th>\n",
       "      <td>3</td>\n",
       "      <td>Clean Eating Banana Pancakes</td>\n",
       "      <td>The Happier Homemaker</td>\n",
       "      <td>0</td>\n",
       "      <td>0</td>\n",
       "      <td>0</td>\n",
       "      <td>0</td>\n",
       "      <td>0</td>\n",
       "      <td>0</td>\n",
       "      <td>0</td>\n",
       "      <td>...</td>\n",
       "      <td>0.0</td>\n",
       "      <td>NaN</td>\n",
       "      <td>0.0</td>\n",
       "      <td>NaN</td>\n",
       "      <td>0.0</td>\n",
       "      <td>0.0</td>\n",
       "      <td>NaN</td>\n",
       "      <td>NaN</td>\n",
       "      <td>NaN</td>\n",
       "      <td>0.0</td>\n",
       "    </tr>\n",
       "    <tr>\n",
       "      <th>Norwegian-Pancakes-1707570</th>\n",
       "      <td>4</td>\n",
       "      <td>Norwegian Pancakes</td>\n",
       "      <td>Enjoy cooking</td>\n",
       "      <td>0</td>\n",
       "      <td>0</td>\n",
       "      <td>0</td>\n",
       "      <td>0</td>\n",
       "      <td>0</td>\n",
       "      <td>0</td>\n",
       "      <td>0</td>\n",
       "      <td>...</td>\n",
       "      <td>0.0</td>\n",
       "      <td>NaN</td>\n",
       "      <td>0.0</td>\n",
       "      <td>NaN</td>\n",
       "      <td>0.0</td>\n",
       "      <td>0.0</td>\n",
       "      <td>NaN</td>\n",
       "      <td>NaN</td>\n",
       "      <td>NaN</td>\n",
       "      <td>0.0</td>\n",
       "    </tr>\n",
       "    <tr>\n",
       "      <th>Egg-Bake-Breakfast-Foil-Packet-1708169</th>\n",
       "      <td>4</td>\n",
       "      <td>Egg Bake Breakfast Foil Packet</td>\n",
       "      <td>Julie's Eats &amp; Treats</td>\n",
       "      <td>0</td>\n",
       "      <td>0</td>\n",
       "      <td>1</td>\n",
       "      <td>0</td>\n",
       "      <td>0</td>\n",
       "      <td>0</td>\n",
       "      <td>0</td>\n",
       "      <td>...</td>\n",
       "      <td>0.0</td>\n",
       "      <td>NaN</td>\n",
       "      <td>0.0</td>\n",
       "      <td>NaN</td>\n",
       "      <td>0.0</td>\n",
       "      <td>0.0</td>\n",
       "      <td>NaN</td>\n",
       "      <td>NaN</td>\n",
       "      <td>NaN</td>\n",
       "      <td>0.0</td>\n",
       "    </tr>\n",
       "  </tbody>\n",
       "</table>\n",
       "<p>3 rows × 1338 columns</p>\n",
       "</div>"
      ],
      "text/plain": [
       "                                        rating  \\\n",
       "id                                               \n",
       "Clean-Eating-Banana-Pancakes-1708094         3   \n",
       "Norwegian-Pancakes-1707570                   4   \n",
       "Egg-Bake-Breakfast-Foil-Packet-1708169       4   \n",
       "\n",
       "                                                            recipeName  \\\n",
       "id                                                                       \n",
       "Clean-Eating-Banana-Pancakes-1708094      Clean Eating Banana Pancakes   \n",
       "Norwegian-Pancakes-1707570                          Norwegian Pancakes   \n",
       "Egg-Bake-Breakfast-Foil-Packet-1708169  Egg Bake Breakfast Foil Packet   \n",
       "\n",
       "                                            sourceDisplayName  American  \\\n",
       "id                                                                        \n",
       "Clean-Eating-Banana-Pancakes-1708094    The Happier Homemaker         0   \n",
       "Norwegian-Pancakes-1707570                      Enjoy cooking         0   \n",
       "Egg-Bake-Breakfast-Foil-Packet-1708169  Julie's Eats & Treats         0   \n",
       "\n",
       "                                        Asian  Barbecue  Cajun & Creole  \\\n",
       "id                                                                        \n",
       "Clean-Eating-Banana-Pancakes-1708094        0         0               0   \n",
       "Norwegian-Pancakes-1707570                  0         0               0   \n",
       "Egg-Bake-Breakfast-Foil-Packet-1708169      0         1               0   \n",
       "\n",
       "                                        Chinese  Cuban  English    ...     \\\n",
       "id                                                                 ...      \n",
       "Clean-Eating-Banana-Pancakes-1708094          0      0        0    ...      \n",
       "Norwegian-Pancakes-1707570                    0      0        0    ...      \n",
       "Egg-Bake-Breakfast-Foil-Packet-1708169        0      0        0    ...      \n",
       "\n",
       "                                        yellow cornmeal  yellow mustard  \\\n",
       "id                                                                        \n",
       "Clean-Eating-Banana-Pancakes-1708094                0.0             NaN   \n",
       "Norwegian-Pancakes-1707570                          0.0             NaN   \n",
       "Egg-Bake-Breakfast-Foil-Packet-1708169              0.0             NaN   \n",
       "\n",
       "                                        yellow onion  yellow peppers  \\\n",
       "id                                                                     \n",
       "Clean-Eating-Banana-Pancakes-1708094             0.0             NaN   \n",
       "Norwegian-Pancakes-1707570                       0.0             NaN   \n",
       "Egg-Bake-Breakfast-Foil-Packet-1708169           0.0             NaN   \n",
       "\n",
       "                                        yellow squash  yoghurt  yoplait  \\\n",
       "id                                                                        \n",
       "Clean-Eating-Banana-Pancakes-1708094              0.0      0.0      NaN   \n",
       "Norwegian-Pancakes-1707570                        0.0      0.0      NaN   \n",
       "Egg-Bake-Breakfast-Foil-Packet-1708169            0.0      0.0      NaN   \n",
       "\n",
       "                                        yoplait greek 100 apple pie yogurt  \\\n",
       "id                                                                           \n",
       "Clean-Eating-Banana-Pancakes-1708094                                   NaN   \n",
       "Norwegian-Pancakes-1707570                                             NaN   \n",
       "Egg-Bake-Breakfast-Foil-Packet-1708169                                 NaN   \n",
       "\n",
       "                                        yukon gold potatoes  zucchini  \n",
       "id                                                                     \n",
       "Clean-Eating-Banana-Pancakes-1708094                    NaN       0.0  \n",
       "Norwegian-Pancakes-1707570                              NaN       0.0  \n",
       "Egg-Bake-Breakfast-Foil-Packet-1708169                  NaN       0.0  \n",
       "\n",
       "[3 rows x 1338 columns]"
      ]
     },
     "execution_count": 54,
     "metadata": {},
     "output_type": "execute_result"
    }
   ],
   "source": [
    "print BB_data.shape\n",
    "BB_data.head(3)"
   ]
  },
  {
   "cell_type": "code",
   "execution_count": 120,
   "metadata": {
    "collapsed": true
   },
   "outputs": [],
   "source": [
    "# save to csv\n",
    "BB_data.to_csv('BB_Data.csv')\n",
    "BB_data_reduced.to_csv('BB_data_reduced.csv')"
   ]
  }
 ],
 "metadata": {
  "kernelspec": {
   "display_name": "Python 2",
   "language": "python",
   "name": "python2"
  },
  "language_info": {
   "codemirror_mode": {
    "name": "ipython",
    "version": 2
   },
   "file_extension": ".py",
   "mimetype": "text/x-python",
   "name": "python",
   "nbconvert_exporter": "python",
   "pygments_lexer": "ipython2",
   "version": "2.7.11"
  }
 },
 "nbformat": 4,
 "nbformat_minor": 0
}

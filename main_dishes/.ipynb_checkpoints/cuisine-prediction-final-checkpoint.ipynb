{
 "cells": [
  {
   "cell_type": "markdown",
   "metadata": {},
   "source": [
    "## Imports"
   ]
  },
  {
   "cell_type": "code",
   "execution_count": 1,
   "metadata": {
    "collapsed": true
   },
   "outputs": [],
   "source": [
    "import pandas as pd\n",
    "import numpy as np\n",
    "import re\n",
    "from nltk import WordNetLemmatizer\n",
    "from sklearn.feature_extraction.text import TfidfVectorizer\n",
    "from sklearn.preprocessing import LabelEncoder\n",
    "from sklearn.cross_validation import train_test_split\n",
    "from sklearn.grid_search import GridSearchCV\n",
    "from sklearn.linear_model import LogisticRegression\n",
    "from sklearn.naive_bayes import MultinomialNB\n",
    "from sklearn.svm import LinearSVC\n",
    "from sklearn.ensemble import BaggingClassifier\n",
    "from sklearn.metrics import accuracy_score, classification_report, confusion_matrix\n",
    "from sklearn.cross_validation import cross_val_score, cross_val_predict\n",
    "from sklearn.naive_bayes import BernoulliNB"
   ]
  },
  {
   "cell_type": "markdown",
   "metadata": {},
   "source": [
    "## Read in data"
   ]
  },
  {
   "cell_type": "code",
   "execution_count": 2,
   "metadata": {
    "collapsed": true
   },
   "outputs": [],
   "source": [
    "df = pd.read_csv('../ingredients_combined/ingredients_reduced.csv')"
   ]
  },
  {
   "cell_type": "markdown",
   "metadata": {},
   "source": [
    "## View head"
   ]
  },
  {
   "cell_type": "code",
   "execution_count": 3,
   "metadata": {
    "collapsed": false
   },
   "outputs": [
    {
     "data": {
      "text/html": [
       "<div>\n",
       "<table border=\"1\" class=\"dataframe\">\n",
       "  <thead>\n",
       "    <tr style=\"text-align: right;\">\n",
       "      <th></th>\n",
       "      <th>Unnamed: 0</th>\n",
       "      <th>id</th>\n",
       "      <th>ingredient_list</th>\n",
       "      <th>cuisine</th>\n",
       "      <th>ingredient_string</th>\n",
       "    </tr>\n",
       "  </thead>\n",
       "  <tbody>\n",
       "    <tr>\n",
       "      <th>0</th>\n",
       "      <td>0</td>\n",
       "      <td>Baby-Back-Ribs-with-Bourbon-Barbecue-Sauce-170...</td>\n",
       "      <td>[baby back ribs, bourbon whiskey, ketchup, gar...</td>\n",
       "      <td>American</td>\n",
       "      <td>baby back rib bourbon whiskey ketchup garlic d...</td>\n",
       "    </tr>\n",
       "    <tr>\n",
       "      <th>1</th>\n",
       "      <td>1</td>\n",
       "      <td>Roast-Turkey-With-Apple-Cider-Gravy-772029</td>\n",
       "      <td>[Honeysuckle White® Frozen Whole Turkey, butte...</td>\n",
       "      <td>American</td>\n",
       "      <td>honeysuckle white frozen whole turkey butter s...</td>\n",
       "    </tr>\n",
       "    <tr>\n",
       "      <th>2</th>\n",
       "      <td>2</td>\n",
       "      <td>Better-Than-Sex-Brisket-1060441</td>\n",
       "      <td>[brisket, beef base, garlic salt, ground peppe...</td>\n",
       "      <td>American</td>\n",
       "      <td>brisket beef base garlic salt ground pepper ch...</td>\n",
       "    </tr>\n",
       "  </tbody>\n",
       "</table>\n",
       "</div>"
      ],
      "text/plain": [
       "   Unnamed: 0                                                 id  \\\n",
       "0           0  Baby-Back-Ribs-with-Bourbon-Barbecue-Sauce-170...   \n",
       "1           1         Roast-Turkey-With-Apple-Cider-Gravy-772029   \n",
       "2           2                    Better-Than-Sex-Brisket-1060441   \n",
       "\n",
       "                                     ingredient_list   cuisine  \\\n",
       "0  [baby back ribs, bourbon whiskey, ketchup, gar...  American   \n",
       "1  [Honeysuckle White® Frozen Whole Turkey, butte...  American   \n",
       "2  [brisket, beef base, garlic salt, ground peppe...  American   \n",
       "\n",
       "                                   ingredient_string  \n",
       "0  baby back rib bourbon whiskey ketchup garlic d...  \n",
       "1  honeysuckle white frozen whole turkey butter s...  \n",
       "2  brisket beef base garlic salt ground pepper ch...  "
      ]
     },
     "execution_count": 3,
     "metadata": {},
     "output_type": "execute_result"
    }
   ],
   "source": [
    "df.head(3)"
   ]
  },
  {
   "cell_type": "markdown",
   "metadata": {},
   "source": [
    "## Create new column with concatenated strings made up of ingredients and recipe names"
   ]
  },
  {
   "cell_type": "code",
   "execution_count": 3,
   "metadata": {
    "collapsed": false
   },
   "outputs": [],
   "source": [
    "# Remove non-alpha characters\n",
    "name_string1 = [re.sub('[^A-Za-z]', ' ', z).strip().lower() for z in df['id']]\n",
    "\n",
    "# Remove extra whitespace between words\n",
    "name_string2 = [' '.join(z.split()) for z in name_string1]\n",
    "\n",
    "# Lemmatize each word - start by converting the string to a list to iterate through\n",
    "as_list = [z.split() for z in name_string2]\n",
    "\n",
    "# Iterate through list, using WordNetLemmatizer\n",
    "lemmatized = []\n",
    "for _list in as_list:\n",
    "    sub_list = []\n",
    "    for word in _list:\n",
    "        sub_list.append(WordNetLemmatizer().lemmatize(word))\n",
    "    lemmatized.append(sub_list)\n",
    "\n",
    "# Then need to convert the list back into a string\n",
    "name_string3 = [' '.join(z) for z in lemmatized]\n",
    "\n",
    "# Zip together recipe name string and ingredient string\n",
    "zipped = zip(name_string3, df.ingredient_string)\n",
    "\n",
    "# Concatenate recipe name string and ingredient string\n",
    "ingredient_id_string = [y + ' ' + z for y,z in zipped]    \n",
    "\n",
    "# Add new column to dataframe with concatenated strings\n",
    "df['ingredient_id_string'] = ingredient_id_string"
   ]
  },
  {
   "cell_type": "code",
   "execution_count": 4,
   "metadata": {
    "collapsed": true
   },
   "outputs": [],
   "source": [
    "# Use label encoder to encode cuisine\n",
    "le = LabelEncoder()\n",
    "df['encoded_cuisine'] = le.fit_transform(df.cuisine)"
   ]
  },
  {
   "cell_type": "markdown",
   "metadata": {},
   "source": [
    "## Create feature and target vectors"
   ]
  },
  {
   "cell_type": "code",
   "execution_count": 5,
   "metadata": {
    "collapsed": true
   },
   "outputs": [],
   "source": [
    "# Assign X and y\n",
    "vect = TfidfVectorizer(stop_words='english', ngram_range=(1,2))\n",
    "X = vect.fit_transform(df.ingredient_id_string)\n",
    "y = df.encoded_cuisine"
   ]
  },
  {
   "cell_type": "markdown",
   "metadata": {},
   "source": [
    "## Create model eval function"
   ]
  },
  {
   "cell_type": "code",
   "execution_count": 6,
   "metadata": {
    "collapsed": true
   },
   "outputs": [],
   "source": [
    "# Create a dictionary to hold model scores\n",
    "all_models = {}\n",
    "\n",
    "# Create a function to evaluate\n",
    "def model_predictions(model):\n",
    "    predictions = cross_val_predict(model, X, y)\n",
    "    return predictions"
   ]
  },
  {
   "cell_type": "markdown",
   "metadata": {},
   "source": [
    "## Logistic Regression"
   ]
  },
  {
   "cell_type": "code",
   "execution_count": 7,
   "metadata": {
    "collapsed": false
   },
   "outputs": [
    {
     "data": {
      "text/plain": [
       "GridSearchCV(cv=None, error_score='raise',\n",
       "       estimator=LogisticRegression(C=1.0, class_weight=None, dual=False, fit_intercept=True,\n",
       "          intercept_scaling=1, max_iter=100, multi_class='ovr', n_jobs=1,\n",
       "          penalty='l2', random_state=None, solver='liblinear', tol=0.0001,\n",
       "          verbose=0, warm_start=False),\n",
       "       fit_params={}, iid=True, n_jobs=1,\n",
       "       param_grid={'penalty': ['l1', 'l2'], 'C': [0.001, 0.01, 0.1, 1.0, 10.0, 100.0]},\n",
       "       pre_dispatch='2*n_jobs', refit=True, scoring=None, verbose=0)"
      ]
     },
     "execution_count": 7,
     "metadata": {},
     "output_type": "execute_result"
    }
   ],
   "source": [
    "# Logistic regression\n",
    "logit = LogisticRegression()\n",
    "params = {'C': [0.001, 0.01, 0.1, 1.0, 10.0, 100.0],\n",
    "          'penalty': ['l1', 'l2']}\n",
    "grid = GridSearchCV(logit, params)\n",
    "grid.fit(X, y)"
   ]
  },
  {
   "cell_type": "code",
   "execution_count": 8,
   "metadata": {
    "collapsed": false
   },
   "outputs": [
    {
     "name": "stdout",
     "output_type": "stream",
     "text": [
      "             precision    recall  f1-score   support\n",
      "\n",
      "          0       0.97      0.94      0.95      2000\n",
      "          1       0.99      0.99      0.99      2000\n",
      "          2       0.97      0.98      0.97      2000\n",
      "          3       0.99      0.99      0.99      1753\n",
      "          4       0.97      0.99      0.98      1998\n",
      "\n",
      "avg / total       0.98      0.98      0.98      9751\n",
      "\n"
     ]
    }
   ],
   "source": [
    "# Generate model predictions\n",
    "predictions = model_predictions(grid.best_estimator_)\n",
    "\n",
    "# Print classification report\n",
    "print classification_report(y, predictions)"
   ]
  },
  {
   "cell_type": "markdown",
   "metadata": {},
   "source": [
    "## Support Vector Machine"
   ]
  },
  {
   "cell_type": "code",
   "execution_count": 17,
   "metadata": {
    "collapsed": false
   },
   "outputs": [
    {
     "data": {
      "text/plain": [
       "GridSearchCV(cv=None, error_score='raise',\n",
       "       estimator=LogisticRegression(C=1.0, class_weight=None, dual=False, fit_intercept=True,\n",
       "          intercept_scaling=1, max_iter=100, multi_class='ovr', n_jobs=1,\n",
       "          penalty='l2', random_state=None, solver='liblinear', tol=0.0001,\n",
       "          verbose=0, warm_start=False),\n",
       "       fit_params={}, iid=True, n_jobs=1,\n",
       "       param_grid={'penalty': ['l1', 'l2'], 'C': [1.0, 10.0]},\n",
       "       pre_dispatch='2*n_jobs', refit=True, scoring=None, verbose=0)"
      ]
     },
     "execution_count": 17,
     "metadata": {},
     "output_type": "execute_result"
    }
   ],
   "source": [
    "# Defaults to one-vs-rest\n",
    "svm = LinearSVC()\n",
    "params = {'C': [1.0, 10.0],\n",
    "          'penalty': ['l1', 'l2']}\n",
    "grid = GridSearchCV(logit, params)\n",
    "grid.fit(X, y)"
   ]
  },
  {
   "cell_type": "code",
   "execution_count": 19,
   "metadata": {
    "collapsed": false
   },
   "outputs": [
    {
     "name": "stdout",
     "output_type": "stream",
     "text": [
      "             precision    recall  f1-score   support\n",
      "\n",
      "          0       0.96      0.94      0.95      2000\n",
      "          1       0.99      0.99      0.99      2000\n",
      "          2       0.96      0.98      0.97      2000\n",
      "          3       0.99      0.99      0.99      1753\n",
      "          4       0.97      0.98      0.98      1998\n",
      "\n",
      "avg / total       0.97      0.97      0.97      9751\n",
      "\n"
     ]
    }
   ],
   "source": [
    "# Generate model predictions\n",
    "predictions = model_predictions(grid.best_estimator_)\n",
    "\n",
    "# Print classification report\n",
    "print classification_report(y, predictions)"
   ]
  },
  {
   "cell_type": "markdown",
   "metadata": {},
   "source": [
    "## Multinomial Naive Bayes"
   ]
  },
  {
   "cell_type": "code",
   "execution_count": 20,
   "metadata": {
    "collapsed": false
   },
   "outputs": [
    {
     "name": "stdout",
     "output_type": "stream",
     "text": [
      "             precision    recall  f1-score   support\n",
      "\n",
      "          0       0.95      0.87      0.91      2000\n",
      "          1       0.98      0.99      0.98      2000\n",
      "          2       0.93      0.94      0.94      2000\n",
      "          3       0.92      0.94      0.93      1753\n",
      "          4       0.94      0.98      0.96      1998\n",
      "\n",
      "avg / total       0.94      0.94      0.94      9751\n",
      "\n"
     ]
    }
   ],
   "source": [
    "nb = MultinomialNB()\n",
    "predictions = model_predictions(nb)\n",
    "print classification_report(y, predictions)"
   ]
  },
  {
   "cell_type": "code",
   "execution_count": null,
   "metadata": {
    "collapsed": true
   },
   "outputs": [],
   "source": []
  }
 ],
 "metadata": {
  "kernelspec": {
   "display_name": "Python 2",
   "language": "python",
   "name": "python2"
  },
  "language_info": {
   "codemirror_mode": {
    "name": "ipython",
    "version": 2
   },
   "file_extension": ".py",
   "mimetype": "text/x-python",
   "name": "python",
   "nbconvert_exporter": "python",
   "pygments_lexer": "ipython2",
   "version": "2.7.11"
  }
 },
 "nbformat": 4,
 "nbformat_minor": 0
}

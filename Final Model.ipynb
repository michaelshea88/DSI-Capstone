{
 "cells": [
  {
   "cell_type": "code",
   "execution_count": 23,
   "metadata": {
    "collapsed": true
   },
   "outputs": [],
   "source": [
    "import pandas as pd\n",
    "from sklearn import cross_validation\n",
    "from sklearn.linear_model import LogisticRegression\n",
    "from sklearn.cross_validation import cross_val_score\n",
    "from sklearn.metrics import classification_report\n",
    "from sklearn.metrics import accuracy_score\n",
    "from sklearn.metrics import confusion_matrix\n",
    "import pickle\n"
   ]
  },
  {
   "cell_type": "code",
   "execution_count": 4,
   "metadata": {
    "collapsed": false
   },
   "outputs": [],
   "source": [
    "train = pd.read_csv('train.csv')\n",
    "test = pd.read_csv('test.csv')\n",
    "\n",
    "data = pd.concat([train, test])"
   ]
  },
  {
   "cell_type": "code",
   "execution_count": 5,
   "metadata": {
    "collapsed": false
   },
   "outputs": [
    {
     "name": "stdout",
     "output_type": "stream",
     "text": [
      "(9996, 1812)\n"
     ]
    },
    {
     "data": {
      "text/html": [
       "<div>\n",
       "<table border=\"1\" class=\"dataframe\">\n",
       "  <thead>\n",
       "    <tr style=\"text-align: right;\">\n",
       "      <th></th>\n",
       "      <th>rating</th>\n",
       "      <th>bitter</th>\n",
       "      <th>meaty</th>\n",
       "      <th>piquant</th>\n",
       "      <th>salty</th>\n",
       "      <th>sour</th>\n",
       "      <th>sweet</th>\n",
       "      <th>ingredientcount</th>\n",
       "      <th>numberofservings</th>\n",
       "      <th>totaltimeinseconds</th>\n",
       "      <th>...</th>\n",
       "      <th>yolks</th>\n",
       "      <th>yoplait</th>\n",
       "      <th>york</th>\n",
       "      <th>yukon</th>\n",
       "      <th>za</th>\n",
       "      <th>zest</th>\n",
       "      <th>zesty</th>\n",
       "      <th>ziti</th>\n",
       "      <th>zucchini</th>\n",
       "      <th>course_num</th>\n",
       "    </tr>\n",
       "  </thead>\n",
       "  <tbody>\n",
       "    <tr>\n",
       "      <th>0</th>\n",
       "      <td>4</td>\n",
       "      <td>NaN</td>\n",
       "      <td>NaN</td>\n",
       "      <td>NaN</td>\n",
       "      <td>NaN</td>\n",
       "      <td>NaN</td>\n",
       "      <td>NaN</td>\n",
       "      <td>5</td>\n",
       "      <td>1.0</td>\n",
       "      <td>900.0</td>\n",
       "      <td>...</td>\n",
       "      <td>0.0</td>\n",
       "      <td>0.354794</td>\n",
       "      <td>0.0</td>\n",
       "      <td>0.0</td>\n",
       "      <td>0.0</td>\n",
       "      <td>0.0</td>\n",
       "      <td>0.0</td>\n",
       "      <td>0.0</td>\n",
       "      <td>0.0</td>\n",
       "      <td>2</td>\n",
       "    </tr>\n",
       "    <tr>\n",
       "      <th>1</th>\n",
       "      <td>4</td>\n",
       "      <td>0.833333</td>\n",
       "      <td>0.833333</td>\n",
       "      <td>0.0</td>\n",
       "      <td>0.833333</td>\n",
       "      <td>0.166667</td>\n",
       "      <td>0.166667</td>\n",
       "      <td>5</td>\n",
       "      <td>12.0</td>\n",
       "      <td>300.0</td>\n",
       "      <td>...</td>\n",
       "      <td>0.0</td>\n",
       "      <td>0.000000</td>\n",
       "      <td>0.0</td>\n",
       "      <td>0.0</td>\n",
       "      <td>0.0</td>\n",
       "      <td>0.0</td>\n",
       "      <td>0.0</td>\n",
       "      <td>0.0</td>\n",
       "      <td>0.0</td>\n",
       "      <td>3</td>\n",
       "    </tr>\n",
       "  </tbody>\n",
       "</table>\n",
       "<p>2 rows × 1812 columns</p>\n",
       "</div>"
      ],
      "text/plain": [
       "   rating    bitter     meaty  piquant     salty      sour     sweet  \\\n",
       "0       4       NaN       NaN      NaN       NaN       NaN       NaN   \n",
       "1       4  0.833333  0.833333      0.0  0.833333  0.166667  0.166667   \n",
       "\n",
       "   ingredientcount  numberofservings  totaltimeinseconds     ...      yolks  \\\n",
       "0                5               1.0               900.0     ...        0.0   \n",
       "1                5              12.0               300.0     ...        0.0   \n",
       "\n",
       "    yoplait  york  yukon   za  zest  zesty  ziti  zucchini  course_num  \n",
       "0  0.354794   0.0    0.0  0.0   0.0    0.0   0.0       0.0           2  \n",
       "1  0.000000   0.0    0.0  0.0   0.0    0.0   0.0       0.0           3  \n",
       "\n",
       "[2 rows x 1812 columns]"
      ]
     },
     "execution_count": 5,
     "metadata": {},
     "output_type": "execute_result"
    }
   ],
   "source": [
    "data = data.drop('Unnamed: 0', 1)\n",
    "print data.shape \n",
    "data.head(2)"
   ]
  },
  {
   "cell_type": "code",
   "execution_count": 6,
   "metadata": {
    "collapsed": true
   },
   "outputs": [],
   "source": [
    "data = data.fillna(value=0)"
   ]
  },
  {
   "cell_type": "code",
   "execution_count": 9,
   "metadata": {
    "collapsed": true
   },
   "outputs": [],
   "source": [
    "#Assign X & Y values\n",
    "array = data.values\n",
    "x = array[:,0:1811]\n",
    "y = array[:,1811]\n",
    "test_size = 0.30"
   ]
  },
  {
   "cell_type": "code",
   "execution_count": 11,
   "metadata": {
    "collapsed": false
   },
   "outputs": [
    {
     "name": "stdout",
     "output_type": "stream",
     "text": [
      "(6997, 1811)\n",
      "(2999, 1811)\n"
     ]
    }
   ],
   "source": [
    "#train test split\n",
    "X_train, X_test, Y_train, Y_test = cross_validation.train_test_split(x, y, test_size = test_size, random_state=10)\n",
    "print X_train.shape\n",
    "print X_test.shape"
   ]
  },
  {
   "cell_type": "code",
   "execution_count": 12,
   "metadata": {
    "collapsed": false
   },
   "outputs": [
    {
     "data": {
      "text/plain": [
       "LogisticRegression(C=1000.0, class_weight=None, dual=False,\n",
       "          fit_intercept=True, intercept_scaling=1, max_iter=100,\n",
       "          multi_class='ovr', n_jobs=1, penalty='l2', random_state=None,\n",
       "          solver='liblinear', tol=0.0001, verbose=0, warm_start=False)"
      ]
     },
     "execution_count": 12,
     "metadata": {},
     "output_type": "execute_result"
    }
   ],
   "source": [
    "#Fit the mondel on test set\n",
    "model = LogisticRegression(\n",
    "                            C=1000.0, class_weight=None, dual=False,\n",
    "          fit_intercept=True, intercept_scaling=1, max_iter=100,\n",
    "          multi_class='ovr', n_jobs=1, penalty='l2', random_state=None,\n",
    "          solver='liblinear', tol=0.0001, verbose=0, warm_start=False\n",
    "                            )\n",
    "model.fit(X_train, Y_train)\n",
    "\n"
   ]
  },
  {
   "cell_type": "code",
   "execution_count": 13,
   "metadata": {
    "collapsed": true
   },
   "outputs": [],
   "source": [
    "#save model to comp.\n",
    "name = 'finalized_model.sav'\n",
    "pickle.dump(model, open(name, 'wb'))"
   ]
  },
  {
   "cell_type": "code",
   "execution_count": 16,
   "metadata": {
    "collapsed": false
   },
   "outputs": [],
   "source": [
    "#load model from comp.\n",
    "model = pickle.load(open(name, 'rb'))\n",
    "result = model.score(X_test, Y_test)"
   ]
  },
  {
   "cell_type": "code",
   "execution_count": 17,
   "metadata": {
    "collapsed": false
   },
   "outputs": [
    {
     "name": "stdout",
     "output_type": "stream",
     "text": [
      "0.862620873625\n"
     ]
    }
   ],
   "source": [
    "print result"
   ]
  },
  {
   "cell_type": "code",
   "execution_count": 24,
   "metadata": {
    "collapsed": false
   },
   "outputs": [
    {
     "name": "stdout",
     "output_type": "stream",
     "text": [
      "0.862620873625\n",
      "[[507  16   9  64  17]\n",
      " [ 26 514  47   6  11]\n",
      " [  2  47 548   3   1]\n",
      " [ 91   6  10 474  17]\n",
      " [ 14   5   5  15 544]]\n",
      "             precision    recall  f1-score   support\n",
      "\n",
      "        0.0       0.79      0.83      0.81       613\n",
      "        1.0       0.87      0.85      0.86       604\n",
      "        2.0       0.89      0.91      0.90       601\n",
      "        3.0       0.84      0.79      0.82       598\n",
      "        4.0       0.92      0.93      0.93       583\n",
      "\n",
      "avg / total       0.86      0.86      0.86      2999\n",
      "\n",
      "[[507  16   9  64  17]\n",
      " [ 26 514  47   6  11]\n",
      " [  2  47 548   3   1]\n",
      " [ 91   6  10 474  17]\n",
      " [ 14   5   5  15 544]]\n"
     ]
    }
   ],
   "source": [
    "Y_pred = model.predict(X_test)\n",
    "\n",
    "print accuracy_score(Y_test, Y_pred )\n",
    "print confusion_matrix(Y_test,Y_pred )\n",
    "print classification_report(Y_test, Y_pred)\n",
    "\n",
    "print confusion_matrix(Y_test,Y_pred )"
   ]
  },
  {
   "cell_type": "code",
   "execution_count": null,
   "metadata": {
    "collapsed": true
   },
   "outputs": [],
   "source": []
  }
 ],
 "metadata": {
  "kernelspec": {
   "display_name": "Python 2",
   "language": "python",
   "name": "python2"
  },
  "language_info": {
   "codemirror_mode": {
    "name": "ipython",
    "version": 2
   },
   "file_extension": ".py",
   "mimetype": "text/x-python",
   "name": "python",
   "nbconvert_exporter": "python",
   "pygments_lexer": "ipython2",
   "version": "2.7.11"
  }
 },
 "nbformat": 4,
 "nbformat_minor": 0
}

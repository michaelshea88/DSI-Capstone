{
 "cells": [
  {
   "cell_type": "code",
   "execution_count": 1,
   "metadata": {
    "collapsed": true
   },
   "outputs": [],
   "source": [
    "import pandas as pd\n",
    "import numpy as np\n",
    "from nltk.stem import WordNetLemmatizer\n",
    "import re\n",
    "from sklearn.feature_extraction.text import TfidfVectorizer\n",
    "from sklearn.cross_validation import train_test_split\n",
    "from sklearn.naive_bayes import MultinomialNB\n",
    "from sklearn.preprocessing import LabelEncoder, LabelBinarizer\n",
    "from sklearn.multiclass import OneVsRestClassifier\n",
    "from sklearn.metrics import roc_curve, auc\n",
    "from matplotlib import pyplot as plt\n",
    "% matplotlib inline"
   ]
  },
  {
   "cell_type": "code",
   "execution_count": 2,
   "metadata": {
    "collapsed": false
   },
   "outputs": [],
   "source": [
    "# Ingredients - American\n",
    "ingr_one = pd.read_csv('american/main_amer_ingredients1.csv')\n",
    "ingr_two = pd.read_csv('american/main_amer_ingredients2.csv')\n",
    "ingr_thr = pd.read_csv('american/main_amer_ingredients3.csv')\n",
    "ingr_fou = pd.read_csv('american/main_amer_ingredients4.csv')"
   ]
  },
  {
   "cell_type": "code",
   "execution_count": 3,
   "metadata": {
    "collapsed": false
   },
   "outputs": [],
   "source": [
    "data_ingred_amer = pd.concat([ingr_one, ingr_two, ingr_thr, ingr_fou], join = 'outer', axis =0, ignore_index=True)\n",
    "data_ingred_amer['cuisine'] = 'American'"
   ]
  },
  {
   "cell_type": "code",
   "execution_count": 4,
   "metadata": {
    "collapsed": true
   },
   "outputs": [],
   "source": [
    "# Ingredients - Italian\n",
    "ingr_one = pd.read_csv('italian/main_ital_ingredients1.csv')\n",
    "ingr_two = pd.read_csv('italian/main_ital_ingredients2.csv')\n",
    "ingr_thr = pd.read_csv('italian/main_ital_ingredients3.csv')\n",
    "ingr_fou = pd.read_csv('italian/main_ital_ingredients4.csv')"
   ]
  },
  {
   "cell_type": "code",
   "execution_count": 5,
   "metadata": {
    "collapsed": true
   },
   "outputs": [],
   "source": [
    "data_ingred_ital = pd.concat([ingr_one, ingr_two, ingr_thr, ingr_fou], join = 'outer', axis =0, ignore_index=True)\n",
    "data_ingred_ital['cuisine'] = 'Italian'"
   ]
  },
  {
   "cell_type": "code",
   "execution_count": 6,
   "metadata": {
    "collapsed": true
   },
   "outputs": [],
   "source": [
    "# Ingredients - Mexian\n",
    "ingr_one = pd.read_csv('mexican/main_mex_ingredients1.csv')\n",
    "ingr_two = pd.read_csv('mexican/main_mex_ingredients2.csv')\n",
    "ingr_thr = pd.read_csv('mexican/main_mex_ingredients3.csv')\n",
    "ingr_fou = pd.read_csv('mexican/main_mex_ingredients4.csv')"
   ]
  },
  {
   "cell_type": "code",
   "execution_count": 7,
   "metadata": {
    "collapsed": true
   },
   "outputs": [],
   "source": [
    "data_ingred_mex = pd.concat([ingr_one, ingr_two, ingr_thr, ingr_fou], join = 'outer', axis =0, ignore_index=True)\n",
    "data_ingred_mex['cuisine'] = 'Mexican'"
   ]
  },
  {
   "cell_type": "code",
   "execution_count": 8,
   "metadata": {
    "collapsed": true
   },
   "outputs": [],
   "source": [
    "# Ingredients - Asian\n",
    "ingr_one = pd.read_csv('asian/main_as_ingredients1.csv')\n",
    "ingr_two = pd.read_csv('asian/main_as_ingredients2.csv')\n",
    "ingr_thr = pd.read_csv('asian/main_as_ingredients3.csv')\n",
    "ingr_fou = pd.read_csv('asian/main_as_ingredients4.csv')"
   ]
  },
  {
   "cell_type": "code",
   "execution_count": 9,
   "metadata": {
    "collapsed": true
   },
   "outputs": [],
   "source": [
    "data_ingred_asian = pd.concat([ingr_one, ingr_two, ingr_thr, ingr_fou], join = 'outer', axis =0, ignore_index=True)\n",
    "data_ingred_asian['cuisine'] = 'Asian'"
   ]
  },
  {
   "cell_type": "code",
   "execution_count": 10,
   "metadata": {
    "collapsed": true
   },
   "outputs": [],
   "source": [
    "# Ingredients - Asian\n",
    "ingr_one = pd.read_csv('mediterranean/main_medit_ingredients1.csv')\n",
    "ingr_two = pd.read_csv('mediterranean/main_medit_ingredients2.csv')\n",
    "ingr_thr = pd.read_csv('mediterranean/main_medit_ingredients3.csv')\n",
    "ingr_fou = pd.read_csv('mediterranean/main_medit_ingredients4.csv')"
   ]
  },
  {
   "cell_type": "code",
   "execution_count": 11,
   "metadata": {
    "collapsed": true
   },
   "outputs": [],
   "source": [
    "data_ingred_medit = pd.concat([ingr_one, ingr_two, ingr_thr, ingr_fou], join = 'outer', axis =0, ignore_index=True)\n",
    "data_ingred_medit['cuisine'] = 'Mediterranean'"
   ]
  },
  {
   "cell_type": "code",
   "execution_count": 12,
   "metadata": {
    "collapsed": false
   },
   "outputs": [],
   "source": [
    "data_all_ingr = pd.concat([data_ingred_amer, data_ingred_asian, data_ingred_ital, data_ingred_medit,\n",
    "                          data_ingred_mex], join = 'outer', axis = 0, ignore_index=True)"
   ]
  },
  {
   "cell_type": "code",
   "execution_count": 19,
   "metadata": {
    "collapsed": false
   },
   "outputs": [],
   "source": [
    "# Send full ingredients to csv\n",
    "# data_all_ingr.to_csv('../ingredients_combined/full_ingredients.csv', encoding='utf-8')"
   ]
  },
  {
   "cell_type": "markdown",
   "metadata": {},
   "source": [
    "Read in full_ingredients CSV"
   ]
  },
  {
   "cell_type": "code",
   "execution_count": 2,
   "metadata": {
    "collapsed": true
   },
   "outputs": [],
   "source": [
    "data_all_ing = pd.read_csv('../ingredients_combined/full_ingredients.csv')"
   ]
  },
  {
   "cell_type": "code",
   "execution_count": 3,
   "metadata": {
    "collapsed": false
   },
   "outputs": [],
   "source": [
    "data_reduced = data_all_ing[['id', 'ingredient_list', 'cuisine']]"
   ]
  },
  {
   "cell_type": "code",
   "execution_count": 5,
   "metadata": {
    "collapsed": false
   },
   "outputs": [
    {
     "name": "stderr",
     "output_type": "stream",
     "text": [
      "/Users/michaelshea/anaconda/lib/python2.7/site-packages/ipykernel/__main__.py:18: SettingWithCopyWarning: \n",
      "A value is trying to be set on a copy of a slice from a DataFrame.\n",
      "Try using .loc[row_indexer,col_indexer] = value instead\n",
      "\n",
      "See the caveats in the documentation: http://pandas.pydata.org/pandas-docs/stable/indexing.html#indexing-view-versus-copy\n"
     ]
    }
   ],
   "source": [
    "# Remove non-alpha chcaracters and convert to lower case\n",
    "# Note, this is still in string form here\n",
    "ingredient_string = [re.sub('[^A-Za-z]', ' ', z).strip().lower() for z in data_reduced['ingredient_list']]\n",
    "\n",
    "# To lemmatize each word, need to convert the string to a list to allow lemmatizer to iterate through\n",
    "convert_to_list = [z.split() for z in ingredient_string]\n",
    "lemmatized = [WordNetLemmatizer().lemmatize(z) for z in ingredient_string]\n",
    "\n",
    "# Here lematizer iterates through list; couldn't get it to work with list comprehension\n",
    "lemmatized = []\n",
    "for _list in convert_to_list:\n",
    "    sub_list = []\n",
    "    for word in _list:\n",
    "        sub_list.append(WordNetLemmatizer().lemmatize(word))\n",
    "    lemmatized.append(sub_list)\n",
    "\n",
    "# Then need to convert the list back into a string\n",
    "data_reduced['ingredient_string'] = [' '.join(z) for z in lemmatized]"
   ]
  },
  {
   "cell_type": "code",
   "execution_count": 6,
   "metadata": {
    "collapsed": false
   },
   "outputs": [
    {
     "name": "stderr",
     "output_type": "stream",
     "text": [
      "/Users/michaelshea/anaconda/lib/python2.7/site-packages/ipykernel/__main__.py:3: SettingWithCopyWarning: \n",
      "A value is trying to be set on a copy of a slice from a DataFrame.\n",
      "Try using .loc[row_indexer,col_indexer] = value instead\n",
      "\n",
      "See the caveats in the documentation: http://pandas.pydata.org/pandas-docs/stable/indexing.html#indexing-view-versus-copy\n",
      "  app.launch_new_instance()\n"
     ]
    }
   ],
   "source": [
    "# Label encode target (cuisine)\n",
    "le = LabelEncoder()\n",
    "data_reduced['cuisine_encode'] = le.fit_transform(data_reduced.cuisine)"
   ]
  },
  {
   "cell_type": "code",
   "execution_count": 7,
   "metadata": {
    "collapsed": true
   },
   "outputs": [],
   "source": [
    "# Split data into feature and target\n",
    "X = data_reduced['ingredient_string']\n",
    "y = data_reduced.cuisine_encode"
   ]
  },
  {
   "cell_type": "code",
   "execution_count": 8,
   "metadata": {
    "collapsed": true
   },
   "outputs": [],
   "source": [
    "# split into training and testing sets\n",
    "X_train, X_test, y_train, y_test = train_test_split(X, y)"
   ]
  },
  {
   "cell_type": "code",
   "execution_count": 9,
   "metadata": {
    "collapsed": false
   },
   "outputs": [],
   "source": [
    "# Instantiate vectorizer\n",
    "vect = TfidfVectorizer()"
   ]
  },
  {
   "cell_type": "code",
   "execution_count": 10,
   "metadata": {
    "collapsed": true
   },
   "outputs": [],
   "source": [
    "# fit and transform X_train, but only transform X_test\n",
    "X_train_dtm = vect.fit_transform(X_train)\n",
    "X_test_dtm = vect.transform(X_test)"
   ]
  },
  {
   "cell_type": "code",
   "execution_count": 11,
   "metadata": {
    "collapsed": false
   },
   "outputs": [
    {
     "data": {
      "text/plain": [
       "MultinomialNB(alpha=1.0, class_prior=None, fit_prior=True)"
      ]
     },
     "execution_count": 11,
     "metadata": {},
     "output_type": "execute_result"
    }
   ],
   "source": [
    "# import/instantiate/fit\n",
    "nb = MultinomialNB()\n",
    "nb.fit(X_train_dtm, y_train)"
   ]
  },
  {
   "cell_type": "code",
   "execution_count": 12,
   "metadata": {
    "collapsed": true
   },
   "outputs": [],
   "source": [
    "# make class predictions\n",
    "y_pred_class = nb.predict(X_test_dtm)"
   ]
  },
  {
   "cell_type": "code",
   "execution_count": 13,
   "metadata": {
    "collapsed": false
   },
   "outputs": [
    {
     "name": "stdout",
     "output_type": "stream",
     "text": [
      "0.916735028712\n"
     ]
    }
   ],
   "source": [
    "# calculate accuracy\n",
    "from sklearn import metrics\n",
    "print metrics.accuracy_score(y_test, y_pred_class)"
   ]
  },
  {
   "cell_type": "code",
   "execution_count": 14,
   "metadata": {
    "collapsed": false
   },
   "outputs": [],
   "source": [
    "# View predictions vs actual\n",
    "test_df = pd.DataFrame(X_test)\n",
    "test_df = test_df.join(data_reduced, how='left', rsuffix='orig_string')\n",
    "test_df['y_pred'] = list(le.inverse_transform(y_pred_class))"
   ]
  },
  {
   "cell_type": "code",
   "execution_count": 18,
   "metadata": {
    "collapsed": false
   },
   "outputs": [
    {
     "data": {
      "text/html": [
       "<div>\n",
       "<table border=\"1\" class=\"dataframe\">\n",
       "  <thead>\n",
       "    <tr style=\"text-align: right;\">\n",
       "      <th></th>\n",
       "      <th>ingredient_string</th>\n",
       "      <th>id</th>\n",
       "      <th>ingredient_list</th>\n",
       "      <th>cuisine</th>\n",
       "      <th>ingredient_stringorig_string</th>\n",
       "      <th>cuisine_encode</th>\n",
       "      <th>y_pred</th>\n",
       "    </tr>\n",
       "  </thead>\n",
       "  <tbody>\n",
       "    <tr>\n",
       "      <th>98</th>\n",
       "      <td>flank steak light brown sugar bourbon whiskey ...</td>\n",
       "      <td>Sugar-Steak-with-Bourbon-576585</td>\n",
       "      <td>[flank steak, light brown sugar, bourbon whisk...</td>\n",
       "      <td>American</td>\n",
       "      <td>flank steak light brown sugar bourbon whiskey ...</td>\n",
       "      <td>0</td>\n",
       "      <td>American</td>\n",
       "    </tr>\n",
       "    <tr>\n",
       "      <th>7104</th>\n",
       "      <td>extra virgin olive oil fresh lemon juice cumin...</td>\n",
       "      <td>Mediterranean-Pita-Panzanella-1177493</td>\n",
       "      <td>[extra-virgin olive oil, fresh lemon juice, cu...</td>\n",
       "      <td>Mediterranean</td>\n",
       "      <td>extra virgin olive oil fresh lemon juice cumin...</td>\n",
       "      <td>3</td>\n",
       "      <td>Mediterranean</td>\n",
       "    </tr>\n",
       "    <tr>\n",
       "      <th>6308</th>\n",
       "      <td>pizza dough feta cheese garlic clove olive oil...</td>\n",
       "      <td>Greek-pizza-333514</td>\n",
       "      <td>[pizza doughs, feta cheese, garlic cloves, oli...</td>\n",
       "      <td>Mediterranean</td>\n",
       "      <td>pizza dough feta cheese garlic clove olive oil...</td>\n",
       "      <td>3</td>\n",
       "      <td>Mediterranean</td>\n",
       "    </tr>\n",
       "    <tr>\n",
       "      <th>7102</th>\n",
       "      <td>quinoa veggie chicken chicken breast red bell ...</td>\n",
       "      <td>Chicken-Souvlaki-Grilled-Veggie-and-Quinoa-Bow...</td>\n",
       "      <td>[quinoa, veggies, chicken, chicken breasts, re...</td>\n",
       "      <td>Mediterranean</td>\n",
       "      <td>quinoa veggie chicken chicken breast red bell ...</td>\n",
       "      <td>3</td>\n",
       "      <td>Mediterranean</td>\n",
       "    </tr>\n",
       "    <tr>\n",
       "      <th>8634</th>\n",
       "      <td>green giant creamed spinach elbow macaroni tom...</td>\n",
       "      <td>Mexican-Macaroni-Casserole-1592865</td>\n",
       "      <td>[Green Giant Creamed Spinach, elbow macaroni, ...</td>\n",
       "      <td>Mexican</td>\n",
       "      <td>green giant creamed spinach elbow macaroni tom...</td>\n",
       "      <td>4</td>\n",
       "      <td>Mexican</td>\n",
       "    </tr>\n",
       "  </tbody>\n",
       "</table>\n",
       "</div>"
      ],
      "text/plain": [
       "                                      ingredient_string  \\\n",
       "98    flank steak light brown sugar bourbon whiskey ...   \n",
       "7104  extra virgin olive oil fresh lemon juice cumin...   \n",
       "6308  pizza dough feta cheese garlic clove olive oil...   \n",
       "7102  quinoa veggie chicken chicken breast red bell ...   \n",
       "8634  green giant creamed spinach elbow macaroni tom...   \n",
       "\n",
       "                                                     id  \\\n",
       "98                      Sugar-Steak-with-Bourbon-576585   \n",
       "7104              Mediterranean-Pita-Panzanella-1177493   \n",
       "6308                                 Greek-pizza-333514   \n",
       "7102  Chicken-Souvlaki-Grilled-Veggie-and-Quinoa-Bow...   \n",
       "8634                 Mexican-Macaroni-Casserole-1592865   \n",
       "\n",
       "                                        ingredient_list        cuisine  \\\n",
       "98    [flank steak, light brown sugar, bourbon whisk...       American   \n",
       "7104  [extra-virgin olive oil, fresh lemon juice, cu...  Mediterranean   \n",
       "6308  [pizza doughs, feta cheese, garlic cloves, oli...  Mediterranean   \n",
       "7102  [quinoa, veggies, chicken, chicken breasts, re...  Mediterranean   \n",
       "8634  [Green Giant Creamed Spinach, elbow macaroni, ...        Mexican   \n",
       "\n",
       "                           ingredient_stringorig_string  cuisine_encode  \\\n",
       "98    flank steak light brown sugar bourbon whiskey ...               0   \n",
       "7104  extra virgin olive oil fresh lemon juice cumin...               3   \n",
       "6308  pizza dough feta cheese garlic clove olive oil...               3   \n",
       "7102  quinoa veggie chicken chicken breast red bell ...               3   \n",
       "8634  green giant creamed spinach elbow macaroni tom...               4   \n",
       "\n",
       "             y_pred  \n",
       "98         American  \n",
       "7104  Mediterranean  \n",
       "6308  Mediterranean  \n",
       "7102  Mediterranean  \n",
       "8634        Mexican  "
      ]
     },
     "execution_count": 18,
     "metadata": {},
     "output_type": "execute_result"
    }
   ],
   "source": [
    "test_df.head()"
   ]
  },
  {
   "cell_type": "code",
   "execution_count": 1,
   "metadata": {
    "collapsed": false
   },
   "outputs": [
    {
     "ename": "NameError",
     "evalue": "name 'test_df' is not defined",
     "output_type": "error",
     "traceback": [
      "\u001b[0;31m---------------------------------------------------------------------------\u001b[0m",
      "\u001b[0;31mNameError\u001b[0m                                 Traceback (most recent call last)",
      "\u001b[0;32m<ipython-input-1-269c5e41ebf8>\u001b[0m in \u001b[0;36m<module>\u001b[0;34m()\u001b[0m\n\u001b[1;32m      1\u001b[0m \u001b[0;31m# Isolate incorrect predictions in test_df\u001b[0m\u001b[0;34m\u001b[0m\u001b[0;34m\u001b[0m\u001b[0m\n\u001b[1;32m      2\u001b[0m \u001b[0;31m# Code looks a bit weird -- just pulling certain columns at the end in double square brackets\u001b[0m\u001b[0;34m\u001b[0m\u001b[0;34m\u001b[0m\u001b[0m\n\u001b[0;32m----> 3\u001b[0;31m \u001b[0mincorrect_predictions\u001b[0m \u001b[0;34m=\u001b[0m \u001b[0mtest_df\u001b[0m\u001b[0;34m[\u001b[0m\u001b[0mtest_df\u001b[0m\u001b[0;34m.\u001b[0m\u001b[0mcuisine\u001b[0m \u001b[0;34m!=\u001b[0m \u001b[0mtest_df\u001b[0m\u001b[0;34m.\u001b[0m\u001b[0my_pred\u001b[0m\u001b[0;34m]\u001b[0m\u001b[0;34m[\u001b[0m\u001b[0;34m[\u001b[0m\u001b[0;34m'id'\u001b[0m\u001b[0;34m,\u001b[0m \u001b[0;34m'ingredient_list'\u001b[0m\u001b[0;34m,\u001b[0m \u001b[0;34m'cuisine'\u001b[0m\u001b[0;34m,\u001b[0m \u001b[0;34m'y_pred'\u001b[0m\u001b[0;34m]\u001b[0m\u001b[0;34m]\u001b[0m\u001b[0;34m\u001b[0m\u001b[0m\n\u001b[0m\u001b[1;32m      4\u001b[0m \u001b[0mincorrect_predictions\u001b[0m\u001b[0;34m.\u001b[0m\u001b[0mhead\u001b[0m\u001b[0;34m(\u001b[0m\u001b[0;34m)\u001b[0m\u001b[0;34m\u001b[0m\u001b[0m\n",
      "\u001b[0;31mNameError\u001b[0m: name 'test_df' is not defined"
     ]
    }
   ],
   "source": [
    "# Isolate incorrect predictions in test_df\n",
    "# Code looks a bit weird -- just pulling certain columns at the end in double square brackets\n",
    "incorrect_predictions = test_df[test_df.cuisine != test_df.y_pred][['id', 'ingredient_list', 'cuisine', 'y_pred']]\n",
    "incorrect_predictions.head()"
   ]
  },
  {
   "cell_type": "code",
   "execution_count": 51,
   "metadata": {
    "collapsed": false
   },
   "outputs": [],
   "source": [
    "# Create incorrect pairings column\n",
    "incorrect_predictions['incorrect_pairings'] = zip(incorrect_predictions.cuisine, incorrect_predictions.y_pred)"
   ]
  },
  {
   "cell_type": "code",
   "execution_count": 64,
   "metadata": {
    "collapsed": false
   },
   "outputs": [
    {
     "data": {
      "text/plain": [
       "(Mediterranean, Italian)     38\n",
       "(Italian, Mediterranean)     31\n",
       "(American, Mexican)          28\n",
       "(American, Italian)          22\n",
       "(American, Mediterranean)    20\n",
       "(Mediterranean, American)    14\n",
       "(Asian, American)            13\n",
       "(Italian, American)          11\n",
       "(American, Asian)             6\n",
       "Name: incorrect_pairings, dtype: int64"
      ]
     },
     "execution_count": 64,
     "metadata": {},
     "output_type": "execute_result"
    }
   ],
   "source": [
    "counts[:9]"
   ]
  },
  {
   "cell_type": "code",
   "execution_count": 75,
   "metadata": {
    "collapsed": false
   },
   "outputs": [
    {
     "data": {
      "image/png": "[encoded data removed]",
      "text/plain": [
       "<matplotlib.figure.Figure at 0x121a48710>"
      ]
     },
     "metadata": {},
     "output_type": "display_data"
    }
   ],
   "source": [
    "counts_high = incorrect_predictions.incorrect_pairings.value_counts()[:9]\n",
    "counts_low = incorrect_predictions.incorrect_pairings.value_counts()[9:]\n",
    "\n",
    "fig, axes = plt.subplots(nrows=2, ncols=1, figsize=(7, 7))\n",
    "ax0, ax1 = axes.flat\n",
    "\n",
    "\n",
    "ax0.bar(range(len(counts_high)), counts_high)\n",
    "ax0.set_xticklabels(counts_high.index, rotation=45)\n",
    "ax0.set_title('Most error prone pairings')\n",
    "\n",
    "ax1.bar(range(len(counts_low)), counts_low)\n",
    "ax1.set_xticklabels(counts_low.index, rotation=45)\n",
    "ax1.set_title('Least error prone pairings')\n",
    "\n",
    "plt.tight_layout()"
   ]
  },
  {
   "cell_type": "code",
   "execution_count": 96,
   "metadata": {
    "collapsed": true
   },
   "outputs": [],
   "source": [
    "# predict class probabilities\n",
    "# y_pred_prob = nb.predict_proba(X_test_dtm)"
   ]
  },
  {
   "cell_type": "code",
   "execution_count": 20,
   "metadata": {
    "collapsed": false
   },
   "outputs": [],
   "source": [
    "# calculate the AUC using y_test_binary and y_pred_prob\n",
    "# print metrics.roc_auc_score(y_test, y_pred_prob)\n",
    "\n",
    "# oh wait, this produces an error because ROC doesn't handle multiclass classification"
   ]
  },
  {
   "cell_type": "code",
   "execution_count": 19,
   "metadata": {
    "collapsed": false
   },
   "outputs": [],
   "source": [
    "# Redo with label binarizer and One vs. All multiclass model\n",
    "lb = LabelBinarizer()\n",
    "y = lb.fit_transform(data_reduced.cuisine_encode)\n",
    "X = data_reduced['ingredient_string']"
   ]
  },
  {
   "cell_type": "code",
   "execution_count": 30,
   "metadata": {
    "collapsed": false
   },
   "outputs": [
    {
     "data": {
      "text/plain": [
       "5"
      ]
     },
     "execution_count": 30,
     "metadata": {},
     "output_type": "execute_result"
    }
   ],
   "source": [
    "n_classes = y.shape[1]\n",
    "n_classes"
   ]
  },
  {
   "cell_type": "code",
   "execution_count": 20,
   "metadata": {
    "collapsed": false
   },
   "outputs": [],
   "source": [
    "X_train, X_test, y_train, y_test = train_test_split(X, y)"
   ]
  },
  {
   "cell_type": "code",
   "execution_count": 21,
   "metadata": {
    "collapsed": true
   },
   "outputs": [],
   "source": [
    "# Instantiate tfid-vectorizer\n",
    "vect = TfidfVectorizer()"
   ]
  },
  {
   "cell_type": "code",
   "execution_count": 22,
   "metadata": {
    "collapsed": false
   },
   "outputs": [],
   "source": [
    "# fit and transform X_train, but only transform X_test\n",
    "X_train_dtm = vect.fit_transform(X_train)\n",
    "X_test_dtm = vect.transform(X_test)"
   ]
  },
  {
   "cell_type": "code",
   "execution_count": 23,
   "metadata": {
    "collapsed": false
   },
   "outputs": [
    {
     "data": {
      "text/plain": [
       "OneVsRestClassifier(estimator=MultinomialNB(alpha=1.0, class_prior=None, fit_prior=True),\n",
       "          n_jobs=1)"
      ]
     },
     "execution_count": 23,
     "metadata": {},
     "output_type": "execute_result"
    }
   ],
   "source": [
    "classifier = OneVsRestClassifier(MultinomialNB())\n",
    "classifier.fit(X_train_dtm, y_train)"
   ]
  },
  {
   "cell_type": "code",
   "execution_count": 24,
   "metadata": {
    "collapsed": false
   },
   "outputs": [],
   "source": [
    "# make class predictions\n",
    "y_pred_class = classifier.predict(X_test_dtm)"
   ]
  },
  {
   "cell_type": "code",
   "execution_count": 35,
   "metadata": {
    "collapsed": true
   },
   "outputs": [],
   "source": [
    "# make probability predictions\n",
    "y_pred_prob = classifier.predict_proba(X_test_dtm)"
   ]
  },
  {
   "cell_type": "code",
   "execution_count": 25,
   "metadata": {
    "collapsed": false
   },
   "outputs": [
    {
     "data": {
      "text/plain": [
       "array([[0, 0, 1, 0, 0],\n",
       "       [0, 1, 0, 0, 0],\n",
       "       [0, 0, 0, 0, 1],\n",
       "       ..., \n",
       "       [0, 0, 0, 1, 0],\n",
       "       [0, 0, 0, 0, 0],\n",
       "       [0, 0, 1, 0, 0]])"
      ]
     },
     "execution_count": 25,
     "metadata": {},
     "output_type": "execute_result"
    }
   ],
   "source": [
    "y_pred_class"
   ]
  },
  {
   "cell_type": "code",
   "execution_count": 26,
   "metadata": {
    "collapsed": false
   },
   "outputs": [
    {
     "data": {
      "text/plain": [
       "array([[0, 0, 0, 1, 0],\n",
       "       [0, 1, 0, 0, 0],\n",
       "       [0, 0, 0, 0, 1],\n",
       "       ..., \n",
       "       [0, 0, 0, 1, 0],\n",
       "       [0, 0, 1, 0, 0],\n",
       "       [0, 0, 1, 0, 0]])"
      ]
     },
     "execution_count": 26,
     "metadata": {},
     "output_type": "execute_result"
    }
   ],
   "source": [
    "y_test"
   ]
  },
  {
   "cell_type": "code",
   "execution_count": 27,
   "metadata": {
    "collapsed": false
   },
   "outputs": [
    {
     "name": "stdout",
     "output_type": "stream",
     "text": [
      "0.818703855619\n"
     ]
    }
   ],
   "source": [
    "print metrics.accuracy_score(y_test, y_pred_class)"
   ]
  },
  {
   "cell_type": "markdown",
   "metadata": {},
   "source": [
    "Note to self: I left off with the label_binarizer. I already produced a model, with no tuning whatsoever, that produced an accuracy score of 91%. \n",
    "\n",
    "However, you cannot produce an ROC curve with multiclass predictions, unless you use the label_binarizer and employ a One-vs-all approach to the classification. Up next will be to compute the predicted probabilities for each class and build an ROC curve for each. See sklearn stuff on this."
   ]
  },
  {
   "cell_type": "code",
   "execution_count": 37,
   "metadata": {
    "collapsed": true
   },
   "outputs": [],
   "source": [
    "# Compute ROC curve and ROC area for each class\n",
    "fpr = dict()\n",
    "tpr = dict()\n",
    "roc_auc = dict()\n",
    "for i in range(n_classes):\n",
    "    fpr[i], tpr[i], _ = roc_curve(y_test[:, i], y_pred_prob[:, i])\n",
    "    roc_auc[i] = auc(fpr[i], tpr[i])\n",
    "\n",
    "# Compute micro-average ROC curve and ROC area\n",
    "fpr[\"micro\"], tpr[\"micro\"], _ = roc_curve(y_test.ravel(), y_pred_prob.ravel())\n",
    "roc_auc[\"micro\"] = auc(fpr[\"micro\"], tpr[\"micro\"])\n"
   ]
  },
  {
   "cell_type": "code",
   "execution_count": 40,
   "metadata": {
    "collapsed": false
   },
   "outputs": [
    {
     "data": {
      "text/plain": [
       "<matplotlib.legend.Legend at 0x11eb07f50>"
      ]
     },
     "execution_count": 40,
     "metadata": {},
     "output_type": "execute_result"
    },
    {
     "data": {
      "image/png": "[encoded data removed]",
      "text/plain": [
       "<matplotlib.figure.Figure at 0x11e7a6f50>"
      ]
     },
     "metadata": {},
     "output_type": "display_data"
    }
   ],
   "source": [
    "# Plot of a ROC curve for a specific class\n",
    "\n",
    "plt.figure()\n",
    "plt.xlabel('False Positive Rate')\n",
    "plt.ylabel('True Positive Rate')\n",
    "\n",
    "plt.title('Receiver operating characteristic example')\n",
    "for i in range(n_classes):\n",
    "    plt.plot(fpr[i], tpr[i], label='ROC curve (area = %0.2f)' % roc_auc[i])\n",
    "    plt.plot([0, 1], [0, 1], 'k--')\n",
    "    plt.xlim([0.0, 1.0])\n",
    "    plt.ylim([0.0, 1.05])\n",
    "    \n",
    "plt.legend(loc=\"lower right\")"
   ]
  },
  {
   "cell_type": "code",
   "execution_count": 83,
   "metadata": {
    "collapsed": false
   },
   "outputs": [
    {
     "name": "stdout",
     "output_type": "stream",
     "text": [
      "[0 1 2 3 4]\n",
      "['American' 'Asian' 'Italian' 'Mediterranean' 'Mexican']\n"
     ]
    }
   ],
   "source": [
    "# The second predicted class had an area under ROC of 1, meaning 100% accurate predictions\n",
    "# Find out which class this was:\n",
    "\n",
    "# check classes of label binarizer\n",
    "print lb.classes_\n",
    "\n",
    "# check classes of label encoder\n",
    "print le.classes_\n",
    "\n",
    "# after comparing, it's clear that predictions for asian recipes are strongest"
   ]
  },
  {
   "cell_type": "code",
   "execution_count": null,
   "metadata": {
    "collapsed": true
   },
   "outputs": [],
   "source": []
  }
 ],
 "metadata": {
  "kernelspec": {
   "display_name": "Python 2",
   "language": "python",
   "name": "python2"
  },
  "language_info": {
   "codemirror_mode": {
    "name": "ipython",
    "version": 2
   },
   "file_extension": ".py",
   "mimetype": "text/x-python",
   "name": "python",
   "nbconvert_exporter": "python",
   "pygments_lexer": "ipython2",
   "version": "2.7.11"
  }
 },
 "nbformat": 4,
 "nbformat_minor": 0
}

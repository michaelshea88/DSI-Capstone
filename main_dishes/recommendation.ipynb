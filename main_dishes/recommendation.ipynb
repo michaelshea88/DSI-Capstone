{
 "cells": [
  {
   "cell_type": "code",
   "execution_count": 1,
   "metadata": {
    "collapsed": true
   },
   "outputs": [],
   "source": [
    "import pandas as pd\n",
    "import numpy as np\n",
    "from sklearn.preprocessing import LabelEncoder\n",
    "from sklearn.feature_extraction.text import TfidfVectorizer\n",
    "from sklearn.linear_model import LogisticRegression\n",
    "from sklearn.tree import DecisionTreeClassifier\n",
    "from sklearn.ensemble import RandomForestClassifier\n",
    "import re\n",
    "from nltk import WordNetLemmatizer\n",
    "from sklearn.cross_validation import train_test_split\n",
    "from sklearn.grid_search import GridSearchCV\n",
    "from sklearn.metrics import accuracy_score, classification_report, confusion_matrix\n",
    "from sklearn.decomposition import TruncatedSVD\n",
    "from sklearn.preprocessing import Normalizer\n",
    "from sklearn.cluster import KMeans\n",
    "from sklearn.pipeline import make_pipeline\n",
    "from sklearn import metrics"
   ]
  },
  {
   "cell_type": "code",
   "execution_count": 2,
   "metadata": {
    "collapsed": false
   },
   "outputs": [
    {
     "name": "stdout",
     "output_type": "stream",
     "text": [
      "(9751, 5)\n"
     ]
    }
   ],
   "source": [
    "df = pd.read_csv('../ingredients_combined/ingredients_reduced.csv')\n",
    "print df.shape"
   ]
  },
  {
   "cell_type": "code",
   "execution_count": 3,
   "metadata": {
    "collapsed": false
   },
   "outputs": [],
   "source": [
    "# Remove non-alpha characters\n",
    "name_string1 = [re.sub('[^A-Za-z]', ' ', z).strip().lower() for z in df['id']]\n",
    "\n",
    "# Remove extra whitespace between words\n",
    "name_string2 = [' '.join(z.split()) for z in name_string1]\n",
    "\n",
    "# Lemmatize each word - start by converting the string to a list to iterate through\n",
    "as_list = [z.split() for z in name_string2]\n",
    "\n",
    "# Iterate through list, using WordNetLemmatizer\n",
    "lemmatized = []\n",
    "for _list in as_list:\n",
    "    sub_list = []\n",
    "    for word in _list:\n",
    "        sub_list.append(WordNetLemmatizer().lemmatize(word))\n",
    "    lemmatized.append(sub_list)\n",
    "\n",
    "# Then need to convert the list back into a string\n",
    "name_string3 = [' '.join(z) for z in lemmatized]\n",
    "\n",
    "# Zip together recipe name string and ingredient string\n",
    "zipped = zip(name_string3, df.ingredient_string)\n",
    "\n",
    "# Concatenate recipe name string and ingredient string\n",
    "ingredient_id_string = [y + ' ' + z for y,z in zipped]    \n",
    "\n",
    "# Add new column to dataframe with concatenated strings\n",
    "df['ingredient_id_string'] = ingredient_id_string"
   ]
  },
  {
   "cell_type": "code",
   "execution_count": 4,
   "metadata": {
    "collapsed": true
   },
   "outputs": [],
   "source": [
    "# Use label encoder to encode cuisine\n",
    "le = LabelEncoder()\n",
    "df['encoded_cuisine'] = le.fit_transform(df.cuisine)"
   ]
  },
  {
   "cell_type": "code",
   "execution_count": 5,
   "metadata": {
    "collapsed": true
   },
   "outputs": [],
   "source": [
    "# Assign X and y\n",
    "vect = TfidfVectorizer(stop_words='english', max_df=.5, ngram_range=(2,2))\n",
    "X = vect.fit_transform(df.ingredient_id_string)\n",
    "y = df.encoded_cuisine"
   ]
  },
  {
   "cell_type": "code",
   "execution_count": 64,
   "metadata": {
    "collapsed": false
   },
   "outputs": [
    {
     "name": "stdout",
     "output_type": "stream",
     "text": [
      "(9751, 8)\n"
     ]
    }
   ],
   "source": [
    "svd = TruncatedSVD(n_components=8)\n",
    "normalizer = Normalizer(copy=False)\n",
    "lsa = make_pipeline(svd, normalizer)\n",
    "X = lsa.fit_transform(X)\n",
    "print X.shape"
   ]
  },
  {
   "cell_type": "code",
   "execution_count": 65,
   "metadata": {
    "collapsed": false
   },
   "outputs": [
    {
     "name": "stdout",
     "output_type": "stream",
     "text": [
      "Explained variance of the SVD step: 2%\n"
     ]
    }
   ],
   "source": [
    "explained_variance = svd.explained_variance_ratio_.sum()\n",
    "print(\"Explained variance of the SVD step: {}%\".format(int(explained_variance * 100)))"
   ]
  },
  {
   "cell_type": "code",
   "execution_count": 66,
   "metadata": {
    "collapsed": false
   },
   "outputs": [
    {
     "data": {
      "text/plain": [
       "KMeans(copy_x=True, init='k-means++', max_iter=100, n_clusters=6, n_init=1,\n",
       "    n_jobs=1, precompute_distances='auto', random_state=None, tol=0.0001,\n",
       "    verbose=0)"
      ]
     },
     "execution_count": 66,
     "metadata": {},
     "output_type": "execute_result"
    }
   ],
   "source": [
    "km = KMeans(n_clusters=6, init='k-means++', max_iter=100, n_init=1)\n",
    "km.fit(X)"
   ]
  },
  {
   "cell_type": "code",
   "execution_count": 67,
   "metadata": {
    "collapsed": false
   },
   "outputs": [
    {
     "name": "stdout",
     "output_type": "stream",
     "text": [
      "Homogeneity: 0.603\n",
      "Completeness: 0.549\n",
      "V-measure: 0.575\n",
      "Adjusted Rand-Index: 0.572\n",
      "Silhouette Coefficient: 0.308\n"
     ]
    }
   ],
   "source": [
    "print(\"Homogeneity: %0.3f\" % metrics.homogeneity_score(y, km.labels_))\n",
    "print(\"Completeness: %0.3f\" % metrics.completeness_score(y, km.labels_))\n",
    "print(\"V-measure: %0.3f\" % metrics.v_measure_score(y, km.labels_))\n",
    "print(\"Adjusted Rand-Index: %.3f\"\n",
    "      % metrics.adjusted_rand_score(y, km.labels_))\n",
    "print(\"Silhouette Coefficient: %0.3f\"\n",
    "      % metrics.silhouette_score(X, km.labels_, sample_size=1000))"
   ]
  },
  {
   "cell_type": "code",
   "execution_count": 68,
   "metadata": {
    "collapsed": true
   },
   "outputs": [],
   "source": [
    "# transform svd back to the original features\n",
    "# create array with original shape containing cluster centers\n",
    "original_space_centroids = svd.inverse_transform(km.cluster_centers_)\n",
    "\n",
    "# argsort provides the indices of the array if it were sorted\n",
    "order_centroids = original_space_centroids.argsort()[:, ::-1]"
   ]
  },
  {
   "cell_type": "code",
   "execution_count": 69,
   "metadata": {
    "collapsed": false
   },
   "outputs": [
    {
     "name": "stdout",
     "output_type": "stream",
     "text": [
      "Cluster 0:\n",
      " black pepper\n",
      " ground black\n",
      " salt ground\n",
      " garlic clove\n",
      " cooking spray\n",
      " chicken broth\n",
      " purpose flour\n",
      " fat free\n",
      " olive oil\n",
      " kosher salt\n",
      " sodium chicken\n",
      " chopped fresh\n",
      " salt black\n",
      " vegetable oil\n",
      " ground cumin\n",
      "()\n",
      "Cluster 1:\n",
      " feta cheese\n",
      " olive oil\n",
      " garlic clove\n",
      " lemon juice\n",
      " cheese crumbles\n",
      " dried oregano\n",
      " chicken breast\n",
      " fresh parsley\n",
      " salt pepper\n",
      " fresh lemon\n",
      " black pepper\n",
      " purple onion\n",
      " skinless chicken\n",
      " bell pepper\n",
      " boneless skinless\n",
      "()\n",
      "Cluster 2:\n",
      " soy sauce\n",
      " sesame oil\n",
      " green onion\n",
      " brown sugar\n",
      " sesame seed\n",
      " fresh ginger\n",
      " rice vinegar\n",
      " corn starch\n",
      " red pepper\n",
      " sodium soy\n",
      " vegetable oil\n",
      " pepper flake\n",
      " toasted sesame\n",
      " low sodium\n",
      " chicken breast\n",
      "()\n",
      "Cluster 3:\n",
      " parmesan cheese\n",
      " mozzarella cheese\n",
      " grated parmesan\n",
      " ricotta cheese\n",
      " shredded mozzarella\n",
      " cheese grated\n",
      " lasagna noodle\n",
      " olive oil\n",
      " ground beef\n",
      " tomato sauce\n",
      " pasta sauce\n",
      " fresh basil\n",
      " italian sausage\n",
      " italian seasoning\n",
      " cheese shredded\n",
      "()\n",
      "Cluster 4:\n",
      " sour cream\n",
      " enchilada sauce\n",
      " cheddar cheese\n",
      " black bean\n",
      " chili powder\n",
      " corn tortilla\n",
      " bell pepper\n",
      " chicken enchilada\n",
      " flour tortilla\n",
      " ground beef\n",
      " shredded cheddar\n",
      " ground cumin\n",
      " chicken breast\n",
      " taco seasoning\n",
      " green chilies\n",
      "()\n"
     ]
    }
   ],
   "source": [
    "terms = vect.get_feature_names()\n",
    "for i in range(5):\n",
    "    print(\"Cluster %d:\" % i)\n",
    "    for ind in order_centroids[i, :15]:\n",
    "        print(' %s' % terms[ind])\n",
    "    print()"
   ]
  },
  {
   "cell_type": "markdown",
   "metadata": {},
   "source": [
    "## Think it works better without SVD"
   ]
  },
  {
   "cell_type": "code",
   "execution_count": 14,
   "metadata": {
    "collapsed": true
   },
   "outputs": [],
   "source": [
    "vect = TfidfVectorizer(stop_words='english', max_df=.5, ngram_range=(2,2), max_features=2500)\n",
    "X = vect.fit_transform(df.ingredient_id_string)\n",
    "y = df.encoded_cuisine"
   ]
  },
  {
   "cell_type": "code",
   "execution_count": 15,
   "metadata": {
    "collapsed": false
   },
   "outputs": [
    {
     "data": {
      "text/plain": [
       "KMeans(copy_x=True, init='k-means++', max_iter=100, n_clusters=6, n_init=1,\n",
       "    n_jobs=1, precompute_distances='auto', random_state=None, tol=0.0001,\n",
       "    verbose=0)"
      ]
     },
     "execution_count": 15,
     "metadata": {},
     "output_type": "execute_result"
    }
   ],
   "source": [
    "km = KMeans(n_clusters=6, init='k-means++', max_iter=100, n_init=1)\n",
    "km.fit(X)"
   ]
  },
  {
   "cell_type": "code",
   "execution_count": 16,
   "metadata": {
    "collapsed": false
   },
   "outputs": [
    {
     "data": {
      "text/plain": [
       "array([[1482,  897, 1228, ...,  960,  962, 1249],\n",
       "       [2128, 2053, 2054, ..., 1763, 1761,    0],\n",
       "       [ 128, 1365,  805, ..., 1603,  561, 1866],\n",
       "       [2126,  260,  125, ...,  995,  996,    0],\n",
       "       [1365,  694, 2411, ...,  448,  447, 1249],\n",
       "       [2100,  141,  334, ..., 1443, 1444, 1701]])"
      ]
     },
     "execution_count": 16,
     "metadata": {},
     "output_type": "execute_result"
    }
   ],
   "source": [
    "km.cluster_centers_.argsort()[:, ::-1]"
   ]
  },
  {
   "cell_type": "code",
   "execution_count": 17,
   "metadata": {
    "collapsed": true
   },
   "outputs": [],
   "source": [
    "order_centroids = km.cluster_centers_.argsort()[:, ::-1]"
   ]
  },
  {
   "cell_type": "code",
   "execution_count": 54,
   "metadata": {
    "collapsed": false
   },
   "outputs": [
    {
     "data": {
      "text/plain": [
       "array([[ 0.00164901,  0.        ,  0.        , ...,  0.        ,\n",
       "         0.00061411,  0.00059338],\n",
       "       [ 0.        ,  0.        ,  0.00341329, ...,  0.        ,\n",
       "         0.00091503,  0.00022413],\n",
       "       [ 0.00132041,  0.00135454,  0.00025743, ...,  0.00032526,\n",
       "         0.00118554,  0.00055052],\n",
       "       [ 0.        ,  0.00163576,  0.00079827, ...,  0.        ,\n",
       "         0.00056362,  0.00083629],\n",
       "       [ 0.00254687,  0.00030604,  0.00014123, ...,  0.00135345,\n",
       "         0.00155919,  0.00156518],\n",
       "       [ 0.00032137,  0.00026991,  0.00029575, ...,  0.00078387,\n",
       "         0.00028881,  0.00154209]])"
      ]
     },
     "execution_count": 54,
     "metadata": {},
     "output_type": "execute_result"
    }
   ],
   "source": [
    "km.cluster_centers_"
   ]
  },
  {
   "cell_type": "code",
   "execution_count": 64,
   "metadata": {
    "collapsed": false
   },
   "outputs": [
    {
     "name": "stdout",
     "output_type": "stream",
     "text": [
      "Cluster 0:\n",
      " parmesan cheese\n",
      " grated parmesan\n",
      " mozzarella cheese\n",
      " ricotta cheese\n",
      " shredded mozzarella\n",
      " olive oil\n",
      " cheese grated\n",
      " lasagna noodle\n",
      " fresh basil\n",
      " italian sausage\n",
      "()\n",
      "Cluster 1:\n",
      " soy sauce\n",
      " sesame oil\n",
      " sesame seed\n",
      " green onion\n",
      " rice vinegar\n",
      " fresh ginger\n",
      " brown sugar\n",
      " corn starch\n",
      " sodium soy\n",
      " toasted sesame\n",
      "()\n",
      "Cluster 2:\n",
      " black pepper\n",
      " olive oil\n",
      " garlic clove\n",
      " bell pepper\n",
      " cooking spray\n",
      " salt pepper\n",
      " purpose flour\n",
      " vegetable oil\n",
      " chicken broth\n",
      " ground black\n",
      "()\n",
      "Cluster 3:\n",
      " sour cream\n",
      " cheddar cheese\n",
      " black bean\n",
      " enchilada sauce\n",
      " corn tortilla\n",
      " chili powder\n",
      " ground beef\n",
      " flour tortilla\n",
      " shredded cheddar\n",
      " chicken enchilada\n",
      "()\n",
      "Cluster 4:\n",
      " olive oil\n",
      " feta cheese\n",
      " virgin olive\n",
      " extra virgin\n",
      " garlic clove\n",
      " lemon juice\n",
      " black pepper\n",
      " cheese crumbles\n",
      " ground black\n",
      " dried oregano\n",
      "()\n",
      "Cluster 5:\n",
      " skinless chicken\n",
      " boneless skinless\n",
      " chicken breast\n",
      " breast half\n",
      " olive oil\n",
      " chicken boneless\n",
      " oil boneless\n",
      " black pepper\n",
      " chicken broth\n",
      " chicken thigh\n",
      "()\n"
     ]
    }
   ],
   "source": [
    "terms = vect.get_feature_names()\n",
    "for i in range(6):\n",
    "    print(\"Cluster %d:\" % i)\n",
    "    for ind in order_centroids[i, :10]:\n",
    "        print(' %s' % terms[ind])\n",
    "    print()"
   ]
  },
  {
   "cell_type": "markdown",
   "metadata": {},
   "source": [
    "### Playing around"
   ]
  },
  {
   "cell_type": "code",
   "execution_count": 88,
   "metadata": {
    "collapsed": false
   },
   "outputs": [],
   "source": [
    "new_thing = vect.transform('parsley').toarray()"
   ]
  },
  {
   "cell_type": "code",
   "execution_count": 87,
   "metadata": {
    "collapsed": false
   },
   "outputs": [
    {
     "data": {
      "text/plain": [
       "array([[ 0.23013461,  0.23632981,  0.26763056,  0.14726674,  0.21274974,\n",
       "         0.27052203],\n",
       "       [ 0.23013461,  0.23632981,  0.26763056,  0.14726674,  0.21274974,\n",
       "         0.27052203],\n",
       "       [ 0.23013461,  0.23632981,  0.26763056,  0.14726674,  0.21274974,\n",
       "         0.27052203],\n",
       "       [ 0.23013461,  0.23632981,  0.26763056,  0.14726674,  0.21274974,\n",
       "         0.27052203],\n",
       "       [ 0.23013461,  0.23632981,  0.26763056,  0.14726674,  0.21274974,\n",
       "         0.27052203],\n",
       "       [ 0.23013461,  0.23632981,  0.26763056,  0.14726674,  0.21274974,\n",
       "         0.27052203],\n",
       "       [ 0.23013461,  0.23632981,  0.26763056,  0.14726674,  0.21274974,\n",
       "         0.27052203]])"
      ]
     },
     "execution_count": 87,
     "metadata": {},
     "output_type": "execute_result"
    }
   ],
   "source": [
    "km.transform(new_thing)"
   ]
  },
  {
   "cell_type": "code",
   "execution_count": 90,
   "metadata": {
    "collapsed": false
   },
   "outputs": [
    {
     "data": {
      "text/plain": [
       "(7, 2500)"
      ]
     },
     "execution_count": 90,
     "metadata": {},
     "output_type": "execute_result"
    }
   ],
   "source": [
    "new_thing.shape"
   ]
  },
  {
   "cell_type": "code",
   "execution_count": 95,
   "metadata": {
    "collapsed": true
   },
   "outputs": [],
   "source": [
    "thing = ['parsley orzo olive oil tomato', 'tomato onion mozzarella olive', \n",
    "         'soy sauce ginger sesame seeds', 'chili seeds ginger root']"
   ]
  },
  {
   "cell_type": "code",
   "execution_count": 96,
   "metadata": {
    "collapsed": false
   },
   "outputs": [],
   "source": [
    "vect = TfidfVectorizer()\n",
    "bb = vect.fit_transform(thing)"
   ]
  },
  {
   "cell_type": "code",
   "execution_count": 97,
   "metadata": {
    "collapsed": false
   },
   "outputs": [
    {
     "data": {
      "text/plain": [
       "<4x14 sparse matrix of type '<type 'numpy.float64'>'\n",
       "\twith 18 stored elements in Compressed Sparse Row format>"
      ]
     },
     "execution_count": 97,
     "metadata": {},
     "output_type": "execute_result"
    }
   ],
   "source": [
    "bb"
   ]
  },
  {
   "cell_type": "code",
   "execution_count": 98,
   "metadata": {
    "collapsed": false
   },
   "outputs": [
    {
     "data": {
      "text/plain": [
       "KMeans(copy_x=True, init='k-means++', max_iter=300, n_clusters=2, n_init=10,\n",
       "    n_jobs=1, precompute_distances='auto', random_state=None, tol=0.0001,\n",
       "    verbose=0)"
      ]
     },
     "execution_count": 98,
     "metadata": {},
     "output_type": "execute_result"
    }
   ],
   "source": [
    "km_2 = KMeans(n_clusters=2)\n",
    "km_2.fit(bb)"
   ]
  },
  {
   "cell_type": "code",
   "execution_count": 99,
   "metadata": {
    "collapsed": false
   },
   "outputs": [
    {
     "data": {
      "text/plain": [
       "array([1, 1, 0, 0], dtype=int32)"
      ]
     },
     "execution_count": 99,
     "metadata": {},
     "output_type": "execute_result"
    }
   ],
   "source": [
    "km_2.labels_"
   ]
  },
  {
   "cell_type": "code",
   "execution_count": 100,
   "metadata": {
    "collapsed": false
   },
   "outputs": [
    {
     "data": {
      "text/plain": [
       "array([[ 0.27764133,  0.41026698,  0.        ,  0.        ,  0.        ,\n",
       "         0.        ,  0.        ,  0.        ,  0.27764133,  0.24273031,\n",
       "         0.41026698,  0.24273031,  0.24273031,  0.        ],\n",
       "       [ 0.        ,  0.        ,  0.27764133,  0.24273031,  0.41026698,\n",
       "         0.27764133,  0.24273031,  0.24273031,  0.        ,  0.        ,\n",
       "         0.        ,  0.        ,  0.        ,  0.41026698]])"
      ]
     },
     "execution_count": 100,
     "metadata": {},
     "output_type": "execute_result"
    }
   ],
   "source": [
    "km_2.cluster_centers_"
   ]
  },
  {
   "cell_type": "code",
   "execution_count": 104,
   "metadata": {
    "collapsed": false
   },
   "outputs": [],
   "source": [
    "sauce = vect.transform(['sauce'])"
   ]
  },
  {
   "cell_type": "code",
   "execution_count": 110,
   "metadata": {
    "collapsed": false
   },
   "outputs": [
    {
     "data": {
      "text/plain": [
       "array([0], dtype=int32)"
      ]
     },
     "execution_count": 110,
     "metadata": {},
     "output_type": "execute_result"
    }
   ],
   "source": [
    "cluster_pred = km_2.predict(sauce)\n",
    "cluster_pred"
   ]
  },
  {
   "cell_type": "code",
   "execution_count": 111,
   "metadata": {
    "collapsed": false
   },
   "outputs": [
    {
     "data": {
      "text/plain": [
       "array([[10,  1,  8,  0, 12, 11,  9, 13,  7,  6,  5,  4,  3,  2],\n",
       "       [13,  4,  5,  2,  7,  6,  3, 12, 11, 10,  9,  8,  1,  0]])"
      ]
     },
     "execution_count": 111,
     "metadata": {},
     "output_type": "execute_result"
    }
   ],
   "source": [
    "order_centroids = km_2.cluster_centers_.argsort()[:, ::-1]\n",
    "order_centroids"
   ]
  },
  {
   "cell_type": "code",
   "execution_count": 114,
   "metadata": {
    "collapsed": false
   },
   "outputs": [
    {
     "name": "stdout",
     "output_type": "stream",
     "text": [
      "Cluster 0:\n",
      "[u'chili', u'ginger', u'mozzarella', u'oil', u'olive', u'onion', u'orzo', u'parsley', u'root', u'sauce', u'seeds', u'sesame', u'soy', u'tomato']\n"
     ]
    }
   ],
   "source": [
    "terms = vect.get_feature_names()\n",
    "\n",
    "print(\"Cluster %d:\" % cluster_pred)\n",
    "for ind in order_centroids[cluster_pred, :]:\n",
    "    print terms"
   ]
  },
  {
   "cell_type": "markdown",
   "metadata": {
    "collapsed": true
   },
   "source": [
    "### Real Function"
   ]
  },
  {
   "cell_type": "code",
   "execution_count": 48,
   "metadata": {
    "collapsed": true
   },
   "outputs": [],
   "source": [
    "# transform new word to vectorizer\n",
    "orzo = vect.transform(['garlic clove'])"
   ]
  },
  {
   "cell_type": "code",
   "execution_count": 49,
   "metadata": {
    "collapsed": false
   },
   "outputs": [],
   "source": [
    "# predict which cluster it falls into\n",
    "cluster_pred = km.predict(orzo)"
   ]
  },
  {
   "cell_type": "code",
   "execution_count": 50,
   "metadata": {
    "collapsed": false
   },
   "outputs": [
    {
     "data": {
      "text/plain": [
       "array([4], dtype=int32)"
      ]
     },
     "execution_count": 50,
     "metadata": {},
     "output_type": "execute_result"
    }
   ],
   "source": [
    "cluster_pred"
   ]
  },
  {
   "cell_type": "code",
   "execution_count": 51,
   "metadata": {
    "collapsed": false
   },
   "outputs": [
    {
     "name": "stdout",
     "output_type": "stream",
     "text": [
      " olive oil\n",
      " feta cheese\n",
      " virgin olive\n",
      " extra virgin\n",
      " garlic clove\n",
      " lemon juice\n",
      " black pepper\n",
      " cheese crumbles\n",
      " ground black\n",
      " dried oregano\n",
      " red pepper\n",
      " white wine\n",
      " fresh lemon\n",
      " oil garlic\n",
      " fresh parsley\n"
     ]
    }
   ],
   "source": [
    "for ind in order_centroids[cluster_pred[0], :15]:\n",
    "        print(' %s' % terms[ind])"
   ]
  },
  {
   "cell_type": "code",
   "execution_count": 31,
   "metadata": {
    "collapsed": true
   },
   "outputs": [],
   "source": [
    "order_centroids = km.cluster_centers_.argsort()[:, ::-1]\n",
    "\n",
    "def recommend_pantry(item):\n",
    "    #generate list of ingredient recommendations\n",
    "    transformed = vect.transform([item]) # transform to vectorizer\n",
    "    cluster_pred = km.predict(transformed) # predict cluster\n",
    "    for ind in order_centroids[cluster_pred[0], :15]:\n",
    "        print(' %s' % terms[ind])"
   ]
  },
  {
   "cell_type": "code",
   "execution_count": 67,
   "metadata": {
    "collapsed": false
   },
   "outputs": [
    {
     "name": "stdout",
     "output_type": "stream",
     "text": [
      " sour cream\n",
      " cheddar cheese\n",
      " black bean\n",
      " enchilada sauce\n",
      " corn tortilla\n",
      " chili powder\n",
      " ground beef\n",
      " flour tortilla\n",
      " shredded cheddar\n",
      " chicken enchilada\n",
      " taco seasoning\n",
      " ground cumin\n",
      " green chilies\n",
      " jack cheese\n",
      " monterey jack\n"
     ]
    }
   ],
   "source": [
    "recommend_pantry('black bean')"
   ]
  },
  {
   "cell_type": "code",
   "execution_count": null,
   "metadata": {
    "collapsed": true
   },
   "outputs": [],
   "source": []
  }
 ],
 "metadata": {
  "kernelspec": {
   "display_name": "Python 2",
   "language": "python",
   "name": "python2"
  },
  "language_info": {
   "codemirror_mode": {
    "name": "ipython",
    "version": 2
   },
   "file_extension": ".py",
   "mimetype": "text/x-python",
   "name": "python",
   "nbconvert_exporter": "python",
   "pygments_lexer": "ipython2",
   "version": "2.7.11"
  }
 },
 "nbformat": 4,
 "nbformat_minor": 0
}

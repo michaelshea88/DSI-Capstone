{
 "cells": [
  {
   "cell_type": "markdown",
   "metadata": {},
   "source": [
    "# Main Dishes, American, Pull #1"
   ]
  },
  {
   "cell_type": "code",
   "execution_count": 1,
   "metadata": {
    "collapsed": true
   },
   "outputs": [],
   "source": [
    "import json\n",
    "import requests\n",
    "import pandas as pd\n",
    "import numpy as np \n",
    "import re"
   ]
  },
  {
   "cell_type": "code",
   "execution_count": 2,
   "metadata": {
    "collapsed": true
   },
   "outputs": [],
   "source": [
    "# Course search terms\n",
    "allowedCourse = requests.get('http://api.yummly.com/v1/api/metadata/course?_app_id=e2b9bebc&_app_key=4193215272970d956cfd5384a08580a9')\n",
    "\n",
    "# Cuisine search terms\n",
    "allowedCuisine = requests.get('http://api.yummly.com/v1/api/metadata/cuisine?_app_id=e2b9bebc&_app_key=4193215272970d956cfd5384a08580a9')"
   ]
  },
  {
   "cell_type": "code",
   "execution_count": 3,
   "metadata": {
    "collapsed": false
   },
   "outputs": [
    {
     "name": "stdout",
     "output_type": "stream",
     "text": [
      "[u'course^course-Main Dishes', u'course^course-Desserts', u'course^course-Side Dishes', u'course^course-Appetizers', u'course^course-Salads', u'course^course-Breakfast and Brunch', u'course^course-Breads', u'course^course-Soups', u'course^course-Beverages', u'course^course-Condiments and Sauces', u'course^course-Cocktails', u'course^course-Snacks', u'course^course-Lunch']\n",
      "[u'cuisine^cuisine-american', u'cuisine^cuisine-kid-friendly', u'cuisine^cuisine-italian', u'cuisine^cuisine-asian', u'cuisine^cuisine-mexican', u'cuisine^cuisine-southern', u'cuisine^cuisine-french', u'cuisine^cuisine-southwestern', u'cuisine^cuisine-barbecue-bbq', u'cuisine^cuisine-indian', u'cuisine^cuisine-chinese', u'cuisine^cuisine-cajun', u'cuisine^cuisine-mediterranean', u'cuisine^cuisine-greek', u'cuisine^cuisine-english', u'cuisine^cuisine-spanish', u'cuisine^cuisine-thai', u'cuisine^cuisine-german', u'cuisine^cuisine-moroccan', u'cuisine^cuisine-irish', u'cuisine^cuisine-japanese', u'cuisine^cuisine-cuban', u'cuisine^cuisine-hawaiian', u'cuisine^cuisine-swedish', u'cuisine^cuisine-hungarian', u'cuisine^cuisine-portuguese']\n"
     ]
    }
   ],
   "source": [
    "# Slice crap off beggining and end\n",
    "response_course = allowedCourse.text[23:-2]\n",
    "response_cuisine = allowedCuisine.text[24:-2]\n",
    "\n",
    "# Print search terms\n",
    "course_list = json.loads(response_course)\n",
    "cuisine_list = json.loads(response_cuisine)\n",
    "print [x['searchValue'] for x in course_list]\n",
    "print [x['searchValue'] for x in cuisine_list]"
   ]
  },
  {
   "cell_type": "code",
   "execution_count": 4,
   "metadata": {
    "collapsed": true
   },
   "outputs": [],
   "source": [
    "url = 'http://api.yummly.com/v1/api/recipes?'\n",
    "headers = {'X-Yummly-App-ID':'e2b9bebc', 'X-Yummly-App-Key':'4193215272970d956cfd5384a08580a9'}"
   ]
  },
  {
   "cell_type": "code",
   "execution_count": 5,
   "metadata": {
    "collapsed": true
   },
   "outputs": [],
   "source": [
    "parameters = {'allowedCourse[]': 'course^course-Main Dishes', \n",
    "              'excludedCourse[]': ['course^course-Appetizers', 'course^course-Salads', \n",
    "                                   'course^course-Condiments and Sauces',\n",
    "                                   'course^course-Lunch', 'course^course-Soups', 'course^course-Snacks',\n",
    "                                   'course^course-Breakfast and Brunch', 'course^course-Side Dishes',],\n",
    "              'allowedCuisine[]': 'cuisine^cuisine-asian',\n",
    "              'excludedCuisine[]': ['cuisine^cuisine-american', 'cuisine^cuisine-italian', 'cuisine^cuisine-indian',\n",
    "                                    'cuisine^cuisine-mexican', 'cuisine^cuisine-mediterranean', 'cuisine^cuisine-chinese',\n",
    "                                   'cuisine^cuisine-japanese'],\n",
    "              'maxResult': 500,\n",
    "             'start': 1500}"
   ]
  },
  {
   "cell_type": "code",
   "execution_count": 9,
   "metadata": {
    "collapsed": false
   },
   "outputs": [
    {
     "data": {
      "text/plain": [
       "True"
      ]
     },
     "execution_count": 9,
     "metadata": {},
     "output_type": "execute_result"
    }
   ],
   "source": [
    "response = requests.get(url, headers=headers, params=parameters)\n",
    "response.status_code == 200"
   ]
  },
  {
   "cell_type": "code",
   "execution_count": 15,
   "metadata": {
    "collapsed": false
   },
   "outputs": [
    {
     "name": "stdout",
     "output_type": "stream",
     "text": [
      "I am a poop yo\n"
     ]
    }
   ],
   "source": [
    "print \"I am a po%s yo\" % 'op'"
   ]
  },
  {
   "cell_type": "code",
   "execution_count": 27,
   "metadata": {
    "collapsed": true
   },
   "outputs": [],
   "source": [
    "def get_search_terms(ID, KEY, term_type):\n",
    "    \n",
    "    '''Prints out search terms to choose from for the\n",
    "    'allowed_course', 'excluded_course', 'allowed_cuisine', \n",
    "    'excluded_cuisine' parameters of the make_api_call function.\n",
    "    The term_type parameter can be either 'course' or 'cuisine'.'''\n",
    "    \n",
    "    response = requests.get('http://api.yummly.com/v1/api/metadata/%s?_app_id=%s&_app_key=%s' % (term_type, ID, KEY))\n",
    "    if response.status_code == 200:\n",
    "        print \"Status code normal\"\n",
    "        # Slice junk off beggining and end because response is in JSONP\n",
    "        json_string = response.text[23:-2]\n",
    "        # Decode JSON\n",
    "        terms = json.loads(json_string)\n",
    "        # Print out only what you want, the list of terms\n",
    "        print [x['searchValue'] for x in terms]\n",
    "    else:\n",
    "        print \"Status code error: %r\" % response.status_code\n"
   ]
  },
  {
   "cell_type": "code",
   "execution_count": 28,
   "metadata": {
    "collapsed": false
   },
   "outputs": [
    {
     "name": "stdout",
     "output_type": "stream",
     "text": [
      "Status code normal\n",
      "[u'course^course-Main Dishes', u'course^course-Desserts', u'course^course-Side Dishes', u'course^course-Appetizers', u'course^course-Salads', u'course^course-Breakfast and Brunch', u'course^course-Breads', u'course^course-Soups', u'course^course-Beverages', u'course^course-Condiments and Sauces', u'course^course-Cocktails', u'course^course-Snacks', u'course^course-Lunch']\n"
     ]
    }
   ],
   "source": [
    "term_type = 'course'\n",
    "course_terms = get_search_terms(my_id, my_key, term_type)"
   ]
  },
  {
   "cell_type": "code",
   "execution_count": 11,
   "metadata": {
    "collapsed": false
   },
   "outputs": [],
   "source": [
    "def make_api_call(ID, KEY, allowed_course, excluded_course, allowed_cuisine, excluded_cuisine, max_result, start):\n",
    "    \n",
    "    '''Requests 500 recipes from the Yummly recipe API.\n",
    "    The parameters 'ID' and 'KEY' are API credentials,\n",
    "    'allowed_course', 'excluded course' 'allowed_cuisine' and\n",
    "    'exluded_cuisine' can be strings or lists. \n",
    "    For proper formatting for these, use the search_terms\n",
    "    function above.\n",
    "    If the 'start' parameter is 0, results 0-499 will \n",
    "    be returned.'''\n",
    "    \n",
    "    url = 'http://api.yummly.com/v1/api/recipes?'\n",
    "    headers = {'X-Yummly-App-ID':ID, 'X-Yummly-App-Key': KEY}\n",
    "    parameters = {'allowedCourse[]': allowed_course, \n",
    "                  'excludedCourse[]': excluded_course,\n",
    "                  'allowedCuisine[]': allowed_cuisine, \n",
    "                  'excludedCuisine[]': excluded_cuisine,\n",
    "                  'maxResult': max_result, \n",
    "                  'start': start}\n",
    "    response = requests.get(url, headers=headers, params=parameters)\n",
    "    if response.status_code == 200:\n",
    "        print \"Status code normal\"\n",
    "        return response.json()\n",
    "    else:\n",
    "        print \"Status code error: %r\" % response.status_code\n"
   ]
  },
  {
   "cell_type": "code",
   "execution_count": 12,
   "metadata": {
    "collapsed": true
   },
   "outputs": [],
   "source": [
    "my_id = 'e2b9bebc'\n",
    "my_key = '4193215272970d956cfd5384a08580a9'\n",
    "allowed_course = 'course^course-Appetizers'\n",
    "excluded_course = 'course^course-Main Dishes'\n",
    "allowed_cuisine = 'cuisine^cuisine-asian'\n",
    "excluded_cuisine = ['cuisine^cuisine-american', 'cuisine^cuisine-italian', 'cuisine^cuisine-indian',\n",
    "                                    'cuisine^cuisine-mexican', 'cuisine^cuisine-mediterranean', 'cuisine^cuisine-chinese',\n",
    "                                   'cuisine^cuisine-japanese']\n",
    "max_result = 100\n",
    "start = 500"
   ]
  },
  {
   "cell_type": "code",
   "execution_count": 13,
   "metadata": {
    "collapsed": false
   },
   "outputs": [
    {
     "name": "stdout",
     "output_type": "stream",
     "text": [
      "Status code normal\n"
     ]
    }
   ],
   "source": [
    "api_call = make_api_call(ID=my_id, KEY=my_key, \n",
    "                         allowed_course=allowed_course, excluded_course=excluded_course,\n",
    "                        allowed_cuisine=allowed_cuisine, excluded_cuisine=excluded_cuisine,\n",
    "                        max_result=max_result, start=start)"
   ]
  },
  {
   "cell_type": "code",
   "execution_count": 7,
   "metadata": {
    "collapsed": false
   },
   "outputs": [
    {
     "name": "stdout",
     "output_type": "stream",
     "text": [
      "Data type: <type 'dict'>\n",
      "Response keys: [u'matches', u'totalMatchCount', u'attribution', u'facetCounts', u'criteria']\n",
      "Total match count: 12476\n"
     ]
    }
   ],
   "source": [
    "# Decode JSON\n",
    "api_call = response.json()\n",
    "print \"Data type:\", type(api_call)\n",
    "\n",
    "# Print keys\n",
    "response_keys = api_call.keys()\n",
    "print \"Response keys:\", response_keys\n",
    "\n",
    "# Print total match count\n",
    "print \"Total match count:\", api_call['totalMatchCount']"
   ]
  },
  {
   "cell_type": "code",
   "execution_count": 22,
   "metadata": {
    "collapsed": false
   },
   "outputs": [
    {
     "data": {
      "text/plain": [
       "{u'attributes': {u'course': [u'Main Dishes'],\n",
       "  u'cuisine': [u'Barbecue', u'Asian']},\n",
       " u'flavors': {u'bitter': 0.6666666666666666,\n",
       "  u'meaty': 0.8333333333333334,\n",
       "  u'piquant': 0.16666666666666666,\n",
       "  u'salty': 0.8333333333333334,\n",
       "  u'sour': 0.16666666666666666,\n",
       "  u'sweet': 0.3333333333333333},\n",
       " u'id': u'Asian-grilled-chicken-370335',\n",
       " u'imageUrlsBySize': {u'90': u'http://lh3.ggpht.com/Xm8e9JYH_oNwJKC45AVPrzRF-uSw0pUNNW-cjHswou3NFfD7XIimN8SnIrQTUVSwASWN-jb7lKXaYYoBK1A1oJY=s90-c'},\n",
       " u'ingredients': [u'brown sugar',\n",
       "  u'soy sauce',\n",
       "  u'lime juice',\n",
       "  u'cayenne pepper',\n",
       "  u'curry powder',\n",
       "  u'garlic cloves',\n",
       "  u'fresh ginger',\n",
       "  u'boneless skinless chicken thighs'],\n",
       " u'rating': 4,\n",
       " u'recipeName': u'Asian BBQ Chicken',\n",
       " u'smallImageUrls': [u'http://lh4.ggpht.com/t_PEaQ9B5YVWGq3hNy26DiyzW7kZb925haTvLHny9iMcvft8WAE-ShL51tXZRA9_9rfPRA3CLPy27v-h4qI=s90'],\n",
       " u'sourceDisplayName': u'Real Mom Kitchen',\n",
       " u'totalTimeInSeconds': 2100}"
      ]
     },
     "execution_count": 22,
     "metadata": {},
     "output_type": "execute_result"
    }
   ],
   "source": [
    "api_call['matches'][488]"
   ]
  },
  {
   "cell_type": "code",
   "execution_count": 23,
   "metadata": {
    "collapsed": false
   },
   "outputs": [],
   "source": [
    "# Extract data from decoded JSON, store in list of dicts\n",
    "main_list = [] \n",
    "for search_result in api_call['matches']:\n",
    "    sub_dict = {}\n",
    "    sub_dict['id'] = search_result['id']\n",
    "    sub_dict['recipe_name'] = search_result['recipeName']\n",
    "    sub_dict['source_display_name'] = search_result['sourceDisplayName']\n",
    "    sub_dict['course'] = search_result['attributes'].get('course')\n",
    "    sub_dict['cuisine'] = search_result['attributes'].get('cuisine')\n",
    "    sub_dict['ingredient_list'] = search_result['ingredients']\n",
    "    \n",
    "    main_list.append(sub_dict)"
   ]
  },
  {
   "cell_type": "code",
   "execution_count": 25,
   "metadata": {
    "collapsed": true
   },
   "outputs": [],
   "source": [
    "just_a_test = pd.DataFrame(main_list)"
   ]
  },
  {
   "cell_type": "code",
   "execution_count": null,
   "metadata": {
    "collapsed": false
   },
   "outputs": [],
   "source": [
    "# df_main.to_csv('asian/main_as4.csv', encoding ='utf-8')"
   ]
  },
  {
   "cell_type": "code",
   "execution_count": 282,
   "metadata": {
    "collapsed": false
   },
   "outputs": [],
   "source": [
    "#forming lists to create dataframes of the features we want. \n",
    "main_list = []\n",
    "ingredients_list = []\n",
    "attributes_list = []\n",
    "flavors_dict = {}\n",
    "\n",
    "for food in api_call['matches']:\n",
    "\n",
    "    _d1 = {}\n",
    "    _d1['id'] = food['id']\n",
    "    _d1['rating'] = food['rating']\n",
    "    _d1['recipeName'] = food['recipeName']\n",
    "    _d1['sourceDisplayName'] = food['sourceDisplayName']\n",
    "    \n",
    "    main_list.append(_d1)\n",
    "    \n",
    "    _d2 = {}\n",
    "    _d2['id'] = food['id']\n",
    "    _d2['course'] = 'Main Dish'\n",
    "    _d2['ingredient_list'] = food['ingredients']\n",
    "    for i in food['ingredients']:\n",
    "        i = i.lower() # additional code to conver to lowercase\n",
    "        i = re.sub(r'\\d+%\\s', '', i) # additional code to remove 1%, 2%, etc\n",
    "        i = re.sub(r'\\xae', '', i) # remove '\\xae' characters\n",
    "        i = re.sub(r'shredded\\s', '', i)\n",
    "        i = re.sub(r'chopped\\s', '', i)\n",
    "        i = re.sub(r'diced\\s', '', i)\n",
    "        i = re.sub(r'crumbled\\s', '', i)\n",
    "        i = re.sub(r'fresh\\s', '', i)\n",
    "        i = re.sub(r'grated\\s', '', i)\n",
    "        i = re.sub(r'fat free\\s', '', i)\n",
    "        i = re.sub(r'boneless\\s', '', i)\n",
    "        i = re.sub(r'boneless skinless\\s', '', i)\n",
    "        i = re.sub(r'minced\\s', '', i)\n",
    "        i = re.sub(r'sliced\\s', '', i)\n",
    "        i = re.sub(r'(?!ground beef)ground ', '', i)\n",
    "        i = re.sub(r'^dried\\s', '', i)\n",
    "        i = re.sub(r'^cooked\\s', '', i)\n",
    "        \n",
    "        _d2[i] = 1\n",
    "    ingredients_list.append(_d2)\n",
    "\n",
    "    _d3 = {}\n",
    "    _d3['id'] = food['id']\n",
    "    for k, v in food['attributes'].items():\n",
    "        for i in v:\n",
    "            _d3[i] = 1\n",
    "    attributes_list.append(_d3)\n",
    "    \n",
    "\n",
    "    flavors_dict[food.get('id')] = food.get('flavors')"
   ]
  },
  {
   "cell_type": "code",
   "execution_count": 283,
   "metadata": {
    "collapsed": false
   },
   "outputs": [],
   "source": [
    "# read in dictionary for course and cuisine and create list of possible values for each\n",
    "course_df = pd.read_csv('../datasets/master_courses.csv', names=['course'])\n",
    "cuisine_df = pd.read_csv('../datasets/master_cuisines.csv', names=['cuisine'])\n",
    "\n",
    "course_list = course_df.course\n",
    "cuisine_list= cuisine_df.cuisine"
   ]
  },
  {
   "cell_type": "code",
   "execution_count": 284,
   "metadata": {
    "collapsed": true
   },
   "outputs": [],
   "source": [
    "#create dictionary of cuisine and course for each recipe\n",
    "course_dict={}\n",
    "cuisine_dict={}\n",
    "for food in api_call['matches']:\n",
    "    course_dict[food.get('id')]= food['attributes'].get('course')\n",
    "    cuisine_dict[food.get('id')]= food['attributes'].get('cuisine')\n",
    "    \n",
    "_courses= {}\n",
    "\n",
    "for k, v in course_dict.iteritems():\n",
    "    course_val = {}\n",
    "    for course in course_list:\n",
    "        try:\n",
    "            if course in v :\n",
    "                course_val[course] = 1\n",
    "            else:\n",
    "                course_val[course] = 0\n",
    "        except TypeError:\n",
    "            course_val[course] = 0\n",
    "    \n",
    "        _courses[k] = course_val\n",
    "        \n",
    "_cuisines= {}       \n",
    "\n",
    "for k, v in cuisine_dict.iteritems():\n",
    "    cuisine_val = {}\n",
    "    for course in cuisine_list:\n",
    "        try:\n",
    "            if course in v :\n",
    "                cuisine_val[course] = 1\n",
    "            else:\n",
    "                cuisine_val[course] = 0\n",
    "        except TypeError:\n",
    "            cuisine_val[course] = 0\n",
    "    \n",
    "        _cuisines[k] = cuisine_val"
   ]
  },
  {
   "cell_type": "markdown",
   "metadata": {},
   "source": [
    "## Recipe Detail Query"
   ]
  },
  {
   "cell_type": "code",
   "execution_count": 285,
   "metadata": {
    "collapsed": false
   },
   "outputs": [],
   "source": [
    "#get list of recipe ids\n",
    "recipe_ids=[]\n",
    "for recipe in api_call['matches']:\n",
    "    recipe_ids.append(recipe['id'])"
   ]
  },
  {
   "cell_type": "code",
   "execution_count": 286,
   "metadata": {
    "collapsed": true
   },
   "outputs": [],
   "source": [
    "# second api call to get other features for each recipe\n",
    "key_id= '_app_id=e2b9bebc&_app_key=4193215272970d956cfd5384a08580a9'\n",
    "url='http://api.yummly.com/v1/api/recipe/'"
   ]
  },
  {
   "cell_type": "code",
   "execution_count": 287,
   "metadata": {
    "collapsed": false
   },
   "outputs": [],
   "source": [
    "# retrieve other features for all recipes\n",
    "\n",
    "def get_recipe(_id):\n",
    "    response = requests.get(url + _id + '?' + key_id)\n",
    "    return response.json()\n",
    "\n",
    "recipes=[]\n",
    "for _id in recipe_ids :\n",
    "    recipes.append(get_recipe(_id))"
   ]
  },
  {
   "cell_type": "code",
   "execution_count": 288,
   "metadata": {
    "collapsed": true
   },
   "outputs": [],
   "source": [
    "#for each recipe create a new dictionary of selected attributes and append into a list\n",
    "\n",
    "recipe_details=[]\n",
    "for recipe in recipes:\n",
    "    _dict={}\n",
    "    _dict['id']=recipe['id']\n",
    "    _dict['ingredientCount']= len(recipe['ingredientLines'])\n",
    "    _dict['numberOfServings']= recipe['numberOfServings']\n",
    "    _dict['prepTimeInSeconds'] = recipe.get('prepTimeInSeconds')\n",
    "    _dict['cookTimeInSeconds'] = recipe.get('cookTimeInSeconds')\n",
    "    _dict['totalTimeInSeconds']= recipe.get('totalTimeInSeconds')\n",
    "    \n",
    "    \n",
    "    recipe_details.append(_dict)"
   ]
  },
  {
   "cell_type": "code",
   "execution_count": 289,
   "metadata": {
    "collapsed": false
   },
   "outputs": [],
   "source": [
    "#create dataframes, arrange column index and save into csv\n",
    "# df_main = pd.DataFrame(main_list)\n",
    "# df_main.to_csv('asian/main_as4.csv', encoding ='utf-8')\n",
    "\n",
    "# df_ingredients = pd.DataFrame(ingredients_list)\n",
    "# df_ingredients = df_ingredients.fillna(0)\n",
    "# cols = list(df_ingredients)\n",
    "# cols.insert(0, cols.pop(cols.index('id')))\n",
    "# cols.insert(1, cols.pop(cols.index('course')))\n",
    "# df_ingredients= df_ingredients.ix[:,cols]\n",
    "# df_ingredients.to_csv('asian/main_as_ingredients4.csv', encoding ='utf-8')\n",
    "\n",
    "# df_attributes = pd.DataFrame(attributes_list)\n",
    "# df_attributes = df_attributes.fillna(0)\n",
    "# cols = list(df_attributes)\n",
    "# cols.insert(0, cols.pop(cols.index('id')))\n",
    "# df_attributes = df_attributes.ix[:,cols]\n",
    "# df_attributes.to_csv('asian/main_as_attributes4.csv', encoding= 'utf-8')\n",
    "\n",
    "# df_flavors = pd.DataFrame(flavors_dict).transpose()\n",
    "# df_flavors.reset_index(level=0, inplace=True)\n",
    "# df_flavors.to_csv('asian/main_as_flavors4.csv', encoding= 'utf-8')\n",
    "\n",
    "# df_courses = pd.DataFrame(_courses).transpose()\n",
    "# df_courses.reset_index(level=0, inplace=True)\n",
    "# df_courses.to_csv('asian/main_as_courses4.csv', encoding= 'utf-8')\n",
    "\n",
    "# df_cuisines = pd.DataFrame(_cuisines).transpose()\n",
    "# df_cuisines.reset_index(level=0, inplace=True)\n",
    "# df_cuisines.to_csv('asian/main_as_cuisines4.csv', encoding= 'utf-8')\n",
    "\n",
    "# df_details=pd.DataFrame(recipe_details)\n",
    "# cols = list(df_details)\n",
    "# cols.insert(0, cols.pop(cols.index('id')))\n",
    "# df_details=df_details.ix[:,cols]\n",
    "# df_details.to_csv('asian/main_as_details4.csv', encoding= 'utf-8')"
   ]
  },
  {
   "cell_type": "code",
   "execution_count": null,
   "metadata": {
    "collapsed": true
   },
   "outputs": [],
   "source": []
  }
 ],
 "metadata": {
  "kernelspec": {
   "display_name": "Python 2",
   "language": "python",
   "name": "python2"
  },
  "language_info": {
   "codemirror_mode": {
    "name": "ipython",
    "version": 2
   },
   "file_extension": ".py",
   "mimetype": "text/x-python",
   "name": "python",
   "nbconvert_exporter": "python",
   "pygments_lexer": "ipython2",
   "version": "2.7.11"
  }
 },
 "nbformat": 4,
 "nbformat_minor": 0
}

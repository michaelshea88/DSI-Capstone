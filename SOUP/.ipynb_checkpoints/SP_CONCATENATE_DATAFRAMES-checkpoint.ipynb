{
 "cells": [
  {
   "cell_type": "code",
   "execution_count": 1,
   "metadata": {
    "collapsed": true
   },
   "outputs": [],
   "source": [
    "import pandas as pd\n",
    "import numpy as np"
   ]
  },
  {
   "cell_type": "markdown",
   "metadata": {},
   "source": [
    "# Soup"
   ]
  },
  {
   "cell_type": "markdown",
   "metadata": {},
   "source": [
    "* ***Main***"
   ]
  },
  {
   "cell_type": "code",
   "execution_count": 53,
   "metadata": {
    "collapsed": false
   },
   "outputs": [],
   "source": [
    "df = pd.read_csv('SP_main.csv')\n",
    "df1 = pd.read_csv('SP_main_1.csv')\n",
    "df2 = pd.read_csv('SP_main_2.csv')\n",
    "df3 = pd.read_csv('SP_main_3.csv')"
   ]
  },
  {
   "cell_type": "code",
   "execution_count": 54,
   "metadata": {
    "collapsed": false
   },
   "outputs": [
    {
     "name": "stdout",
     "output_type": "stream",
     "text": [
      "(500, 5)\n"
     ]
    },
    {
     "data": {
      "text/html": [
       "<div>\n",
       "<table border=\"1\" class=\"dataframe\">\n",
       "  <thead>\n",
       "    <tr style=\"text-align: right;\">\n",
       "      <th></th>\n",
       "      <th>Unnamed: 0</th>\n",
       "      <th>id</th>\n",
       "      <th>rating</th>\n",
       "      <th>recipeName</th>\n",
       "      <th>sourceDisplayName</th>\n",
       "    </tr>\n",
       "  </thead>\n",
       "  <tbody>\n",
       "    <tr>\n",
       "      <th>0</th>\n",
       "      <td>0</td>\n",
       "      <td>Cheesy-Cauliflower-Soup-1710335</td>\n",
       "      <td>4</td>\n",
       "      <td>Cheesy Cauliflower Soup</td>\n",
       "      <td>Souffles and Sawdust</td>\n",
       "    </tr>\n",
       "    <tr>\n",
       "      <th>1</th>\n",
       "      <td>1</td>\n",
       "      <td>Cauliflower-Chowder-1709202</td>\n",
       "      <td>4</td>\n",
       "      <td>Cauliflower Chowder</td>\n",
       "      <td>Damn Delicious</td>\n",
       "    </tr>\n",
       "    <tr>\n",
       "      <th>2</th>\n",
       "      <td>2</td>\n",
       "      <td>Creamy-White-Bean-Tomato-Soup---perfect-for-an...</td>\n",
       "      <td>4</td>\n",
       "      <td>Creamy White Bean Tomato Soup - perfect for an...</td>\n",
       "      <td>Vegetarian Mamma</td>\n",
       "    </tr>\n",
       "  </tbody>\n",
       "</table>\n",
       "</div>"
      ],
      "text/plain": [
       "   Unnamed: 0                                                 id  rating  \\\n",
       "0           0                    Cheesy-Cauliflower-Soup-1710335       4   \n",
       "1           1                        Cauliflower-Chowder-1709202       4   \n",
       "2           2  Creamy-White-Bean-Tomato-Soup---perfect-for-an...       4   \n",
       "\n",
       "                                          recipeName     sourceDisplayName  \n",
       "0                            Cheesy Cauliflower Soup  Souffles and Sawdust  \n",
       "1                                Cauliflower Chowder        Damn Delicious  \n",
       "2  Creamy White Bean Tomato Soup - perfect for an...      Vegetarian Mamma  "
      ]
     },
     "execution_count": 54,
     "metadata": {},
     "output_type": "execute_result"
    }
   ],
   "source": [
    "print df.shape\n",
    "df.head(3)\n"
   ]
  },
  {
   "cell_type": "code",
   "execution_count": 55,
   "metadata": {
    "collapsed": true
   },
   "outputs": [],
   "source": [
    "df = df.drop('Unnamed: 0', 1)"
   ]
  },
  {
   "cell_type": "code",
   "execution_count": 56,
   "metadata": {
    "collapsed": false
   },
   "outputs": [
    {
     "name": "stdout",
     "output_type": "stream",
     "text": [
      "(500, 5)\n"
     ]
    },
    {
     "data": {
      "text/html": [
       "<div>\n",
       "<table border=\"1\" class=\"dataframe\">\n",
       "  <thead>\n",
       "    <tr style=\"text-align: right;\">\n",
       "      <th></th>\n",
       "      <th>id</th>\n",
       "      <th>rating</th>\n",
       "      <th>recipeName</th>\n",
       "      <th>sourceDisplayName</th>\n",
       "    </tr>\n",
       "  </thead>\n",
       "  <tbody>\n",
       "    <tr>\n",
       "      <th>0</th>\n",
       "      <td>Coconut-chicken-soup-345533</td>\n",
       "      <td>5</td>\n",
       "      <td>Coconut Chicken Soup</td>\n",
       "      <td>Elana's Pantry</td>\n",
       "    </tr>\n",
       "    <tr>\n",
       "      <th>1</th>\n",
       "      <td>Okra-Soup-1707002</td>\n",
       "      <td>4</td>\n",
       "      <td>Okra Soup</td>\n",
       "      <td>Heghine</td>\n",
       "    </tr>\n",
       "    <tr>\n",
       "      <th>2</th>\n",
       "      <td>Vegetable-_-Bean-Soup-1634117</td>\n",
       "      <td>4</td>\n",
       "      <td>Vegetable &amp; Bean Soup</td>\n",
       "      <td>Food Hunter</td>\n",
       "    </tr>\n",
       "  </tbody>\n",
       "</table>\n",
       "</div>"
      ],
      "text/plain": [
       "                              id  rating             recipeName  \\\n",
       "0    Coconut-chicken-soup-345533       5   Coconut Chicken Soup   \n",
       "1              Okra-Soup-1707002       4              Okra Soup   \n",
       "2  Vegetable-_-Bean-Soup-1634117       4  Vegetable & Bean Soup   \n",
       "\n",
       "  sourceDisplayName  \n",
       "0    Elana's Pantry  \n",
       "1           Heghine  \n",
       "2       Food Hunter  "
      ]
     },
     "execution_count": 56,
     "metadata": {},
     "output_type": "execute_result"
    }
   ],
   "source": [
    "print df1.shape\n",
    "df1 = df1.drop('Unnamed: 0', 1)\n",
    "df1.head(3)"
   ]
  },
  {
   "cell_type": "code",
   "execution_count": 57,
   "metadata": {
    "collapsed": false
   },
   "outputs": [
    {
     "name": "stdout",
     "output_type": "stream",
     "text": [
      "(500, 5)\n"
     ]
    },
    {
     "data": {
      "text/html": [
       "<div>\n",
       "<table border=\"1\" class=\"dataframe\">\n",
       "  <thead>\n",
       "    <tr style=\"text-align: right;\">\n",
       "      <th></th>\n",
       "      <th>id</th>\n",
       "      <th>rating</th>\n",
       "      <th>recipeName</th>\n",
       "      <th>sourceDisplayName</th>\n",
       "    </tr>\n",
       "  </thead>\n",
       "  <tbody>\n",
       "    <tr>\n",
       "      <th>0</th>\n",
       "      <td>Healthy-Carrot-_-Ginger-Soup-Maker-Soup-1521247</td>\n",
       "      <td>4</td>\n",
       "      <td>Healthy Carrot &amp; Ginger Soup Maker Soup</td>\n",
       "      <td>Recipe This</td>\n",
       "    </tr>\n",
       "    <tr>\n",
       "      <th>1</th>\n",
       "      <td>Italian-Orzo-Spinach-Soup-682577</td>\n",
       "      <td>4</td>\n",
       "      <td>Italian Orzo Spinach Soup</td>\n",
       "      <td>Gimme Some Oven</td>\n",
       "    </tr>\n",
       "    <tr>\n",
       "      <th>2</th>\n",
       "      <td>Creamy-Cauliflower-Soup-1625274</td>\n",
       "      <td>4</td>\n",
       "      <td>Creamy Cauliflower Soup</td>\n",
       "      <td>Hello Sweetie</td>\n",
       "    </tr>\n",
       "  </tbody>\n",
       "</table>\n",
       "</div>"
      ],
      "text/plain": [
       "                                                id  rating  \\\n",
       "0  Healthy-Carrot-_-Ginger-Soup-Maker-Soup-1521247       4   \n",
       "1                 Italian-Orzo-Spinach-Soup-682577       4   \n",
       "2                  Creamy-Cauliflower-Soup-1625274       4   \n",
       "\n",
       "                                recipeName sourceDisplayName  \n",
       "0  Healthy Carrot & Ginger Soup Maker Soup       Recipe This  \n",
       "1                Italian Orzo Spinach Soup   Gimme Some Oven  \n",
       "2                  Creamy Cauliflower Soup     Hello Sweetie  "
      ]
     },
     "execution_count": 57,
     "metadata": {},
     "output_type": "execute_result"
    }
   ],
   "source": [
    "print df2.shape\n",
    "df2 = df2.drop('Unnamed: 0', 1)\n",
    "df2.head(3)"
   ]
  },
  {
   "cell_type": "code",
   "execution_count": 58,
   "metadata": {
    "collapsed": false
   },
   "outputs": [
    {
     "name": "stdout",
     "output_type": "stream",
     "text": [
      "(500, 5)\n"
     ]
    },
    {
     "data": {
      "text/html": [
       "<div>\n",
       "<table border=\"1\" class=\"dataframe\">\n",
       "  <thead>\n",
       "    <tr style=\"text-align: right;\">\n",
       "      <th></th>\n",
       "      <th>id</th>\n",
       "      <th>rating</th>\n",
       "      <th>recipeName</th>\n",
       "      <th>sourceDisplayName</th>\n",
       "    </tr>\n",
       "  </thead>\n",
       "  <tbody>\n",
       "    <tr>\n",
       "      <th>0</th>\n",
       "      <td>Best-tomato-soup-345204</td>\n",
       "      <td>5</td>\n",
       "      <td>Best Tomato Soup</td>\n",
       "      <td>Lottie + Doof</td>\n",
       "    </tr>\n",
       "    <tr>\n",
       "      <th>1</th>\n",
       "      <td>Thai-Green-Curry-Spinach-Soup-763031</td>\n",
       "      <td>4</td>\n",
       "      <td>Thai Green Curry Spinach Soup</td>\n",
       "      <td>Amuse Your Bouche</td>\n",
       "    </tr>\n",
       "    <tr>\n",
       "      <th>2</th>\n",
       "      <td>Spinach-tofu-soup-348926</td>\n",
       "      <td>5</td>\n",
       "      <td>Spinach-Tofu Soup</td>\n",
       "      <td>Every Day with Rachael Ray</td>\n",
       "    </tr>\n",
       "  </tbody>\n",
       "</table>\n",
       "</div>"
      ],
      "text/plain": [
       "                                     id  rating  \\\n",
       "0               Best-tomato-soup-345204       5   \n",
       "1  Thai-Green-Curry-Spinach-Soup-763031       4   \n",
       "2              Spinach-tofu-soup-348926       5   \n",
       "\n",
       "                      recipeName           sourceDisplayName  \n",
       "0               Best Tomato Soup               Lottie + Doof  \n",
       "1  Thai Green Curry Spinach Soup           Amuse Your Bouche  \n",
       "2              Spinach-Tofu Soup  Every Day with Rachael Ray  "
      ]
     },
     "execution_count": 58,
     "metadata": {},
     "output_type": "execute_result"
    }
   ],
   "source": [
    "print df3.shape\n",
    "df3 = df3.drop('Unnamed: 0', 1)\n",
    "df3.head(3)"
   ]
  },
  {
   "cell_type": "code",
   "execution_count": 59,
   "metadata": {
    "collapsed": true
   },
   "outputs": [],
   "source": [
    "#concatenate the main tables. \n",
    "SP_main= pd.concat([df, df1, df2, df3])\n",
    "#create a new dataframe with selected columns\n",
    "SP_main_reduced = SP_main.drop(['recipeName', 'sourceDisplayName'], axis = 1)"
   ]
  },
  {
   "cell_type": "code",
   "execution_count": 60,
   "metadata": {
    "collapsed": false
   },
   "outputs": [
    {
     "name": "stdout",
     "output_type": "stream",
     "text": [
      "(2000, 4)\n"
     ]
    },
    {
     "data": {
      "text/html": [
       "<div>\n",
       "<table border=\"1\" class=\"dataframe\">\n",
       "  <thead>\n",
       "    <tr style=\"text-align: right;\">\n",
       "      <th></th>\n",
       "      <th>id</th>\n",
       "      <th>rating</th>\n",
       "      <th>recipeName</th>\n",
       "      <th>sourceDisplayName</th>\n",
       "    </tr>\n",
       "  </thead>\n",
       "  <tbody>\n",
       "    <tr>\n",
       "      <th>203</th>\n",
       "      <td>0_-of-the-calories_-Beet-soup-1684369</td>\n",
       "      <td>4</td>\n",
       "      <td>0% of the calories! Beet soup</td>\n",
       "      <td>Good food. Best Recipes</td>\n",
       "    </tr>\n",
       "    <tr>\n",
       "      <th>69</th>\n",
       "      <td>10-Minute-Creamy-Cauliflower-Soup-988293</td>\n",
       "      <td>4</td>\n",
       "      <td>10 Minute Creamy Cauliflower Soup</td>\n",
       "      <td>Super Healthy Kids</td>\n",
       "    </tr>\n",
       "    <tr>\n",
       "      <th>136</th>\n",
       "      <td>10-Minute-Paleo-Tomato-Soup-1006193</td>\n",
       "      <td>4</td>\n",
       "      <td>10-Minute Paleo Tomato Soup</td>\n",
       "      <td>Cook Eat Paleo</td>\n",
       "    </tr>\n",
       "  </tbody>\n",
       "</table>\n",
       "</div>"
      ],
      "text/plain": [
       "                                           id  rating  \\\n",
       "203     0_-of-the-calories_-Beet-soup-1684369       4   \n",
       "69   10-Minute-Creamy-Cauliflower-Soup-988293       4   \n",
       "136       10-Minute-Paleo-Tomato-Soup-1006193       4   \n",
       "\n",
       "                            recipeName        sourceDisplayName  \n",
       "203      0% of the calories! Beet soup  Good food. Best Recipes  \n",
       "69   10 Minute Creamy Cauliflower Soup       Super Healthy Kids  \n",
       "136        10-Minute Paleo Tomato Soup           Cook Eat Paleo  "
      ]
     },
     "execution_count": 60,
     "metadata": {},
     "output_type": "execute_result"
    }
   ],
   "source": [
    "#peek at dataframe\n",
    "print SP_main.shape\n",
    "SP_main = SP_main.sort_values(by = 'id')\n",
    "SP_main.head(3)"
   ]
  },
  {
   "cell_type": "code",
   "execution_count": 61,
   "metadata": {
    "collapsed": false
   },
   "outputs": [
    {
     "name": "stdout",
     "output_type": "stream",
     "text": [
      "True\n",
      "True\n"
     ]
    },
    {
     "data": {
      "text/plain": [
       "(1998, 4)"
      ]
     },
     "execution_count": 61,
     "metadata": {},
     "output_type": "execute_result"
    }
   ],
   "source": [
    "for i in SP_main.duplicated('id'):\n",
    "    if i == True:\n",
    "        print i\n",
    "SP_main = SP_main.drop_duplicates('id')\n",
    "SP_main.shape"
   ]
  },
  {
   "cell_type": "code",
   "execution_count": 62,
   "metadata": {
    "collapsed": true
   },
   "outputs": [],
   "source": [
    "fdf = pd.read_csv('SP_flavors.csv')\n",
    "fdf1 = pd.read_csv('SP_flavors_1.csv')\n",
    "fdf2 = pd.read_csv('SP_flavors_2.csv')\n",
    "fdf3 = pd.read_csv('SP_flavors_3.csv')"
   ]
  },
  {
   "cell_type": "code",
   "execution_count": 63,
   "metadata": {
    "collapsed": false
   },
   "outputs": [
    {
     "name": "stdout",
     "output_type": "stream",
     "text": [
      "(500, 8)\n"
     ]
    },
    {
     "data": {
      "text/html": [
       "<div>\n",
       "<table border=\"1\" class=\"dataframe\">\n",
       "  <thead>\n",
       "    <tr style=\"text-align: right;\">\n",
       "      <th></th>\n",
       "      <th>id</th>\n",
       "      <th>bitter</th>\n",
       "      <th>meaty</th>\n",
       "      <th>piquant</th>\n",
       "      <th>salty</th>\n",
       "      <th>sour</th>\n",
       "      <th>sweet</th>\n",
       "    </tr>\n",
       "  </thead>\n",
       "  <tbody>\n",
       "    <tr>\n",
       "      <th>0</th>\n",
       "      <td>0_-of-the-calories_-Beet-soup-1684369</td>\n",
       "      <td>0.166667</td>\n",
       "      <td>0.166667</td>\n",
       "      <td>0.0</td>\n",
       "      <td>0.166667</td>\n",
       "      <td>0.833333</td>\n",
       "      <td>0.333333</td>\n",
       "    </tr>\n",
       "    <tr>\n",
       "      <th>1</th>\n",
       "      <td>20-Minute-Broccoli-Cheese-Soup-1311351</td>\n",
       "      <td>0.166667</td>\n",
       "      <td>0.166667</td>\n",
       "      <td>0.0</td>\n",
       "      <td>0.333333</td>\n",
       "      <td>0.833333</td>\n",
       "      <td>0.166667</td>\n",
       "    </tr>\n",
       "    <tr>\n",
       "      <th>2</th>\n",
       "      <td>20-Minute-Homemade-Chicken-Noodle-Soup-1278881</td>\n",
       "      <td>0.166667</td>\n",
       "      <td>0.166667</td>\n",
       "      <td>0.0</td>\n",
       "      <td>0.166667</td>\n",
       "      <td>0.166667</td>\n",
       "      <td>0.166667</td>\n",
       "    </tr>\n",
       "  </tbody>\n",
       "</table>\n",
       "</div>"
      ],
      "text/plain": [
       "                                               id    bitter     meaty  \\\n",
       "0           0_-of-the-calories_-Beet-soup-1684369  0.166667  0.166667   \n",
       "1          20-Minute-Broccoli-Cheese-Soup-1311351  0.166667  0.166667   \n",
       "2  20-Minute-Homemade-Chicken-Noodle-Soup-1278881  0.166667  0.166667   \n",
       "\n",
       "   piquant     salty      sour     sweet  \n",
       "0      0.0  0.166667  0.833333  0.333333  \n",
       "1      0.0  0.333333  0.833333  0.166667  \n",
       "2      0.0  0.166667  0.166667  0.166667  "
      ]
     },
     "execution_count": 63,
     "metadata": {},
     "output_type": "execute_result"
    }
   ],
   "source": [
    "print fdf.shape\n",
    "fdf = fdf.drop('Unnamed: 0', 1)\n",
    "fdf = fdf.rename(columns = {'index':'id'})\n",
    "fdf.head(3)"
   ]
  },
  {
   "cell_type": "code",
   "execution_count": 64,
   "metadata": {
    "collapsed": false
   },
   "outputs": [
    {
     "name": "stdout",
     "output_type": "stream",
     "text": [
      "(500, 8)\n"
     ]
    },
    {
     "data": {
      "text/html": [
       "<div>\n",
       "<table border=\"1\" class=\"dataframe\">\n",
       "  <thead>\n",
       "    <tr style=\"text-align: right;\">\n",
       "      <th></th>\n",
       "      <th>id</th>\n",
       "      <th>bitter</th>\n",
       "      <th>meaty</th>\n",
       "      <th>piquant</th>\n",
       "      <th>salty</th>\n",
       "      <th>sour</th>\n",
       "      <th>sweet</th>\n",
       "    </tr>\n",
       "  </thead>\n",
       "  <tbody>\n",
       "    <tr>\n",
       "      <th>0</th>\n",
       "      <td>10-Minute-Creamy-Cauliflower-Soup-988293</td>\n",
       "      <td>0.500000</td>\n",
       "      <td>0.166667</td>\n",
       "      <td>0.000000</td>\n",
       "      <td>0.333333</td>\n",
       "      <td>0.333333</td>\n",
       "      <td>0.333333</td>\n",
       "    </tr>\n",
       "    <tr>\n",
       "      <th>1</th>\n",
       "      <td>10-Minute-Paleo-Tomato-Soup-1006193</td>\n",
       "      <td>0.333333</td>\n",
       "      <td>0.166667</td>\n",
       "      <td>0.166667</td>\n",
       "      <td>0.166667</td>\n",
       "      <td>0.500000</td>\n",
       "      <td>0.166667</td>\n",
       "    </tr>\n",
       "    <tr>\n",
       "      <th>2</th>\n",
       "      <td>13-Bean-Soup-1682837</td>\n",
       "      <td>0.166667</td>\n",
       "      <td>0.000000</td>\n",
       "      <td>0.166667</td>\n",
       "      <td>0.166667</td>\n",
       "      <td>0.166667</td>\n",
       "      <td>0.166667</td>\n",
       "    </tr>\n",
       "  </tbody>\n",
       "</table>\n",
       "</div>"
      ],
      "text/plain": [
       "                                         id    bitter     meaty   piquant  \\\n",
       "0  10-Minute-Creamy-Cauliflower-Soup-988293  0.500000  0.166667  0.000000   \n",
       "1       10-Minute-Paleo-Tomato-Soup-1006193  0.333333  0.166667  0.166667   \n",
       "2                      13-Bean-Soup-1682837  0.166667  0.000000  0.166667   \n",
       "\n",
       "      salty      sour     sweet  \n",
       "0  0.333333  0.333333  0.333333  \n",
       "1  0.166667  0.500000  0.166667  \n",
       "2  0.166667  0.166667  0.166667  "
      ]
     },
     "execution_count": 64,
     "metadata": {},
     "output_type": "execute_result"
    }
   ],
   "source": [
    "print fdf1.shape\n",
    "fdf1 = fdf1.drop('Unnamed: 0', 1)\n",
    "fdf1 = fdf1.rename(columns = {'index':'id'})\n",
    "fdf1.head(3)"
   ]
  },
  {
   "cell_type": "code",
   "execution_count": 65,
   "metadata": {
    "collapsed": false
   },
   "outputs": [
    {
     "name": "stdout",
     "output_type": "stream",
     "text": [
      "(500, 8)\n"
     ]
    },
    {
     "data": {
      "text/html": [
       "<div>\n",
       "<table border=\"1\" class=\"dataframe\">\n",
       "  <thead>\n",
       "    <tr style=\"text-align: right;\">\n",
       "      <th></th>\n",
       "      <th>id</th>\n",
       "      <th>bitter</th>\n",
       "      <th>meaty</th>\n",
       "      <th>piquant</th>\n",
       "      <th>salty</th>\n",
       "      <th>sour</th>\n",
       "      <th>sweet</th>\n",
       "    </tr>\n",
       "  </thead>\n",
       "  <tbody>\n",
       "    <tr>\n",
       "      <th>0</th>\n",
       "      <td>10-Minute-Tomato-Soup-472890</td>\n",
       "      <td>0.166667</td>\n",
       "      <td>0.166667</td>\n",
       "      <td>0.0</td>\n",
       "      <td>0.500000</td>\n",
       "      <td>0.666667</td>\n",
       "      <td>0.166667</td>\n",
       "    </tr>\n",
       "    <tr>\n",
       "      <th>1</th>\n",
       "      <td>15-Bean-Turkey-Soup-1378516</td>\n",
       "      <td>0.166667</td>\n",
       "      <td>0.166667</td>\n",
       "      <td>0.0</td>\n",
       "      <td>0.166667</td>\n",
       "      <td>0.166667</td>\n",
       "      <td>0.166667</td>\n",
       "    </tr>\n",
       "    <tr>\n",
       "      <th>2</th>\n",
       "      <td>15-Minute-Black-Bean-Soup-1633689</td>\n",
       "      <td>NaN</td>\n",
       "      <td>NaN</td>\n",
       "      <td>NaN</td>\n",
       "      <td>NaN</td>\n",
       "      <td>NaN</td>\n",
       "      <td>NaN</td>\n",
       "    </tr>\n",
       "  </tbody>\n",
       "</table>\n",
       "</div>"
      ],
      "text/plain": [
       "                                  id    bitter     meaty  piquant     salty  \\\n",
       "0       10-Minute-Tomato-Soup-472890  0.166667  0.166667      0.0  0.500000   \n",
       "1        15-Bean-Turkey-Soup-1378516  0.166667  0.166667      0.0  0.166667   \n",
       "2  15-Minute-Black-Bean-Soup-1633689       NaN       NaN      NaN       NaN   \n",
       "\n",
       "       sour     sweet  \n",
       "0  0.666667  0.166667  \n",
       "1  0.166667  0.166667  \n",
       "2       NaN       NaN  "
      ]
     },
     "execution_count": 65,
     "metadata": {},
     "output_type": "execute_result"
    }
   ],
   "source": [
    "print fdf2.shape\n",
    "fdf2 = fdf2.drop('Unnamed: 0', 1)\n",
    "fdf2 = fdf2.rename(columns = {'index':'id'})\n",
    "fdf2.head(3)"
   ]
  },
  {
   "cell_type": "code",
   "execution_count": 66,
   "metadata": {
    "collapsed": false
   },
   "outputs": [
    {
     "name": "stdout",
     "output_type": "stream",
     "text": [
      "(500, 8)\n"
     ]
    },
    {
     "data": {
      "text/html": [
       "<div>\n",
       "<table border=\"1\" class=\"dataframe\">\n",
       "  <thead>\n",
       "    <tr style=\"text-align: right;\">\n",
       "      <th></th>\n",
       "      <th>id</th>\n",
       "      <th>bitter</th>\n",
       "      <th>meaty</th>\n",
       "      <th>piquant</th>\n",
       "      <th>salty</th>\n",
       "      <th>sour</th>\n",
       "      <th>sweet</th>\n",
       "    </tr>\n",
       "  </thead>\n",
       "  <tbody>\n",
       "    <tr>\n",
       "      <th>0</th>\n",
       "      <td>10_-New-Mexican-Red-Chile-Posole-1264640</td>\n",
       "      <td>0.166667</td>\n",
       "      <td>0.833333</td>\n",
       "      <td>0.666667</td>\n",
       "      <td>0.166667</td>\n",
       "      <td>0.166667</td>\n",
       "      <td>0.166667</td>\n",
       "    </tr>\n",
       "    <tr>\n",
       "      <th>1</th>\n",
       "      <td>20-Minute-Sausage-and-Tortellini-Soup-477120</td>\n",
       "      <td>0.166667</td>\n",
       "      <td>0.166667</td>\n",
       "      <td>0.666667</td>\n",
       "      <td>0.166667</td>\n",
       "      <td>0.333333</td>\n",
       "      <td>0.166667</td>\n",
       "    </tr>\n",
       "    <tr>\n",
       "      <th>2</th>\n",
       "      <td>5-Ingredient-Pumpkin-Curry-Soup-1413710</td>\n",
       "      <td>NaN</td>\n",
       "      <td>NaN</td>\n",
       "      <td>NaN</td>\n",
       "      <td>NaN</td>\n",
       "      <td>NaN</td>\n",
       "      <td>NaN</td>\n",
       "    </tr>\n",
       "  </tbody>\n",
       "</table>\n",
       "</div>"
      ],
      "text/plain": [
       "                                             id    bitter     meaty   piquant  \\\n",
       "0      10_-New-Mexican-Red-Chile-Posole-1264640  0.166667  0.833333  0.666667   \n",
       "1  20-Minute-Sausage-and-Tortellini-Soup-477120  0.166667  0.166667  0.666667   \n",
       "2       5-Ingredient-Pumpkin-Curry-Soup-1413710       NaN       NaN       NaN   \n",
       "\n",
       "      salty      sour     sweet  \n",
       "0  0.166667  0.166667  0.166667  \n",
       "1  0.166667  0.333333  0.166667  \n",
       "2       NaN       NaN       NaN  "
      ]
     },
     "execution_count": 66,
     "metadata": {},
     "output_type": "execute_result"
    }
   ],
   "source": [
    "print fdf3.shape\n",
    "fdf3 = fdf3.drop('Unnamed: 0', 1)\n",
    "fdf3 = fdf3.rename(columns = {'index':'id'})\n",
    "fdf3.head(3)"
   ]
  },
  {
   "cell_type": "code",
   "execution_count": 67,
   "metadata": {
    "collapsed": true
   },
   "outputs": [],
   "source": [
    "#concatenate the flavors tables. \n",
    "SP_flavors= pd.concat([fdf, fdf1, fdf2, fdf3])"
   ]
  },
  {
   "cell_type": "code",
   "execution_count": 68,
   "metadata": {
    "collapsed": false
   },
   "outputs": [
    {
     "name": "stdout",
     "output_type": "stream",
     "text": [
      "(2000, 7)\n"
     ]
    },
    {
     "data": {
      "text/html": [
       "<div>\n",
       "<table border=\"1\" class=\"dataframe\">\n",
       "  <thead>\n",
       "    <tr style=\"text-align: right;\">\n",
       "      <th></th>\n",
       "      <th>id</th>\n",
       "      <th>bitter</th>\n",
       "      <th>meaty</th>\n",
       "      <th>piquant</th>\n",
       "      <th>salty</th>\n",
       "      <th>sour</th>\n",
       "      <th>sweet</th>\n",
       "    </tr>\n",
       "  </thead>\n",
       "  <tbody>\n",
       "    <tr>\n",
       "      <th>0</th>\n",
       "      <td>0_-of-the-calories_-Beet-soup-1684369</td>\n",
       "      <td>0.166667</td>\n",
       "      <td>0.166667</td>\n",
       "      <td>0.000000</td>\n",
       "      <td>0.166667</td>\n",
       "      <td>0.833333</td>\n",
       "      <td>0.333333</td>\n",
       "    </tr>\n",
       "    <tr>\n",
       "      <th>0</th>\n",
       "      <td>10-Minute-Creamy-Cauliflower-Soup-988293</td>\n",
       "      <td>0.500000</td>\n",
       "      <td>0.166667</td>\n",
       "      <td>0.000000</td>\n",
       "      <td>0.333333</td>\n",
       "      <td>0.333333</td>\n",
       "      <td>0.333333</td>\n",
       "    </tr>\n",
       "    <tr>\n",
       "      <th>1</th>\n",
       "      <td>10-Minute-Paleo-Tomato-Soup-1006193</td>\n",
       "      <td>0.333333</td>\n",
       "      <td>0.166667</td>\n",
       "      <td>0.166667</td>\n",
       "      <td>0.166667</td>\n",
       "      <td>0.500000</td>\n",
       "      <td>0.166667</td>\n",
       "    </tr>\n",
       "  </tbody>\n",
       "</table>\n",
       "</div>"
      ],
      "text/plain": [
       "                                         id    bitter     meaty   piquant  \\\n",
       "0     0_-of-the-calories_-Beet-soup-1684369  0.166667  0.166667  0.000000   \n",
       "0  10-Minute-Creamy-Cauliflower-Soup-988293  0.500000  0.166667  0.000000   \n",
       "1       10-Minute-Paleo-Tomato-Soup-1006193  0.333333  0.166667  0.166667   \n",
       "\n",
       "      salty      sour     sweet  \n",
       "0  0.166667  0.833333  0.333333  \n",
       "0  0.333333  0.333333  0.333333  \n",
       "1  0.166667  0.500000  0.166667  "
      ]
     },
     "execution_count": 68,
     "metadata": {},
     "output_type": "execute_result"
    }
   ],
   "source": [
    "#peek at dataframe\n",
    "print SP_flavors.shape\n",
    "SP_flavors = SP_flavors.sort_values(by= 'id')\n",
    "SP_flavors.head(3)"
   ]
  },
  {
   "cell_type": "code",
   "execution_count": 69,
   "metadata": {
    "collapsed": false
   },
   "outputs": [
    {
     "data": {
      "text/plain": [
       "975"
      ]
     },
     "execution_count": 69,
     "metadata": {},
     "output_type": "execute_result"
    }
   ],
   "source": [
    "len([i for i, j in zip(SP_flavors.id, SP_main.id) if i == j])"
   ]
  },
  {
   "cell_type": "code",
   "execution_count": 70,
   "metadata": {
    "collapsed": false
   },
   "outputs": [
    {
     "name": "stdout",
     "output_type": "stream",
     "text": [
      "True\n",
      "True\n"
     ]
    },
    {
     "data": {
      "text/plain": [
       "(1998, 7)"
      ]
     },
     "execution_count": 70,
     "metadata": {},
     "output_type": "execute_result"
    }
   ],
   "source": [
    "for i in SP_flavors.duplicated('id'):\n",
    "    if i == True:\n",
    "        print i\n",
    "SP_flavors = SP_flavors.drop_duplicates('id')\n",
    "SP_flavors.shape"
   ]
  },
  {
   "cell_type": "markdown",
   "metadata": {},
   "source": [
    "* ***Cuisine***"
   ]
  },
  {
   "cell_type": "code",
   "execution_count": 71,
   "metadata": {
    "collapsed": true
   },
   "outputs": [],
   "source": [
    "cdf = pd.read_csv('SP_cuisines.csv')\n",
    "cdf1 = pd.read_csv('SP_cuisines_1.csv')\n",
    "cdf2 = pd.read_csv('SP_cuisines_2.csv')\n",
    "cdf3 = pd.read_csv('SP_cuisines_3.csv')"
   ]
  },
  {
   "cell_type": "code",
   "execution_count": 72,
   "metadata": {
    "collapsed": false
   },
   "outputs": [
    {
     "name": "stdout",
     "output_type": "stream",
     "text": [
      "(500, 28)\n",
      "Index([u'id', u'American', u'Asian', u'Barbecue', u'Cajun & Creole',\n",
      "       u'Chinese', u'Cuban', u'English', u'French', u'German', u'Greek',\n",
      "       u'Hawaiian', u'Hungarian', u'Indian', u'Irish', u'Italian', u'Japanese',\n",
      "       u'Kid-Friendly', u'Mediterranean', u'Mexican', u'Moroccan',\n",
      "       u'Portuguese', u'Southern & Soul Food', u'Southwestern', u'Spanish',\n",
      "       u'Swedish', u'Thai'],\n",
      "      dtype='object')\n"
     ]
    },
    {
     "data": {
      "text/html": [
       "<div>\n",
       "<table border=\"1\" class=\"dataframe\">\n",
       "  <thead>\n",
       "    <tr style=\"text-align: right;\">\n",
       "      <th></th>\n",
       "      <th>id</th>\n",
       "      <th>American</th>\n",
       "      <th>Asian</th>\n",
       "      <th>Barbecue</th>\n",
       "      <th>Cajun &amp; Creole</th>\n",
       "      <th>Chinese</th>\n",
       "      <th>Cuban</th>\n",
       "      <th>English</th>\n",
       "      <th>French</th>\n",
       "      <th>German</th>\n",
       "      <th>...</th>\n",
       "      <th>Kid-Friendly</th>\n",
       "      <th>Mediterranean</th>\n",
       "      <th>Mexican</th>\n",
       "      <th>Moroccan</th>\n",
       "      <th>Portuguese</th>\n",
       "      <th>Southern &amp; Soul Food</th>\n",
       "      <th>Southwestern</th>\n",
       "      <th>Spanish</th>\n",
       "      <th>Swedish</th>\n",
       "      <th>Thai</th>\n",
       "    </tr>\n",
       "  </thead>\n",
       "  <tbody>\n",
       "    <tr>\n",
       "      <th>0</th>\n",
       "      <td>0_-of-the-calories_-Beet-soup-1684369</td>\n",
       "      <td>0</td>\n",
       "      <td>0</td>\n",
       "      <td>0</td>\n",
       "      <td>0</td>\n",
       "      <td>0</td>\n",
       "      <td>0</td>\n",
       "      <td>0</td>\n",
       "      <td>0</td>\n",
       "      <td>0</td>\n",
       "      <td>...</td>\n",
       "      <td>0</td>\n",
       "      <td>0</td>\n",
       "      <td>0</td>\n",
       "      <td>0</td>\n",
       "      <td>0</td>\n",
       "      <td>0</td>\n",
       "      <td>0</td>\n",
       "      <td>0</td>\n",
       "      <td>0</td>\n",
       "      <td>0</td>\n",
       "    </tr>\n",
       "    <tr>\n",
       "      <th>1</th>\n",
       "      <td>20-Minute-Broccoli-Cheese-Soup-1311351</td>\n",
       "      <td>0</td>\n",
       "      <td>0</td>\n",
       "      <td>0</td>\n",
       "      <td>0</td>\n",
       "      <td>0</td>\n",
       "      <td>0</td>\n",
       "      <td>0</td>\n",
       "      <td>0</td>\n",
       "      <td>0</td>\n",
       "      <td>...</td>\n",
       "      <td>0</td>\n",
       "      <td>0</td>\n",
       "      <td>0</td>\n",
       "      <td>0</td>\n",
       "      <td>0</td>\n",
       "      <td>0</td>\n",
       "      <td>0</td>\n",
       "      <td>0</td>\n",
       "      <td>0</td>\n",
       "      <td>0</td>\n",
       "    </tr>\n",
       "    <tr>\n",
       "      <th>2</th>\n",
       "      <td>20-Minute-Homemade-Chicken-Noodle-Soup-1278881</td>\n",
       "      <td>0</td>\n",
       "      <td>0</td>\n",
       "      <td>0</td>\n",
       "      <td>0</td>\n",
       "      <td>0</td>\n",
       "      <td>0</td>\n",
       "      <td>0</td>\n",
       "      <td>0</td>\n",
       "      <td>0</td>\n",
       "      <td>...</td>\n",
       "      <td>0</td>\n",
       "      <td>0</td>\n",
       "      <td>0</td>\n",
       "      <td>0</td>\n",
       "      <td>0</td>\n",
       "      <td>0</td>\n",
       "      <td>0</td>\n",
       "      <td>0</td>\n",
       "      <td>0</td>\n",
       "      <td>0</td>\n",
       "    </tr>\n",
       "  </tbody>\n",
       "</table>\n",
       "<p>3 rows × 27 columns</p>\n",
       "</div>"
      ],
      "text/plain": [
       "                                               id  American  Asian  Barbecue  \\\n",
       "0           0_-of-the-calories_-Beet-soup-1684369         0      0         0   \n",
       "1          20-Minute-Broccoli-Cheese-Soup-1311351         0      0         0   \n",
       "2  20-Minute-Homemade-Chicken-Noodle-Soup-1278881         0      0         0   \n",
       "\n",
       "   Cajun & Creole  Chinese  Cuban  English  French  German  ...   \\\n",
       "0               0        0      0        0       0       0  ...    \n",
       "1               0        0      0        0       0       0  ...    \n",
       "2               0        0      0        0       0       0  ...    \n",
       "\n",
       "   Kid-Friendly  Mediterranean  Mexican  Moroccan  Portuguese  \\\n",
       "0             0              0        0         0           0   \n",
       "1             0              0        0         0           0   \n",
       "2             0              0        0         0           0   \n",
       "\n",
       "   Southern & Soul Food  Southwestern  Spanish  Swedish  Thai  \n",
       "0                     0             0        0        0     0  \n",
       "1                     0             0        0        0     0  \n",
       "2                     0             0        0        0     0  \n",
       "\n",
       "[3 rows x 27 columns]"
      ]
     },
     "execution_count": 72,
     "metadata": {},
     "output_type": "execute_result"
    }
   ],
   "source": [
    "print cdf.shape\n",
    "cdf = cdf.drop('Unnamed: 0', 1)\n",
    "cdf = cdf.rename(columns = {'index':'id'})\n",
    "print cdf.columns\n",
    "cdf.head(3)"
   ]
  },
  {
   "cell_type": "code",
   "execution_count": 73,
   "metadata": {
    "collapsed": false
   },
   "outputs": [
    {
     "name": "stdout",
     "output_type": "stream",
     "text": [
      "(500, 28)\n",
      "Index([u'id', u'American', u'Asian', u'Barbecue', u'Cajun & Creole',\n",
      "       u'Chinese', u'Cuban', u'English', u'French', u'German', u'Greek',\n",
      "       u'Hawaiian', u'Hungarian', u'Indian', u'Irish', u'Italian', u'Japanese',\n",
      "       u'Kid-Friendly', u'Mediterranean', u'Mexican', u'Moroccan',\n",
      "       u'Portuguese', u'Southern & Soul Food', u'Southwestern', u'Spanish',\n",
      "       u'Swedish', u'Thai'],\n",
      "      dtype='object')\n"
     ]
    },
    {
     "data": {
      "text/html": [
       "<div>\n",
       "<table border=\"1\" class=\"dataframe\">\n",
       "  <thead>\n",
       "    <tr style=\"text-align: right;\">\n",
       "      <th></th>\n",
       "      <th>id</th>\n",
       "      <th>American</th>\n",
       "      <th>Asian</th>\n",
       "      <th>Barbecue</th>\n",
       "      <th>Cajun &amp; Creole</th>\n",
       "      <th>Chinese</th>\n",
       "      <th>Cuban</th>\n",
       "      <th>English</th>\n",
       "      <th>French</th>\n",
       "      <th>German</th>\n",
       "      <th>...</th>\n",
       "      <th>Kid-Friendly</th>\n",
       "      <th>Mediterranean</th>\n",
       "      <th>Mexican</th>\n",
       "      <th>Moroccan</th>\n",
       "      <th>Portuguese</th>\n",
       "      <th>Southern &amp; Soul Food</th>\n",
       "      <th>Southwestern</th>\n",
       "      <th>Spanish</th>\n",
       "      <th>Swedish</th>\n",
       "      <th>Thai</th>\n",
       "    </tr>\n",
       "  </thead>\n",
       "  <tbody>\n",
       "    <tr>\n",
       "      <th>0</th>\n",
       "      <td>10-Minute-Creamy-Cauliflower-Soup-988293</td>\n",
       "      <td>0</td>\n",
       "      <td>0</td>\n",
       "      <td>0</td>\n",
       "      <td>0</td>\n",
       "      <td>0</td>\n",
       "      <td>0</td>\n",
       "      <td>0</td>\n",
       "      <td>0</td>\n",
       "      <td>0</td>\n",
       "      <td>...</td>\n",
       "      <td>0</td>\n",
       "      <td>0</td>\n",
       "      <td>0</td>\n",
       "      <td>0</td>\n",
       "      <td>0</td>\n",
       "      <td>0</td>\n",
       "      <td>0</td>\n",
       "      <td>0</td>\n",
       "      <td>0</td>\n",
       "      <td>0</td>\n",
       "    </tr>\n",
       "    <tr>\n",
       "      <th>1</th>\n",
       "      <td>10-Minute-Paleo-Tomato-Soup-1006193</td>\n",
       "      <td>0</td>\n",
       "      <td>0</td>\n",
       "      <td>0</td>\n",
       "      <td>0</td>\n",
       "      <td>0</td>\n",
       "      <td>0</td>\n",
       "      <td>0</td>\n",
       "      <td>0</td>\n",
       "      <td>0</td>\n",
       "      <td>...</td>\n",
       "      <td>0</td>\n",
       "      <td>0</td>\n",
       "      <td>0</td>\n",
       "      <td>0</td>\n",
       "      <td>0</td>\n",
       "      <td>0</td>\n",
       "      <td>0</td>\n",
       "      <td>0</td>\n",
       "      <td>0</td>\n",
       "      <td>0</td>\n",
       "    </tr>\n",
       "    <tr>\n",
       "      <th>2</th>\n",
       "      <td>13-Bean-Soup-1682837</td>\n",
       "      <td>0</td>\n",
       "      <td>0</td>\n",
       "      <td>0</td>\n",
       "      <td>0</td>\n",
       "      <td>0</td>\n",
       "      <td>0</td>\n",
       "      <td>0</td>\n",
       "      <td>0</td>\n",
       "      <td>0</td>\n",
       "      <td>...</td>\n",
       "      <td>0</td>\n",
       "      <td>0</td>\n",
       "      <td>0</td>\n",
       "      <td>0</td>\n",
       "      <td>0</td>\n",
       "      <td>0</td>\n",
       "      <td>0</td>\n",
       "      <td>0</td>\n",
       "      <td>0</td>\n",
       "      <td>0</td>\n",
       "    </tr>\n",
       "  </tbody>\n",
       "</table>\n",
       "<p>3 rows × 27 columns</p>\n",
       "</div>"
      ],
      "text/plain": [
       "                                         id  American  Asian  Barbecue  \\\n",
       "0  10-Minute-Creamy-Cauliflower-Soup-988293         0      0         0   \n",
       "1       10-Minute-Paleo-Tomato-Soup-1006193         0      0         0   \n",
       "2                      13-Bean-Soup-1682837         0      0         0   \n",
       "\n",
       "   Cajun & Creole  Chinese  Cuban  English  French  German  ...   \\\n",
       "0               0        0      0        0       0       0  ...    \n",
       "1               0        0      0        0       0       0  ...    \n",
       "2               0        0      0        0       0       0  ...    \n",
       "\n",
       "   Kid-Friendly  Mediterranean  Mexican  Moroccan  Portuguese  \\\n",
       "0             0              0        0         0           0   \n",
       "1             0              0        0         0           0   \n",
       "2             0              0        0         0           0   \n",
       "\n",
       "   Southern & Soul Food  Southwestern  Spanish  Swedish  Thai  \n",
       "0                     0             0        0        0     0  \n",
       "1                     0             0        0        0     0  \n",
       "2                     0             0        0        0     0  \n",
       "\n",
       "[3 rows x 27 columns]"
      ]
     },
     "execution_count": 73,
     "metadata": {},
     "output_type": "execute_result"
    }
   ],
   "source": [
    "print cdf1.shape\n",
    "cdf1 = cdf1.drop('Unnamed: 0', 1)\n",
    "cdf1 = cdf1.rename(columns = {'index':'id'})\n",
    "print cdf1.columns\n",
    "cdf1.head(3)"
   ]
  },
  {
   "cell_type": "code",
   "execution_count": 74,
   "metadata": {
    "collapsed": false
   },
   "outputs": [
    {
     "name": "stdout",
     "output_type": "stream",
     "text": [
      "(500, 28)\n",
      "Index([u'id', u'American', u'Asian', u'Barbecue', u'Cajun & Creole',\n",
      "       u'Chinese', u'Cuban', u'English', u'French', u'German', u'Greek',\n",
      "       u'Hawaiian', u'Hungarian', u'Indian', u'Irish', u'Italian', u'Japanese',\n",
      "       u'Kid-Friendly', u'Mediterranean', u'Mexican', u'Moroccan',\n",
      "       u'Portuguese', u'Southern & Soul Food', u'Southwestern', u'Spanish',\n",
      "       u'Swedish', u'Thai'],\n",
      "      dtype='object')\n"
     ]
    },
    {
     "data": {
      "text/html": [
       "<div>\n",
       "<table border=\"1\" class=\"dataframe\">\n",
       "  <thead>\n",
       "    <tr style=\"text-align: right;\">\n",
       "      <th></th>\n",
       "      <th>id</th>\n",
       "      <th>American</th>\n",
       "      <th>Asian</th>\n",
       "      <th>Barbecue</th>\n",
       "      <th>Cajun &amp; Creole</th>\n",
       "      <th>Chinese</th>\n",
       "      <th>Cuban</th>\n",
       "      <th>English</th>\n",
       "      <th>French</th>\n",
       "      <th>German</th>\n",
       "      <th>...</th>\n",
       "      <th>Kid-Friendly</th>\n",
       "      <th>Mediterranean</th>\n",
       "      <th>Mexican</th>\n",
       "      <th>Moroccan</th>\n",
       "      <th>Portuguese</th>\n",
       "      <th>Southern &amp; Soul Food</th>\n",
       "      <th>Southwestern</th>\n",
       "      <th>Spanish</th>\n",
       "      <th>Swedish</th>\n",
       "      <th>Thai</th>\n",
       "    </tr>\n",
       "  </thead>\n",
       "  <tbody>\n",
       "    <tr>\n",
       "      <th>0</th>\n",
       "      <td>10-Minute-Tomato-Soup-472890</td>\n",
       "      <td>0</td>\n",
       "      <td>0</td>\n",
       "      <td>0</td>\n",
       "      <td>0</td>\n",
       "      <td>0</td>\n",
       "      <td>0</td>\n",
       "      <td>0</td>\n",
       "      <td>0</td>\n",
       "      <td>0</td>\n",
       "      <td>...</td>\n",
       "      <td>0</td>\n",
       "      <td>0</td>\n",
       "      <td>0</td>\n",
       "      <td>0</td>\n",
       "      <td>0</td>\n",
       "      <td>0</td>\n",
       "      <td>0</td>\n",
       "      <td>0</td>\n",
       "      <td>0</td>\n",
       "      <td>0</td>\n",
       "    </tr>\n",
       "    <tr>\n",
       "      <th>1</th>\n",
       "      <td>15-Bean-Turkey-Soup-1378516</td>\n",
       "      <td>0</td>\n",
       "      <td>0</td>\n",
       "      <td>0</td>\n",
       "      <td>0</td>\n",
       "      <td>0</td>\n",
       "      <td>0</td>\n",
       "      <td>0</td>\n",
       "      <td>0</td>\n",
       "      <td>0</td>\n",
       "      <td>...</td>\n",
       "      <td>0</td>\n",
       "      <td>0</td>\n",
       "      <td>0</td>\n",
       "      <td>0</td>\n",
       "      <td>0</td>\n",
       "      <td>0</td>\n",
       "      <td>0</td>\n",
       "      <td>0</td>\n",
       "      <td>0</td>\n",
       "      <td>0</td>\n",
       "    </tr>\n",
       "    <tr>\n",
       "      <th>2</th>\n",
       "      <td>15-Minute-Black-Bean-Soup-1633689</td>\n",
       "      <td>0</td>\n",
       "      <td>0</td>\n",
       "      <td>0</td>\n",
       "      <td>0</td>\n",
       "      <td>0</td>\n",
       "      <td>0</td>\n",
       "      <td>0</td>\n",
       "      <td>0</td>\n",
       "      <td>0</td>\n",
       "      <td>...</td>\n",
       "      <td>0</td>\n",
       "      <td>0</td>\n",
       "      <td>0</td>\n",
       "      <td>0</td>\n",
       "      <td>0</td>\n",
       "      <td>0</td>\n",
       "      <td>0</td>\n",
       "      <td>0</td>\n",
       "      <td>0</td>\n",
       "      <td>0</td>\n",
       "    </tr>\n",
       "  </tbody>\n",
       "</table>\n",
       "<p>3 rows × 27 columns</p>\n",
       "</div>"
      ],
      "text/plain": [
       "                                  id  American  Asian  Barbecue  \\\n",
       "0       10-Minute-Tomato-Soup-472890         0      0         0   \n",
       "1        15-Bean-Turkey-Soup-1378516         0      0         0   \n",
       "2  15-Minute-Black-Bean-Soup-1633689         0      0         0   \n",
       "\n",
       "   Cajun & Creole  Chinese  Cuban  English  French  German  ...   \\\n",
       "0               0        0      0        0       0       0  ...    \n",
       "1               0        0      0        0       0       0  ...    \n",
       "2               0        0      0        0       0       0  ...    \n",
       "\n",
       "   Kid-Friendly  Mediterranean  Mexican  Moroccan  Portuguese  \\\n",
       "0             0              0        0         0           0   \n",
       "1             0              0        0         0           0   \n",
       "2             0              0        0         0           0   \n",
       "\n",
       "   Southern & Soul Food  Southwestern  Spanish  Swedish  Thai  \n",
       "0                     0             0        0        0     0  \n",
       "1                     0             0        0        0     0  \n",
       "2                     0             0        0        0     0  \n",
       "\n",
       "[3 rows x 27 columns]"
      ]
     },
     "execution_count": 74,
     "metadata": {},
     "output_type": "execute_result"
    }
   ],
   "source": [
    "print cdf2.shape\n",
    "cdf2 = cdf2.drop('Unnamed: 0', 1)\n",
    "cdf2 = cdf2.rename(columns = {'index':'id'})\n",
    "print cdf2.columns\n",
    "cdf2.head(3)"
   ]
  },
  {
   "cell_type": "code",
   "execution_count": 75,
   "metadata": {
    "collapsed": false
   },
   "outputs": [
    {
     "name": "stdout",
     "output_type": "stream",
     "text": [
      "(500, 28)\n",
      "Index([u'id', u'American', u'Asian', u'Barbecue', u'Cajun & Creole',\n",
      "       u'Chinese', u'Cuban', u'English', u'French', u'German', u'Greek',\n",
      "       u'Hawaiian', u'Hungarian', u'Indian', u'Irish', u'Italian', u'Japanese',\n",
      "       u'Kid-Friendly', u'Mediterranean', u'Mexican', u'Moroccan',\n",
      "       u'Portuguese', u'Southern & Soul Food', u'Southwestern', u'Spanish',\n",
      "       u'Swedish', u'Thai'],\n",
      "      dtype='object')\n"
     ]
    },
    {
     "data": {
      "text/html": [
       "<div>\n",
       "<table border=\"1\" class=\"dataframe\">\n",
       "  <thead>\n",
       "    <tr style=\"text-align: right;\">\n",
       "      <th></th>\n",
       "      <th>id</th>\n",
       "      <th>American</th>\n",
       "      <th>Asian</th>\n",
       "      <th>Barbecue</th>\n",
       "      <th>Cajun &amp; Creole</th>\n",
       "      <th>Chinese</th>\n",
       "      <th>Cuban</th>\n",
       "      <th>English</th>\n",
       "      <th>French</th>\n",
       "      <th>German</th>\n",
       "      <th>...</th>\n",
       "      <th>Kid-Friendly</th>\n",
       "      <th>Mediterranean</th>\n",
       "      <th>Mexican</th>\n",
       "      <th>Moroccan</th>\n",
       "      <th>Portuguese</th>\n",
       "      <th>Southern &amp; Soul Food</th>\n",
       "      <th>Southwestern</th>\n",
       "      <th>Spanish</th>\n",
       "      <th>Swedish</th>\n",
       "      <th>Thai</th>\n",
       "    </tr>\n",
       "  </thead>\n",
       "  <tbody>\n",
       "    <tr>\n",
       "      <th>0</th>\n",
       "      <td>10_-New-Mexican-Red-Chile-Posole-1264640</td>\n",
       "      <td>0</td>\n",
       "      <td>0</td>\n",
       "      <td>0</td>\n",
       "      <td>0</td>\n",
       "      <td>0</td>\n",
       "      <td>0</td>\n",
       "      <td>0</td>\n",
       "      <td>0</td>\n",
       "      <td>0</td>\n",
       "      <td>...</td>\n",
       "      <td>0</td>\n",
       "      <td>0</td>\n",
       "      <td>1</td>\n",
       "      <td>0</td>\n",
       "      <td>0</td>\n",
       "      <td>0</td>\n",
       "      <td>0</td>\n",
       "      <td>0</td>\n",
       "      <td>0</td>\n",
       "      <td>0</td>\n",
       "    </tr>\n",
       "    <tr>\n",
       "      <th>1</th>\n",
       "      <td>20-Minute-Sausage-and-Tortellini-Soup-477120</td>\n",
       "      <td>0</td>\n",
       "      <td>0</td>\n",
       "      <td>0</td>\n",
       "      <td>0</td>\n",
       "      <td>0</td>\n",
       "      <td>0</td>\n",
       "      <td>0</td>\n",
       "      <td>0</td>\n",
       "      <td>0</td>\n",
       "      <td>...</td>\n",
       "      <td>0</td>\n",
       "      <td>0</td>\n",
       "      <td>0</td>\n",
       "      <td>0</td>\n",
       "      <td>0</td>\n",
       "      <td>0</td>\n",
       "      <td>0</td>\n",
       "      <td>0</td>\n",
       "      <td>0</td>\n",
       "      <td>0</td>\n",
       "    </tr>\n",
       "    <tr>\n",
       "      <th>2</th>\n",
       "      <td>5-Ingredient-Pumpkin-Curry-Soup-1413710</td>\n",
       "      <td>0</td>\n",
       "      <td>0</td>\n",
       "      <td>0</td>\n",
       "      <td>0</td>\n",
       "      <td>0</td>\n",
       "      <td>0</td>\n",
       "      <td>0</td>\n",
       "      <td>0</td>\n",
       "      <td>0</td>\n",
       "      <td>...</td>\n",
       "      <td>0</td>\n",
       "      <td>0</td>\n",
       "      <td>0</td>\n",
       "      <td>0</td>\n",
       "      <td>0</td>\n",
       "      <td>0</td>\n",
       "      <td>0</td>\n",
       "      <td>0</td>\n",
       "      <td>0</td>\n",
       "      <td>0</td>\n",
       "    </tr>\n",
       "  </tbody>\n",
       "</table>\n",
       "<p>3 rows × 27 columns</p>\n",
       "</div>"
      ],
      "text/plain": [
       "                                             id  American  Asian  Barbecue  \\\n",
       "0      10_-New-Mexican-Red-Chile-Posole-1264640         0      0         0   \n",
       "1  20-Minute-Sausage-and-Tortellini-Soup-477120         0      0         0   \n",
       "2       5-Ingredient-Pumpkin-Curry-Soup-1413710         0      0         0   \n",
       "\n",
       "   Cajun & Creole  Chinese  Cuban  English  French  German  ...   \\\n",
       "0               0        0      0        0       0       0  ...    \n",
       "1               0        0      0        0       0       0  ...    \n",
       "2               0        0      0        0       0       0  ...    \n",
       "\n",
       "   Kid-Friendly  Mediterranean  Mexican  Moroccan  Portuguese  \\\n",
       "0             0              0        1         0           0   \n",
       "1             0              0        0         0           0   \n",
       "2             0              0        0         0           0   \n",
       "\n",
       "   Southern & Soul Food  Southwestern  Spanish  Swedish  Thai  \n",
       "0                     0             0        0        0     0  \n",
       "1                     0             0        0        0     0  \n",
       "2                     0             0        0        0     0  \n",
       "\n",
       "[3 rows x 27 columns]"
      ]
     },
     "execution_count": 75,
     "metadata": {},
     "output_type": "execute_result"
    }
   ],
   "source": [
    "print cdf3.shape\n",
    "cdf3 = cdf3.drop('Unnamed: 0', 1)\n",
    "cdf3 = cdf3.rename(columns = {'index':'id'})\n",
    "print cdf3.columns\n",
    "cdf3.head(3)"
   ]
  },
  {
   "cell_type": "code",
   "execution_count": 76,
   "metadata": {
    "collapsed": true
   },
   "outputs": [],
   "source": [
    "#concatenate the cuisine tables. \n",
    "SP_cuisines= pd.concat([cdf, cdf1, cdf2, cdf3])"
   ]
  },
  {
   "cell_type": "code",
   "execution_count": 77,
   "metadata": {
    "collapsed": false
   },
   "outputs": [
    {
     "name": "stdout",
     "output_type": "stream",
     "text": [
      "(2000, 27)\n"
     ]
    },
    {
     "data": {
      "text/html": [
       "<div>\n",
       "<table border=\"1\" class=\"dataframe\">\n",
       "  <thead>\n",
       "    <tr style=\"text-align: right;\">\n",
       "      <th></th>\n",
       "      <th>id</th>\n",
       "      <th>American</th>\n",
       "      <th>Asian</th>\n",
       "      <th>Barbecue</th>\n",
       "      <th>Cajun &amp; Creole</th>\n",
       "      <th>Chinese</th>\n",
       "      <th>Cuban</th>\n",
       "      <th>English</th>\n",
       "      <th>French</th>\n",
       "      <th>German</th>\n",
       "      <th>...</th>\n",
       "      <th>Kid-Friendly</th>\n",
       "      <th>Mediterranean</th>\n",
       "      <th>Mexican</th>\n",
       "      <th>Moroccan</th>\n",
       "      <th>Portuguese</th>\n",
       "      <th>Southern &amp; Soul Food</th>\n",
       "      <th>Southwestern</th>\n",
       "      <th>Spanish</th>\n",
       "      <th>Swedish</th>\n",
       "      <th>Thai</th>\n",
       "    </tr>\n",
       "  </thead>\n",
       "  <tbody>\n",
       "    <tr>\n",
       "      <th>0</th>\n",
       "      <td>0_-of-the-calories_-Beet-soup-1684369</td>\n",
       "      <td>0</td>\n",
       "      <td>0</td>\n",
       "      <td>0</td>\n",
       "      <td>0</td>\n",
       "      <td>0</td>\n",
       "      <td>0</td>\n",
       "      <td>0</td>\n",
       "      <td>0</td>\n",
       "      <td>0</td>\n",
       "      <td>...</td>\n",
       "      <td>0</td>\n",
       "      <td>0</td>\n",
       "      <td>0</td>\n",
       "      <td>0</td>\n",
       "      <td>0</td>\n",
       "      <td>0</td>\n",
       "      <td>0</td>\n",
       "      <td>0</td>\n",
       "      <td>0</td>\n",
       "      <td>0</td>\n",
       "    </tr>\n",
       "    <tr>\n",
       "      <th>0</th>\n",
       "      <td>10-Minute-Creamy-Cauliflower-Soup-988293</td>\n",
       "      <td>0</td>\n",
       "      <td>0</td>\n",
       "      <td>0</td>\n",
       "      <td>0</td>\n",
       "      <td>0</td>\n",
       "      <td>0</td>\n",
       "      <td>0</td>\n",
       "      <td>0</td>\n",
       "      <td>0</td>\n",
       "      <td>...</td>\n",
       "      <td>0</td>\n",
       "      <td>0</td>\n",
       "      <td>0</td>\n",
       "      <td>0</td>\n",
       "      <td>0</td>\n",
       "      <td>0</td>\n",
       "      <td>0</td>\n",
       "      <td>0</td>\n",
       "      <td>0</td>\n",
       "      <td>0</td>\n",
       "    </tr>\n",
       "    <tr>\n",
       "      <th>1</th>\n",
       "      <td>10-Minute-Paleo-Tomato-Soup-1006193</td>\n",
       "      <td>0</td>\n",
       "      <td>0</td>\n",
       "      <td>0</td>\n",
       "      <td>0</td>\n",
       "      <td>0</td>\n",
       "      <td>0</td>\n",
       "      <td>0</td>\n",
       "      <td>0</td>\n",
       "      <td>0</td>\n",
       "      <td>...</td>\n",
       "      <td>0</td>\n",
       "      <td>0</td>\n",
       "      <td>0</td>\n",
       "      <td>0</td>\n",
       "      <td>0</td>\n",
       "      <td>0</td>\n",
       "      <td>0</td>\n",
       "      <td>0</td>\n",
       "      <td>0</td>\n",
       "      <td>0</td>\n",
       "    </tr>\n",
       "  </tbody>\n",
       "</table>\n",
       "<p>3 rows × 27 columns</p>\n",
       "</div>"
      ],
      "text/plain": [
       "                                         id  American  Asian  Barbecue  \\\n",
       "0     0_-of-the-calories_-Beet-soup-1684369         0      0         0   \n",
       "0  10-Minute-Creamy-Cauliflower-Soup-988293         0      0         0   \n",
       "1       10-Minute-Paleo-Tomato-Soup-1006193         0      0         0   \n",
       "\n",
       "   Cajun & Creole  Chinese  Cuban  English  French  German  ...   \\\n",
       "0               0        0      0        0       0       0  ...    \n",
       "0               0        0      0        0       0       0  ...    \n",
       "1               0        0      0        0       0       0  ...    \n",
       "\n",
       "   Kid-Friendly  Mediterranean  Mexican  Moroccan  Portuguese  \\\n",
       "0             0              0        0         0           0   \n",
       "0             0              0        0         0           0   \n",
       "1             0              0        0         0           0   \n",
       "\n",
       "   Southern & Soul Food  Southwestern  Spanish  Swedish  Thai  \n",
       "0                     0             0        0        0     0  \n",
       "0                     0             0        0        0     0  \n",
       "1                     0             0        0        0     0  \n",
       "\n",
       "[3 rows x 27 columns]"
      ]
     },
     "execution_count": 77,
     "metadata": {},
     "output_type": "execute_result"
    }
   ],
   "source": [
    "#peek at dataframe\n",
    "print SP_cuisines.shape\n",
    "cols = list(SP_cuisines)\n",
    "cols.insert(0, cols.pop(cols.index('id')))\n",
    "SP_cuisines = SP_cuisines.ix[:, cols]\n",
    "SP_cuisines = SP_cuisines.sort_values(by ='id')\n",
    "SP_cuisines.head(3)"
   ]
  },
  {
   "cell_type": "code",
   "execution_count": 78,
   "metadata": {
    "collapsed": false
   },
   "outputs": [
    {
     "data": {
      "text/plain": [
       "975"
      ]
     },
     "execution_count": 78,
     "metadata": {},
     "output_type": "execute_result"
    }
   ],
   "source": [
    "len([i for i, j in zip(SP_main.id, SP_cuisines.id) if i == j])"
   ]
  },
  {
   "cell_type": "code",
   "execution_count": 79,
   "metadata": {
    "collapsed": false
   },
   "outputs": [
    {
     "name": "stdout",
     "output_type": "stream",
     "text": [
      "True\n",
      "True\n"
     ]
    },
    {
     "data": {
      "text/plain": [
       "(1998, 27)"
      ]
     },
     "execution_count": 79,
     "metadata": {},
     "output_type": "execute_result"
    }
   ],
   "source": [
    "for i in SP_cuisines.duplicated('id'):\n",
    "    if i == True:\n",
    "        print i\n",
    "SP_cuisines = SP_cuisines.drop_duplicates('id')\n",
    "SP_cuisines.shape"
   ]
  },
  {
   "cell_type": "markdown",
   "metadata": {},
   "source": [
    "* ***Details*** "
   ]
  },
  {
   "cell_type": "code",
   "execution_count": 80,
   "metadata": {
    "collapsed": true
   },
   "outputs": [],
   "source": [
    "ddf = pd.read_csv('SP_details.csv')\n",
    "ddf1 = pd.read_csv('SP_details_1.csv')\n",
    "ddf2 = pd.read_csv('SP_details_2.csv')\n",
    "ddf3 = pd.read_csv('SP_details_3.csv')"
   ]
  },
  {
   "cell_type": "code",
   "execution_count": 81,
   "metadata": {
    "collapsed": false
   },
   "outputs": [
    {
     "name": "stdout",
     "output_type": "stream",
     "text": [
      "500\n",
      "500\n",
      "500\n"
     ]
    }
   ],
   "source": [
    "print len(set(ddf1.id) & set(df1.id))\n",
    "print len(set(ddf2.id) & set(df2.id))\n",
    "print len(set(ddf3.id) & set(df3.id))\n",
    " "
   ]
  },
  {
   "cell_type": "code",
   "execution_count": 82,
   "metadata": {
    "collapsed": false
   },
   "outputs": [
    {
     "name": "stdout",
     "output_type": "stream",
     "text": [
      "(500, 7)\n",
      "Index([u'id', u'cookTimeInSeconds', u'ingredientCount', u'numberOfServings',\n",
      "       u'prepTimeInSeconds', u'totalTimeInSeconds'],\n",
      "      dtype='object')\n"
     ]
    },
    {
     "data": {
      "text/html": [
       "<div>\n",
       "<table border=\"1\" class=\"dataframe\">\n",
       "  <thead>\n",
       "    <tr style=\"text-align: right;\">\n",
       "      <th></th>\n",
       "      <th>id</th>\n",
       "      <th>cookTimeInSeconds</th>\n",
       "      <th>ingredientCount</th>\n",
       "      <th>numberOfServings</th>\n",
       "      <th>prepTimeInSeconds</th>\n",
       "      <th>totalTimeInSeconds</th>\n",
       "    </tr>\n",
       "  </thead>\n",
       "  <tbody>\n",
       "    <tr>\n",
       "      <th>0</th>\n",
       "      <td>Cheesy-Cauliflower-Soup-1710335</td>\n",
       "      <td>NaN</td>\n",
       "      <td>7</td>\n",
       "      <td>4</td>\n",
       "      <td>NaN</td>\n",
       "      <td>2100</td>\n",
       "    </tr>\n",
       "    <tr>\n",
       "      <th>1</th>\n",
       "      <td>Cauliflower-Chowder-1709202</td>\n",
       "      <td>NaN</td>\n",
       "      <td>14</td>\n",
       "      <td>6</td>\n",
       "      <td>NaN</td>\n",
       "      <td>3300</td>\n",
       "    </tr>\n",
       "    <tr>\n",
       "      <th>2</th>\n",
       "      <td>Creamy-White-Bean-Tomato-Soup---perfect-for-an...</td>\n",
       "      <td>NaN</td>\n",
       "      <td>5</td>\n",
       "      <td>4</td>\n",
       "      <td>NaN</td>\n",
       "      <td>1800</td>\n",
       "    </tr>\n",
       "  </tbody>\n",
       "</table>\n",
       "</div>"
      ],
      "text/plain": [
       "                                                  id  cookTimeInSeconds  \\\n",
       "0                    Cheesy-Cauliflower-Soup-1710335                NaN   \n",
       "1                        Cauliflower-Chowder-1709202                NaN   \n",
       "2  Creamy-White-Bean-Tomato-Soup---perfect-for-an...                NaN   \n",
       "\n",
       "   ingredientCount  numberOfServings  prepTimeInSeconds  totalTimeInSeconds  \n",
       "0                7                 4                NaN                2100  \n",
       "1               14                 6                NaN                3300  \n",
       "2                5                 4                NaN                1800  "
      ]
     },
     "execution_count": 82,
     "metadata": {},
     "output_type": "execute_result"
    }
   ],
   "source": [
    "print ddf.shape\n",
    "ddf = ddf.drop('Unnamed: 0', 1)\n",
    "print ddf.columns\n",
    "ddf.head(3)"
   ]
  },
  {
   "cell_type": "code",
   "execution_count": 83,
   "metadata": {
    "collapsed": false
   },
   "outputs": [
    {
     "name": "stdout",
     "output_type": "stream",
     "text": [
      "(500, 7)\n",
      "Index([u'id', u'cookTimeInSeconds', u'ingredientCount', u'numberOfServings',\n",
      "       u'prepTimeInSeconds', u'totalTimeInSeconds'],\n",
      "      dtype='object')\n"
     ]
    },
    {
     "data": {
      "text/html": [
       "<div>\n",
       "<table border=\"1\" class=\"dataframe\">\n",
       "  <thead>\n",
       "    <tr style=\"text-align: right;\">\n",
       "      <th></th>\n",
       "      <th>id</th>\n",
       "      <th>cookTimeInSeconds</th>\n",
       "      <th>ingredientCount</th>\n",
       "      <th>numberOfServings</th>\n",
       "      <th>prepTimeInSeconds</th>\n",
       "      <th>totalTimeInSeconds</th>\n",
       "    </tr>\n",
       "  </thead>\n",
       "  <tbody>\n",
       "    <tr>\n",
       "      <th>0</th>\n",
       "      <td>Coconut-chicken-soup-345533</td>\n",
       "      <td>NaN</td>\n",
       "      <td>10</td>\n",
       "      <td>4</td>\n",
       "      <td>NaN</td>\n",
       "      <td>1800.0</td>\n",
       "    </tr>\n",
       "    <tr>\n",
       "      <th>1</th>\n",
       "      <td>Okra-Soup-1707002</td>\n",
       "      <td>NaN</td>\n",
       "      <td>17</td>\n",
       "      <td>4</td>\n",
       "      <td>NaN</td>\n",
       "      <td>3900.0</td>\n",
       "    </tr>\n",
       "    <tr>\n",
       "      <th>2</th>\n",
       "      <td>Vegetable-_-Bean-Soup-1634117</td>\n",
       "      <td>NaN</td>\n",
       "      <td>11</td>\n",
       "      <td>4</td>\n",
       "      <td>NaN</td>\n",
       "      <td>3900.0</td>\n",
       "    </tr>\n",
       "  </tbody>\n",
       "</table>\n",
       "</div>"
      ],
      "text/plain": [
       "                              id  cookTimeInSeconds  ingredientCount  \\\n",
       "0    Coconut-chicken-soup-345533                NaN               10   \n",
       "1              Okra-Soup-1707002                NaN               17   \n",
       "2  Vegetable-_-Bean-Soup-1634117                NaN               11   \n",
       "\n",
       "   numberOfServings  prepTimeInSeconds  totalTimeInSeconds  \n",
       "0                 4                NaN              1800.0  \n",
       "1                 4                NaN              3900.0  \n",
       "2                 4                NaN              3900.0  "
      ]
     },
     "execution_count": 83,
     "metadata": {},
     "output_type": "execute_result"
    }
   ],
   "source": [
    "print ddf1.shape\n",
    "ddf1 = ddf1.drop('Unnamed: 0', 1)\n",
    "print ddf1.columns\n",
    "ddf1.head(3)"
   ]
  },
  {
   "cell_type": "code",
   "execution_count": 84,
   "metadata": {
    "collapsed": false
   },
   "outputs": [
    {
     "name": "stdout",
     "output_type": "stream",
     "text": [
      "(500, 7)\n",
      "Index([u'id', u'cookTimeInSeconds', u'ingredientCount', u'numberOfServings',\n",
      "       u'prepTimeInSeconds', u'totalTimeInSeconds'],\n",
      "      dtype='object')\n"
     ]
    },
    {
     "data": {
      "text/html": [
       "<div>\n",
       "<table border=\"1\" class=\"dataframe\">\n",
       "  <thead>\n",
       "    <tr style=\"text-align: right;\">\n",
       "      <th></th>\n",
       "      <th>id</th>\n",
       "      <th>cookTimeInSeconds</th>\n",
       "      <th>ingredientCount</th>\n",
       "      <th>numberOfServings</th>\n",
       "      <th>prepTimeInSeconds</th>\n",
       "      <th>totalTimeInSeconds</th>\n",
       "    </tr>\n",
       "  </thead>\n",
       "  <tbody>\n",
       "    <tr>\n",
       "      <th>0</th>\n",
       "      <td>Healthy-Carrot-_-Ginger-Soup-Maker-Soup-1521247</td>\n",
       "      <td>1500.0</td>\n",
       "      <td>8</td>\n",
       "      <td>2</td>\n",
       "      <td>900.0</td>\n",
       "      <td>2400</td>\n",
       "    </tr>\n",
       "    <tr>\n",
       "      <th>1</th>\n",
       "      <td>Italian-Orzo-Spinach-Soup-682577</td>\n",
       "      <td>NaN</td>\n",
       "      <td>14</td>\n",
       "      <td>5</td>\n",
       "      <td>NaN</td>\n",
       "      <td>3000</td>\n",
       "    </tr>\n",
       "    <tr>\n",
       "      <th>2</th>\n",
       "      <td>Creamy-Cauliflower-Soup-1625274</td>\n",
       "      <td>NaN</td>\n",
       "      <td>9</td>\n",
       "      <td>4</td>\n",
       "      <td>NaN</td>\n",
       "      <td>3000</td>\n",
       "    </tr>\n",
       "  </tbody>\n",
       "</table>\n",
       "</div>"
      ],
      "text/plain": [
       "                                                id  cookTimeInSeconds  \\\n",
       "0  Healthy-Carrot-_-Ginger-Soup-Maker-Soup-1521247             1500.0   \n",
       "1                 Italian-Orzo-Spinach-Soup-682577                NaN   \n",
       "2                  Creamy-Cauliflower-Soup-1625274                NaN   \n",
       "\n",
       "   ingredientCount  numberOfServings  prepTimeInSeconds  totalTimeInSeconds  \n",
       "0                8                 2              900.0                2400  \n",
       "1               14                 5                NaN                3000  \n",
       "2                9                 4                NaN                3000  "
      ]
     },
     "execution_count": 84,
     "metadata": {},
     "output_type": "execute_result"
    }
   ],
   "source": [
    "print ddf2.shape\n",
    "ddf2 = ddf2.drop('Unnamed: 0', 1)\n",
    "print ddf2.columns\n",
    "ddf2.head(3)"
   ]
  },
  {
   "cell_type": "code",
   "execution_count": 85,
   "metadata": {
    "collapsed": false
   },
   "outputs": [
    {
     "name": "stdout",
     "output_type": "stream",
     "text": [
      "(500, 7)\n",
      "Index([u'id', u'cookTimeInSeconds', u'ingredientCount', u'numberOfServings',\n",
      "       u'prepTimeInSeconds', u'totalTimeInSeconds'],\n",
      "      dtype='object')\n"
     ]
    },
    {
     "data": {
      "text/html": [
       "<div>\n",
       "<table border=\"1\" class=\"dataframe\">\n",
       "  <thead>\n",
       "    <tr style=\"text-align: right;\">\n",
       "      <th></th>\n",
       "      <th>id</th>\n",
       "      <th>cookTimeInSeconds</th>\n",
       "      <th>ingredientCount</th>\n",
       "      <th>numberOfServings</th>\n",
       "      <th>prepTimeInSeconds</th>\n",
       "      <th>totalTimeInSeconds</th>\n",
       "    </tr>\n",
       "  </thead>\n",
       "  <tbody>\n",
       "    <tr>\n",
       "      <th>0</th>\n",
       "      <td>Best-tomato-soup-345204</td>\n",
       "      <td>NaN</td>\n",
       "      <td>12</td>\n",
       "      <td>6</td>\n",
       "      <td>NaN</td>\n",
       "      <td>4500.0</td>\n",
       "    </tr>\n",
       "    <tr>\n",
       "      <th>1</th>\n",
       "      <td>Thai-Green-Curry-Spinach-Soup-763031</td>\n",
       "      <td>900.0</td>\n",
       "      <td>12</td>\n",
       "      <td>2</td>\n",
       "      <td>300.0</td>\n",
       "      <td>1200.0</td>\n",
       "    </tr>\n",
       "    <tr>\n",
       "      <th>2</th>\n",
       "      <td>Spinach-tofu-soup-348926</td>\n",
       "      <td>900.0</td>\n",
       "      <td>7</td>\n",
       "      <td>4</td>\n",
       "      <td>300.0</td>\n",
       "      <td>1200.0</td>\n",
       "    </tr>\n",
       "  </tbody>\n",
       "</table>\n",
       "</div>"
      ],
      "text/plain": [
       "                                     id  cookTimeInSeconds  ingredientCount  \\\n",
       "0               Best-tomato-soup-345204                NaN               12   \n",
       "1  Thai-Green-Curry-Spinach-Soup-763031              900.0               12   \n",
       "2              Spinach-tofu-soup-348926              900.0                7   \n",
       "\n",
       "   numberOfServings  prepTimeInSeconds  totalTimeInSeconds  \n",
       "0                 6                NaN              4500.0  \n",
       "1                 2              300.0              1200.0  \n",
       "2                 4              300.0              1200.0  "
      ]
     },
     "execution_count": 85,
     "metadata": {},
     "output_type": "execute_result"
    }
   ],
   "source": [
    "print ddf3.shape\n",
    "ddf3 = ddf3.drop('Unnamed: 0', 1)\n",
    "print ddf3.columns\n",
    "ddf3.head(3)"
   ]
  },
  {
   "cell_type": "code",
   "execution_count": 86,
   "metadata": {
    "collapsed": true
   },
   "outputs": [],
   "source": [
    "#concatenate the details tables. \n",
    "SP_details= pd.concat([ddf, ddf1, ddf2, ddf3])"
   ]
  },
  {
   "cell_type": "code",
   "execution_count": 87,
   "metadata": {
    "collapsed": false
   },
   "outputs": [
    {
     "name": "stdout",
     "output_type": "stream",
     "text": [
      "(2000, 6)\n"
     ]
    },
    {
     "data": {
      "text/html": [
       "<div>\n",
       "<table border=\"1\" class=\"dataframe\">\n",
       "  <thead>\n",
       "    <tr style=\"text-align: right;\">\n",
       "      <th></th>\n",
       "      <th>id</th>\n",
       "      <th>cookTimeInSeconds</th>\n",
       "      <th>ingredientCount</th>\n",
       "      <th>numberOfServings</th>\n",
       "      <th>prepTimeInSeconds</th>\n",
       "      <th>totalTimeInSeconds</th>\n",
       "    </tr>\n",
       "  </thead>\n",
       "  <tbody>\n",
       "    <tr>\n",
       "      <th>203</th>\n",
       "      <td>0_-of-the-calories_-Beet-soup-1684369</td>\n",
       "      <td>NaN</td>\n",
       "      <td>7</td>\n",
       "      <td>4</td>\n",
       "      <td>NaN</td>\n",
       "      <td>3000.0</td>\n",
       "    </tr>\n",
       "    <tr>\n",
       "      <th>69</th>\n",
       "      <td>10-Minute-Creamy-Cauliflower-Soup-988293</td>\n",
       "      <td>NaN</td>\n",
       "      <td>7</td>\n",
       "      <td>4</td>\n",
       "      <td>NaN</td>\n",
       "      <td>1800.0</td>\n",
       "    </tr>\n",
       "    <tr>\n",
       "      <th>136</th>\n",
       "      <td>10-Minute-Paleo-Tomato-Soup-1006193</td>\n",
       "      <td>NaN</td>\n",
       "      <td>7</td>\n",
       "      <td>4</td>\n",
       "      <td>NaN</td>\n",
       "      <td>1200.0</td>\n",
       "    </tr>\n",
       "  </tbody>\n",
       "</table>\n",
       "</div>"
      ],
      "text/plain": [
       "                                           id  cookTimeInSeconds  \\\n",
       "203     0_-of-the-calories_-Beet-soup-1684369                NaN   \n",
       "69   10-Minute-Creamy-Cauliflower-Soup-988293                NaN   \n",
       "136       10-Minute-Paleo-Tomato-Soup-1006193                NaN   \n",
       "\n",
       "     ingredientCount  numberOfServings  prepTimeInSeconds  totalTimeInSeconds  \n",
       "203                7                 4                NaN              3000.0  \n",
       "69                 7                 4                NaN              1800.0  \n",
       "136                7                 4                NaN              1200.0  "
      ]
     },
     "execution_count": 87,
     "metadata": {},
     "output_type": "execute_result"
    }
   ],
   "source": [
    "#peek at dataframe\n",
    "print SP_details.shape\n",
    "SP_details = SP_details.sort_values(by = 'id')\n",
    "SP_details.head(3)"
   ]
  },
  {
   "cell_type": "code",
   "execution_count": 88,
   "metadata": {
    "collapsed": false
   },
   "outputs": [
    {
     "data": {
      "text/plain": [
       "975"
      ]
     },
     "execution_count": 88,
     "metadata": {},
     "output_type": "execute_result"
    }
   ],
   "source": [
    "len([i for i, j in zip(SP_main.id, SP_details.id) if i == j])"
   ]
  },
  {
   "cell_type": "code",
   "execution_count": 89,
   "metadata": {
    "collapsed": false
   },
   "outputs": [
    {
     "name": "stdout",
     "output_type": "stream",
     "text": [
      "True\n",
      "True\n"
     ]
    },
    {
     "data": {
      "text/plain": [
       "(1998, 6)"
      ]
     },
     "execution_count": 89,
     "metadata": {},
     "output_type": "execute_result"
    }
   ],
   "source": [
    "for i in SP_details.duplicated('id'):\n",
    "    if i == True:\n",
    "        print i\n",
    "SP_details = SP_details.drop_duplicates('id')\n",
    "SP_details.shape"
   ]
  },
  {
   "cell_type": "markdown",
   "metadata": {},
   "source": [
    "* ***Ingredients***"
   ]
  },
  {
   "cell_type": "code",
   "execution_count": 90,
   "metadata": {
    "collapsed": true
   },
   "outputs": [],
   "source": [
    "idf = pd.read_csv('SP_ingredients.csv')\n",
    "idf1 = pd.read_csv('SP_ingredients_1.csv')\n",
    "idf2 = pd.read_csv('SP_ingredients_2.csv')\n",
    "idf3 = pd.read_csv('SP_ingredients_3.csv')"
   ]
  },
  {
   "cell_type": "code",
   "execution_count": 91,
   "metadata": {
    "collapsed": false
   },
   "outputs": [
    {
     "name": "stdout",
     "output_type": "stream",
     "text": [
      "500\n",
      "500\n",
      "500\n"
     ]
    }
   ],
   "source": [
    "print len(set(idf1.id) & set(ddf1.id))\n",
    "print len(set(idf2.id) & set(ddf2.id))\n",
    "print len(set(idf3.id) & set(ddf3.id))\n",
    " "
   ]
  },
  {
   "cell_type": "code",
   "execution_count": 92,
   "metadata": {
    "collapsed": false
   },
   "outputs": [
    {
     "name": "stdout",
     "output_type": "stream",
     "text": [
      "(500, 838)\n",
      "Index([u'id', u'course', u'acorn squash', u'agave nectar',\n",
      "       u'aged cheddar cheese', u'all purpose potatoes', u'all-purpose flour',\n",
      "       u'allspice', u'allspice berries', u'almond extract',\n",
      "       ...\n",
      "       u'worcestershire sauce', u'yellow bell pepper', u'yellow onion',\n",
      "       u'yellow peppers', u'yellow split peas', u'yellow squash', u'yoghurt',\n",
      "       u'yukon gold potatoes', u'zest', u'zucchini'],\n",
      "      dtype='object', length=837)\n"
     ]
    },
    {
     "data": {
      "text/html": [
       "<div>\n",
       "<table border=\"1\" class=\"dataframe\">\n",
       "  <thead>\n",
       "    <tr style=\"text-align: right;\">\n",
       "      <th></th>\n",
       "      <th>id</th>\n",
       "      <th>course</th>\n",
       "      <th>acorn squash</th>\n",
       "      <th>agave nectar</th>\n",
       "      <th>aged cheddar cheese</th>\n",
       "      <th>all purpose potatoes</th>\n",
       "      <th>all-purpose flour</th>\n",
       "      <th>allspice</th>\n",
       "      <th>allspice berries</th>\n",
       "      <th>almond extract</th>\n",
       "      <th>...</th>\n",
       "      <th>worcestershire sauce</th>\n",
       "      <th>yellow bell pepper</th>\n",
       "      <th>yellow onion</th>\n",
       "      <th>yellow peppers</th>\n",
       "      <th>yellow split peas</th>\n",
       "      <th>yellow squash</th>\n",
       "      <th>yoghurt</th>\n",
       "      <th>yukon gold potatoes</th>\n",
       "      <th>zest</th>\n",
       "      <th>zucchini</th>\n",
       "    </tr>\n",
       "  </thead>\n",
       "  <tbody>\n",
       "    <tr>\n",
       "      <th>0</th>\n",
       "      <td>Cheesy-Cauliflower-Soup-1710335</td>\n",
       "      <td>Breakfast and Brunch</td>\n",
       "      <td>0.0</td>\n",
       "      <td>0.0</td>\n",
       "      <td>0.0</td>\n",
       "      <td>0.0</td>\n",
       "      <td>0.0</td>\n",
       "      <td>0.0</td>\n",
       "      <td>0.0</td>\n",
       "      <td>0.0</td>\n",
       "      <td>...</td>\n",
       "      <td>0.0</td>\n",
       "      <td>0.0</td>\n",
       "      <td>0.0</td>\n",
       "      <td>0.0</td>\n",
       "      <td>0.0</td>\n",
       "      <td>0.0</td>\n",
       "      <td>0.0</td>\n",
       "      <td>0.0</td>\n",
       "      <td>0.0</td>\n",
       "      <td>0.0</td>\n",
       "    </tr>\n",
       "    <tr>\n",
       "      <th>1</th>\n",
       "      <td>Cauliflower-Chowder-1709202</td>\n",
       "      <td>Breakfast and Brunch</td>\n",
       "      <td>0.0</td>\n",
       "      <td>0.0</td>\n",
       "      <td>0.0</td>\n",
       "      <td>0.0</td>\n",
       "      <td>0.0</td>\n",
       "      <td>0.0</td>\n",
       "      <td>0.0</td>\n",
       "      <td>0.0</td>\n",
       "      <td>...</td>\n",
       "      <td>0.0</td>\n",
       "      <td>0.0</td>\n",
       "      <td>0.0</td>\n",
       "      <td>0.0</td>\n",
       "      <td>0.0</td>\n",
       "      <td>0.0</td>\n",
       "      <td>0.0</td>\n",
       "      <td>0.0</td>\n",
       "      <td>0.0</td>\n",
       "      <td>0.0</td>\n",
       "    </tr>\n",
       "    <tr>\n",
       "      <th>2</th>\n",
       "      <td>Creamy-White-Bean-Tomato-Soup---perfect-for-an...</td>\n",
       "      <td>Breakfast and Brunch</td>\n",
       "      <td>0.0</td>\n",
       "      <td>0.0</td>\n",
       "      <td>0.0</td>\n",
       "      <td>0.0</td>\n",
       "      <td>0.0</td>\n",
       "      <td>0.0</td>\n",
       "      <td>0.0</td>\n",
       "      <td>0.0</td>\n",
       "      <td>...</td>\n",
       "      <td>0.0</td>\n",
       "      <td>0.0</td>\n",
       "      <td>0.0</td>\n",
       "      <td>0.0</td>\n",
       "      <td>0.0</td>\n",
       "      <td>0.0</td>\n",
       "      <td>0.0</td>\n",
       "      <td>0.0</td>\n",
       "      <td>0.0</td>\n",
       "      <td>0.0</td>\n",
       "    </tr>\n",
       "  </tbody>\n",
       "</table>\n",
       "<p>3 rows × 837 columns</p>\n",
       "</div>"
      ],
      "text/plain": [
       "                                                  id                course  \\\n",
       "0                    Cheesy-Cauliflower-Soup-1710335  Breakfast and Brunch   \n",
       "1                        Cauliflower-Chowder-1709202  Breakfast and Brunch   \n",
       "2  Creamy-White-Bean-Tomato-Soup---perfect-for-an...  Breakfast and Brunch   \n",
       "\n",
       "   acorn squash  agave nectar  aged cheddar cheese  all purpose potatoes  \\\n",
       "0           0.0           0.0                  0.0                   0.0   \n",
       "1           0.0           0.0                  0.0                   0.0   \n",
       "2           0.0           0.0                  0.0                   0.0   \n",
       "\n",
       "   all-purpose flour  allspice  allspice berries  almond extract    ...     \\\n",
       "0                0.0       0.0               0.0             0.0    ...      \n",
       "1                0.0       0.0               0.0             0.0    ...      \n",
       "2                0.0       0.0               0.0             0.0    ...      \n",
       "\n",
       "   worcestershire sauce  yellow bell pepper  yellow onion  yellow peppers  \\\n",
       "0                   0.0                 0.0           0.0             0.0   \n",
       "1                   0.0                 0.0           0.0             0.0   \n",
       "2                   0.0                 0.0           0.0             0.0   \n",
       "\n",
       "   yellow split peas  yellow squash  yoghurt  yukon gold potatoes  zest  \\\n",
       "0                0.0            0.0      0.0                  0.0   0.0   \n",
       "1                0.0            0.0      0.0                  0.0   0.0   \n",
       "2                0.0            0.0      0.0                  0.0   0.0   \n",
       "\n",
       "   zucchini  \n",
       "0       0.0  \n",
       "1       0.0  \n",
       "2       0.0  \n",
       "\n",
       "[3 rows x 837 columns]"
      ]
     },
     "execution_count": 92,
     "metadata": {},
     "output_type": "execute_result"
    }
   ],
   "source": [
    "print idf.shape\n",
    "idf = idf.drop('Unnamed: 0', 1)\n",
    "print idf.columns\n",
    "idf.head(3)"
   ]
  },
  {
   "cell_type": "code",
   "execution_count": 93,
   "metadata": {
    "collapsed": false
   },
   "outputs": [
    {
     "name": "stdout",
     "output_type": "stream",
     "text": [
      "(500, 801)\n",
      "Index([u'id', u'course', u'acorn squash', u'agave nectar', u'ale',\n",
      "       u'all-purpose flour', u'allspice', u'almond milk', u'almonds',\n",
      "       u'ancho chili pepper',\n",
      "       ...\n",
      "       u'yellow corn', u'yellow food coloring', u'yellow onion',\n",
      "       u'yellow peppers', u'yellow split peas', u'yellow squash',\n",
      "       u'yellow tomato', u'yoghurt', u'yukon gold potatoes', u'zucchini'],\n",
      "      dtype='object', length=800)\n"
     ]
    },
    {
     "data": {
      "text/html": [
       "<div>\n",
       "<table border=\"1\" class=\"dataframe\">\n",
       "  <thead>\n",
       "    <tr style=\"text-align: right;\">\n",
       "      <th></th>\n",
       "      <th>id</th>\n",
       "      <th>course</th>\n",
       "      <th>acorn squash</th>\n",
       "      <th>agave nectar</th>\n",
       "      <th>ale</th>\n",
       "      <th>all-purpose flour</th>\n",
       "      <th>allspice</th>\n",
       "      <th>almond milk</th>\n",
       "      <th>almonds</th>\n",
       "      <th>ancho chili pepper</th>\n",
       "      <th>...</th>\n",
       "      <th>yellow corn</th>\n",
       "      <th>yellow food coloring</th>\n",
       "      <th>yellow onion</th>\n",
       "      <th>yellow peppers</th>\n",
       "      <th>yellow split peas</th>\n",
       "      <th>yellow squash</th>\n",
       "      <th>yellow tomato</th>\n",
       "      <th>yoghurt</th>\n",
       "      <th>yukon gold potatoes</th>\n",
       "      <th>zucchini</th>\n",
       "    </tr>\n",
       "  </thead>\n",
       "  <tbody>\n",
       "    <tr>\n",
       "      <th>0</th>\n",
       "      <td>Coconut-chicken-soup-345533</td>\n",
       "      <td>Breakfast and Brunch</td>\n",
       "      <td>0.0</td>\n",
       "      <td>1.0</td>\n",
       "      <td>0.0</td>\n",
       "      <td>0.0</td>\n",
       "      <td>0.0</td>\n",
       "      <td>0.0</td>\n",
       "      <td>0.0</td>\n",
       "      <td>0.0</td>\n",
       "      <td>...</td>\n",
       "      <td>0.0</td>\n",
       "      <td>0.0</td>\n",
       "      <td>0.0</td>\n",
       "      <td>0.0</td>\n",
       "      <td>0.0</td>\n",
       "      <td>0.0</td>\n",
       "      <td>0.0</td>\n",
       "      <td>0.0</td>\n",
       "      <td>0.0</td>\n",
       "      <td>0.0</td>\n",
       "    </tr>\n",
       "    <tr>\n",
       "      <th>1</th>\n",
       "      <td>Okra-Soup-1707002</td>\n",
       "      <td>Breakfast and Brunch</td>\n",
       "      <td>0.0</td>\n",
       "      <td>0.0</td>\n",
       "      <td>0.0</td>\n",
       "      <td>0.0</td>\n",
       "      <td>0.0</td>\n",
       "      <td>0.0</td>\n",
       "      <td>0.0</td>\n",
       "      <td>0.0</td>\n",
       "      <td>...</td>\n",
       "      <td>0.0</td>\n",
       "      <td>0.0</td>\n",
       "      <td>0.0</td>\n",
       "      <td>0.0</td>\n",
       "      <td>0.0</td>\n",
       "      <td>0.0</td>\n",
       "      <td>0.0</td>\n",
       "      <td>0.0</td>\n",
       "      <td>0.0</td>\n",
       "      <td>0.0</td>\n",
       "    </tr>\n",
       "    <tr>\n",
       "      <th>2</th>\n",
       "      <td>Vegetable-_-Bean-Soup-1634117</td>\n",
       "      <td>Breakfast and Brunch</td>\n",
       "      <td>0.0</td>\n",
       "      <td>0.0</td>\n",
       "      <td>0.0</td>\n",
       "      <td>0.0</td>\n",
       "      <td>0.0</td>\n",
       "      <td>0.0</td>\n",
       "      <td>0.0</td>\n",
       "      <td>0.0</td>\n",
       "      <td>...</td>\n",
       "      <td>0.0</td>\n",
       "      <td>0.0</td>\n",
       "      <td>0.0</td>\n",
       "      <td>0.0</td>\n",
       "      <td>0.0</td>\n",
       "      <td>0.0</td>\n",
       "      <td>0.0</td>\n",
       "      <td>0.0</td>\n",
       "      <td>0.0</td>\n",
       "      <td>0.0</td>\n",
       "    </tr>\n",
       "  </tbody>\n",
       "</table>\n",
       "<p>3 rows × 800 columns</p>\n",
       "</div>"
      ],
      "text/plain": [
       "                              id                course  acorn squash  \\\n",
       "0    Coconut-chicken-soup-345533  Breakfast and Brunch           0.0   \n",
       "1              Okra-Soup-1707002  Breakfast and Brunch           0.0   \n",
       "2  Vegetable-_-Bean-Soup-1634117  Breakfast and Brunch           0.0   \n",
       "\n",
       "   agave nectar  ale  all-purpose flour  allspice  almond milk  almonds  \\\n",
       "0           1.0  0.0                0.0       0.0          0.0      0.0   \n",
       "1           0.0  0.0                0.0       0.0          0.0      0.0   \n",
       "2           0.0  0.0                0.0       0.0          0.0      0.0   \n",
       "\n",
       "   ancho chili pepper    ...     yellow corn  yellow food coloring  \\\n",
       "0                 0.0    ...             0.0                   0.0   \n",
       "1                 0.0    ...             0.0                   0.0   \n",
       "2                 0.0    ...             0.0                   0.0   \n",
       "\n",
       "   yellow onion  yellow peppers  yellow split peas  yellow squash  \\\n",
       "0           0.0             0.0                0.0            0.0   \n",
       "1           0.0             0.0                0.0            0.0   \n",
       "2           0.0             0.0                0.0            0.0   \n",
       "\n",
       "   yellow tomato  yoghurt  yukon gold potatoes  zucchini  \n",
       "0            0.0      0.0                  0.0       0.0  \n",
       "1            0.0      0.0                  0.0       0.0  \n",
       "2            0.0      0.0                  0.0       0.0  \n",
       "\n",
       "[3 rows x 800 columns]"
      ]
     },
     "execution_count": 93,
     "metadata": {},
     "output_type": "execute_result"
    }
   ],
   "source": [
    "print idf1.shape\n",
    "idf1 = idf1.drop('Unnamed: 0', 1)\n",
    "print idf1.columns\n",
    "idf1.head(3)"
   ]
  },
  {
   "cell_type": "code",
   "execution_count": 94,
   "metadata": {
    "collapsed": false
   },
   "outputs": [
    {
     "name": "stdout",
     "output_type": "stream",
     "text": [
      "(500, 795)\n",
      "Index([u'id', u'course', u'a1 steak sauce', u'all-purpose flour', u'allspice',\n",
      "       u'allspice berries', u'almond milk', u'almonds', u'alphabet pasta',\n",
      "       u'american cheese',\n",
      "       ...\n",
      "       u'worcestershire sauce', u'yeast', u'yellow hominy', u'yellow miso',\n",
      "       u'yellow onion', u'yellow peppers', u'yellow squash', u'yoghurt',\n",
      "       u'yukon gold potatoes', u'zucchini'],\n",
      "      dtype='object', length=794)\n"
     ]
    },
    {
     "data": {
      "text/html": [
       "<div>\n",
       "<table border=\"1\" class=\"dataframe\">\n",
       "  <thead>\n",
       "    <tr style=\"text-align: right;\">\n",
       "      <th></th>\n",
       "      <th>id</th>\n",
       "      <th>course</th>\n",
       "      <th>a1 steak sauce</th>\n",
       "      <th>all-purpose flour</th>\n",
       "      <th>allspice</th>\n",
       "      <th>allspice berries</th>\n",
       "      <th>almond milk</th>\n",
       "      <th>almonds</th>\n",
       "      <th>alphabet pasta</th>\n",
       "      <th>american cheese</th>\n",
       "      <th>...</th>\n",
       "      <th>worcestershire sauce</th>\n",
       "      <th>yeast</th>\n",
       "      <th>yellow hominy</th>\n",
       "      <th>yellow miso</th>\n",
       "      <th>yellow onion</th>\n",
       "      <th>yellow peppers</th>\n",
       "      <th>yellow squash</th>\n",
       "      <th>yoghurt</th>\n",
       "      <th>yukon gold potatoes</th>\n",
       "      <th>zucchini</th>\n",
       "    </tr>\n",
       "  </thead>\n",
       "  <tbody>\n",
       "    <tr>\n",
       "      <th>0</th>\n",
       "      <td>Healthy-Carrot-_-Ginger-Soup-Maker-Soup-1521247</td>\n",
       "      <td>Breakfast and Brunch</td>\n",
       "      <td>0.0</td>\n",
       "      <td>0.0</td>\n",
       "      <td>0.0</td>\n",
       "      <td>0.0</td>\n",
       "      <td>0.0</td>\n",
       "      <td>0.0</td>\n",
       "      <td>0.0</td>\n",
       "      <td>0.0</td>\n",
       "      <td>...</td>\n",
       "      <td>0.0</td>\n",
       "      <td>0.0</td>\n",
       "      <td>0.0</td>\n",
       "      <td>0.0</td>\n",
       "      <td>0.0</td>\n",
       "      <td>0.0</td>\n",
       "      <td>0.0</td>\n",
       "      <td>0.0</td>\n",
       "      <td>0.0</td>\n",
       "      <td>0.0</td>\n",
       "    </tr>\n",
       "    <tr>\n",
       "      <th>1</th>\n",
       "      <td>Italian-Orzo-Spinach-Soup-682577</td>\n",
       "      <td>Breakfast and Brunch</td>\n",
       "      <td>0.0</td>\n",
       "      <td>0.0</td>\n",
       "      <td>0.0</td>\n",
       "      <td>0.0</td>\n",
       "      <td>0.0</td>\n",
       "      <td>0.0</td>\n",
       "      <td>0.0</td>\n",
       "      <td>0.0</td>\n",
       "      <td>...</td>\n",
       "      <td>0.0</td>\n",
       "      <td>0.0</td>\n",
       "      <td>0.0</td>\n",
       "      <td>0.0</td>\n",
       "      <td>0.0</td>\n",
       "      <td>0.0</td>\n",
       "      <td>0.0</td>\n",
       "      <td>0.0</td>\n",
       "      <td>0.0</td>\n",
       "      <td>0.0</td>\n",
       "    </tr>\n",
       "    <tr>\n",
       "      <th>2</th>\n",
       "      <td>Creamy-Cauliflower-Soup-1625274</td>\n",
       "      <td>Breakfast and Brunch</td>\n",
       "      <td>0.0</td>\n",
       "      <td>1.0</td>\n",
       "      <td>0.0</td>\n",
       "      <td>0.0</td>\n",
       "      <td>0.0</td>\n",
       "      <td>0.0</td>\n",
       "      <td>0.0</td>\n",
       "      <td>0.0</td>\n",
       "      <td>...</td>\n",
       "      <td>0.0</td>\n",
       "      <td>0.0</td>\n",
       "      <td>0.0</td>\n",
       "      <td>0.0</td>\n",
       "      <td>0.0</td>\n",
       "      <td>0.0</td>\n",
       "      <td>0.0</td>\n",
       "      <td>0.0</td>\n",
       "      <td>0.0</td>\n",
       "      <td>0.0</td>\n",
       "    </tr>\n",
       "  </tbody>\n",
       "</table>\n",
       "<p>3 rows × 794 columns</p>\n",
       "</div>"
      ],
      "text/plain": [
       "                                                id                course  \\\n",
       "0  Healthy-Carrot-_-Ginger-Soup-Maker-Soup-1521247  Breakfast and Brunch   \n",
       "1                 Italian-Orzo-Spinach-Soup-682577  Breakfast and Brunch   \n",
       "2                  Creamy-Cauliflower-Soup-1625274  Breakfast and Brunch   \n",
       "\n",
       "   a1 steak sauce  all-purpose flour  allspice  allspice berries  almond milk  \\\n",
       "0             0.0                0.0       0.0               0.0          0.0   \n",
       "1             0.0                0.0       0.0               0.0          0.0   \n",
       "2             0.0                1.0       0.0               0.0          0.0   \n",
       "\n",
       "   almonds  alphabet pasta  american cheese    ...     worcestershire sauce  \\\n",
       "0      0.0             0.0              0.0    ...                      0.0   \n",
       "1      0.0             0.0              0.0    ...                      0.0   \n",
       "2      0.0             0.0              0.0    ...                      0.0   \n",
       "\n",
       "   yeast  yellow hominy  yellow miso  yellow onion  yellow peppers  \\\n",
       "0    0.0            0.0          0.0           0.0             0.0   \n",
       "1    0.0            0.0          0.0           0.0             0.0   \n",
       "2    0.0            0.0          0.0           0.0             0.0   \n",
       "\n",
       "   yellow squash  yoghurt  yukon gold potatoes  zucchini  \n",
       "0            0.0      0.0                  0.0       0.0  \n",
       "1            0.0      0.0                  0.0       0.0  \n",
       "2            0.0      0.0                  0.0       0.0  \n",
       "\n",
       "[3 rows x 794 columns]"
      ]
     },
     "execution_count": 94,
     "metadata": {},
     "output_type": "execute_result"
    }
   ],
   "source": [
    "print idf2.shape\n",
    "idf2 = idf2.drop('Unnamed: 0', 1)\n",
    "print idf2.columns\n",
    "idf2.head(3)"
   ]
  },
  {
   "cell_type": "code",
   "execution_count": 95,
   "metadata": {
    "collapsed": false
   },
   "outputs": [
    {
     "name": "stdout",
     "output_type": "stream",
     "text": [
      "(500, 778)\n",
      "Index([u'id', u'course', u'acorn squash', u'ale', u'all purpose potatoes',\n",
      "       u'all purpose seasoning', u'all-purpose flour', u'allspice',\n",
      "       u'almond butter', u'almond milk',\n",
      "       ...\n",
      "       u'xanthan gum', u'yams', u'yeast', u'yellow mustard seeds',\n",
      "       u'yellow onion', u'yellow split peas', u'yellow squash', u'yoghurt',\n",
      "       u'yukon gold potatoes', u'zucchini'],\n",
      "      dtype='object', length=777)\n"
     ]
    },
    {
     "data": {
      "text/html": [
       "<div>\n",
       "<table border=\"1\" class=\"dataframe\">\n",
       "  <thead>\n",
       "    <tr style=\"text-align: right;\">\n",
       "      <th></th>\n",
       "      <th>id</th>\n",
       "      <th>course</th>\n",
       "      <th>acorn squash</th>\n",
       "      <th>ale</th>\n",
       "      <th>all purpose potatoes</th>\n",
       "      <th>all purpose seasoning</th>\n",
       "      <th>all-purpose flour</th>\n",
       "      <th>allspice</th>\n",
       "      <th>almond butter</th>\n",
       "      <th>almond milk</th>\n",
       "      <th>...</th>\n",
       "      <th>xanthan gum</th>\n",
       "      <th>yams</th>\n",
       "      <th>yeast</th>\n",
       "      <th>yellow mustard seeds</th>\n",
       "      <th>yellow onion</th>\n",
       "      <th>yellow split peas</th>\n",
       "      <th>yellow squash</th>\n",
       "      <th>yoghurt</th>\n",
       "      <th>yukon gold potatoes</th>\n",
       "      <th>zucchini</th>\n",
       "    </tr>\n",
       "  </thead>\n",
       "  <tbody>\n",
       "    <tr>\n",
       "      <th>0</th>\n",
       "      <td>Best-tomato-soup-345204</td>\n",
       "      <td>Breakfast and Brunch</td>\n",
       "      <td>0.0</td>\n",
       "      <td>0.0</td>\n",
       "      <td>0.0</td>\n",
       "      <td>0.0</td>\n",
       "      <td>1.0</td>\n",
       "      <td>1.0</td>\n",
       "      <td>0.0</td>\n",
       "      <td>0.0</td>\n",
       "      <td>...</td>\n",
       "      <td>0.0</td>\n",
       "      <td>0.0</td>\n",
       "      <td>0.0</td>\n",
       "      <td>0.0</td>\n",
       "      <td>0.0</td>\n",
       "      <td>0.0</td>\n",
       "      <td>0.0</td>\n",
       "      <td>0.0</td>\n",
       "      <td>0.0</td>\n",
       "      <td>0.0</td>\n",
       "    </tr>\n",
       "    <tr>\n",
       "      <th>1</th>\n",
       "      <td>Thai-Green-Curry-Spinach-Soup-763031</td>\n",
       "      <td>Breakfast and Brunch</td>\n",
       "      <td>0.0</td>\n",
       "      <td>0.0</td>\n",
       "      <td>0.0</td>\n",
       "      <td>0.0</td>\n",
       "      <td>0.0</td>\n",
       "      <td>0.0</td>\n",
       "      <td>0.0</td>\n",
       "      <td>0.0</td>\n",
       "      <td>...</td>\n",
       "      <td>0.0</td>\n",
       "      <td>0.0</td>\n",
       "      <td>0.0</td>\n",
       "      <td>0.0</td>\n",
       "      <td>0.0</td>\n",
       "      <td>0.0</td>\n",
       "      <td>0.0</td>\n",
       "      <td>0.0</td>\n",
       "      <td>0.0</td>\n",
       "      <td>0.0</td>\n",
       "    </tr>\n",
       "    <tr>\n",
       "      <th>2</th>\n",
       "      <td>Spinach-tofu-soup-348926</td>\n",
       "      <td>Breakfast and Brunch</td>\n",
       "      <td>0.0</td>\n",
       "      <td>0.0</td>\n",
       "      <td>0.0</td>\n",
       "      <td>0.0</td>\n",
       "      <td>0.0</td>\n",
       "      <td>0.0</td>\n",
       "      <td>0.0</td>\n",
       "      <td>0.0</td>\n",
       "      <td>...</td>\n",
       "      <td>0.0</td>\n",
       "      <td>0.0</td>\n",
       "      <td>0.0</td>\n",
       "      <td>0.0</td>\n",
       "      <td>0.0</td>\n",
       "      <td>0.0</td>\n",
       "      <td>0.0</td>\n",
       "      <td>0.0</td>\n",
       "      <td>0.0</td>\n",
       "      <td>0.0</td>\n",
       "    </tr>\n",
       "  </tbody>\n",
       "</table>\n",
       "<p>3 rows × 777 columns</p>\n",
       "</div>"
      ],
      "text/plain": [
       "                                     id                course  acorn squash  \\\n",
       "0               Best-tomato-soup-345204  Breakfast and Brunch           0.0   \n",
       "1  Thai-Green-Curry-Spinach-Soup-763031  Breakfast and Brunch           0.0   \n",
       "2              Spinach-tofu-soup-348926  Breakfast and Brunch           0.0   \n",
       "\n",
       "   ale  all purpose potatoes  all purpose seasoning  all-purpose flour  \\\n",
       "0  0.0                   0.0                    0.0                1.0   \n",
       "1  0.0                   0.0                    0.0                0.0   \n",
       "2  0.0                   0.0                    0.0                0.0   \n",
       "\n",
       "   allspice  almond butter  almond milk    ...     xanthan gum  yams  yeast  \\\n",
       "0       1.0            0.0          0.0    ...             0.0   0.0    0.0   \n",
       "1       0.0            0.0          0.0    ...             0.0   0.0    0.0   \n",
       "2       0.0            0.0          0.0    ...             0.0   0.0    0.0   \n",
       "\n",
       "   yellow mustard seeds  yellow onion  yellow split peas  yellow squash  \\\n",
       "0                   0.0           0.0                0.0            0.0   \n",
       "1                   0.0           0.0                0.0            0.0   \n",
       "2                   0.0           0.0                0.0            0.0   \n",
       "\n",
       "   yoghurt  yukon gold potatoes  zucchini  \n",
       "0      0.0                  0.0       0.0  \n",
       "1      0.0                  0.0       0.0  \n",
       "2      0.0                  0.0       0.0  \n",
       "\n",
       "[3 rows x 777 columns]"
      ]
     },
     "execution_count": 95,
     "metadata": {},
     "output_type": "execute_result"
    }
   ],
   "source": [
    "print idf3.shape\n",
    "idf3 = idf3.drop('Unnamed: 0', 1)\n",
    "print idf3.columns\n",
    "idf3.head(3)"
   ]
  },
  {
   "cell_type": "code",
   "execution_count": 96,
   "metadata": {
    "collapsed": false
   },
   "outputs": [],
   "source": [
    "#concatenate the ingredients tables. \n",
    "SP_ing= pd.concat([idf, idf1, idf2, idf3])\n",
    "#create a new dataframe with selected columns\n",
    "SP_ing_reduced = SP_ing[['id', 'ingredient_list']]"
   ]
  },
  {
   "cell_type": "code",
   "execution_count": 97,
   "metadata": {
    "collapsed": false
   },
   "outputs": [
    {
     "name": "stdout",
     "output_type": "stream",
     "text": [
      "(2000, 1515)\n"
     ]
    },
    {
     "data": {
      "text/html": [
       "<div>\n",
       "<table border=\"1\" class=\"dataframe\">\n",
       "  <thead>\n",
       "    <tr style=\"text-align: right;\">\n",
       "      <th></th>\n",
       "      <th>a1 steak sauce</th>\n",
       "      <th>acorn squash</th>\n",
       "      <th>agave nectar</th>\n",
       "      <th>aged cheddar cheese</th>\n",
       "      <th>ale</th>\n",
       "      <th>all purpose potatoes</th>\n",
       "      <th>all purpose seasoning</th>\n",
       "      <th>all-purpose flour</th>\n",
       "      <th>allspice</th>\n",
       "      <th>allspice berries</th>\n",
       "      <th>...</th>\n",
       "      <th>yellow mustard seeds</th>\n",
       "      <th>yellow onion</th>\n",
       "      <th>yellow peppers</th>\n",
       "      <th>yellow split peas</th>\n",
       "      <th>yellow squash</th>\n",
       "      <th>yellow tomato</th>\n",
       "      <th>yoghurt</th>\n",
       "      <th>yukon gold potatoes</th>\n",
       "      <th>zest</th>\n",
       "      <th>zucchini</th>\n",
       "    </tr>\n",
       "  </thead>\n",
       "  <tbody>\n",
       "    <tr>\n",
       "      <th>0</th>\n",
       "      <td>NaN</td>\n",
       "      <td>0.0</td>\n",
       "      <td>0.0</td>\n",
       "      <td>0.0</td>\n",
       "      <td>NaN</td>\n",
       "      <td>0.0</td>\n",
       "      <td>NaN</td>\n",
       "      <td>0.0</td>\n",
       "      <td>0.0</td>\n",
       "      <td>0.0</td>\n",
       "      <td>...</td>\n",
       "      <td>NaN</td>\n",
       "      <td>0.0</td>\n",
       "      <td>0.0</td>\n",
       "      <td>0.0</td>\n",
       "      <td>0.0</td>\n",
       "      <td>NaN</td>\n",
       "      <td>0.0</td>\n",
       "      <td>0.0</td>\n",
       "      <td>0.0</td>\n",
       "      <td>0.0</td>\n",
       "    </tr>\n",
       "    <tr>\n",
       "      <th>1</th>\n",
       "      <td>NaN</td>\n",
       "      <td>0.0</td>\n",
       "      <td>0.0</td>\n",
       "      <td>0.0</td>\n",
       "      <td>NaN</td>\n",
       "      <td>0.0</td>\n",
       "      <td>NaN</td>\n",
       "      <td>0.0</td>\n",
       "      <td>0.0</td>\n",
       "      <td>0.0</td>\n",
       "      <td>...</td>\n",
       "      <td>NaN</td>\n",
       "      <td>0.0</td>\n",
       "      <td>0.0</td>\n",
       "      <td>0.0</td>\n",
       "      <td>0.0</td>\n",
       "      <td>NaN</td>\n",
       "      <td>0.0</td>\n",
       "      <td>0.0</td>\n",
       "      <td>0.0</td>\n",
       "      <td>0.0</td>\n",
       "    </tr>\n",
       "    <tr>\n",
       "      <th>2</th>\n",
       "      <td>NaN</td>\n",
       "      <td>0.0</td>\n",
       "      <td>0.0</td>\n",
       "      <td>0.0</td>\n",
       "      <td>NaN</td>\n",
       "      <td>0.0</td>\n",
       "      <td>NaN</td>\n",
       "      <td>0.0</td>\n",
       "      <td>0.0</td>\n",
       "      <td>0.0</td>\n",
       "      <td>...</td>\n",
       "      <td>NaN</td>\n",
       "      <td>0.0</td>\n",
       "      <td>0.0</td>\n",
       "      <td>0.0</td>\n",
       "      <td>0.0</td>\n",
       "      <td>NaN</td>\n",
       "      <td>0.0</td>\n",
       "      <td>0.0</td>\n",
       "      <td>0.0</td>\n",
       "      <td>0.0</td>\n",
       "    </tr>\n",
       "  </tbody>\n",
       "</table>\n",
       "<p>3 rows × 1515 columns</p>\n",
       "</div>"
      ],
      "text/plain": [
       "   a1 steak sauce  acorn squash  agave nectar  aged cheddar cheese  ale  \\\n",
       "0             NaN           0.0           0.0                  0.0  NaN   \n",
       "1             NaN           0.0           0.0                  0.0  NaN   \n",
       "2             NaN           0.0           0.0                  0.0  NaN   \n",
       "\n",
       "   all purpose potatoes  all purpose seasoning  all-purpose flour  allspice  \\\n",
       "0                   0.0                    NaN                0.0       0.0   \n",
       "1                   0.0                    NaN                0.0       0.0   \n",
       "2                   0.0                    NaN                0.0       0.0   \n",
       "\n",
       "   allspice berries    ...     yellow mustard seeds  yellow onion  \\\n",
       "0               0.0    ...                      NaN           0.0   \n",
       "1               0.0    ...                      NaN           0.0   \n",
       "2               0.0    ...                      NaN           0.0   \n",
       "\n",
       "   yellow peppers  yellow split peas  yellow squash  yellow tomato  yoghurt  \\\n",
       "0             0.0                0.0            0.0            NaN      0.0   \n",
       "1             0.0                0.0            0.0            NaN      0.0   \n",
       "2             0.0                0.0            0.0            NaN      0.0   \n",
       "\n",
       "   yukon gold potatoes  zest  zucchini  \n",
       "0                  0.0   0.0       0.0  \n",
       "1                  0.0   0.0       0.0  \n",
       "2                  0.0   0.0       0.0  \n",
       "\n",
       "[3 rows x 1515 columns]"
      ]
     },
     "execution_count": 97,
     "metadata": {},
     "output_type": "execute_result"
    }
   ],
   "source": [
    "print SP_ing.shape\n",
    "SP_ing.head(3)"
   ]
  },
  {
   "cell_type": "code",
   "execution_count": 98,
   "metadata": {
    "collapsed": false
   },
   "outputs": [],
   "source": [
    "#drop unnamed column & make id first column\n",
    "#SP_ing = SP_ing.drop('Unnamed: 0', 1)\n",
    "cols = list(SP_ing)\n",
    "cols.insert(0, cols.pop(cols.index('id')))\n",
    "SP_ing = SP_ing.ix[:, cols]"
   ]
  },
  {
   "cell_type": "code",
   "execution_count": 99,
   "metadata": {
    "collapsed": false
   },
   "outputs": [
    {
     "name": "stdout",
     "output_type": "stream",
     "text": [
      "(2000, 1515)\n"
     ]
    },
    {
     "data": {
      "text/html": [
       "<div>\n",
       "<table border=\"1\" class=\"dataframe\">\n",
       "  <thead>\n",
       "    <tr style=\"text-align: right;\">\n",
       "      <th></th>\n",
       "      <th>id</th>\n",
       "      <th>a1 steak sauce</th>\n",
       "      <th>acorn squash</th>\n",
       "      <th>agave nectar</th>\n",
       "      <th>aged cheddar cheese</th>\n",
       "      <th>ale</th>\n",
       "      <th>all purpose potatoes</th>\n",
       "      <th>all purpose seasoning</th>\n",
       "      <th>all-purpose flour</th>\n",
       "      <th>allspice</th>\n",
       "      <th>...</th>\n",
       "      <th>yellow mustard seeds</th>\n",
       "      <th>yellow onion</th>\n",
       "      <th>yellow peppers</th>\n",
       "      <th>yellow split peas</th>\n",
       "      <th>yellow squash</th>\n",
       "      <th>yellow tomato</th>\n",
       "      <th>yoghurt</th>\n",
       "      <th>yukon gold potatoes</th>\n",
       "      <th>zest</th>\n",
       "      <th>zucchini</th>\n",
       "    </tr>\n",
       "  </thead>\n",
       "  <tbody>\n",
       "    <tr>\n",
       "      <th>203</th>\n",
       "      <td>0_-of-the-calories_-Beet-soup-1684369</td>\n",
       "      <td>NaN</td>\n",
       "      <td>0.0</td>\n",
       "      <td>0.0</td>\n",
       "      <td>0.0</td>\n",
       "      <td>NaN</td>\n",
       "      <td>0.0</td>\n",
       "      <td>NaN</td>\n",
       "      <td>0.0</td>\n",
       "      <td>0.0</td>\n",
       "      <td>...</td>\n",
       "      <td>NaN</td>\n",
       "      <td>0.0</td>\n",
       "      <td>0.0</td>\n",
       "      <td>0.0</td>\n",
       "      <td>0.0</td>\n",
       "      <td>NaN</td>\n",
       "      <td>0.0</td>\n",
       "      <td>0.0</td>\n",
       "      <td>0.0</td>\n",
       "      <td>0.0</td>\n",
       "    </tr>\n",
       "    <tr>\n",
       "      <th>69</th>\n",
       "      <td>10-Minute-Creamy-Cauliflower-Soup-988293</td>\n",
       "      <td>NaN</td>\n",
       "      <td>0.0</td>\n",
       "      <td>0.0</td>\n",
       "      <td>NaN</td>\n",
       "      <td>0.0</td>\n",
       "      <td>NaN</td>\n",
       "      <td>NaN</td>\n",
       "      <td>0.0</td>\n",
       "      <td>0.0</td>\n",
       "      <td>...</td>\n",
       "      <td>NaN</td>\n",
       "      <td>0.0</td>\n",
       "      <td>0.0</td>\n",
       "      <td>0.0</td>\n",
       "      <td>0.0</td>\n",
       "      <td>0.0</td>\n",
       "      <td>0.0</td>\n",
       "      <td>0.0</td>\n",
       "      <td>NaN</td>\n",
       "      <td>0.0</td>\n",
       "    </tr>\n",
       "    <tr>\n",
       "      <th>136</th>\n",
       "      <td>10-Minute-Paleo-Tomato-Soup-1006193</td>\n",
       "      <td>NaN</td>\n",
       "      <td>0.0</td>\n",
       "      <td>0.0</td>\n",
       "      <td>NaN</td>\n",
       "      <td>0.0</td>\n",
       "      <td>NaN</td>\n",
       "      <td>NaN</td>\n",
       "      <td>0.0</td>\n",
       "      <td>0.0</td>\n",
       "      <td>...</td>\n",
       "      <td>NaN</td>\n",
       "      <td>0.0</td>\n",
       "      <td>0.0</td>\n",
       "      <td>0.0</td>\n",
       "      <td>0.0</td>\n",
       "      <td>0.0</td>\n",
       "      <td>0.0</td>\n",
       "      <td>0.0</td>\n",
       "      <td>NaN</td>\n",
       "      <td>0.0</td>\n",
       "    </tr>\n",
       "  </tbody>\n",
       "</table>\n",
       "<p>3 rows × 1515 columns</p>\n",
       "</div>"
      ],
      "text/plain": [
       "                                           id  a1 steak sauce  acorn squash  \\\n",
       "203     0_-of-the-calories_-Beet-soup-1684369             NaN           0.0   \n",
       "69   10-Minute-Creamy-Cauliflower-Soup-988293             NaN           0.0   \n",
       "136       10-Minute-Paleo-Tomato-Soup-1006193             NaN           0.0   \n",
       "\n",
       "     agave nectar  aged cheddar cheese  ale  all purpose potatoes  \\\n",
       "203           0.0                  0.0  NaN                   0.0   \n",
       "69            0.0                  NaN  0.0                   NaN   \n",
       "136           0.0                  NaN  0.0                   NaN   \n",
       "\n",
       "     all purpose seasoning  all-purpose flour  allspice    ...     \\\n",
       "203                    NaN                0.0       0.0    ...      \n",
       "69                     NaN                0.0       0.0    ...      \n",
       "136                    NaN                0.0       0.0    ...      \n",
       "\n",
       "     yellow mustard seeds  yellow onion  yellow peppers  yellow split peas  \\\n",
       "203                   NaN           0.0             0.0                0.0   \n",
       "69                    NaN           0.0             0.0                0.0   \n",
       "136                   NaN           0.0             0.0                0.0   \n",
       "\n",
       "     yellow squash  yellow tomato  yoghurt  yukon gold potatoes  zest  \\\n",
       "203            0.0            NaN      0.0                  0.0   0.0   \n",
       "69             0.0            0.0      0.0                  0.0   NaN   \n",
       "136            0.0            0.0      0.0                  0.0   NaN   \n",
       "\n",
       "     zucchini  \n",
       "203       0.0  \n",
       "69        0.0  \n",
       "136       0.0  \n",
       "\n",
       "[3 rows x 1515 columns]"
      ]
     },
     "execution_count": 99,
     "metadata": {},
     "output_type": "execute_result"
    }
   ],
   "source": [
    "print SP_ing.shape\n",
    "SP_ing = SP_ing.sort_values(by = 'id')\n",
    "SP_ing.head(3)"
   ]
  },
  {
   "cell_type": "code",
   "execution_count": 100,
   "metadata": {
    "collapsed": false
   },
   "outputs": [
    {
     "data": {
      "text/plain": [
       "1023"
      ]
     },
     "execution_count": 100,
     "metadata": {},
     "output_type": "execute_result"
    }
   ],
   "source": [
    "len([i for i, j in zip(SP_main.id, SP_ing.id) if i != j])"
   ]
  },
  {
   "cell_type": "code",
   "execution_count": 101,
   "metadata": {
    "collapsed": false
   },
   "outputs": [
    {
     "name": "stdout",
     "output_type": "stream",
     "text": [
      "True\n",
      "True\n"
     ]
    },
    {
     "data": {
      "text/plain": [
       "(1998, 1515)"
      ]
     },
     "execution_count": 101,
     "metadata": {},
     "output_type": "execute_result"
    }
   ],
   "source": [
    "for i in SP_ing.duplicated('id'):\n",
    "    if i == True:\n",
    "        print i\n",
    "SP_ing = SP_ing.drop_duplicates('id')\n",
    "SP_ing.shape"
   ]
  },
  {
   "cell_type": "markdown",
   "metadata": {},
   "source": [
    "### Join all tables for SOUP"
   ]
  },
  {
   "cell_type": "code",
   "execution_count": 102,
   "metadata": {
    "collapsed": false
   },
   "outputs": [],
   "source": [
    "# set index to column 'id'\n",
    "_df = [SP_main, SP_main_reduced, SP_cuisines, SP_flavors, SP_details, SP_ing, SP_ing_reduced]\n",
    "\n",
    "for df in _df:\n",
    "     df.set_index('id', inplace = True)"
   ]
  },
  {
   "cell_type": "code",
   "execution_count": 103,
   "metadata": {
    "collapsed": true
   },
   "outputs": [],
   "source": [
    "# join dataframes\n",
    "SP_data = SP_main.join([SP_cuisines, SP_flavors, SP_details, SP_ing])\n",
    "SP_data_reduced = SP_main_reduced.join([SP_flavors, SP_details, SP_ing_reduced])\n",
    "# create a course column\n",
    "SP_data['course'] = 'soup'\n",
    "SP_data_reduced['course'] = 'soup'"
   ]
  },
  {
   "cell_type": "code",
   "execution_count": 104,
   "metadata": {
    "collapsed": false
   },
   "outputs": [
    {
     "name": "stdout",
     "output_type": "stream",
     "text": [
      "(1998, 1554)\n"
     ]
    },
    {
     "data": {
      "text/html": [
       "<div>\n",
       "<table border=\"1\" class=\"dataframe\">\n",
       "  <thead>\n",
       "    <tr style=\"text-align: right;\">\n",
       "      <th></th>\n",
       "      <th>rating</th>\n",
       "      <th>recipeName</th>\n",
       "      <th>sourceDisplayName</th>\n",
       "      <th>American</th>\n",
       "      <th>Asian</th>\n",
       "      <th>Barbecue</th>\n",
       "      <th>Cajun &amp; Creole</th>\n",
       "      <th>Chinese</th>\n",
       "      <th>Cuban</th>\n",
       "      <th>English</th>\n",
       "      <th>...</th>\n",
       "      <th>yellow mustard seeds</th>\n",
       "      <th>yellow onion</th>\n",
       "      <th>yellow peppers</th>\n",
       "      <th>yellow split peas</th>\n",
       "      <th>yellow squash</th>\n",
       "      <th>yellow tomato</th>\n",
       "      <th>yoghurt</th>\n",
       "      <th>yukon gold potatoes</th>\n",
       "      <th>zest</th>\n",
       "      <th>zucchini</th>\n",
       "    </tr>\n",
       "    <tr>\n",
       "      <th>id</th>\n",
       "      <th></th>\n",
       "      <th></th>\n",
       "      <th></th>\n",
       "      <th></th>\n",
       "      <th></th>\n",
       "      <th></th>\n",
       "      <th></th>\n",
       "      <th></th>\n",
       "      <th></th>\n",
       "      <th></th>\n",
       "      <th></th>\n",
       "      <th></th>\n",
       "      <th></th>\n",
       "      <th></th>\n",
       "      <th></th>\n",
       "      <th></th>\n",
       "      <th></th>\n",
       "      <th></th>\n",
       "      <th></th>\n",
       "      <th></th>\n",
       "      <th></th>\n",
       "    </tr>\n",
       "  </thead>\n",
       "  <tbody>\n",
       "    <tr>\n",
       "      <th>0_-of-the-calories_-Beet-soup-1684369</th>\n",
       "      <td>4</td>\n",
       "      <td>0% of the calories! Beet soup</td>\n",
       "      <td>Good food. Best Recipes</td>\n",
       "      <td>0</td>\n",
       "      <td>0</td>\n",
       "      <td>0</td>\n",
       "      <td>0</td>\n",
       "      <td>0</td>\n",
       "      <td>0</td>\n",
       "      <td>0</td>\n",
       "      <td>...</td>\n",
       "      <td>NaN</td>\n",
       "      <td>0.0</td>\n",
       "      <td>0.0</td>\n",
       "      <td>0.0</td>\n",
       "      <td>0.0</td>\n",
       "      <td>NaN</td>\n",
       "      <td>0.0</td>\n",
       "      <td>0.0</td>\n",
       "      <td>0.0</td>\n",
       "      <td>0.0</td>\n",
       "    </tr>\n",
       "    <tr>\n",
       "      <th>10-Minute-Creamy-Cauliflower-Soup-988293</th>\n",
       "      <td>4</td>\n",
       "      <td>10 Minute Creamy Cauliflower Soup</td>\n",
       "      <td>Super Healthy Kids</td>\n",
       "      <td>0</td>\n",
       "      <td>0</td>\n",
       "      <td>0</td>\n",
       "      <td>0</td>\n",
       "      <td>0</td>\n",
       "      <td>0</td>\n",
       "      <td>0</td>\n",
       "      <td>...</td>\n",
       "      <td>NaN</td>\n",
       "      <td>0.0</td>\n",
       "      <td>0.0</td>\n",
       "      <td>0.0</td>\n",
       "      <td>0.0</td>\n",
       "      <td>0.0</td>\n",
       "      <td>0.0</td>\n",
       "      <td>0.0</td>\n",
       "      <td>NaN</td>\n",
       "      <td>0.0</td>\n",
       "    </tr>\n",
       "    <tr>\n",
       "      <th>10-Minute-Paleo-Tomato-Soup-1006193</th>\n",
       "      <td>4</td>\n",
       "      <td>10-Minute Paleo Tomato Soup</td>\n",
       "      <td>Cook Eat Paleo</td>\n",
       "      <td>0</td>\n",
       "      <td>0</td>\n",
       "      <td>0</td>\n",
       "      <td>0</td>\n",
       "      <td>0</td>\n",
       "      <td>0</td>\n",
       "      <td>0</td>\n",
       "      <td>...</td>\n",
       "      <td>NaN</td>\n",
       "      <td>0.0</td>\n",
       "      <td>0.0</td>\n",
       "      <td>0.0</td>\n",
       "      <td>0.0</td>\n",
       "      <td>0.0</td>\n",
       "      <td>0.0</td>\n",
       "      <td>0.0</td>\n",
       "      <td>NaN</td>\n",
       "      <td>0.0</td>\n",
       "    </tr>\n",
       "  </tbody>\n",
       "</table>\n",
       "<p>3 rows × 1554 columns</p>\n",
       "</div>"
      ],
      "text/plain": [
       "                                          rating  \\\n",
       "id                                                 \n",
       "0_-of-the-calories_-Beet-soup-1684369          4   \n",
       "10-Minute-Creamy-Cauliflower-Soup-988293       4   \n",
       "10-Minute-Paleo-Tomato-Soup-1006193            4   \n",
       "\n",
       "                                                                 recipeName  \\\n",
       "id                                                                            \n",
       "0_-of-the-calories_-Beet-soup-1684369         0% of the calories! Beet soup   \n",
       "10-Minute-Creamy-Cauliflower-Soup-988293  10 Minute Creamy Cauliflower Soup   \n",
       "10-Minute-Paleo-Tomato-Soup-1006193             10-Minute Paleo Tomato Soup   \n",
       "\n",
       "                                                sourceDisplayName  American  \\\n",
       "id                                                                            \n",
       "0_-of-the-calories_-Beet-soup-1684369     Good food. Best Recipes         0   \n",
       "10-Minute-Creamy-Cauliflower-Soup-988293       Super Healthy Kids         0   \n",
       "10-Minute-Paleo-Tomato-Soup-1006193                Cook Eat Paleo         0   \n",
       "\n",
       "                                          Asian  Barbecue  Cajun & Creole  \\\n",
       "id                                                                          \n",
       "0_-of-the-calories_-Beet-soup-1684369         0         0               0   \n",
       "10-Minute-Creamy-Cauliflower-Soup-988293      0         0               0   \n",
       "10-Minute-Paleo-Tomato-Soup-1006193           0         0               0   \n",
       "\n",
       "                                          Chinese  Cuban  English    ...     \\\n",
       "id                                                                   ...      \n",
       "0_-of-the-calories_-Beet-soup-1684369           0      0        0    ...      \n",
       "10-Minute-Creamy-Cauliflower-Soup-988293        0      0        0    ...      \n",
       "10-Minute-Paleo-Tomato-Soup-1006193             0      0        0    ...      \n",
       "\n",
       "                                          yellow mustard seeds  yellow onion  \\\n",
       "id                                                                             \n",
       "0_-of-the-calories_-Beet-soup-1684369                      NaN           0.0   \n",
       "10-Minute-Creamy-Cauliflower-Soup-988293                   NaN           0.0   \n",
       "10-Minute-Paleo-Tomato-Soup-1006193                        NaN           0.0   \n",
       "\n",
       "                                          yellow peppers  yellow split peas  \\\n",
       "id                                                                            \n",
       "0_-of-the-calories_-Beet-soup-1684369                0.0                0.0   \n",
       "10-Minute-Creamy-Cauliflower-Soup-988293             0.0                0.0   \n",
       "10-Minute-Paleo-Tomato-Soup-1006193                  0.0                0.0   \n",
       "\n",
       "                                          yellow squash  yellow tomato  \\\n",
       "id                                                                       \n",
       "0_-of-the-calories_-Beet-soup-1684369               0.0            NaN   \n",
       "10-Minute-Creamy-Cauliflower-Soup-988293            0.0            0.0   \n",
       "10-Minute-Paleo-Tomato-Soup-1006193                 0.0            0.0   \n",
       "\n",
       "                                          yoghurt  yukon gold potatoes  zest  \\\n",
       "id                                                                             \n",
       "0_-of-the-calories_-Beet-soup-1684369         0.0                  0.0   0.0   \n",
       "10-Minute-Creamy-Cauliflower-Soup-988293      0.0                  0.0   NaN   \n",
       "10-Minute-Paleo-Tomato-Soup-1006193           0.0                  0.0   NaN   \n",
       "\n",
       "                                          zucchini  \n",
       "id                                                  \n",
       "0_-of-the-calories_-Beet-soup-1684369          0.0  \n",
       "10-Minute-Creamy-Cauliflower-Soup-988293       0.0  \n",
       "10-Minute-Paleo-Tomato-Soup-1006193            0.0  \n",
       "\n",
       "[3 rows x 1554 columns]"
      ]
     },
     "execution_count": 104,
     "metadata": {},
     "output_type": "execute_result"
    }
   ],
   "source": [
    "print SP_data.shape\n",
    "SP_data.head(3)"
   ]
  },
  {
   "cell_type": "code",
   "execution_count": 105,
   "metadata": {
    "collapsed": true
   },
   "outputs": [],
   "source": [
    "# save to csv\n",
    "SP_data.to_csv('SP_data.csv')\n",
    "SP_data_reduced.to_csv('SP_data_reduced.csv')"
   ]
  }
 ],
 "metadata": {
  "kernelspec": {
   "display_name": "Python 2",
   "language": "python",
   "name": "python2"
  },
  "language_info": {
   "codemirror_mode": {
    "name": "ipython",
    "version": 2
   },
   "file_extension": ".py",
   "mimetype": "text/x-python",
   "name": "python",
   "nbconvert_exporter": "python",
   "pygments_lexer": "ipython2",
   "version": "2.7.11"
  }
 },
 "nbformat": 4,
 "nbformat_minor": 0
}

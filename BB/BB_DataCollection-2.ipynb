{
 "cells": [
  {
   "cell_type": "code",
   "execution_count": 32,
   "metadata": {
    "collapsed": true
   },
   "outputs": [],
   "source": [
    "from yummly import Client\n",
    "import json\n",
    "import requests\n",
    "import pandas as pd\n",
    "import numpy as np \n",
    "import re"
   ]
  },
  {
   "cell_type": "code",
   "execution_count": 34,
   "metadata": {
    "collapsed": false,
    "scrolled": true
   },
   "outputs": [],
   "source": [
    "# API call for the first 500 BB recipes labeled as such only!\n",
    "header= {'X-Yummly-App-ID':'79663a75', 'X-Yummly-App-Key':'02b233108f476f3110e0f65437c4d6dd'}\n",
    "url='http://api.yummly.com/v1/api/recipes?'\n",
    "parameters={\n",
    "            'allowedCourse[]':'course^course-Breakfast and Brunch',\n",
    "            'excludedCourse[]': ['course^course-Main Dishes','course^course-Appetizers', 'course^course-Salads', 'course^course-Lunch',\n",
    "                                'course^course-Side Dishes','course^course-Desserts','course^course-Breads',\n",
    "                                 'course^course-Soups', 'course^course-Beverages', 'course^course-Condiments and Sauces',\n",
    "                                'course^course-Cocktails', 'course^course-Snacks'],\n",
    "            'maxResult': 500,\n",
    "            'start': 1000\n",
    "            }\n",
    "\n",
    "response=requests.get(url, headers = header, params = parameters)"
   ]
  },
  {
   "cell_type": "code",
   "execution_count": 35,
   "metadata": {
    "collapsed": false
   },
   "outputs": [
    {
     "data": {
      "text/plain": [
       "200"
      ]
     },
     "execution_count": 35,
     "metadata": {},
     "output_type": "execute_result"
    }
   ],
   "source": [
    "response.status_code"
   ]
  },
  {
   "cell_type": "code",
   "execution_count": 36,
   "metadata": {
    "collapsed": false
   },
   "outputs": [
    {
     "name": "stdout",
     "output_type": "stream",
     "text": [
      "<type 'dict'>\n",
      "[u'matches', u'totalMatchCount', u'attribution', u'facetCounts', u'criteria']\n"
     ]
    }
   ],
   "source": [
    "BB=response.json()\n",
    "\n",
    "print type(BB)\n",
    "print BB.keys()"
   ]
  },
  {
   "cell_type": "code",
   "execution_count": 37,
   "metadata": {
    "collapsed": false
   },
   "outputs": [
    {
     "name": "stdout",
     "output_type": "stream",
     "text": [
      "500\n",
      "<type 'list'>\n",
      "[u'flavors', u'rating', u'totalTimeInSeconds', u'ingredients', u'smallImageUrls', u'sourceDisplayName', u'recipeName', u'attributes', u'id', u'imageUrlsBySize']\n"
     ]
    }
   ],
   "source": [
    "#only interrested in the information under matches. \n",
    "print len(BB['matches'])\n",
    "print type(BB['matches'])\n",
    "print BB['matches'][0].keys()"
   ]
  },
  {
   "cell_type": "code",
   "execution_count": 38,
   "metadata": {
    "collapsed": false
   },
   "outputs": [
    {
     "data": {
      "text/plain": [
       "{u'attributes': {u'course': [u'Breakfast and Brunch']},\n",
       " u'flavors': None,\n",
       " u'id': u'Gluten-Free-Waffles-1629571',\n",
       " u'imageUrlsBySize': {u'90': u'https://lh3.googleusercontent.com/JQInkF_UXHKe_nUZGpjg9IJdrsaivrAr35PY6OhMVzvAn3NzhhroVkC5vlm121MScZlPw06pX4rc6YDtZeIzlIM=s90-c'},\n",
       " u'ingredients': [u'gluten free blend',\n",
       "  u'ground flax',\n",
       "  u'cane sugar',\n",
       "  u'sea salt',\n",
       "  u'gluten-free baking powder',\n",
       "  u'eggs',\n",
       "  u'melted butter',\n",
       "  u'glutenfree vanilla',\n",
       "  u'milk'],\n",
       " u'rating': 4,\n",
       " u'recipeName': u'Gluten-Free Waffles',\n",
       " u'smallImageUrls': [u'https://lh3.googleusercontent.com/A6-u0cpl4WVbuRY9l03vR0_gcMvPTvNQIjlcADM7S6cgVxZE1L9Vvx2YmWuGBl--joXRGT9bCcIA3ORNpzVz=s90'],\n",
       " u'sourceDisplayName': u'Dinner Was Delish',\n",
       " u'totalTimeInSeconds': 1800}"
      ]
     },
     "execution_count": 38,
     "metadata": {},
     "output_type": "execute_result"
    }
   ],
   "source": [
    "#checkout one recipe\n",
    "BB_matches=BB['matches']\n",
    "BB_matches[0]"
   ]
  },
  {
   "cell_type": "code",
   "execution_count": 39,
   "metadata": {
    "collapsed": false
   },
   "outputs": [
    {
     "name": "stdout",
     "output_type": "stream",
     "text": [
      "Healthy-Chocolate-Porridge-1711204\n",
      "Fruity-Whole-Grain-Breakfast-Porridge-1706525\n",
      "Gluten-Free-Waffles-1629571\n",
      "[]\n",
      "[]\n"
     ]
    }
   ],
   "source": [
    "#import previous list of recipes collected\n",
    "df=pd.read_csv('BB_main.csv')\n",
    "df1=pd.read_csv('BB_main_1.csv')\n",
    "BB_ids=df.id\n",
    "BB1_ids=df1.id\n",
    "print BB_ids[0]\n",
    "print BB1_ids[0]\n",
    "BB2_ids=[]\n",
    "for recipe in BB_matches:\n",
    "    BB2_ids.append(recipe['id'])\n",
    "print BB2_ids[0]\n",
    "#check if there are dupplicate recipes\n",
    "print [i for i, j in zip(BB_ids, BB2_ids) if i == j]\n",
    "print [i for i, j in zip(BB1_ids, BB2_ids) if i == j]"
   ]
  },
  {
   "cell_type": "code",
   "execution_count": 40,
   "metadata": {
    "collapsed": false
   },
   "outputs": [],
   "source": [
    "# #remove duplicate recipe from the recipe\n",
    "# BB_matches[:] = [d for d in BB_matches if d.get('id') != 'French-Toast-with-Vegan-Nog-964692']\n",
    "# BB_matches[:] = [d for d in BB_matches if d.get('id') != 'Quick-and-Easy-Waffles-1537027'] \n",
    "#                  #'Quick-and-Easy-Waffles-1537027'\n",
    "\n",
    "# # check to see if recipes have been removed\n",
    "# BB2_ids = []\n",
    "# for recipe in BB_matches:\n",
    "#     BB2_ids.append(recipe['id'])\n",
    "    \n",
    "# print [i for i, j in zip(BB1_ids, BB2_ids) if i == j]\n",
    "# len(BB_matches)"
   ]
  },
  {
   "cell_type": "code",
   "execution_count": 41,
   "metadata": {
    "collapsed": false
   },
   "outputs": [],
   "source": [
    "#forming lists to create dataframes of the features we want. \n",
    "main_list = []\n",
    "ingredients_list = []\n",
    "attributes_list = []\n",
    "\n",
    "for food in BB_matches:\n",
    "\n",
    "    _d1 = {}\n",
    "    _d1['id'] = food['id']\n",
    "    _d1['rating'] = food['rating']\n",
    "    _d1['recipeName'] = food['recipeName']\n",
    "    _d1['sourceDisplayName'] = food['sourceDisplayName']\n",
    "    main_list.append(_d1)\n",
    "    \n",
    "    _d2 = {}\n",
    "    _d2['id'] =food['id']\n",
    "    _d2['course']= 'Breakfast and Brunch'\n",
    "    _d2['ingredient_list'] =  food['ingredients']\n",
    "    \n",
    "    for i in food['ingredients']:\n",
    "        i = i.lower() # additional code to conver to lowercase\n",
    "        i = re.sub(r'\\d+%\\s', '', i) # additional code to remove 1%, 2%, etc\n",
    "        i = re.sub(r'\\xae', '', i) # remove '\\xae' characters\n",
    "        i = re.sub(r'shredded\\s', '', i)\n",
    "        i = re.sub(r'chopped\\s', '', i)\n",
    "        i = re.sub(r'diced\\s', '', i)\n",
    "        i = re.sub(r'crumbled\\s', '', i)\n",
    "        i = re.sub(r'fresh\\s', '', i)\n",
    "        i = re.sub(r'grated\\s', '', i)\n",
    "        i = re.sub(r'fat free\\s', '', i)\n",
    "        i = re.sub(r'boneless\\s', '', i)\n",
    "        i = re.sub(r'boneless skinless\\s', '', i)\n",
    "        i = re.sub(r'minced\\s', '', i)\n",
    "        i = re.sub(r'sliced\\s', '', i)\n",
    "        i = re.sub(r'(?!ground beef)ground ', '', i)\n",
    "        i = re.sub(r'^dried\\s', '', i)\n",
    "        i = re.sub(r'^cooked\\s', '', i)\n",
    "        \n",
    "        _d2[i] = 1\n",
    "    ingredients_list.append(_d2)\n",
    "\n",
    "    _d3 = {}\n",
    "    _d3['id'] = food['id']\n",
    "    for k, v in food['attributes'].items():\n",
    "        for i in v:\n",
    "            _d3[i] = 1\n",
    "    attributes_list.append(_d3)\n",
    "    \n",
    "flavors_dict = {}\n",
    "\n",
    "for food in BB_matches:\n",
    "    flavors_dict[food.get('id')] = food.get('flavors') \n",
    "    "
   ]
  },
  {
   "cell_type": "code",
   "execution_count": 42,
   "metadata": {
    "collapsed": true
   },
   "outputs": [],
   "source": [
    "# read in dictionary for course and cuisine and create list of possible values for each\n",
    "cuisine_df = pd.read_csv('cuisine_headers.csv', names=['cuisine'])\n",
    "\n",
    "cuisine_list= cuisine_df.cuisine\n"
   ]
  },
  {
   "cell_type": "code",
   "execution_count": 43,
   "metadata": {
    "collapsed": false
   },
   "outputs": [],
   "source": [
    "#create dictionary of cuisine and course for each recipe\n",
    "cuisine_dict={}\n",
    "for food in BB_matches:\n",
    "    cuisine_dict[food.get('id')]= food['attributes'].get('cuisine')\n",
    "\n",
    "        \n",
    "_cuisines= {}       \n",
    "\n",
    "for k, v in cuisine_dict.iteritems():\n",
    "    cuisine_val = {}\n",
    "    for course in cuisine_list:\n",
    "        try:\n",
    "            if course in v :\n",
    "                cuisine_val[course] = 1\n",
    "            else:\n",
    "                cuisine_val[course] = 0\n",
    "        except TypeError:\n",
    "            cuisine_val[course] = 0\n",
    "    \n",
    "        _cuisines[k] = cuisine_val\n"
   ]
  },
  {
   "cell_type": "code",
   "execution_count": 44,
   "metadata": {
    "collapsed": true
   },
   "outputs": [],
   "source": [
    "# second api call to get other features for each recipe\n",
    "key_id= '_app_id=79663a75&_app_key=02b233108f476f3110e0f65437c4d6dd'\n",
    "url='http://api.yummly.com/v1/api/recipe/'"
   ]
  },
  {
   "cell_type": "code",
   "execution_count": 45,
   "metadata": {
    "collapsed": false
   },
   "outputs": [],
   "source": [
    "# retrieve other features for all recipes\n",
    "\n",
    "def get_recipe(_id):\n",
    "    response = requests.get(url + _id + '?' + key_id)\n",
    "    return response.json()\n",
    "\n",
    "recipes=[]\n",
    "for _id in BB2_ids :\n",
    "    recipes.append(get_recipe(_id))"
   ]
  },
  {
   "cell_type": "code",
   "execution_count": 46,
   "metadata": {
    "collapsed": false
   },
   "outputs": [
    {
     "data": {
      "text/plain": [
       "200"
      ]
     },
     "execution_count": 46,
     "metadata": {},
     "output_type": "execute_result"
    }
   ],
   "source": [
    "response.status_code"
   ]
  },
  {
   "cell_type": "code",
   "execution_count": 47,
   "metadata": {
    "collapsed": false
   },
   "outputs": [
    {
     "name": "stdout",
     "output_type": "stream",
     "text": [
      "500\n",
      "[u'totalTime', u'ingredientLines', u'attribution', u'name', u'prepTimeInSeconds', u'rating', u'cookTimeInSeconds', u'numberOfServings', u'yield', u'nutritionEstimates', u'source', u'flavors', u'images', u'attributes', u'cookTime', u'id', u'prepTime', u'totalTimeInSeconds']\n"
     ]
    }
   ],
   "source": [
    "print len(recipes)\n",
    "print recipes[1].keys()"
   ]
  },
  {
   "cell_type": "code",
   "execution_count": 48,
   "metadata": {
    "collapsed": true
   },
   "outputs": [],
   "source": [
    "#for each recipe create a new dictionary of selected attributes and append into a list\n",
    "\n",
    "recipe_details=[]\n",
    "for recipe in recipes:\n",
    "    _dict={}\n",
    "    #import pdb; pdb.set_trace()\n",
    "    _dict['id']=recipe['id']\n",
    "    _dict['ingredientCount']= len(recipe['ingredientLines'])\n",
    "    _dict['numberOfServings']= recipe['numberOfServings']\n",
    "    _dict['prepTimeInSeconds'] = recipe.get('prepTimeInSeconds')\n",
    "    _dict['cookTimeInSeconds'] = recipe.get('cookTimeInSeconds')\n",
    "    _dict['totalTimeInSeconds']= recipe.get('totalTimeInSeconds')\n",
    "     \n",
    "    recipe_details.append(_dict)"
   ]
  },
  {
   "cell_type": "code",
   "execution_count": 49,
   "metadata": {
    "collapsed": false
   },
   "outputs": [],
   "source": [
    "#create dataframes, arrange column index and save into csv\n",
    "df_main = pd.DataFrame(main_list)\n",
    "df_main.to_csv('BB_main_2.csv', encoding ='utf-8')\n",
    "\n",
    "df_ingredients = pd.DataFrame(ingredients_list)\n",
    "df_ingredients = df_ingredients.fillna(0)\n",
    "cols = list(df_ingredients)\n",
    "cols.insert(0, cols.pop(cols.index('id')))\n",
    "cols.insert(1, cols.pop(cols.index('course')))\n",
    "df_ingredients= df_ingredients.ix[:,cols]\n",
    "df_ingredients.to_csv('BB_ingredients_2.csv', encoding ='utf-8')\n",
    "\n",
    "df_attributes = pd.DataFrame(attributes_list)\n",
    "df_attributes = df_attributes.fillna(0)\n",
    "cols = list(df_attributes)\n",
    "cols.insert(0, cols.pop(cols.index('id')))\n",
    "df_attributes = df_attributes.ix[:,cols]\n",
    "df_attributes.to_csv('BB_attributes_2.csv')\n",
    "\n",
    "df_flavors = pd.DataFrame(flavors_dict).transpose()\n",
    "df_flavors.reset_index(level=0, inplace=True)\n",
    "df_flavors.to_csv('BB_flavors_2.csv')\n",
    "\n",
    "df_cuisines = pd.DataFrame(_cuisines).transpose()\n",
    "df_cuisines.reset_index(level=0, inplace=True)\n",
    "df_cuisines.to_csv('BB_cuisines_2.csv')\n",
    "\n",
    "df_details=pd.DataFrame(recipe_details)\n",
    "cols = list(df_details)\n",
    "cols.insert(0, cols.pop(cols.index('id')))\n",
    "df_details=df_details.ix[:,cols]\n",
    "df_details.to_csv('BB_details_2.csv')"
   ]
  }
 ],
 "metadata": {
  "kernelspec": {
   "display_name": "Python 2",
   "language": "python",
   "name": "python2"
  },
  "language_info": {
   "codemirror_mode": {
    "name": "ipython",
    "version": 2
   },
   "file_extension": ".py",
   "mimetype": "text/x-python",
   "name": "python",
   "nbconvert_exporter": "python",
   "pygments_lexer": "ipython2",
   "version": "2.7.11"
  }
 },
 "nbformat": 4,
 "nbformat_minor": 0
}

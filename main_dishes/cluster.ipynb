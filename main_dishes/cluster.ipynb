{
 "cells": [
  {
   "cell_type": "code",
   "execution_count": 1,
   "metadata": {
    "collapsed": true
   },
   "outputs": [],
   "source": [
    "import pandas as pd\n",
    "import numpy as np\n",
    "from sklearn.preprocessing import LabelEncoder\n",
    "from sklearn.feature_extraction.text import TfidfVectorizer\n",
    "from sklearn.linear_model import LogisticRegression\n",
    "from sklearn.tree import DecisionTreeClassifier\n",
    "from sklearn.ensemble import RandomForestClassifier\n",
    "import re\n",
    "from nltk import WordNetLemmatizer\n",
    "from sklearn.cross_validation import train_test_split\n",
    "from sklearn.grid_search import GridSearchCV\n",
    "from sklearn.metrics import accuracy_score, classification_report, confusion_matrix\n",
    "from sklearn.decomposition import TruncatedSVD\n",
    "from sklearn.preprocessing import Normalizer\n",
    "from sklearn.cluster import KMeans, MiniBatchKMeans\n",
    "\n",
    "from matplotlib import pyplot as plt\n",
    "% matplotlib inline"
   ]
  },
  {
   "cell_type": "code",
   "execution_count": 7,
   "metadata": {
    "collapsed": true
   },
   "outputs": [],
   "source": [
    "from sklearn.pipeline import make_pipeline"
   ]
  },
  {
   "cell_type": "code",
   "execution_count": 2,
   "metadata": {
    "collapsed": true
   },
   "outputs": [],
   "source": [
    "df = pd.read_csv('../ingredients_combined/ingredients_reduced.csv')\n"
   ]
  },
  {
   "cell_type": "code",
   "execution_count": 4,
   "metadata": {
    "collapsed": true
   },
   "outputs": [],
   "source": [
    "# Remove non-alpha characters\n",
    "name_string1 = [re.sub('[^A-Za-z]', ' ', z).strip().lower() for z in df['id']]\n",
    "\n",
    "# Remove extra whitespace between words\n",
    "name_string2 = [' '.join(z.split()) for z in name_string1]\n",
    "\n",
    "# Lemmatize each word - start by converting the string to a list to iterate through\n",
    "as_list = [z.split() for z in name_string2]\n",
    "\n",
    "# Iterate through list, using WordNetLemmatizer\n",
    "lemmatized = []\n",
    "for _list in as_list:\n",
    "    sub_list = []\n",
    "    for word in _list:\n",
    "        sub_list.append(WordNetLemmatizer().lemmatize(word))\n",
    "    lemmatized.append(sub_list)\n",
    "\n",
    "# Then need to convert the list back into a string\n",
    "name_string3 = [' '.join(z) for z in lemmatized]\n",
    "\n",
    "# Zip together recipe name string and ingredient string\n",
    "zipped = zip(name_string3, df.ingredient_string)\n",
    "\n",
    "# Concatenate recipe name string and ingredient string\n",
    "ingredient_id_string = [y + ' ' + z for y,z in zipped]    \n",
    "\n",
    "# Add new column to dataframe with concatenated strings\n",
    "df['ingredient_id_string'] = ingredient_id_string"
   ]
  },
  {
   "cell_type": "code",
   "execution_count": 5,
   "metadata": {
    "collapsed": true
   },
   "outputs": [],
   "source": [
    "# Use label encoder to encode cuisine\n",
    "le = LabelEncoder()\n",
    "df['encoded_cuisine'] = le.fit_transform(df.cuisine)"
   ]
  },
  {
   "cell_type": "code",
   "execution_count": 51,
   "metadata": {
    "collapsed": true
   },
   "outputs": [],
   "source": [
    "# Assign X and y\n",
    "vect = TfidfVectorizer(stop_words='english', max_df=.5, ngram_range=(1,2))\n",
    "X = vect.fit_transform(df.ingredient_id_string)\n",
    "y = df.encoded_cuisine"
   ]
  },
  {
   "cell_type": "code",
   "execution_count": 52,
   "metadata": {
    "collapsed": false
   },
   "outputs": [],
   "source": [
    "svd = TruncatedSVD(n_components=5)\n",
    "normalizer = Normalizer(copy=False)\n",
    "lsa = make_pipeline(svd, normalizer)\n",
    "X = lsa.fit_transform(X)"
   ]
  },
  {
   "cell_type": "code",
   "execution_count": 53,
   "metadata": {
    "collapsed": false
   },
   "outputs": [
    {
     "name": "stdout",
     "output_type": "stream",
     "text": [
      "Explained variance of the SVD step: 3%\n"
     ]
    }
   ],
   "source": [
    "explained_variance = svd.explained_variance_ratio_.sum()\n",
    "print(\"Explained variance of the SVD step: {}%\".format(int(explained_variance * 100)))"
   ]
  },
  {
   "cell_type": "code",
   "execution_count": 54,
   "metadata": {
    "collapsed": false
   },
   "outputs": [
    {
     "data": {
      "text/plain": [
       "KMeans(copy_x=True, init='k-means++', max_iter=100, n_clusters=5, n_init=1,\n",
       "    n_jobs=1, precompute_distances='auto', random_state=None, tol=0.0001,\n",
       "    verbose=0)"
      ]
     },
     "execution_count": 54,
     "metadata": {},
     "output_type": "execute_result"
    }
   ],
   "source": [
    "km = KMeans(n_clusters=5, init='k-means++', max_iter=100, n_init=1)\n",
    "km.fit(X)"
   ]
  },
  {
   "cell_type": "code",
   "execution_count": 55,
   "metadata": {
    "collapsed": true
   },
   "outputs": [],
   "source": [
    "from sklearn import metrics"
   ]
  },
  {
   "cell_type": "code",
   "execution_count": 56,
   "metadata": {
    "collapsed": false
   },
   "outputs": [
    {
     "name": "stdout",
     "output_type": "stream",
     "text": [
      "Homogeneity: 0.494\n",
      "Completeness: 0.503\n",
      "V-measure: 0.499\n",
      "Adjusted Rand-Index: 0.460\n",
      "Silhouette Coefficient: 0.404\n"
     ]
    }
   ],
   "source": [
    "print(\"Homogeneity: %0.3f\" % metrics.homogeneity_score(y, km.labels_))\n",
    "print(\"Completeness: %0.3f\" % metrics.completeness_score(y, km.labels_))\n",
    "print(\"V-measure: %0.3f\" % metrics.v_measure_score(y, km.labels_))\n",
    "print(\"Adjusted Rand-Index: %.3f\"\n",
    "      % metrics.adjusted_rand_score(y, km.labels_))\n",
    "print(\"Silhouette Coefficient: %0.3f\"\n",
    "      % metrics.silhouette_score(X, km.labels_, sample_size=1000))"
   ]
  },
  {
   "cell_type": "code",
   "execution_count": 57,
   "metadata": {
    "collapsed": true
   },
   "outputs": [],
   "source": [
    "original_space_centroids = svd.inverse_transform(km.cluster_centers_)\n",
    "order_centroids = original_space_centroids.argsort()[:, ::-1]"
   ]
  },
  {
   "cell_type": "code",
   "execution_count": 58,
   "metadata": {
    "collapsed": false
   },
   "outputs": [
    {
     "name": "stdout",
     "output_type": "stream",
     "text": [
      "Cluster 0:\n",
      " chicken\n",
      " chicken breast\n",
      " breast\n",
      " boneless\n",
      " skinless\n",
      " skinless chicken\n",
      " boneless skinless\n",
      " olive\n",
      " fresh\n",
      " lemon\n",
      "()\n",
      "Cluster 1:\n",
      " enchilada\n",
      " tortilla\n",
      " ground\n",
      " powder\n",
      " onion\n",
      " bean\n",
      " cheese\n",
      " corn\n",
      " chicken\n",
      " cream\n",
      "()\n",
      "Cluster 2:\n",
      " fresh\n",
      " olive\n",
      " ground\n",
      " lemon\n",
      " olive oil\n",
      " tomato\n",
      " black\n",
      " dried\n",
      " onion\n",
      " clove\n",
      "()\n",
      "Cluster 3:\n",
      " sauce\n",
      " sesame\n",
      " soy\n",
      " soy sauce\n",
      " ginger\n",
      " rice\n",
      " sugar\n",
      " sesame oil\n",
      " chicken\n",
      " onion\n",
      "()\n",
      "Cluster 4:\n",
      " cheese\n",
      " parmesan\n",
      " parmesan cheese\n",
      " tomato\n",
      " pasta\n",
      " mozzarella\n",
      " italian\n",
      " lasagna\n",
      " mozzarella cheese\n",
      " grated parmesan\n",
      "()\n"
     ]
    }
   ],
   "source": [
    "terms = vect.get_feature_names()\n",
    "for i in range(5):\n",
    "    print(\"Cluster %d:\" % i)\n",
    "    for ind in order_centroids[i, :10]:\n",
    "        print(' %s' % terms[ind])\n",
    "    print()"
   ]
  },
  {
   "cell_type": "code",
   "execution_count": null,
   "metadata": {
    "collapsed": true
   },
   "outputs": [],
   "source": []
  },
  {
   "cell_type": "code",
   "execution_count": null,
   "metadata": {
    "collapsed": true
   },
   "outputs": [],
   "source": []
  },
  {
   "cell_type": "code",
   "execution_count": null,
   "metadata": {
    "collapsed": true
   },
   "outputs": [],
   "source": []
  }
 ],
 "metadata": {
  "kernelspec": {
   "display_name": "Python 2",
   "language": "python",
   "name": "python2"
  },
  "language_info": {
   "codemirror_mode": {
    "name": "ipython",
    "version": 2
   },
   "file_extension": ".py",
   "mimetype": "text/x-python",
   "name": "python",
   "nbconvert_exporter": "python",
   "pygments_lexer": "ipython2",
   "version": "2.7.11"
  }
 },
 "nbformat": 4,
 "nbformat_minor": 0
}

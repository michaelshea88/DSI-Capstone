{
 "cells": [
  {
   "cell_type": "code",
   "execution_count": 1,
   "metadata": {
    "collapsed": true
   },
   "outputs": [],
   "source": [
    "import pandas as pd"
   ]
  },
  {
   "cell_type": "code",
   "execution_count": 18,
   "metadata": {
    "collapsed": false
   },
   "outputs": [],
   "source": [
    "# Read in American csvs\n",
    "\n",
    "# Main\n",
    "amer_one = pd.read_csv('american/main_amer1.csv')\n",
    "amer_two = pd.read_csv('american/main_amer2.csv')\n",
    "amer_thr = pd.read_csv('american/main_amer3.csv')\n",
    "amer_fou = pd.read_csv('american/main_amer4.csv')\n",
    "\n",
    "# Courses\n",
    "cour_one = pd.read_csv('american/main_amer_courses1.csv')\n",
    "cour_two = pd.read_csv('american/main_amer_courses2.csv')\n",
    "cour_thr = pd.read_csv('american/main_amer_courses3.csv')\n",
    "cour_fou = pd.read_csv('american/main_amer_courses4.csv')\n",
    "\n",
    "# Ingredients\n",
    "ingr_one = pd.read_csv('american/main_amer_ingredients1.csv')\n",
    "ingr_two = pd.read_csv('american/main_amer_ingredients2.csv')\n",
    "ingr_thr = pd.read_csv('american/main_amer_ingredients3.csv')\n",
    "ingr_fou = pd.read_csv('american/main_amer_ingredients4.csv')\n",
    "\n",
    "# Details\n",
    "det_one = pd.read_csv('american/main_amer_details1.csv')\n",
    "det_two = pd.read_csv('american/main_amer_details2.csv')\n",
    "det_thr = pd.read_csv('american/main_amer_details3.csv')\n",
    "det_fou = pd.read_csv('american/main_amer_details4.csv')\n",
    "\n",
    "# Flavors\n",
    "fla_one = pd.read_csv('american/main_amer_flavors1.csv')\n",
    "fla_two = pd.read_csv('american/main_amer_flavors2.csv')\n",
    "fla_thr = pd.read_csv('american/main_amer_flavors3.csv')\n",
    "fla_fou = pd.read_csv('american/main_amer_flavors4.csv')"
   ]
  },
  {
   "cell_type": "code",
   "execution_count": 19,
   "metadata": {
    "collapsed": false
   },
   "outputs": [],
   "source": [
    "# Concatenate each set of CSVs vertically\n",
    "data_main = pd.concat([amer_one, amer_two, amer_thr, amer_fou], join='outer', axis=0, ignore_index=True)\n",
    "data_course = pd.concat([cour_one, cour_two, cour_thr, cour_fou], join = 'outer', axis=0, ignore_index=True)\n",
    "data_ingred = pd.concat([ingr_one, ingr_two, ingr_thr, ingr_fou], join = 'outer', axis =0, ignore_index=True)\n",
    "data_detail = pd.concat([det_one, det_two, det_thr, det_fou], join = 'outer', axis = 0, ignore_index=True)\n",
    "data_flavor = pd.concat([fla_one, fla_two, fla_thr, fla_fou], join='outer', axis = 0, ignore_index=True)"
   ]
  },
  {
   "cell_type": "code",
   "execution_count": 20,
   "metadata": {
    "collapsed": false
   },
   "outputs": [],
   "source": [
    "# Set index to be same column\n",
    "data_main.set_index('id', inplace=True)\n",
    "data_course.set_index('index', inplace=True)\n",
    "data_ingred.set_index('id', inplace=True)\n",
    "data_detail.set_index('id', inplace=True)\n",
    "data_flavor.set_index('index', inplace=True)\n",
    "\n",
    "# Drop \"Unnamed: 0\" column\n",
    "data_main.drop('Unnamed: 0', axis = 1, inplace=True)\n",
    "data_course.drop('Unnamed: 0', axis = 1, inplace=True)\n",
    "data_ingred.drop('Unnamed: 0', axis= 1, inplace=True)\n",
    "data_detail.drop('Unnamed: 0', axis= 1, inplace=True)\n",
    "data_flavor.drop('Unnamed: 0', axis= 1, inplace=True)"
   ]
  },
  {
   "cell_type": "code",
   "execution_count": 5,
   "metadata": {
    "collapsed": false
   },
   "outputs": [],
   "source": [
    "data_full_american = data_main.join([data_course, data_ingred, data_detail, data_flavor])"
   ]
  },
  {
   "cell_type": "code",
   "execution_count": 15,
   "metadata": {
    "collapsed": false
   },
   "outputs": [],
   "source": [
    "# Read in Italian CSVs\n",
    "\n",
    "# Main\n",
    "ital_one = pd.read_csv('italian/main_ital1.csv')\n",
    "ital_two = pd.read_csv('italian/main_ital2.csv')\n",
    "ital_thr = pd.read_csv('italian/main_ital3.csv')\n",
    "ital_fou = pd.read_csv('italian/main_ital4.csv')\n",
    "\n",
    "# Courses\n",
    "cour_one = pd.read_csv('italian/main_ital_courses1.csv')\n",
    "cour_two = pd.read_csv('italian/main_ital_courses2.csv')\n",
    "cour_thr = pd.read_csv('italian/main_ital_courses3.csv')\n",
    "cour_fou = pd.read_csv('italian/main_ital_courses4.csv')\n",
    "\n",
    "# Ingredients\n",
    "ingr_one = pd.read_csv('italian/main_ital_ingredients1.csv')\n",
    "ingr_two = pd.read_csv('italian/main_ital_ingredients2.csv')\n",
    "ingr_thr = pd.read_csv('italian/main_ital_ingredients3.csv')\n",
    "ingr_fou = pd.read_csv('italian/main_ital_ingredients4.csv')\n",
    "\n",
    "# Details\n",
    "det_one = pd.read_csv('italian/main_ital_details1.csv')\n",
    "det_two = pd.read_csv('italian/main_ital_details2.csv')\n",
    "det_thr = pd.read_csv('italian/main_ital_details3.csv')\n",
    "det_fou = pd.read_csv('italian/main_ital_details4.csv')\n",
    "\n",
    "# Flavors\n",
    "fla_one = pd.read_csv('italian/main_ital_flavors1.csv')\n",
    "fla_two = pd.read_csv('italian/main_ital_flavors2.csv')\n",
    "fla_thr = pd.read_csv('italian/main_ital_flavors3.csv')\n",
    "fla_fou = pd.read_csv('italian/main_ital_flavors4.csv')"
   ]
  },
  {
   "cell_type": "code",
   "execution_count": 16,
   "metadata": {
    "collapsed": true
   },
   "outputs": [],
   "source": [
    "# Concatenate each set of CSVs vertically\n",
    "data_main = pd.concat([ital_one, ital_two, ital_thr, ital_fou], join='outer', axis=0, ignore_index=True)\n",
    "data_course = pd.concat([cour_one, cour_two, cour_thr, cour_fou], join = 'outer', axis=0, ignore_index=True)\n",
    "data_ingred = pd.concat([ingr_one, ingr_two, ingr_thr, ingr_fou], join = 'outer', axis =0, ignore_index=True)\n",
    "data_detail = pd.concat([det_one, det_two, det_thr, det_fou], join = 'outer', axis = 0, ignore_index=True)\n",
    "data_flavor = pd.concat([fla_one, fla_two, fla_thr, fla_fou], join='outer', axis = 0, ignore_index=True)"
   ]
  },
  {
   "cell_type": "code",
   "execution_count": 17,
   "metadata": {
    "collapsed": true
   },
   "outputs": [],
   "source": [
    "# Set index to be same column\n",
    "data_main.set_index('id', inplace=True)\n",
    "data_course.set_index('index', inplace=True)\n",
    "data_ingred.set_index('id', inplace=True)\n",
    "data_detail.set_index('id', inplace=True)\n",
    "data_flavor.set_index('index', inplace=True)\n",
    "\n",
    "# Drop \"Unnamed: 0\" column\n",
    "data_main.drop('Unnamed: 0', axis = 1, inplace=True)\n",
    "data_course.drop('Unnamed: 0', axis = 1, inplace=True)\n",
    "data_ingred.drop('Unnamed: 0', axis= 1, inplace=True)\n",
    "data_detail.drop('Unnamed: 0', axis= 1, inplace=True)\n",
    "data_flavor.drop('Unnamed: 0', axis= 1, inplace=True)"
   ]
  },
  {
   "cell_type": "code",
   "execution_count": 18,
   "metadata": {
    "collapsed": true
   },
   "outputs": [],
   "source": [
    "data_full_italian = data_main.join([data_course, data_ingred, data_detail, data_flavor])"
   ]
  },
  {
   "cell_type": "code",
   "execution_count": 23,
   "metadata": {
    "collapsed": true
   },
   "outputs": [],
   "source": [
    "# Read in Mexican CSVs\n",
    "\n",
    "# Main\n",
    "mex_one = pd.read_csv('mexican/main_mex1.csv')\n",
    "mex_two = pd.read_csv('mexican/main_mex2.csv')\n",
    "mex_thr = pd.read_csv('mexican/main_mex3.csv')\n",
    "mex_fou = pd.read_csv('mexican/main_mex4.csv')\n",
    "\n",
    "# Courses\n",
    "cour_one = pd.read_csv('mexican/main_mex_courses1.csv')\n",
    "cour_two = pd.read_csv('mexican/main_mex_courses2.csv')\n",
    "cour_thr = pd.read_csv('mexican/main_mex_courses3.csv')\n",
    "cour_fou = pd.read_csv('mexican/main_mex_courses4.csv')\n",
    "\n",
    "# Ingredients\n",
    "ingr_one = pd.read_csv('mexican/main_mex_ingredients1.csv')\n",
    "ingr_two = pd.read_csv('mexican/main_mex_ingredients2.csv')\n",
    "ingr_thr = pd.read_csv('mexican/main_mex_ingredients3.csv')\n",
    "ingr_fou = pd.read_csv('mexican/main_mex_ingredients4.csv')\n",
    "\n",
    "# Details\n",
    "det_one = pd.read_csv('mexican/main_mex_details1.csv')\n",
    "det_two = pd.read_csv('mexican/main_mex_details2.csv')\n",
    "det_thr = pd.read_csv('mexican/main_mex_details3.csv')\n",
    "det_fou = pd.read_csv('mexican/main_mex_details4.csv')\n",
    "\n",
    "# Flavors\n",
    "fla_one = pd.read_csv('mexican/main_mex_flavors1.csv')\n",
    "fla_two = pd.read_csv('mexican/main_mex_flavors2.csv')\n",
    "fla_thr = pd.read_csv('mexican/main_mex_flavors3.csv')\n",
    "fla_fou = pd.read_csv('mexican/main_mex_flavors4.csv')"
   ]
  },
  {
   "cell_type": "code",
   "execution_count": 24,
   "metadata": {
    "collapsed": true
   },
   "outputs": [],
   "source": [
    "# Concatenate each set of CSVs vertically\n",
    "data_main = pd.concat([mex_one, mex_two, mex_thr, mex_fou], join='outer', axis=0, ignore_index=True)\n",
    "data_course = pd.concat([cour_one, cour_two, cour_thr, cour_fou], join = 'outer', axis=0, ignore_index=True)\n",
    "data_ingred = pd.concat([ingr_one, ingr_two, ingr_thr, ingr_fou], join = 'outer', axis =0, ignore_index=True)\n",
    "data_detail = pd.concat([det_one, det_two, det_thr, det_fou], join = 'outer', axis = 0, ignore_index=True)\n",
    "data_flavor = pd.concat([fla_one, fla_two, fla_thr, fla_fou], join='outer', axis = 0, ignore_index=True)"
   ]
  },
  {
   "cell_type": "code",
   "execution_count": 25,
   "metadata": {
    "collapsed": true
   },
   "outputs": [],
   "source": [
    "# Set index to be same column\n",
    "data_main.set_index('id', inplace=True)\n",
    "data_course.set_index('index', inplace=True)\n",
    "data_ingred.set_index('id', inplace=True)\n",
    "data_detail.set_index('id', inplace=True)\n",
    "data_flavor.set_index('index', inplace=True)\n",
    "\n",
    "# Drop \"Unnamed: 0\" column\n",
    "data_main.drop('Unnamed: 0', axis = 1, inplace=True)\n",
    "data_course.drop('Unnamed: 0', axis = 1, inplace=True)\n",
    "data_ingred.drop('Unnamed: 0', axis= 1, inplace=True)\n",
    "data_detail.drop('Unnamed: 0', axis= 1, inplace=True)\n",
    "data_flavor.drop('Unnamed: 0', axis= 1, inplace=True)"
   ]
  },
  {
   "cell_type": "code",
   "execution_count": 26,
   "metadata": {
    "collapsed": true
   },
   "outputs": [],
   "source": [
    "data_full_mexican = data_main.join([data_course, data_ingred, data_detail, data_flavor])"
   ]
  },
  {
   "cell_type": "code",
   "execution_count": 31,
   "metadata": {
    "collapsed": true
   },
   "outputs": [],
   "source": [
    "# Read in Asian CSVs\n",
    "\n",
    "# Main\n",
    "asian_one = pd.read_csv('asian/main_as1.csv')\n",
    "asian_two = pd.read_csv('asian/main_as2.csv')\n",
    "asian_thr = pd.read_csv('asian/main_as3.csv')\n",
    "asian_fou = pd.read_csv('asian/main_as4.csv')\n",
    "\n",
    "# Courses\n",
    "cour_one = pd.read_csv('asian/main_as_courses1.csv')\n",
    "cour_two = pd.read_csv('asian/main_as_courses2.csv')\n",
    "cour_thr = pd.read_csv('asian/main_as_courses3.csv')\n",
    "cour_fou = pd.read_csv('asian/main_as_courses4.csv')\n",
    "\n",
    "# Ingredients\n",
    "ingr_one = pd.read_csv('asian/main_as_ingredients1.csv')\n",
    "ingr_two = pd.read_csv('asian/main_as_ingredients2.csv')\n",
    "ingr_thr = pd.read_csv('asian/main_as_ingredients3.csv')\n",
    "ingr_fou = pd.read_csv('asian/main_as_ingredients4.csv')\n",
    "\n",
    "# Details\n",
    "det_one = pd.read_csv('asian/main_as_details1.csv')\n",
    "det_two = pd.read_csv('asian/main_as_details2.csv')\n",
    "det_thr = pd.read_csv('asian/main_as_details3.csv')\n",
    "det_fou = pd.read_csv('asian/main_as_details4.csv')\n",
    "\n",
    "# Flavors\n",
    "fla_one = pd.read_csv('asian/main_as_flavors1.csv')\n",
    "fla_two = pd.read_csv('asian/main_as_flavors2.csv')\n",
    "fla_thr = pd.read_csv('asian/main_as_flavors3.csv')\n",
    "fla_fou = pd.read_csv('asian/main_as_flavors4.csv')"
   ]
  },
  {
   "cell_type": "code",
   "execution_count": 33,
   "metadata": {
    "collapsed": false
   },
   "outputs": [],
   "source": [
    "# Concatenate each set of CSVs vertically\n",
    "data_main = pd.concat([asian_one, asian_two, asian_thr, asian_fou], join='outer', axis=0, ignore_index=True)\n",
    "data_course = pd.concat([cour_one, cour_two, cour_thr, cour_fou], join = 'outer', axis=0, ignore_index=True)\n",
    "data_ingred = pd.concat([ingr_one, ingr_two, ingr_thr, ingr_fou], join = 'outer', axis =0, ignore_index=True)\n",
    "data_detail = pd.concat([det_one, det_two, det_thr, det_fou], join = 'outer', axis = 0, ignore_index=True)\n",
    "data_flavor = pd.concat([fla_one, fla_two, fla_thr, fla_fou], join='outer', axis = 0, ignore_index=True)"
   ]
  },
  {
   "cell_type": "code",
   "execution_count": 34,
   "metadata": {
    "collapsed": true
   },
   "outputs": [],
   "source": [
    "# Set index to be same column\n",
    "data_main.set_index('id', inplace=True)\n",
    "data_course.set_index('index', inplace=True)\n",
    "data_ingred.set_index('id', inplace=True)\n",
    "data_detail.set_index('id', inplace=True)\n",
    "data_flavor.set_index('index', inplace=True)\n",
    "\n",
    "# Drop \"Unnamed: 0\" column\n",
    "data_main.drop('Unnamed: 0', axis = 1, inplace=True)\n",
    "data_course.drop('Unnamed: 0', axis = 1, inplace=True)\n",
    "data_ingred.drop('Unnamed: 0', axis= 1, inplace=True)\n",
    "data_detail.drop('Unnamed: 0', axis= 1, inplace=True)\n",
    "data_flavor.drop('Unnamed: 0', axis= 1, inplace=True)"
   ]
  },
  {
   "cell_type": "code",
   "execution_count": 35,
   "metadata": {
    "collapsed": true
   },
   "outputs": [],
   "source": [
    "data_full_asian = data_main.join([data_course, data_ingred, data_detail, data_flavor])"
   ]
  },
  {
   "cell_type": "code",
   "execution_count": 52,
   "metadata": {
    "collapsed": false
   },
   "outputs": [],
   "source": [
    "# Read in Mediterranean CSVs\n",
    "\n",
    "# Main\n",
    "medit_one = pd.read_csv('mediterranean/main_medit1.csv')\n",
    "medit_two = pd.read_csv('mediterranean/main_medit2.csv')\n",
    "medit_thr = pd.read_csv('mediterranean/main_medit3.csv')\n",
    "medit_fou = pd.read_csv('mediterranean/main_medit4.csv')\n",
    "\n",
    "# Courses\n",
    "cour_one = pd.read_csv('mediterranean/main_medit_courses1.csv')\n",
    "cour_two = pd.read_csv('mediterranean/main_medit_courses2.csv')\n",
    "cour_thr = pd.read_csv('mediterranean/main_medit_courses3.csv')\n",
    "cour_fou = pd.read_csv('mediterranean/main_medit_courses4.csv')\n",
    "\n",
    "# Ingredients\n",
    "ingr_one = pd.read_csv('mediterranean/main_medit_ingredients1.csv')\n",
    "ingr_two = pd.read_csv('mediterranean/main_medit_ingredients2.csv')\n",
    "ingr_thr = pd.read_csv('mediterranean/main_medit_ingredients3.csv')\n",
    "ingr_fou = pd.read_csv('mediterranean/main_medit_ingredients4.csv')\n",
    "\n",
    "# Details\n",
    "det_one = pd.read_csv('mediterranean/main_medit_details1.csv')\n",
    "det_two = pd.read_csv('mediterranean/main_medit_details2.csv')\n",
    "det_thr = pd.read_csv('mediterranean/main_medit_details3.csv')\n",
    "det_fou = pd.read_csv('mediterranean/main_medit_details4.csv')\n",
    "\n",
    "# Flavors\n",
    "fla_one = pd.read_csv('mediterranean/main_medit_flavors1.csv')\n",
    "fla_two = pd.read_csv('mediterranean/main_medit_flavors2.csv')\n",
    "fla_thr = pd.read_csv('mediterranean/main_medit_flavors3.csv')\n",
    "fla_fou = pd.read_csv('mediterranean/main_medit_flavors4.csv')"
   ]
  },
  {
   "cell_type": "code",
   "execution_count": 53,
   "metadata": {
    "collapsed": true
   },
   "outputs": [],
   "source": [
    "# Concatenate each set of CSVs vertically\n",
    "data_main = pd.concat([medit_one, medit_two, medit_thr, medit_fou], join='outer', axis=0, ignore_index=True)\n",
    "data_course = pd.concat([cour_one, cour_two, cour_thr, cour_fou], join = 'outer', axis=0, ignore_index=True)\n",
    "data_ingred = pd.concat([ingr_one, ingr_two, ingr_thr, ingr_fou], join = 'outer', axis =0, ignore_index=True)\n",
    "data_detail = pd.concat([det_one, det_two, det_thr, det_fou], join = 'outer', axis = 0, ignore_index=True)\n",
    "data_flavor = pd.concat([fla_one, fla_two, fla_thr, fla_fou], join='outer', axis = 0, ignore_index=True)"
   ]
  },
  {
   "cell_type": "code",
   "execution_count": 54,
   "metadata": {
    "collapsed": true
   },
   "outputs": [],
   "source": [
    "# Set index to be same column\n",
    "data_main.set_index('id', inplace=True)\n",
    "data_course.set_index('index', inplace=True)\n",
    "data_ingred.set_index('id', inplace=True)\n",
    "data_detail.set_index('id', inplace=True)\n",
    "data_flavor.set_index('index', inplace=True)\n",
    "\n",
    "# Drop \"Unnamed: 0\" column\n",
    "data_main.drop('Unnamed: 0', axis = 1, inplace=True)\n",
    "data_course.drop('Unnamed: 0', axis = 1, inplace=True)\n",
    "data_ingred.drop('Unnamed: 0', axis= 1, inplace=True)\n",
    "data_detail.drop('Unnamed: 0', axis= 1, inplace=True)\n",
    "data_flavor.drop('Unnamed: 0', axis= 1, inplace=True)"
   ]
  },
  {
   "cell_type": "code",
   "execution_count": 55,
   "metadata": {
    "collapsed": true
   },
   "outputs": [],
   "source": [
    "data_full_medit = data_main.join([data_course, data_ingred, data_detail, data_flavor])"
   ]
  },
  {
   "cell_type": "code",
   "execution_count": 58,
   "metadata": {
    "collapsed": true
   },
   "outputs": [],
   "source": [
    "# Could prob use the following code to combine columns that should be one column:\n",
    "\n",
    "# dataframe[\"new_col\"] = dataframe[\"first_col\"]. + dataframe[\"second_col\"]\n",
    "# then delete the original columns - could probably write a function for this"
   ]
  },
  {
   "cell_type": "code",
   "execution_count": null,
   "metadata": {
    "collapsed": true
   },
   "outputs": [],
   "source": []
  }
 ],
 "metadata": {
  "kernelspec": {
   "display_name": "Python 2",
   "language": "python",
   "name": "python2"
  },
  "language_info": {
   "codemirror_mode": {
    "name": "ipython",
    "version": 2
   },
   "file_extension": ".py",
   "mimetype": "text/x-python",
   "name": "python",
   "nbconvert_exporter": "python",
   "pygments_lexer": "ipython2",
   "version": "2.7.11"
  }
 },
 "nbformat": 4,
 "nbformat_minor": 0
}

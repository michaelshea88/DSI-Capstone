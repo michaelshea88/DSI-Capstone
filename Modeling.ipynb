{
 "cells": [
  {
   "cell_type": "code",
   "execution_count": 1,
   "metadata": {
    "collapsed": true
   },
   "outputs": [],
   "source": [
    "import pandas as pd\n",
    "import numpy as np"
   ]
  },
  {
   "cell_type": "code",
   "execution_count": 511,
   "metadata": {
    "collapsed": true
   },
   "outputs": [],
   "source": [
    "train = pd.read_csv('train.csv')\n",
    "test = pd.read_csv('test.csv')"
   ]
  },
  {
   "cell_type": "code",
   "execution_count": 512,
   "metadata": {
    "collapsed": false
   },
   "outputs": [
    {
     "data": {
      "text/html": [
       "<div>\n",
       "<table border=\"1\" class=\"dataframe\">\n",
       "  <thead>\n",
       "    <tr style=\"text-align: right;\">\n",
       "      <th></th>\n",
       "      <th>Unnamed: 0</th>\n",
       "      <th>rating</th>\n",
       "      <th>bitter</th>\n",
       "      <th>meaty</th>\n",
       "      <th>piquant</th>\n",
       "      <th>salty</th>\n",
       "      <th>sour</th>\n",
       "      <th>sweet</th>\n",
       "      <th>ingredientcount</th>\n",
       "      <th>numberofservings</th>\n",
       "      <th>...</th>\n",
       "      <th>yolks</th>\n",
       "      <th>yoplait</th>\n",
       "      <th>york</th>\n",
       "      <th>yukon</th>\n",
       "      <th>za</th>\n",
       "      <th>zest</th>\n",
       "      <th>zesty</th>\n",
       "      <th>ziti</th>\n",
       "      <th>zucchini</th>\n",
       "      <th>course_num</th>\n",
       "    </tr>\n",
       "  </thead>\n",
       "  <tbody>\n",
       "    <tr>\n",
       "      <th>0</th>\n",
       "      <td>0</td>\n",
       "      <td>3</td>\n",
       "      <td>0.166667</td>\n",
       "      <td>0.166667</td>\n",
       "      <td>0.0</td>\n",
       "      <td>0.500000</td>\n",
       "      <td>0.833333</td>\n",
       "      <td>0.333333</td>\n",
       "      <td>11</td>\n",
       "      <td>12.0</td>\n",
       "      <td>...</td>\n",
       "      <td>0.0</td>\n",
       "      <td>0.0</td>\n",
       "      <td>0.0</td>\n",
       "      <td>0.0</td>\n",
       "      <td>0.0</td>\n",
       "      <td>0.234578</td>\n",
       "      <td>0.0</td>\n",
       "      <td>0.0</td>\n",
       "      <td>0.000000</td>\n",
       "      <td>3</td>\n",
       "    </tr>\n",
       "    <tr>\n",
       "      <th>1</th>\n",
       "      <td>1</td>\n",
       "      <td>4</td>\n",
       "      <td>0.166667</td>\n",
       "      <td>0.166667</td>\n",
       "      <td>0.0</td>\n",
       "      <td>0.166667</td>\n",
       "      <td>0.500000</td>\n",
       "      <td>0.166667</td>\n",
       "      <td>7</td>\n",
       "      <td>5.0</td>\n",
       "      <td>...</td>\n",
       "      <td>0.0</td>\n",
       "      <td>0.0</td>\n",
       "      <td>0.0</td>\n",
       "      <td>0.0</td>\n",
       "      <td>0.0</td>\n",
       "      <td>0.000000</td>\n",
       "      <td>0.0</td>\n",
       "      <td>0.0</td>\n",
       "      <td>0.337091</td>\n",
       "      <td>4</td>\n",
       "    </tr>\n",
       "  </tbody>\n",
       "</table>\n",
       "<p>2 rows × 1825 columns</p>\n",
       "</div>"
      ],
      "text/plain": [
       "   Unnamed: 0  rating    bitter     meaty  piquant     salty      sour  \\\n",
       "0           0       3  0.166667  0.166667      0.0  0.500000  0.833333   \n",
       "1           1       4  0.166667  0.166667      0.0  0.166667  0.500000   \n",
       "\n",
       "      sweet  ingredientcount  numberofservings     ...      yolks  yoplait  \\\n",
       "0  0.333333               11              12.0     ...        0.0      0.0   \n",
       "1  0.166667                7               5.0     ...        0.0      0.0   \n",
       "\n",
       "   york  yukon   za      zest  zesty  ziti  zucchini  course_num  \n",
       "0   0.0    0.0  0.0  0.234578    0.0   0.0  0.000000           3  \n",
       "1   0.0    0.0  0.0  0.000000    0.0   0.0  0.337091           4  \n",
       "\n",
       "[2 rows x 1825 columns]"
      ]
     },
     "execution_count": 512,
     "metadata": {},
     "output_type": "execute_result"
    }
   ],
   "source": [
    "train.head(2)"
   ]
  },
  {
   "cell_type": "code",
   "execution_count": 513,
   "metadata": {
    "collapsed": false
   },
   "outputs": [
    {
     "data": {
      "text/html": [
       "<div>\n",
       "<table border=\"1\" class=\"dataframe\">\n",
       "  <thead>\n",
       "    <tr style=\"text-align: right;\">\n",
       "      <th></th>\n",
       "      <th>Unnamed: 0</th>\n",
       "      <th>rating</th>\n",
       "      <th>bitter</th>\n",
       "      <th>meaty</th>\n",
       "      <th>piquant</th>\n",
       "      <th>salty</th>\n",
       "      <th>sour</th>\n",
       "      <th>sweet</th>\n",
       "      <th>ingredientcount</th>\n",
       "      <th>numberofservings</th>\n",
       "      <th>...</th>\n",
       "      <th>yolks</th>\n",
       "      <th>yoplait</th>\n",
       "      <th>york</th>\n",
       "      <th>yukon</th>\n",
       "      <th>za</th>\n",
       "      <th>zest</th>\n",
       "      <th>zesty</th>\n",
       "      <th>ziti</th>\n",
       "      <th>zucchini</th>\n",
       "      <th>course_num</th>\n",
       "    </tr>\n",
       "  </thead>\n",
       "  <tbody>\n",
       "    <tr>\n",
       "      <th>0</th>\n",
       "      <td>0</td>\n",
       "      <td>3</td>\n",
       "      <td>NaN</td>\n",
       "      <td>NaN</td>\n",
       "      <td>NaN</td>\n",
       "      <td>NaN</td>\n",
       "      <td>NaN</td>\n",
       "      <td>NaN</td>\n",
       "      <td>7</td>\n",
       "      <td>16.0</td>\n",
       "      <td>...</td>\n",
       "      <td>0.0</td>\n",
       "      <td>0.0</td>\n",
       "      <td>0.0</td>\n",
       "      <td>0.0</td>\n",
       "      <td>0.0</td>\n",
       "      <td>0.0</td>\n",
       "      <td>0.0</td>\n",
       "      <td>0.0</td>\n",
       "      <td>0.0</td>\n",
       "      <td>2</td>\n",
       "    </tr>\n",
       "    <tr>\n",
       "      <th>1</th>\n",
       "      <td>1</td>\n",
       "      <td>4</td>\n",
       "      <td>0.333333</td>\n",
       "      <td>0.833333</td>\n",
       "      <td>0.5</td>\n",
       "      <td>0.666667</td>\n",
       "      <td>0.166667</td>\n",
       "      <td>0.166667</td>\n",
       "      <td>23</td>\n",
       "      <td>4.0</td>\n",
       "      <td>...</td>\n",
       "      <td>0.0</td>\n",
       "      <td>0.0</td>\n",
       "      <td>0.0</td>\n",
       "      <td>0.0</td>\n",
       "      <td>0.0</td>\n",
       "      <td>0.0</td>\n",
       "      <td>0.0</td>\n",
       "      <td>0.0</td>\n",
       "      <td>0.0</td>\n",
       "      <td>0</td>\n",
       "    </tr>\n",
       "  </tbody>\n",
       "</table>\n",
       "<p>2 rows × 1825 columns</p>\n",
       "</div>"
      ],
      "text/plain": [
       "   Unnamed: 0  rating    bitter     meaty  piquant     salty      sour  \\\n",
       "0           0       3       NaN       NaN      NaN       NaN       NaN   \n",
       "1           1       4  0.333333  0.833333      0.5  0.666667  0.166667   \n",
       "\n",
       "      sweet  ingredientcount  numberofservings     ...      yolks  yoplait  \\\n",
       "0       NaN                7              16.0     ...        0.0      0.0   \n",
       "1  0.166667               23               4.0     ...        0.0      0.0   \n",
       "\n",
       "   york  yukon   za  zest  zesty  ziti  zucchini  course_num  \n",
       "0   0.0    0.0  0.0   0.0    0.0   0.0       0.0           2  \n",
       "1   0.0    0.0  0.0   0.0    0.0   0.0       0.0           0  \n",
       "\n",
       "[2 rows x 1825 columns]"
      ]
     },
     "execution_count": 513,
     "metadata": {},
     "output_type": "execute_result"
    }
   ],
   "source": [
    "test.head(2)"
   ]
  },
  {
   "cell_type": "code",
   "execution_count": 515,
   "metadata": {
    "collapsed": false
   },
   "outputs": [
    {
     "name": "stdout",
     "output_type": "stream",
     "text": [
      "(7508, 1824)\n",
      "(2503, 1824)\n"
     ]
    }
   ],
   "source": [
    "train = train.drop(['Unnamed: 0'], axis = 1 )\n",
    "test = test.drop(['Unnamed: 0'], axis = 1 )\n",
    "print train.shape\n",
    "print test.shape"
   ]
  },
  {
   "cell_type": "code",
   "execution_count": 516,
   "metadata": {
    "collapsed": false
   },
   "outputs": [],
   "source": [
    "# fill na with zero\n",
    "train = train.fillna(value = 0)\n",
    "test = test.fillna(value = 0)"
   ]
  },
  {
   "cell_type": "code",
   "execution_count": 517,
   "metadata": {
    "collapsed": false
   },
   "outputs": [
    {
     "data": {
      "text/html": [
       "<div>\n",
       "<table border=\"1\" class=\"dataframe\">\n",
       "  <thead>\n",
       "    <tr style=\"text-align: right;\">\n",
       "      <th></th>\n",
       "      <th>rating</th>\n",
       "      <th>bitter</th>\n",
       "      <th>meaty</th>\n",
       "      <th>piquant</th>\n",
       "      <th>salty</th>\n",
       "      <th>sour</th>\n",
       "      <th>sweet</th>\n",
       "      <th>ingredientcount</th>\n",
       "      <th>numberofservings</th>\n",
       "      <th>totaltimeinseconds</th>\n",
       "      <th>...</th>\n",
       "      <th>yolks</th>\n",
       "      <th>yoplait</th>\n",
       "      <th>york</th>\n",
       "      <th>yukon</th>\n",
       "      <th>za</th>\n",
       "      <th>zest</th>\n",
       "      <th>zesty</th>\n",
       "      <th>ziti</th>\n",
       "      <th>zucchini</th>\n",
       "      <th>course_num</th>\n",
       "    </tr>\n",
       "  </thead>\n",
       "  <tbody>\n",
       "    <tr>\n",
       "      <th>0</th>\n",
       "      <td>3</td>\n",
       "      <td>0.166667</td>\n",
       "      <td>0.166667</td>\n",
       "      <td>0.0</td>\n",
       "      <td>0.500000</td>\n",
       "      <td>0.833333</td>\n",
       "      <td>0.333333</td>\n",
       "      <td>11</td>\n",
       "      <td>12.0</td>\n",
       "      <td>900.0</td>\n",
       "      <td>...</td>\n",
       "      <td>0.0</td>\n",
       "      <td>0.0</td>\n",
       "      <td>0.0</td>\n",
       "      <td>0.0</td>\n",
       "      <td>0.0</td>\n",
       "      <td>0.234578</td>\n",
       "      <td>0.0</td>\n",
       "      <td>0.0</td>\n",
       "      <td>0.000000</td>\n",
       "      <td>3</td>\n",
       "    </tr>\n",
       "    <tr>\n",
       "      <th>1</th>\n",
       "      <td>4</td>\n",
       "      <td>0.166667</td>\n",
       "      <td>0.166667</td>\n",
       "      <td>0.0</td>\n",
       "      <td>0.166667</td>\n",
       "      <td>0.500000</td>\n",
       "      <td>0.166667</td>\n",
       "      <td>7</td>\n",
       "      <td>5.0</td>\n",
       "      <td>2100.0</td>\n",
       "      <td>...</td>\n",
       "      <td>0.0</td>\n",
       "      <td>0.0</td>\n",
       "      <td>0.0</td>\n",
       "      <td>0.0</td>\n",
       "      <td>0.0</td>\n",
       "      <td>0.000000</td>\n",
       "      <td>0.0</td>\n",
       "      <td>0.0</td>\n",
       "      <td>0.337091</td>\n",
       "      <td>4</td>\n",
       "    </tr>\n",
       "  </tbody>\n",
       "</table>\n",
       "<p>2 rows × 1824 columns</p>\n",
       "</div>"
      ],
      "text/plain": [
       "   rating    bitter     meaty  piquant     salty      sour     sweet  \\\n",
       "0       3  0.166667  0.166667      0.0  0.500000  0.833333  0.333333   \n",
       "1       4  0.166667  0.166667      0.0  0.166667  0.500000  0.166667   \n",
       "\n",
       "   ingredientcount  numberofservings  totaltimeinseconds     ...      yolks  \\\n",
       "0               11              12.0               900.0     ...        0.0   \n",
       "1                7               5.0              2100.0     ...        0.0   \n",
       "\n",
       "   yoplait  york  yukon   za      zest  zesty  ziti  zucchini  course_num  \n",
       "0      0.0   0.0    0.0  0.0  0.234578    0.0   0.0  0.000000           3  \n",
       "1      0.0   0.0    0.0  0.0  0.000000    0.0   0.0  0.337091           4  \n",
       "\n",
       "[2 rows x 1824 columns]"
      ]
     },
     "execution_count": 517,
     "metadata": {},
     "output_type": "execute_result"
    }
   ],
   "source": [
    "train.head(2)"
   ]
  },
  {
   "cell_type": "code",
   "execution_count": 518,
   "metadata": {
    "collapsed": false
   },
   "outputs": [
    {
     "name": "stdout",
     "output_type": "stream",
     "text": [
      "(7508, 1824)\n",
      "(7508, 1823)\n",
      "(7508,)\n",
      "(2503, 1823)\n",
      "(2503,)\n"
     ]
    }
   ],
   "source": [
    "# define X and Y \n",
    "\n",
    "#training set\n",
    "array = train.values\n",
    "print array.shape\n",
    "X_train = array[:, 0:1823]\n",
    "print X_train.shape\n",
    "Y_train = array[:, 1823]\n",
    "print Y_train.shape\n",
    "\n",
    "#testing set\n",
    "_array = test.values\n",
    "X_test = _array[:, 0:1823]\n",
    "print X_test.shape\n",
    "Y_test = _array[:, 1823]\n",
    "print Y_test.shape"
   ]
  },
  {
   "cell_type": "code",
   "execution_count": 497,
   "metadata": {
    "collapsed": false
   },
   "outputs": [],
   "source": [
    "X_train = np.array(X_train).astype(int)\n",
    "Y_train = np.array(Y_train).astype(int)"
   ]
  },
  {
   "cell_type": "code",
   "execution_count": 519,
   "metadata": {
    "collapsed": false
   },
   "outputs": [],
   "source": [
    "# select models to test on dataset\n",
    "#import library\n",
    "from sklearn.linear_model import LogisticRegression\n",
    "from sklearn.discriminant_analysis import LinearDiscriminantAnalysis\n",
    "from sklearn.tree import DecisionTreeClassifier\n",
    "from sklearn.neighbors import KNeighborsClassifier\n",
    "from sklearn.svm import SVC\n",
    "from sklearn.naive_bayes import GaussianNB\n",
    "from sklearn.linear_model import RidgeCV\n",
    "\n",
    "models=[]\n",
    "models.append(('LOG', LogisticRegression()))\n",
    "#models.append(('Ridge', Ridge()))\n",
    "models.append(('LDA', LinearDiscriminantAnalysis()))\n",
    "models.append(('CART', DecisionTreeClassifier()))\n",
    "models.append(('KNN', KNeighborsClassifier()))\n",
    "#models.append(('SVM', SVC()))\n",
    "models.append(('NB', GaussianNB()))"
   ]
  },
  {
   "cell_type": "code",
   "execution_count": 524,
   "metadata": {
    "collapsed": false
   },
   "outputs": [
    {
     "name": "stdout",
     "output_type": "stream",
     "text": [
      "LOG: 0.848162 (0.015135)\n",
      "LDA: 0.851487 (0.010987)\n",
      "CART: 0.763451 (0.010706)\n",
      "KNN: 0.463108 (0.010651)\n",
      "NB: 0.520506 (0.069723)\n"
     ]
    }
   ],
   "source": [
    "from sklearn import cross_validation\n",
    "from sklearn.cross_validation import KFold\n",
    "from sklearn.cross_validation import cross_val_score\n",
    "\n",
    "results=[]\n",
    "names=[]\n",
    "\n",
    "for name, model in models:\n",
    "    kfold = KFold(n = 7508, n_folds = 10, random_state = 10)\n",
    "    _results = cross_validation.cross_val_score(model, X_train, Y_train, cv = kfold, scoring = 'accuracy')\n",
    "    results.append(_results)\n",
    "    names.append(name)\n",
    "    scores=\"%s: %f (%f)\" % (name, _results.mean(), _results.std())\n",
    "    print scores"
   ]
  },
  {
   "cell_type": "code",
   "execution_count": 523,
   "metadata": {
    "collapsed": false
   },
   "outputs": [],
   "source": [
    "from sklearn.ensemble import AdaBoostClassifier\n",
    "from sklearn.ensemble import GradientBoostingClassifier\n",
    "ensembles = []\n",
    "ensembles.append(('AB', AdaBoostClassifier()))\n",
    "ensembles.append(('GBM', GradientBoostingClassifier()))\n"
   ]
  },
  {
   "cell_type": "code",
   "execution_count": 526,
   "metadata": {
    "collapsed": false
   },
   "outputs": [
    {
     "name": "stdout",
     "output_type": "stream",
     "text": [
      "AB: 0.725093 (0.026104)\n",
      "GBM: 0.858418 (0.012659)\n"
     ]
    }
   ],
   "source": [
    "results=[]\n",
    "names=[]\n",
    "for name, model in ensembles:\n",
    "    kfold=KFold(n=7508,n_folds=10, random_state=10)\n",
    "    _results=cross_validation.cross_val_score(model,X_train,Y_train,cv=kfold,scoring='accuracy')\n",
    "    results.append(_results)\n",
    "    names.append(name)\n",
    "    scores=\"%s: %f (%f)\" % (name, _results.mean(), _results.std())\n",
    "    print scores"
   ]
  },
  {
   "cell_type": "code",
   "execution_count": 522,
   "metadata": {
    "collapsed": false
   },
   "outputs": [
    {
     "name": "stdout",
     "output_type": "stream",
     "text": [
      "2503\n",
      "0.854174990012\n",
      "[[420  22   9  56  16]\n",
      " [ 24 428  35  11  10]\n",
      " [  4  66 446   3   1]\n",
      " [ 53   6   6 406  10]\n",
      " [ 16   0   1  16 438]]\n",
      "             precision    recall  f1-score   support\n",
      "\n",
      "        0.0       0.81      0.80      0.81       523\n",
      "        1.0       0.82      0.84      0.83       508\n",
      "        2.0       0.90      0.86      0.88       520\n",
      "        3.0       0.83      0.84      0.83       481\n",
      "        4.0       0.92      0.93      0.93       471\n",
      "\n",
      "avg / total       0.85      0.85      0.85      2503\n",
      "\n"
     ]
    }
   ],
   "source": [
    "# Logistic regression\n",
    "from sklearn.metrics import classification_report\n",
    "from sklearn.metrics import accuracy_score\n",
    "from sklearn.metrics import confusion_matrix\n",
    "\n",
    "logreg = LogisticRegression()\n",
    "logreg.fit(X_train, Y_train)\n",
    "Y_pred = logreg.predict(X_test)\n",
    "print len(Y_pred)\n",
    "\n",
    "print accuracy_score(Y_test, Y_pred )\n",
    "print confusion_matrix(Y_test,Y_pred )\n",
    "print classification_report(Y_test, Y_pred)"
   ]
  },
  {
   "cell_type": "code",
   "execution_count": 527,
   "metadata": {
    "collapsed": false
   },
   "outputs": [
    {
     "name": "stdout",
     "output_type": "stream",
     "text": [
      "             precision    recall  f1-score   support\n",
      "\n",
      "        0.0       0.83      0.79      0.81       523\n",
      "        1.0       0.81      0.85      0.83       508\n",
      "        2.0       0.89      0.83      0.86       520\n",
      "        3.0       0.84      0.89      0.86       481\n",
      "        4.0       0.89      0.90      0.89       471\n",
      "\n",
      "avg / total       0.85      0.85      0.85      2503\n",
      "\n"
     ]
    }
   ],
   "source": [
    "# Tunning model\n",
    "#pre-processing\n",
    "from sklearn.preprocessing import StandardScaler\n",
    "scaler = StandardScaler()\n",
    "X_train_scaled = scaler.fit_transform(X_train)\n",
    "X_test_scaled = scaler.transform(X_test)\n",
    "logreg.fit(X_train_scaled, Y_train)\n",
    "Y_pred = logreg.predict(X_test_scaled)\n",
    "\n",
    "print classification_report(Y_test, Y_pred)"
   ]
  },
  {
   "cell_type": "code",
   "execution_count": 533,
   "metadata": {
    "collapsed": false
   },
   "outputs": [
    {
     "name": "stdout",
     "output_type": "stream",
     "text": [
      "\n",
      " Bagging Model Accuracy on training data\n",
      "\n",
      "             precision    recall  f1-score   support\n",
      "\n",
      "        0.0       0.84      0.81      0.83       523\n",
      "        1.0       0.79      0.85      0.82       508\n",
      "        2.0       0.92      0.83      0.87       520\n",
      "        3.0       0.83      0.91      0.87       481\n",
      "        4.0       0.94      0.90      0.92       471\n",
      "\n",
      "avg / total       0.86      0.86      0.86      2503\n",
      "\n"
     ]
    }
   ],
   "source": [
    "from sklearn.ensemble import BaggingClassifier\n",
    "# Apply ensemble method- Bagging \n",
    "\n",
    "def build_bagging_model(x,y):\n",
    "    bagging = BaggingClassifier(LinearDiscriminantAnalysis(),\n",
    "                                n_estimators = 100, \n",
    "                                random_state = 10,\n",
    "                                max_samples = 1.0,\n",
    "                                max_features = 0.7,\n",
    "                                bootstrap = True,\n",
    "                                bootstrap_features = True)\n",
    "    bagging.fit(x,y)\n",
    "    return bagging\n",
    "\n",
    "# Build a bag of Logreg models\n",
    "bagging = build_bagging_model(X_train, Y_train)\n",
    "predicted_y = bagging.predict(X_test)\n",
    "\n",
    "print \"\\n Bagging Model Accuracy on training data\\n\"\n",
    "print classification_report(Y_test, predicted_y)"
   ]
  },
  {
   "cell_type": "code",
   "execution_count": 256,
   "metadata": {
    "collapsed": false
   },
   "outputs": [
    {
     "name": "stderr",
     "output_type": "stream",
     "text": [
      "//anaconda/lib/python2.7/site-packages/sklearn/feature_selection/univariate_selection.py:113: UserWarning: Features [  26   28   38   76  121  169  214  238  327  341  454  479  507  529  530\n",
      "  554  557  560  600  602  644  721  727  747  775  796  818  821  824  854\n",
      "  857  871  889  909  911  942  961 1047 1078 1119 1150 1223 1289 1384 1388\n",
      " 1466 1475 1494 1505 1511 1583 1607 1622 1637 1657 1715 1729 1739 1819] are constant.\n",
      "  UserWarning)\n",
      "//anaconda/lib/python2.7/site-packages/sklearn/feature_selection/univariate_selection.py:113: UserWarning: Features [  32   61  194  271  306  320  383  427  528  532  553  629  668  672  734\n",
      "  845  892  906  921  932  954  971  975 1006 1035 1043 1045 1088 1166 1268\n",
      " 1322 1440 1459 1488 1491 1531 1556 1610 1653 1680 1718 1752 1773 1787 1802\n",
      " 1821 1836] are constant.\n",
      "  UserWarning)\n",
      "//anaconda/lib/python2.7/site-packages/sklearn/feature_selection/univariate_selection.py:113: UserWarning: Features [  39   63  115  127  130  144  233  283  314  363  381  410  431  440  459\n",
      "  588  696  714  749  753  773  812  832  856  897  919  928  948  995 1067\n",
      " 1081 1221 1242 1277 1335 1351 1354 1363 1386 1415 1427 1439 1495 1501 1515\n",
      " 1522 1529 1670 1705 1726] are constant.\n",
      "  UserWarning)\n",
      "//anaconda/lib/python2.7/site-packages/sklearn/feature_selection/univariate_selection.py:113: UserWarning: Features [  43   50   68   89   92   95  113  147  168  182  203  230  273  275  349\n",
      "  536  539  547  558  636  663  690  735  826  869  877  902  904  905  962\n",
      " 1007 1125 1146 1162 1202 1207 1208 1270 1281 1400 1449 1616 1627 1634 1703\n",
      " 1736] are constant.\n",
      "  UserWarning)\n",
      "//anaconda/lib/python2.7/site-packages/sklearn/feature_selection/univariate_selection.py:113: UserWarning: Features [  16   17   56   78   93  112  213  310  356  378  480  542  603  622  625\n",
      "  689  702  707  720  761  811  860  931  935  986 1014 1070 1086 1103 1114\n",
      " 1149 1191 1254 1275 1276 1309 1405 1409 1447 1597 1601 1613 1678 1727 1812] are constant.\n",
      "  UserWarning)\n",
      "//anaconda/lib/python2.7/site-packages/sklearn/feature_selection/univariate_selection.py:113: UserWarning: Features [  13   77  105  114  126  173  205  263  286  301  353  354  366  415  433\n",
      "  465  589  640  717  767  771  810  819  844  862  870  872  937 1022 1054\n",
      " 1071 1135 1168 1199 1204 1271 1329 1352 1359 1371 1379 1432 1512 1558 1565\n",
      " 1568 1628 1642 1651 1654 1666 1668 1685 1695 1725] are constant.\n",
      "  UserWarning)\n",
      "//anaconda/lib/python2.7/site-packages/sklearn/feature_selection/univariate_selection.py:113: UserWarning: Features [  10   29   79   86  123  191  199  254  321  348  369  384  416  460  496\n",
      "  513  587  596  659  683  722  774  798  809  841  850  866 1027 1030 1050\n",
      " 1052 1066 1068 1145 1197 1227 1237 1283 1300 1318 1431 1499 1514 1552 1605\n",
      " 1612 1655 1687 1709 1767 1822] are constant.\n",
      "  UserWarning)\n",
      "//anaconda/lib/python2.7/site-packages/sklearn/feature_selection/univariate_selection.py:113: UserWarning: Features [  31   52  136  155  166  181  185  236  259  393  397  531  618  633  685\n",
      "  700  706  757  803  816  835  908  914  955 1079 1130 1131 1169 1220 1262\n",
      " 1297 1328 1361 1364 1380 1399 1416 1448 1457 1500 1509 1520 1528 1547 1570\n",
      " 1681 1686 1694] are constant.\n",
      "  UserWarning)\n",
      "//anaconda/lib/python2.7/site-packages/sklearn/feature_selection/univariate_selection.py:113: UserWarning: Features [  15   23   27   51   59   90  129  162  193  256  270  297  307  322  357\n",
      "  364  400  489  493  549  575  711  712  788  792  806  830  834  843  855\n",
      "  951  994 1024 1028 1093 1136 1156 1234 1313 1349 1430 1455 1486 1498 1554\n",
      " 1590 1592 1700 1704 1714 1728 1733 1761 1774 1799] are constant.\n",
      "  UserWarning)\n",
      "//anaconda/lib/python2.7/site-packages/sklearn/feature_selection/univariate_selection.py:113: UserWarning: Features [  11   20   60  135  165  184  225  229  257  344  375  382  387  395  478\n",
      "  508  548  563  570  573  579  595  645  660  697  852  891  898  900  943\n",
      "  966 1053 1060 1064 1087 1095 1098 1139 1163 1203 1224 1301 1312 1337 1353\n",
      " 1375 1377 1411 1436 1527 1530 1549 1632 1633 1649 1663 1665 1719 1740 1747\n",
      " 1757 1804 1806] are constant.\n",
      "  UserWarning)\n"
     ]
    },
    {
     "name": "stdout",
     "output_type": "stream",
     "text": [
      "0.630647441032\n"
     ]
    }
   ],
   "source": [
    "# create feature union\n",
    "from sklearn.decomposition import PCA\n",
    "from sklearn.pipeline import Pipeline\n",
    "from sklearn.pipeline import FeatureUnion\n",
    "from sklearn.feature_selection import SelectKBest\n",
    "features = []\n",
    "features.append(('pca', PCA(n_components = 3)))\n",
    "features.append(('select_best', SelectKBest(k=6)))\n",
    "feature_union = FeatureUnion(features)\n",
    "#create pipeline\n",
    "estimators = []\n",
    "estimators.append(('feature_union', feature_union))\n",
    "estimators.append(('logistic', LogisticRegression()))\n",
    "model = Pipeline(estimators)\n",
    "#evaluate pipeline\n",
    "kfold = kfold = KFold(n = 7497, n_folds = 10, random_state = 10)\n",
    "results = cross_val_score(model, X_train, Y_train, cv = kfold)\n",
    "print(results.mean())"
   ]
  },
  {
   "cell_type": "code",
   "execution_count": 271,
   "metadata": {
    "collapsed": false
   },
   "outputs": [
    {
     "data": {
      "text/html": [
       "<div>\n",
       "<table border=\"1\" class=\"dataframe\">\n",
       "  <thead>\n",
       "    <tr style=\"text-align: right;\">\n",
       "      <th></th>\n",
       "      <th>rating</th>\n",
       "      <th>bitter</th>\n",
       "      <th>meaty</th>\n",
       "      <th>piquant</th>\n",
       "      <th>salty</th>\n",
       "      <th>sour</th>\n",
       "      <th>sweet</th>\n",
       "      <th>ingredientcount</th>\n",
       "      <th>numberofservings</th>\n",
       "      <th>totaltimeinseconds</th>\n",
       "      <th>course_num</th>\n",
       "    </tr>\n",
       "  </thead>\n",
       "  <tbody>\n",
       "    <tr>\n",
       "      <th>0</th>\n",
       "      <td>4</td>\n",
       "      <td>0.000000</td>\n",
       "      <td>0.000000</td>\n",
       "      <td>0.0</td>\n",
       "      <td>0.000000</td>\n",
       "      <td>0.000000</td>\n",
       "      <td>0.000000</td>\n",
       "      <td>5</td>\n",
       "      <td>1.0</td>\n",
       "      <td>900.0</td>\n",
       "      <td>2</td>\n",
       "    </tr>\n",
       "    <tr>\n",
       "      <th>1</th>\n",
       "      <td>4</td>\n",
       "      <td>0.833333</td>\n",
       "      <td>0.833333</td>\n",
       "      <td>0.0</td>\n",
       "      <td>0.833333</td>\n",
       "      <td>0.166667</td>\n",
       "      <td>0.166667</td>\n",
       "      <td>5</td>\n",
       "      <td>12.0</td>\n",
       "      <td>300.0</td>\n",
       "      <td>3</td>\n",
       "    </tr>\n",
       "    <tr>\n",
       "      <th>2</th>\n",
       "      <td>4</td>\n",
       "      <td>0.833333</td>\n",
       "      <td>0.833333</td>\n",
       "      <td>0.0</td>\n",
       "      <td>0.833333</td>\n",
       "      <td>0.833333</td>\n",
       "      <td>0.333333</td>\n",
       "      <td>7</td>\n",
       "      <td>4.0</td>\n",
       "      <td>900.0</td>\n",
       "      <td>0</td>\n",
       "    </tr>\n",
       "    <tr>\n",
       "      <th>3</th>\n",
       "      <td>4</td>\n",
       "      <td>0.666667</td>\n",
       "      <td>0.666667</td>\n",
       "      <td>0.0</td>\n",
       "      <td>0.833333</td>\n",
       "      <td>0.166667</td>\n",
       "      <td>0.833333</td>\n",
       "      <td>11</td>\n",
       "      <td>12.0</td>\n",
       "      <td>3120.0</td>\n",
       "      <td>2</td>\n",
       "    </tr>\n",
       "    <tr>\n",
       "      <th>4</th>\n",
       "      <td>4</td>\n",
       "      <td>0.000000</td>\n",
       "      <td>0.000000</td>\n",
       "      <td>0.0</td>\n",
       "      <td>0.000000</td>\n",
       "      <td>0.000000</td>\n",
       "      <td>0.000000</td>\n",
       "      <td>15</td>\n",
       "      <td>12.0</td>\n",
       "      <td>5400.0</td>\n",
       "      <td>2</td>\n",
       "    </tr>\n",
       "  </tbody>\n",
       "</table>\n",
       "</div>"
      ],
      "text/plain": [
       "   rating    bitter     meaty  piquant     salty      sour     sweet  \\\n",
       "0       4  0.000000  0.000000      0.0  0.000000  0.000000  0.000000   \n",
       "1       4  0.833333  0.833333      0.0  0.833333  0.166667  0.166667   \n",
       "2       4  0.833333  0.833333      0.0  0.833333  0.833333  0.333333   \n",
       "3       4  0.666667  0.666667      0.0  0.833333  0.166667  0.833333   \n",
       "4       4  0.000000  0.000000      0.0  0.000000  0.000000  0.000000   \n",
       "\n",
       "   ingredientcount  numberofservings  totaltimeinseconds  course_num  \n",
       "0                5               1.0               900.0           2  \n",
       "1                5              12.0               300.0           3  \n",
       "2                7               4.0               900.0           0  \n",
       "3               11              12.0              3120.0           2  \n",
       "4               15              12.0              5400.0           2  "
      ]
     },
     "execution_count": 271,
     "metadata": {},
     "output_type": "execute_result"
    }
   ],
   "source": [
    "train_main = train.ix[:,0:10]\n",
    "train_main['course_num'] = train['course_num']\n",
    "train_main.head()"
   ]
  },
  {
   "cell_type": "code",
   "execution_count": 274,
   "metadata": {
    "collapsed": false
   },
   "outputs": [
    {
     "data": {
      "text/plain": [
       "<matplotlib.axes._subplots.AxesSubplot at 0x651c9c490>"
      ]
     },
     "execution_count": 274,
     "metadata": {},
     "output_type": "execute_result"
    },
    {
     "data": {
      "image/png": "[encoded data removed]",
      "text/plain": [
       "<matplotlib.figure.Figure at 0x651c83f10>"
      ]
     },
     "metadata": {},
     "output_type": "display_data"
    }
   ],
   "source": [
    "%matplotlib inline\n",
    "import seaborn as sns\n",
    "sns.heatmap(train_main.corr())"
   ]
  },
  {
   "cell_type": "code",
   "execution_count": 275,
   "metadata": {
    "collapsed": false
   },
   "outputs": [
    {
     "name": "stdout",
     "output_type": "stream",
     "text": [
      "rating :\n",
      "NormaltestResult(statistic=4.6621175620571567, pvalue=0.097192786714217452)\n"
     ]
    },
    {
     "data": {
      "image/png": "[encoded data removed]",
      "text/plain": [
       "<matplotlib.figure.Figure at 0x651e5fbd0>"
      ]
     },
     "metadata": {},
     "output_type": "display_data"
    },
    {
     "name": "stdout",
     "output_type": "stream",
     "text": [
      "\n",
      "bitter :\n",
      "NormaltestResult(statistic=28.817775121648708, pvalue=5.5245847716879847e-07)\n"
     ]
    },
    {
     "data": {
      "image/png": "[encoded data removed]",
      "text/plain": [
       "<matplotlib.figure.Figure at 0x64ad3c090>"
      ]
     },
     "metadata": {},
     "output_type": "display_data"
    },
    {
     "name": "stdout",
     "output_type": "stream",
     "text": [
      "\n",
      "meaty :\n",
      "NormaltestResult(statistic=11.518510189229978, pvalue=0.0031534597529107662)\n"
     ]
    },
    {
     "data": {
      "image/png": "[encoded data removed]",
      "text/plain": [
       "<matplotlib.figure.Figure at 0x64ad32f50>"
      ]
     },
     "metadata": {},
     "output_type": "display_data"
    },
    {
     "name": "stdout",
     "output_type": "stream",
     "text": [
      "\n",
      "piquant :\n",
      "NormaltestResult(statistic=32.952810647963155, pvalue=6.9885662445008875e-08)\n"
     ]
    },
    {
     "data": {
      "image/png": "[encoded data removed]",
      "text/plain": [
       "<matplotlib.figure.Figure at 0x64ab83510>"
      ]
     },
     "metadata": {},
     "output_type": "display_data"
    },
    {
     "name": "stdout",
     "output_type": "stream",
     "text": [
      "\n",
      "salty :\n",
      "NormaltestResult(statistic=24.849104707008312, pvalue=4.0186989439394318e-06)\n"
     ]
    },
    {
     "data": {
      "image/png": "[encoded data removed]",
      "text/plain": [
       "<matplotlib.figure.Figure at 0x64ab83b10>"
      ]
     },
     "metadata": {},
     "output_type": "display_data"
    },
    {
     "name": "stdout",
     "output_type": "stream",
     "text": [
      "\n",
      "sour :\n",
      "NormaltestResult(statistic=36.956911921950045, pvalue=9.4386208772342319e-09)\n"
     ]
    },
    {
     "data": {
      "image/png": "[encoded data removed]",
      "text/plain": [
       "<matplotlib.figure.Figure at 0x14e5992d0>"
      ]
     },
     "metadata": {},
     "output_type": "display_data"
    },
    {
     "name": "stdout",
     "output_type": "stream",
     "text": [
      "\n",
      "sweet :\n",
      "NormaltestResult(statistic=8.7005529565989264, pvalue=0.012903244620140661)\n"
     ]
    },
    {
     "data": {
      "image/png": "[encoded data removed]",
      "text/plain": [
       "<matplotlib.figure.Figure at 0x17552af90>"
      ]
     },
     "metadata": {},
     "output_type": "display_data"
    },
    {
     "name": "stdout",
     "output_type": "stream",
     "text": [
      "\n",
      "ingredientcount :\n",
      "NormaltestResult(statistic=45.469642589548783, pvalue=1.3378042294130825e-10)\n"
     ]
    },
    {
     "data": {
      "image/png": "[encoded data removed]",
      "text/plain": [
       "<matplotlib.figure.Figure at 0x6476682d0>"
      ]
     },
     "metadata": {},
     "output_type": "display_data"
    },
    {
     "name": "stdout",
     "output_type": "stream",
     "text": [
      "\n",
      "numberofservings :\n",
      "NormaltestResult(statistic=58.417390941308966, pvalue=2.0645468067179108e-13)\n"
     ]
    },
    {
     "data": {
      "image/png": "[encoded data removed]",
      "text/plain": [
       "<matplotlib.figure.Figure at 0x1c0ebacd0>"
      ]
     },
     "metadata": {},
     "output_type": "display_data"
    },
    {
     "name": "stdout",
     "output_type": "stream",
     "text": [
      "\n",
      "totaltimeinseconds :\n",
      "NormaltestResult(statistic=62.451455439373518, pvalue=2.7468741219298912e-14)\n"
     ]
    },
    {
     "data": {
      "image/png": "[encoded data removed]",
      "text/plain": [
       "<matplotlib.figure.Figure at 0x649a59d10>"
      ]
     },
     "metadata": {},
     "output_type": "display_data"
    },
    {
     "name": "stdout",
     "output_type": "stream",
     "text": [
      "\n",
      "course_num :\n",
      "NormaltestResult(statistic=16.26904751221484, pvalue=0.00029323865564473233)\n"
     ]
    },
    {
     "data": {
      "image/png": "[encoded data removed]",
      "text/plain": [
       "<matplotlib.figure.Figure at 0x6478cba90>"
      ]
     },
     "metadata": {},
     "output_type": "display_data"
    },
    {
     "name": "stdout",
     "output_type": "stream",
     "text": [
      "\n"
     ]
    }
   ],
   "source": [
    "# check for normal distribution\n",
    "for i in train_main:\n",
    "   rand_sample = train_main[i].sample(50, random_state=6)\n",
    "   print i,':\\n', scipy.stats.mstats.normaltest(rand_sample)\n",
    "   sns.distplot(train_main[i])\n",
    "   plt.xlabel(i)\n",
    "   plt.show()\n",
    "   print"
   ]
  },
  {
   "cell_type": "code",
   "execution_count": 276,
   "metadata": {
    "collapsed": false
   },
   "outputs": [
    {
     "data": {
      "text/html": [
       "<div>\n",
       "<table border=\"1\" class=\"dataframe\">\n",
       "  <thead>\n",
       "    <tr style=\"text-align: right;\">\n",
       "      <th></th>\n",
       "      <th>rating</th>\n",
       "      <th>bitter</th>\n",
       "      <th>meaty</th>\n",
       "      <th>piquant</th>\n",
       "      <th>salty</th>\n",
       "      <th>sour</th>\n",
       "      <th>sweet</th>\n",
       "      <th>ingredientcount</th>\n",
       "      <th>numberofservings</th>\n",
       "      <th>totaltimeinseconds</th>\n",
       "      <th>...</th>\n",
       "      <th>yolks</th>\n",
       "      <th>yoplait</th>\n",
       "      <th>york</th>\n",
       "      <th>yukon</th>\n",
       "      <th>za</th>\n",
       "      <th>zest</th>\n",
       "      <th>zesty</th>\n",
       "      <th>ziti</th>\n",
       "      <th>zucchini</th>\n",
       "      <th>course_num</th>\n",
       "    </tr>\n",
       "  </thead>\n",
       "  <tbody>\n",
       "    <tr>\n",
       "      <th>0</th>\n",
       "      <td>4</td>\n",
       "      <td>0.000000</td>\n",
       "      <td>0.000000</td>\n",
       "      <td>0.0</td>\n",
       "      <td>0.000000</td>\n",
       "      <td>0.000000</td>\n",
       "      <td>0.000000</td>\n",
       "      <td>5</td>\n",
       "      <td>1.0</td>\n",
       "      <td>900.0</td>\n",
       "      <td>...</td>\n",
       "      <td>0.0</td>\n",
       "      <td>0.354794</td>\n",
       "      <td>0.0</td>\n",
       "      <td>0.0</td>\n",
       "      <td>0.0</td>\n",
       "      <td>0.0</td>\n",
       "      <td>0.0</td>\n",
       "      <td>0.0</td>\n",
       "      <td>0.0</td>\n",
       "      <td>2</td>\n",
       "    </tr>\n",
       "    <tr>\n",
       "      <th>1</th>\n",
       "      <td>4</td>\n",
       "      <td>0.833333</td>\n",
       "      <td>0.833333</td>\n",
       "      <td>0.0</td>\n",
       "      <td>0.833333</td>\n",
       "      <td>0.166667</td>\n",
       "      <td>0.166667</td>\n",
       "      <td>5</td>\n",
       "      <td>12.0</td>\n",
       "      <td>300.0</td>\n",
       "      <td>...</td>\n",
       "      <td>0.0</td>\n",
       "      <td>0.000000</td>\n",
       "      <td>0.0</td>\n",
       "      <td>0.0</td>\n",
       "      <td>0.0</td>\n",
       "      <td>0.0</td>\n",
       "      <td>0.0</td>\n",
       "      <td>0.0</td>\n",
       "      <td>0.0</td>\n",
       "      <td>3</td>\n",
       "    </tr>\n",
       "  </tbody>\n",
       "</table>\n",
       "<p>2 rows × 1839 columns</p>\n",
       "</div>"
      ],
      "text/plain": [
       "   rating    bitter     meaty  piquant     salty      sour     sweet  \\\n",
       "0       4  0.000000  0.000000      0.0  0.000000  0.000000  0.000000   \n",
       "1       4  0.833333  0.833333      0.0  0.833333  0.166667  0.166667   \n",
       "\n",
       "   ingredientcount  numberofservings  totaltimeinseconds     ...      yolks  \\\n",
       "0                5               1.0               900.0     ...        0.0   \n",
       "1                5              12.0               300.0     ...        0.0   \n",
       "\n",
       "    yoplait  york  yukon   za  zest  zesty  ziti  zucchini  course_num  \n",
       "0  0.354794   0.0    0.0  0.0   0.0    0.0   0.0       0.0           2  \n",
       "1  0.000000   0.0    0.0  0.0   0.0    0.0   0.0       0.0           3  \n",
       "\n",
       "[2 rows x 1839 columns]"
      ]
     },
     "execution_count": 276,
     "metadata": {},
     "output_type": "execute_result"
    }
   ],
   "source": [
    "train.head(2)"
   ]
  },
  {
   "cell_type": "code",
   "execution_count": 278,
   "metadata": {
    "collapsed": false
   },
   "outputs": [],
   "source": [
    "df_train = train.drop(['rating','bitter','meaty','piquant','salty','sour','sweet', 'numberofservings','totaltimeinseconds'], axis = 1)"
   ]
  },
  {
   "cell_type": "code",
   "execution_count": 291,
   "metadata": {
    "collapsed": false
   },
   "outputs": [],
   "source": [
    "df_test = test.drop(['rating','bitter','meaty','piquant','salty','sour','sweet', 'numberofservings','totaltimeinseconds'], axis = 1)"
   ]
  },
  {
   "cell_type": "code",
   "execution_count": 279,
   "metadata": {
    "collapsed": false
   },
   "outputs": [
    {
     "data": {
      "text/html": [
       "<div>\n",
       "<table border=\"1\" class=\"dataframe\">\n",
       "  <thead>\n",
       "    <tr style=\"text-align: right;\">\n",
       "      <th></th>\n",
       "      <th>ingredientcount</th>\n",
       "      <th>00</th>\n",
       "      <th>10</th>\n",
       "      <th>100</th>\n",
       "      <th>95</th>\n",
       "      <th>aai</th>\n",
       "      <th>accent</th>\n",
       "      <th>achiote</th>\n",
       "      <th>acid</th>\n",
       "      <th>acorn</th>\n",
       "      <th>...</th>\n",
       "      <th>yolks</th>\n",
       "      <th>yoplait</th>\n",
       "      <th>york</th>\n",
       "      <th>yukon</th>\n",
       "      <th>za</th>\n",
       "      <th>zest</th>\n",
       "      <th>zesty</th>\n",
       "      <th>ziti</th>\n",
       "      <th>zucchini</th>\n",
       "      <th>course_num</th>\n",
       "    </tr>\n",
       "  </thead>\n",
       "  <tbody>\n",
       "    <tr>\n",
       "      <th>0</th>\n",
       "      <td>5</td>\n",
       "      <td>0.0</td>\n",
       "      <td>0.0</td>\n",
       "      <td>0.399201</td>\n",
       "      <td>0.0</td>\n",
       "      <td>0.0</td>\n",
       "      <td>0.0</td>\n",
       "      <td>0.0</td>\n",
       "      <td>0.0</td>\n",
       "      <td>0.0</td>\n",
       "      <td>...</td>\n",
       "      <td>0.0</td>\n",
       "      <td>0.354794</td>\n",
       "      <td>0.0</td>\n",
       "      <td>0.0</td>\n",
       "      <td>0.0</td>\n",
       "      <td>0.0</td>\n",
       "      <td>0.0</td>\n",
       "      <td>0.0</td>\n",
       "      <td>0.0</td>\n",
       "      <td>2</td>\n",
       "    </tr>\n",
       "    <tr>\n",
       "      <th>1</th>\n",
       "      <td>5</td>\n",
       "      <td>0.0</td>\n",
       "      <td>0.0</td>\n",
       "      <td>0.000000</td>\n",
       "      <td>0.0</td>\n",
       "      <td>0.0</td>\n",
       "      <td>0.0</td>\n",
       "      <td>0.0</td>\n",
       "      <td>0.0</td>\n",
       "      <td>0.0</td>\n",
       "      <td>...</td>\n",
       "      <td>0.0</td>\n",
       "      <td>0.000000</td>\n",
       "      <td>0.0</td>\n",
       "      <td>0.0</td>\n",
       "      <td>0.0</td>\n",
       "      <td>0.0</td>\n",
       "      <td>0.0</td>\n",
       "      <td>0.0</td>\n",
       "      <td>0.0</td>\n",
       "      <td>3</td>\n",
       "    </tr>\n",
       "  </tbody>\n",
       "</table>\n",
       "<p>2 rows × 1830 columns</p>\n",
       "</div>"
      ],
      "text/plain": [
       "   ingredientcount   00   10       100   95  aai  accent  achiote  acid  \\\n",
       "0                5  0.0  0.0  0.399201  0.0  0.0     0.0      0.0   0.0   \n",
       "1                5  0.0  0.0  0.000000  0.0  0.0     0.0      0.0   0.0   \n",
       "\n",
       "   acorn     ...      yolks   yoplait  york  yukon   za  zest  zesty  ziti  \\\n",
       "0    0.0     ...        0.0  0.354794   0.0    0.0  0.0   0.0    0.0   0.0   \n",
       "1    0.0     ...        0.0  0.000000   0.0    0.0  0.0   0.0    0.0   0.0   \n",
       "\n",
       "   zucchini  course_num  \n",
       "0       0.0           2  \n",
       "1       0.0           3  \n",
       "\n",
       "[2 rows x 1830 columns]"
      ]
     },
     "execution_count": 279,
     "metadata": {},
     "output_type": "execute_result"
    }
   ],
   "source": [
    "df_train.head(2)"
   ]
  },
  {
   "cell_type": "code",
   "execution_count": 294,
   "metadata": {
    "collapsed": false
   },
   "outputs": [
    {
     "data": {
      "text/html": [
       "<div>\n",
       "<table border=\"1\" class=\"dataframe\">\n",
       "  <thead>\n",
       "    <tr style=\"text-align: right;\">\n",
       "      <th></th>\n",
       "      <th>ingredientcount</th>\n",
       "      <th>00</th>\n",
       "      <th>10</th>\n",
       "      <th>100</th>\n",
       "      <th>95</th>\n",
       "      <th>aai</th>\n",
       "      <th>accent</th>\n",
       "      <th>achiote</th>\n",
       "      <th>acid</th>\n",
       "      <th>acorn</th>\n",
       "      <th>...</th>\n",
       "      <th>yolks</th>\n",
       "      <th>yoplait</th>\n",
       "      <th>york</th>\n",
       "      <th>yukon</th>\n",
       "      <th>za</th>\n",
       "      <th>zest</th>\n",
       "      <th>zesty</th>\n",
       "      <th>ziti</th>\n",
       "      <th>zucchini</th>\n",
       "      <th>course_num</th>\n",
       "    </tr>\n",
       "  </thead>\n",
       "  <tbody>\n",
       "    <tr>\n",
       "      <th>0</th>\n",
       "      <td>7</td>\n",
       "      <td>0.0</td>\n",
       "      <td>0.0</td>\n",
       "      <td>0.0</td>\n",
       "      <td>0.0</td>\n",
       "      <td>0.0</td>\n",
       "      <td>0.0</td>\n",
       "      <td>0.0</td>\n",
       "      <td>0.0</td>\n",
       "      <td>0.0</td>\n",
       "      <td>...</td>\n",
       "      <td>0.0</td>\n",
       "      <td>0.0</td>\n",
       "      <td>0.0</td>\n",
       "      <td>0.0</td>\n",
       "      <td>0.0</td>\n",
       "      <td>0.0</td>\n",
       "      <td>0.0</td>\n",
       "      <td>0.0</td>\n",
       "      <td>0.0</td>\n",
       "      <td>0.0</td>\n",
       "    </tr>\n",
       "    <tr>\n",
       "      <th>1</th>\n",
       "      <td>4</td>\n",
       "      <td>0.0</td>\n",
       "      <td>0.0</td>\n",
       "      <td>0.0</td>\n",
       "      <td>0.0</td>\n",
       "      <td>0.0</td>\n",
       "      <td>0.0</td>\n",
       "      <td>0.0</td>\n",
       "      <td>0.0</td>\n",
       "      <td>0.0</td>\n",
       "      <td>...</td>\n",
       "      <td>0.0</td>\n",
       "      <td>0.0</td>\n",
       "      <td>0.0</td>\n",
       "      <td>0.0</td>\n",
       "      <td>0.0</td>\n",
       "      <td>0.0</td>\n",
       "      <td>0.0</td>\n",
       "      <td>0.0</td>\n",
       "      <td>0.0</td>\n",
       "      <td>4.0</td>\n",
       "    </tr>\n",
       "  </tbody>\n",
       "</table>\n",
       "<p>2 rows × 1830 columns</p>\n",
       "</div>"
      ],
      "text/plain": [
       "   ingredientcount   00   10  100   95  aai  accent  achiote  acid  acorn  \\\n",
       "0                7  0.0  0.0  0.0  0.0  0.0     0.0      0.0   0.0    0.0   \n",
       "1                4  0.0  0.0  0.0  0.0  0.0     0.0      0.0   0.0    0.0   \n",
       "\n",
       "      ...      yolks  yoplait  york  yukon   za  zest  zesty  ziti  zucchini  \\\n",
       "0     ...        0.0      0.0   0.0    0.0  0.0   0.0    0.0   0.0       0.0   \n",
       "1     ...        0.0      0.0   0.0    0.0  0.0   0.0    0.0   0.0       0.0   \n",
       "\n",
       "   course_num  \n",
       "0         0.0  \n",
       "1         4.0  \n",
       "\n",
       "[2 rows x 1830 columns]"
      ]
     },
     "execution_count": 294,
     "metadata": {},
     "output_type": "execute_result"
    }
   ],
   "source": [
    "df_test.head(2)"
   ]
  },
  {
   "cell_type": "code",
   "execution_count": 530,
   "metadata": {
    "collapsed": false
   },
   "outputs": [],
   "source": [
    "array = df_train.values\n",
    "x = array[:, 0:1829]\n",
    "y = array[:, 1829]\n",
    "_array = df_test.values\n",
    "x_t = _array[:, 0:1829]\n",
    "y_t = _array[:, 1829]"
   ]
  },
  {
   "cell_type": "code",
   "execution_count": 532,
   "metadata": {
    "collapsed": false
   },
   "outputs": [
    {
     "name": "stdout",
     "output_type": "stream",
     "text": [
      "0.870614912632\n",
      "LogisticRegression(C=10.0, class_weight=None, dual=False, fit_intercept=True,\n",
      "          intercept_scaling=1, max_iter=100, multi_class='ovr', n_jobs=1,\n",
      "          penalty='l2', random_state=None, solver='liblinear', tol=0.0001,\n",
      "          verbose=0, warm_start=False)\n",
      "{'C': 10.0}\n"
     ]
    }
   ],
   "source": [
    "#grid search\n",
    "from sklearn.grid_search import GridSearchCV\n",
    "\n",
    "\n",
    "alphas = np.array([0.1, 1.0,10.0,100.0,1000.0])\n",
    "param_grid = dict(C=alphas)\n",
    "model = LogisticRegression()\n",
    "grid = GridSearchCV(estimator=model, param_grid=param_grid)\n",
    "grid.fit(x,y)\n",
    "print(grid.best_score_)\n",
    "print(grid.best_estimator_)\n",
    "print(grid.best_params_)"
   ]
  },
  {
   "cell_type": "code",
   "execution_count": 299,
   "metadata": {
    "collapsed": false
   },
   "outputs": [
    {
     "name": "stdout",
     "output_type": "stream",
     "text": [
      "(1242,)\n",
      "             precision    recall  f1-score   support\n",
      "\n",
      "        0.0       0.88      0.81      0.85       283\n",
      "        1.0       0.81      0.84      0.83       254\n",
      "        2.0       0.88      0.89      0.89       254\n",
      "        3.0       0.82      0.92      0.86       205\n",
      "        4.0       0.97      0.92      0.94       246\n",
      "\n",
      "avg / total       0.87      0.87      0.87      1242\n",
      "\n"
     ]
    }
   ],
   "source": [
    "y_pred = grid.predict(x_t)\n",
    "print y_pred.shape\n",
    "\n",
    "print classification_report(y_t, y_pred)"
   ]
  },
  {
   "cell_type": "code",
   "execution_count": 313,
   "metadata": {
    "collapsed": false
   },
   "outputs": [],
   "source": [
    "# add cuisine as column\n",
    "BB_cuis = pd.read_csv('~/Desktop/Yummly/BB/BB_cuis.csv')\n",
    "APP_cuis = pd.read_csv('~/Desktop/Yummly/APPETIZER/APP_cuis.csv')\n",
    "DS_cuis = pd.read_csv('~/Desktop/Yummly/DESSERT/DS_cuis.csv')\n",
    "SP_cuis = pd.read_csv('~/Desktop/Yummly/SOUP/SP_cuis.csv')\n",
    "SLD_cuis = pd.read_csv('~/Desktop/Yummly/SALAD/SLD_cuis.csv')"
   ]
  },
  {
   "cell_type": "code",
   "execution_count": 314,
   "metadata": {
    "collapsed": false
   },
   "outputs": [
    {
     "name": "stdout",
     "output_type": "stream",
     "text": [
      "(1999, 27)\n",
      "(2000, 27)\n",
      "(1999, 27)\n",
      "(1998, 27)\n",
      "(2000, 27)\n"
     ]
    }
   ],
   "source": [
    "print BB_cuis.shape\n",
    "print APP_cuis.shape\n",
    "print DS_cuis.shape\n",
    "print SP_cuis.shape\n",
    "print SLD_cuis.shape\n"
   ]
  },
  {
   "cell_type": "code",
   "execution_count": 316,
   "metadata": {
    "collapsed": false
   },
   "outputs": [
    {
     "data": {
      "text/html": [
       "<div>\n",
       "<table border=\"1\" class=\"dataframe\">\n",
       "  <thead>\n",
       "    <tr style=\"text-align: right;\">\n",
       "      <th></th>\n",
       "      <th>id</th>\n",
       "      <th>American</th>\n",
       "      <th>Asian</th>\n",
       "      <th>Barbecue</th>\n",
       "      <th>Cajun &amp; Creole</th>\n",
       "      <th>Chinese</th>\n",
       "      <th>Cuban</th>\n",
       "      <th>English</th>\n",
       "      <th>French</th>\n",
       "      <th>German</th>\n",
       "      <th>...</th>\n",
       "      <th>Kid-Friendly</th>\n",
       "      <th>Mediterranean</th>\n",
       "      <th>Mexican</th>\n",
       "      <th>Moroccan</th>\n",
       "      <th>Portuguese</th>\n",
       "      <th>Southern &amp; Soul Food</th>\n",
       "      <th>Southwestern</th>\n",
       "      <th>Spanish</th>\n",
       "      <th>Swedish</th>\n",
       "      <th>Thai</th>\n",
       "    </tr>\n",
       "  </thead>\n",
       "  <tbody>\n",
       "    <tr>\n",
       "      <th>0</th>\n",
       "      <td>2--Minute-Low-Carb-English-Muffin-1697908</td>\n",
       "      <td>0</td>\n",
       "      <td>0</td>\n",
       "      <td>0</td>\n",
       "      <td>0</td>\n",
       "      <td>0</td>\n",
       "      <td>0</td>\n",
       "      <td>1</td>\n",
       "      <td>0</td>\n",
       "      <td>0</td>\n",
       "      <td>...</td>\n",
       "      <td>0</td>\n",
       "      <td>0</td>\n",
       "      <td>0</td>\n",
       "      <td>0</td>\n",
       "      <td>0</td>\n",
       "      <td>0</td>\n",
       "      <td>0</td>\n",
       "      <td>0</td>\n",
       "      <td>0</td>\n",
       "      <td>0</td>\n",
       "    </tr>\n",
       "    <tr>\n",
       "      <th>1</th>\n",
       "      <td>2-Ingredient-Pancakes-1686555</td>\n",
       "      <td>0</td>\n",
       "      <td>0</td>\n",
       "      <td>0</td>\n",
       "      <td>0</td>\n",
       "      <td>0</td>\n",
       "      <td>0</td>\n",
       "      <td>0</td>\n",
       "      <td>0</td>\n",
       "      <td>0</td>\n",
       "      <td>...</td>\n",
       "      <td>0</td>\n",
       "      <td>0</td>\n",
       "      <td>0</td>\n",
       "      <td>0</td>\n",
       "      <td>0</td>\n",
       "      <td>0</td>\n",
       "      <td>0</td>\n",
       "      <td>0</td>\n",
       "      <td>0</td>\n",
       "      <td>0</td>\n",
       "    </tr>\n",
       "  </tbody>\n",
       "</table>\n",
       "<p>2 rows × 27 columns</p>\n",
       "</div>"
      ],
      "text/plain": [
       "                                          id  American  Asian  Barbecue  \\\n",
       "0  2--Minute-Low-Carb-English-Muffin-1697908         0      0         0   \n",
       "1              2-Ingredient-Pancakes-1686555         0      0         0   \n",
       "\n",
       "   Cajun & Creole  Chinese  Cuban  English  French  German  ...   \\\n",
       "0               0        0      0        1       0       0  ...    \n",
       "1               0        0      0        0       0       0  ...    \n",
       "\n",
       "   Kid-Friendly  Mediterranean  Mexican  Moroccan  Portuguese  \\\n",
       "0             0              0        0         0           0   \n",
       "1             0              0        0         0           0   \n",
       "\n",
       "   Southern & Soul Food  Southwestern  Spanish  Swedish  Thai  \n",
       "0                     0             0        0        0     0  \n",
       "1                     0             0        0        0     0  \n",
       "\n",
       "[2 rows x 27 columns]"
      ]
     },
     "execution_count": 316,
     "metadata": {},
     "output_type": "execute_result"
    }
   ],
   "source": [
    "BB_cuis.head(2)"
   ]
  },
  {
   "cell_type": "code",
   "execution_count": 317,
   "metadata": {
    "collapsed": true
   },
   "outputs": [],
   "source": [
    "BB_cuis['course_num'] = 1\n",
    "APP_cuis['course_num'] = 0\n",
    "DS_cuis['course_num'] = 2\n",
    "SP_cuis['course_num'] = 4\n",
    "SLD_cuis['course_num'] = 3"
   ]
  },
  {
   "cell_type": "code",
   "execution_count": 319,
   "metadata": {
    "collapsed": false
   },
   "outputs": [
    {
     "data": {
      "text/plain": [
       "(9996, 28)"
      ]
     },
     "execution_count": 319,
     "metadata": {},
     "output_type": "execute_result"
    }
   ],
   "source": [
    "cuis = pd.concat([APP_cuis, BB_cuis, DS_cuis, SLD_cuis, SP_cuis], axis = 0)\n",
    "cuis.shape"
   ]
  },
  {
   "cell_type": "code",
   "execution_count": 336,
   "metadata": {
    "collapsed": false
   },
   "outputs": [
    {
     "name": "stdout",
     "output_type": "stream",
     "text": [
      "(9996, 26)\n",
      "(9996,)\n",
      "(7497, 26)\n",
      "(2499, 26)\n"
     ]
    }
   ],
   "source": [
    "from sklearn import cross_validation\n",
    "array = cuis.values\n",
    "X = array[:, 1:27].astype(int)\n",
    "print X.shape\n",
    "Y = array[:, 27].astype(int)\n",
    "print Y.shape\n",
    "\n",
    "X_train, X_test, Y_train, Y_test = cross_validation.train_test_split(X, Y, random_state=10)\n",
    "\n",
    "print X_train.shape\n",
    "print X_test.shape"
   ]
  },
  {
   "cell_type": "code",
   "execution_count": 337,
   "metadata": {
    "collapsed": false
   },
   "outputs": [
    {
     "name": "stdout",
     "output_type": "stream",
     "text": [
      "0.260104041617\n",
      "LogisticRegression(C=10.0, class_weight=None, dual=False, fit_intercept=True,\n",
      "          intercept_scaling=1, max_iter=100, multi_class='ovr', n_jobs=1,\n",
      "          penalty='l2', random_state=None, solver='liblinear', tol=0.0001,\n",
      "          verbose=0, warm_start=False)\n"
     ]
    }
   ],
   "source": [
    "#grid search\n",
    "from sklearn.grid_search import GridSearchCV\n",
    "\n",
    "\n",
    "alphas = np.array([0.1, 1.0,10.0,100.0,1000.0])\n",
    "param_grid = dict(C=alphas)\n",
    "model = LogisticRegression()\n",
    "grid = GridSearchCV(estimator=model, param_grid=param_grid)\n",
    "grid.fit(X_train,Y_train)\n",
    "print(grid.best_score_)\n",
    "print(grid.best_estimator_)"
   ]
  },
  {
   "cell_type": "code",
   "execution_count": 339,
   "metadata": {
    "collapsed": false
   },
   "outputs": [
    {
     "data": {
      "text/plain": [
       "<matplotlib.axes._subplots.AxesSubplot at 0x64a460e90>"
      ]
     },
     "execution_count": 339,
     "metadata": {},
     "output_type": "execute_result"
    },
    {
     "data": {
      "image/png": "[encoded data removed]",
      "text/plain": [
       "<matplotlib.figure.Figure at 0x64a620250>"
      ]
     },
     "metadata": {},
     "output_type": "display_data"
    }
   ],
   "source": [
    "sns.heatmap(cuis.corr())"
   ]
  },
  {
   "cell_type": "code",
   "execution_count": 344,
   "metadata": {
    "collapsed": false
   },
   "outputs": [
    {
     "ename": "KeyError",
     "evalue": "'id'",
     "output_type": "error",
     "traceback": [
      "\u001b[0;31m---------------------------------------------------------------------------\u001b[0m",
      "\u001b[0;31mKeyError\u001b[0m                                  Traceback (most recent call last)",
      "\u001b[0;32m<ipython-input-344-7bcb3dff633d>\u001b[0m in \u001b[0;36m<module>\u001b[0;34m()\u001b[0m\n\u001b[1;32m      1\u001b[0m \u001b[0;31m#merge cuisine dataframe with others\u001b[0m\u001b[0;34m\u001b[0m\u001b[0;34m\u001b[0m\u001b[0m\n\u001b[1;32m      2\u001b[0m \u001b[0;34m\u001b[0m\u001b[0m\n\u001b[0;32m----> 3\u001b[0;31m \u001b[0mpd\u001b[0m\u001b[0;34m.\u001b[0m\u001b[0mmerge\u001b[0m\u001b[0;34m(\u001b[0m\u001b[0mcuis\u001b[0m\u001b[0;34m,\u001b[0m \u001b[0mdf_train\u001b[0m\u001b[0;34m,\u001b[0m \u001b[0mon\u001b[0m\u001b[0;34m=\u001b[0m \u001b[0;34m'id'\u001b[0m\u001b[0;34m,\u001b[0m \u001b[0mhow\u001b[0m\u001b[0;34m=\u001b[0m\u001b[0;34m'left'\u001b[0m\u001b[0;34m)\u001b[0m\u001b[0;34m\u001b[0m\u001b[0m\n\u001b[0m",
      "\u001b[0;32m//anaconda/lib/python2.7/site-packages/pandas/tools/merge.pyc\u001b[0m in \u001b[0;36mmerge\u001b[0;34m(left, right, how, on, left_on, right_on, left_index, right_index, sort, suffixes, copy, indicator)\u001b[0m\n\u001b[1;32m     32\u001b[0m                          \u001b[0mright_on\u001b[0m\u001b[0;34m=\u001b[0m\u001b[0mright_on\u001b[0m\u001b[0;34m,\u001b[0m \u001b[0mleft_index\u001b[0m\u001b[0;34m=\u001b[0m\u001b[0mleft_index\u001b[0m\u001b[0;34m,\u001b[0m\u001b[0;34m\u001b[0m\u001b[0m\n\u001b[1;32m     33\u001b[0m                          \u001b[0mright_index\u001b[0m\u001b[0;34m=\u001b[0m\u001b[0mright_index\u001b[0m\u001b[0;34m,\u001b[0m \u001b[0msort\u001b[0m\u001b[0;34m=\u001b[0m\u001b[0msort\u001b[0m\u001b[0;34m,\u001b[0m \u001b[0msuffixes\u001b[0m\u001b[0;34m=\u001b[0m\u001b[0msuffixes\u001b[0m\u001b[0;34m,\u001b[0m\u001b[0;34m\u001b[0m\u001b[0m\n\u001b[0;32m---> 34\u001b[0;31m                          copy=copy, indicator=indicator)\n\u001b[0m\u001b[1;32m     35\u001b[0m     \u001b[0;32mreturn\u001b[0m \u001b[0mop\u001b[0m\u001b[0;34m.\u001b[0m\u001b[0mget_result\u001b[0m\u001b[0;34m(\u001b[0m\u001b[0;34m)\u001b[0m\u001b[0;34m\u001b[0m\u001b[0m\n\u001b[1;32m     36\u001b[0m \u001b[0;32mif\u001b[0m \u001b[0m__debug__\u001b[0m\u001b[0;34m:\u001b[0m\u001b[0;34m\u001b[0m\u001b[0m\n",
      "\u001b[0;32m//anaconda/lib/python2.7/site-packages/pandas/tools/merge.pyc\u001b[0m in \u001b[0;36m__init__\u001b[0;34m(self, left, right, how, on, left_on, right_on, axis, left_index, right_index, sort, suffixes, copy, indicator)\u001b[0m\n\u001b[1;32m    197\u001b[0m         (self.left_join_keys,\n\u001b[1;32m    198\u001b[0m          \u001b[0mself\u001b[0m\u001b[0;34m.\u001b[0m\u001b[0mright_join_keys\u001b[0m\u001b[0;34m,\u001b[0m\u001b[0;34m\u001b[0m\u001b[0m\n\u001b[0;32m--> 199\u001b[0;31m          self.join_names) = self._get_merge_keys()\n\u001b[0m\u001b[1;32m    200\u001b[0m \u001b[0;34m\u001b[0m\u001b[0m\n\u001b[1;32m    201\u001b[0m     \u001b[0;32mdef\u001b[0m \u001b[0mget_result\u001b[0m\u001b[0;34m(\u001b[0m\u001b[0mself\u001b[0m\u001b[0;34m)\u001b[0m\u001b[0;34m:\u001b[0m\u001b[0;34m\u001b[0m\u001b[0m\n",
      "\u001b[0;32m//anaconda/lib/python2.7/site-packages/pandas/tools/merge.pyc\u001b[0m in \u001b[0;36m_get_merge_keys\u001b[0;34m(self)\u001b[0m\n\u001b[1;32m    421\u001b[0m                 \u001b[0;32melse\u001b[0m\u001b[0;34m:\u001b[0m\u001b[0;34m\u001b[0m\u001b[0m\n\u001b[1;32m    422\u001b[0m                     \u001b[0;32mif\u001b[0m \u001b[0;32mnot\u001b[0m \u001b[0mis_rkey\u001b[0m\u001b[0;34m(\u001b[0m\u001b[0mrk\u001b[0m\u001b[0;34m)\u001b[0m\u001b[0;34m:\u001b[0m\u001b[0;34m\u001b[0m\u001b[0m\n\u001b[0;32m--> 423\u001b[0;31m                         \u001b[0mright_keys\u001b[0m\u001b[0;34m.\u001b[0m\u001b[0mappend\u001b[0m\u001b[0;34m(\u001b[0m\u001b[0mright\u001b[0m\u001b[0;34m[\u001b[0m\u001b[0mrk\u001b[0m\u001b[0;34m]\u001b[0m\u001b[0;34m.\u001b[0m\u001b[0m_values\u001b[0m\u001b[0;34m)\u001b[0m\u001b[0;34m\u001b[0m\u001b[0m\n\u001b[0m\u001b[1;32m    424\u001b[0m                         \u001b[0;32mif\u001b[0m \u001b[0mlk\u001b[0m \u001b[0;34m==\u001b[0m \u001b[0mrk\u001b[0m\u001b[0;34m:\u001b[0m\u001b[0;34m\u001b[0m\u001b[0m\n\u001b[1;32m    425\u001b[0m                             \u001b[0;31m# avoid key upcast in corner case (length-0)\u001b[0m\u001b[0;34m\u001b[0m\u001b[0;34m\u001b[0m\u001b[0m\n",
      "\u001b[0;32m//anaconda/lib/python2.7/site-packages/pandas/core/frame.pyc\u001b[0m in \u001b[0;36m__getitem__\u001b[0;34m(self, key)\u001b[0m\n\u001b[1;32m   1990\u001b[0m             \u001b[0;32mreturn\u001b[0m \u001b[0mself\u001b[0m\u001b[0;34m.\u001b[0m\u001b[0m_getitem_multilevel\u001b[0m\u001b[0;34m(\u001b[0m\u001b[0mkey\u001b[0m\u001b[0;34m)\u001b[0m\u001b[0;34m\u001b[0m\u001b[0m\n\u001b[1;32m   1991\u001b[0m         \u001b[0;32melse\u001b[0m\u001b[0;34m:\u001b[0m\u001b[0;34m\u001b[0m\u001b[0m\n\u001b[0;32m-> 1992\u001b[0;31m             \u001b[0;32mreturn\u001b[0m \u001b[0mself\u001b[0m\u001b[0;34m.\u001b[0m\u001b[0m_getitem_column\u001b[0m\u001b[0;34m(\u001b[0m\u001b[0mkey\u001b[0m\u001b[0;34m)\u001b[0m\u001b[0;34m\u001b[0m\u001b[0m\n\u001b[0m\u001b[1;32m   1993\u001b[0m \u001b[0;34m\u001b[0m\u001b[0m\n\u001b[1;32m   1994\u001b[0m     \u001b[0;32mdef\u001b[0m \u001b[0m_getitem_column\u001b[0m\u001b[0;34m(\u001b[0m\u001b[0mself\u001b[0m\u001b[0;34m,\u001b[0m \u001b[0mkey\u001b[0m\u001b[0;34m)\u001b[0m\u001b[0;34m:\u001b[0m\u001b[0;34m\u001b[0m\u001b[0m\n",
      "\u001b[0;32m//anaconda/lib/python2.7/site-packages/pandas/core/frame.pyc\u001b[0m in \u001b[0;36m_getitem_column\u001b[0;34m(self, key)\u001b[0m\n\u001b[1;32m   1997\u001b[0m         \u001b[0;31m# get column\u001b[0m\u001b[0;34m\u001b[0m\u001b[0;34m\u001b[0m\u001b[0m\n\u001b[1;32m   1998\u001b[0m         \u001b[0;32mif\u001b[0m \u001b[0mself\u001b[0m\u001b[0;34m.\u001b[0m\u001b[0mcolumns\u001b[0m\u001b[0;34m.\u001b[0m\u001b[0mis_unique\u001b[0m\u001b[0;34m:\u001b[0m\u001b[0;34m\u001b[0m\u001b[0m\n\u001b[0;32m-> 1999\u001b[0;31m             \u001b[0;32mreturn\u001b[0m \u001b[0mself\u001b[0m\u001b[0;34m.\u001b[0m\u001b[0m_get_item_cache\u001b[0m\u001b[0;34m(\u001b[0m\u001b[0mkey\u001b[0m\u001b[0;34m)\u001b[0m\u001b[0;34m\u001b[0m\u001b[0m\n\u001b[0m\u001b[1;32m   2000\u001b[0m \u001b[0;34m\u001b[0m\u001b[0m\n\u001b[1;32m   2001\u001b[0m         \u001b[0;31m# duplicate columns & possible reduce dimensionality\u001b[0m\u001b[0;34m\u001b[0m\u001b[0;34m\u001b[0m\u001b[0m\n",
      "\u001b[0;32m//anaconda/lib/python2.7/site-packages/pandas/core/generic.pyc\u001b[0m in \u001b[0;36m_get_item_cache\u001b[0;34m(self, item)\u001b[0m\n\u001b[1;32m   1343\u001b[0m         \u001b[0mres\u001b[0m \u001b[0;34m=\u001b[0m \u001b[0mcache\u001b[0m\u001b[0;34m.\u001b[0m\u001b[0mget\u001b[0m\u001b[0;34m(\u001b[0m\u001b[0mitem\u001b[0m\u001b[0;34m)\u001b[0m\u001b[0;34m\u001b[0m\u001b[0m\n\u001b[1;32m   1344\u001b[0m         \u001b[0;32mif\u001b[0m \u001b[0mres\u001b[0m \u001b[0;32mis\u001b[0m \u001b[0mNone\u001b[0m\u001b[0;34m:\u001b[0m\u001b[0;34m\u001b[0m\u001b[0m\n\u001b[0;32m-> 1345\u001b[0;31m             \u001b[0mvalues\u001b[0m \u001b[0;34m=\u001b[0m \u001b[0mself\u001b[0m\u001b[0;34m.\u001b[0m\u001b[0m_data\u001b[0m\u001b[0;34m.\u001b[0m\u001b[0mget\u001b[0m\u001b[0;34m(\u001b[0m\u001b[0mitem\u001b[0m\u001b[0;34m)\u001b[0m\u001b[0;34m\u001b[0m\u001b[0m\n\u001b[0m\u001b[1;32m   1346\u001b[0m             \u001b[0mres\u001b[0m \u001b[0;34m=\u001b[0m \u001b[0mself\u001b[0m\u001b[0;34m.\u001b[0m\u001b[0m_box_item_values\u001b[0m\u001b[0;34m(\u001b[0m\u001b[0mitem\u001b[0m\u001b[0;34m,\u001b[0m \u001b[0mvalues\u001b[0m\u001b[0;34m)\u001b[0m\u001b[0;34m\u001b[0m\u001b[0m\n\u001b[1;32m   1347\u001b[0m             \u001b[0mcache\u001b[0m\u001b[0;34m[\u001b[0m\u001b[0mitem\u001b[0m\u001b[0;34m]\u001b[0m \u001b[0;34m=\u001b[0m \u001b[0mres\u001b[0m\u001b[0;34m\u001b[0m\u001b[0m\n",
      "\u001b[0;32m//anaconda/lib/python2.7/site-packages/pandas/core/internals.pyc\u001b[0m in \u001b[0;36mget\u001b[0;34m(self, item, fastpath)\u001b[0m\n\u001b[1;32m   3223\u001b[0m \u001b[0;34m\u001b[0m\u001b[0m\n\u001b[1;32m   3224\u001b[0m             \u001b[0;32mif\u001b[0m \u001b[0;32mnot\u001b[0m \u001b[0misnull\u001b[0m\u001b[0;34m(\u001b[0m\u001b[0mitem\u001b[0m\u001b[0;34m)\u001b[0m\u001b[0;34m:\u001b[0m\u001b[0;34m\u001b[0m\u001b[0m\n\u001b[0;32m-> 3225\u001b[0;31m                 \u001b[0mloc\u001b[0m \u001b[0;34m=\u001b[0m \u001b[0mself\u001b[0m\u001b[0;34m.\u001b[0m\u001b[0mitems\u001b[0m\u001b[0;34m.\u001b[0m\u001b[0mget_loc\u001b[0m\u001b[0;34m(\u001b[0m\u001b[0mitem\u001b[0m\u001b[0;34m)\u001b[0m\u001b[0;34m\u001b[0m\u001b[0m\n\u001b[0m\u001b[1;32m   3226\u001b[0m             \u001b[0;32melse\u001b[0m\u001b[0;34m:\u001b[0m\u001b[0;34m\u001b[0m\u001b[0m\n\u001b[1;32m   3227\u001b[0m                 \u001b[0mindexer\u001b[0m \u001b[0;34m=\u001b[0m \u001b[0mnp\u001b[0m\u001b[0;34m.\u001b[0m\u001b[0marange\u001b[0m\u001b[0;34m(\u001b[0m\u001b[0mlen\u001b[0m\u001b[0;34m(\u001b[0m\u001b[0mself\u001b[0m\u001b[0;34m.\u001b[0m\u001b[0mitems\u001b[0m\u001b[0;34m)\u001b[0m\u001b[0;34m)\u001b[0m\u001b[0;34m[\u001b[0m\u001b[0misnull\u001b[0m\u001b[0;34m(\u001b[0m\u001b[0mself\u001b[0m\u001b[0;34m.\u001b[0m\u001b[0mitems\u001b[0m\u001b[0;34m)\u001b[0m\u001b[0;34m]\u001b[0m\u001b[0;34m\u001b[0m\u001b[0m\n",
      "\u001b[0;32m//anaconda/lib/python2.7/site-packages/pandas/indexes/base.pyc\u001b[0m in \u001b[0;36mget_loc\u001b[0;34m(self, key, method, tolerance)\u001b[0m\n\u001b[1;32m   1876\u001b[0m                 \u001b[0;32mreturn\u001b[0m \u001b[0mself\u001b[0m\u001b[0;34m.\u001b[0m\u001b[0m_engine\u001b[0m\u001b[0;34m.\u001b[0m\u001b[0mget_loc\u001b[0m\u001b[0;34m(\u001b[0m\u001b[0mkey\u001b[0m\u001b[0;34m)\u001b[0m\u001b[0;34m\u001b[0m\u001b[0m\n\u001b[1;32m   1877\u001b[0m             \u001b[0;32mexcept\u001b[0m \u001b[0mKeyError\u001b[0m\u001b[0;34m:\u001b[0m\u001b[0;34m\u001b[0m\u001b[0m\n\u001b[0;32m-> 1878\u001b[0;31m                 \u001b[0;32mreturn\u001b[0m \u001b[0mself\u001b[0m\u001b[0;34m.\u001b[0m\u001b[0m_engine\u001b[0m\u001b[0;34m.\u001b[0m\u001b[0mget_loc\u001b[0m\u001b[0;34m(\u001b[0m\u001b[0mself\u001b[0m\u001b[0;34m.\u001b[0m\u001b[0m_maybe_cast_indexer\u001b[0m\u001b[0;34m(\u001b[0m\u001b[0mkey\u001b[0m\u001b[0;34m)\u001b[0m\u001b[0;34m)\u001b[0m\u001b[0;34m\u001b[0m\u001b[0m\n\u001b[0m\u001b[1;32m   1879\u001b[0m \u001b[0;34m\u001b[0m\u001b[0m\n\u001b[1;32m   1880\u001b[0m         \u001b[0mindexer\u001b[0m \u001b[0;34m=\u001b[0m \u001b[0mself\u001b[0m\u001b[0;34m.\u001b[0m\u001b[0mget_indexer\u001b[0m\u001b[0;34m(\u001b[0m\u001b[0;34m[\u001b[0m\u001b[0mkey\u001b[0m\u001b[0;34m]\u001b[0m\u001b[0;34m,\u001b[0m \u001b[0mmethod\u001b[0m\u001b[0;34m=\u001b[0m\u001b[0mmethod\u001b[0m\u001b[0;34m,\u001b[0m \u001b[0mtolerance\u001b[0m\u001b[0;34m=\u001b[0m\u001b[0mtolerance\u001b[0m\u001b[0;34m)\u001b[0m\u001b[0;34m\u001b[0m\u001b[0m\n",
      "\u001b[0;32mpandas/index.pyx\u001b[0m in \u001b[0;36mpandas.index.IndexEngine.get_loc (pandas/index.c:4027)\u001b[0;34m()\u001b[0m\n",
      "\u001b[0;32mpandas/index.pyx\u001b[0m in \u001b[0;36mpandas.index.IndexEngine.get_loc (pandas/index.c:3891)\u001b[0;34m()\u001b[0m\n",
      "\u001b[0;32mpandas/hashtable.pyx\u001b[0m in \u001b[0;36mpandas.hashtable.PyObjectHashTable.get_item (pandas/hashtable.c:12408)\u001b[0;34m()\u001b[0m\n",
      "\u001b[0;32mpandas/hashtable.pyx\u001b[0m in \u001b[0;36mpandas.hashtable.PyObjectHashTable.get_item (pandas/hashtable.c:12359)\u001b[0;34m()\u001b[0m\n",
      "\u001b[0;31mKeyError\u001b[0m: 'id'"
     ]
    }
   ],
   "source": [
    "#merge cuisine dataframe with others\n",
    "\n",
    "pd.merge(cuis, df_train, on= 'id', how='left')"
   ]
  },
  {
   "cell_type": "code",
   "execution_count": 354,
   "metadata": {
    "collapsed": false
   },
   "outputs": [
    {
     "data": {
      "text/html": [
       "<div>\n",
       "<table border=\"1\" class=\"dataframe\">\n",
       "  <thead>\n",
       "    <tr style=\"text-align: right;\">\n",
       "      <th></th>\n",
       "      <th>rating</th>\n",
       "      <th>bitter</th>\n",
       "      <th>meaty</th>\n",
       "      <th>piquant</th>\n",
       "      <th>salty</th>\n",
       "      <th>sour</th>\n",
       "      <th>sweet</th>\n",
       "      <th>ingredientcount</th>\n",
       "      <th>numberofservings</th>\n",
       "      <th>totaltimeinseconds</th>\n",
       "      <th>...</th>\n",
       "      <th>yolks</th>\n",
       "      <th>yoplait</th>\n",
       "      <th>york</th>\n",
       "      <th>yukon</th>\n",
       "      <th>za</th>\n",
       "      <th>zest</th>\n",
       "      <th>zesty</th>\n",
       "      <th>ziti</th>\n",
       "      <th>zucchini</th>\n",
       "      <th>course_num</th>\n",
       "    </tr>\n",
       "  </thead>\n",
       "  <tbody>\n",
       "    <tr>\n",
       "      <th>0</th>\n",
       "      <td>4</td>\n",
       "      <td>0.833333</td>\n",
       "      <td>0.166667</td>\n",
       "      <td>0.166667</td>\n",
       "      <td>0.833333</td>\n",
       "      <td>0.500000</td>\n",
       "      <td>0.166667</td>\n",
       "      <td>7</td>\n",
       "      <td>4.0</td>\n",
       "      <td>2700.0</td>\n",
       "      <td>...</td>\n",
       "      <td>0.0</td>\n",
       "      <td>0.0</td>\n",
       "      <td>0.0</td>\n",
       "      <td>0.0</td>\n",
       "      <td>0.0</td>\n",
       "      <td>0.0</td>\n",
       "      <td>0.0</td>\n",
       "      <td>0.0</td>\n",
       "      <td>0.0</td>\n",
       "      <td>0</td>\n",
       "    </tr>\n",
       "    <tr>\n",
       "      <th>1</th>\n",
       "      <td>4</td>\n",
       "      <td>0.000000</td>\n",
       "      <td>0.000000</td>\n",
       "      <td>0.000000</td>\n",
       "      <td>0.000000</td>\n",
       "      <td>0.000000</td>\n",
       "      <td>0.000000</td>\n",
       "      <td>4</td>\n",
       "      <td>4.0</td>\n",
       "      <td>1500.0</td>\n",
       "      <td>...</td>\n",
       "      <td>0.0</td>\n",
       "      <td>0.0</td>\n",
       "      <td>0.0</td>\n",
       "      <td>0.0</td>\n",
       "      <td>0.0</td>\n",
       "      <td>0.0</td>\n",
       "      <td>0.0</td>\n",
       "      <td>0.0</td>\n",
       "      <td>0.0</td>\n",
       "      <td>4</td>\n",
       "    </tr>\n",
       "    <tr>\n",
       "      <th>2</th>\n",
       "      <td>4</td>\n",
       "      <td>0.000000</td>\n",
       "      <td>0.000000</td>\n",
       "      <td>0.000000</td>\n",
       "      <td>0.000000</td>\n",
       "      <td>0.000000</td>\n",
       "      <td>0.000000</td>\n",
       "      <td>3</td>\n",
       "      <td>12.0</td>\n",
       "      <td>1500.0</td>\n",
       "      <td>...</td>\n",
       "      <td>0.0</td>\n",
       "      <td>0.0</td>\n",
       "      <td>0.0</td>\n",
       "      <td>0.0</td>\n",
       "      <td>0.0</td>\n",
       "      <td>0.0</td>\n",
       "      <td>0.0</td>\n",
       "      <td>0.0</td>\n",
       "      <td>0.0</td>\n",
       "      <td>2</td>\n",
       "    </tr>\n",
       "    <tr>\n",
       "      <th>3</th>\n",
       "      <td>4</td>\n",
       "      <td>0.166667</td>\n",
       "      <td>0.333333</td>\n",
       "      <td>0.000000</td>\n",
       "      <td>0.500000</td>\n",
       "      <td>0.166667</td>\n",
       "      <td>0.333333</td>\n",
       "      <td>7</td>\n",
       "      <td>8.0</td>\n",
       "      <td>1500.0</td>\n",
       "      <td>...</td>\n",
       "      <td>0.0</td>\n",
       "      <td>0.0</td>\n",
       "      <td>0.0</td>\n",
       "      <td>0.0</td>\n",
       "      <td>0.0</td>\n",
       "      <td>0.0</td>\n",
       "      <td>0.0</td>\n",
       "      <td>0.0</td>\n",
       "      <td>0.0</td>\n",
       "      <td>0</td>\n",
       "    </tr>\n",
       "    <tr>\n",
       "      <th>4</th>\n",
       "      <td>4</td>\n",
       "      <td>0.000000</td>\n",
       "      <td>0.000000</td>\n",
       "      <td>0.000000</td>\n",
       "      <td>0.000000</td>\n",
       "      <td>0.000000</td>\n",
       "      <td>0.000000</td>\n",
       "      <td>9</td>\n",
       "      <td>4.0</td>\n",
       "      <td>2700.0</td>\n",
       "      <td>...</td>\n",
       "      <td>0.0</td>\n",
       "      <td>0.0</td>\n",
       "      <td>0.0</td>\n",
       "      <td>0.0</td>\n",
       "      <td>0.0</td>\n",
       "      <td>0.0</td>\n",
       "      <td>0.0</td>\n",
       "      <td>0.0</td>\n",
       "      <td>0.0</td>\n",
       "      <td>4</td>\n",
       "    </tr>\n",
       "  </tbody>\n",
       "</table>\n",
       "<p>5 rows × 1839 columns</p>\n",
       "</div>"
      ],
      "text/plain": [
       "   rating    bitter     meaty   piquant     salty      sour     sweet  \\\n",
       "0       4  0.833333  0.166667  0.166667  0.833333  0.500000  0.166667   \n",
       "1       4  0.000000  0.000000  0.000000  0.000000  0.000000  0.000000   \n",
       "2       4  0.000000  0.000000  0.000000  0.000000  0.000000  0.000000   \n",
       "3       4  0.166667  0.333333  0.000000  0.500000  0.166667  0.333333   \n",
       "4       4  0.000000  0.000000  0.000000  0.000000  0.000000  0.000000   \n",
       "\n",
       "   ingredientcount  numberofservings  totaltimeinseconds     ...      yolks  \\\n",
       "0                7               4.0              2700.0     ...        0.0   \n",
       "1                4               4.0              1500.0     ...        0.0   \n",
       "2                3              12.0              1500.0     ...        0.0   \n",
       "3                7               8.0              1500.0     ...        0.0   \n",
       "4                9               4.0              2700.0     ...        0.0   \n",
       "\n",
       "   yoplait  york  yukon   za  zest  zesty  ziti  zucchini  course_num  \n",
       "0      0.0   0.0    0.0  0.0   0.0    0.0   0.0       0.0           0  \n",
       "1      0.0   0.0    0.0  0.0   0.0    0.0   0.0       0.0           4  \n",
       "2      0.0   0.0    0.0  0.0   0.0    0.0   0.0       0.0           2  \n",
       "3      0.0   0.0    0.0  0.0   0.0    0.0   0.0       0.0           0  \n",
       "4      0.0   0.0    0.0  0.0   0.0    0.0   0.0       0.0           4  \n",
       "\n",
       "[5 rows x 1839 columns]"
      ]
     },
     "execution_count": 354,
     "metadata": {},
     "output_type": "execute_result"
    }
   ],
   "source": [
    "test.head()"
   ]
  },
  {
   "cell_type": "code",
   "execution_count": null,
   "metadata": {
    "collapsed": true
   },
   "outputs": [],
   "source": []
  }
 ],
 "metadata": {
  "kernelspec": {
   "display_name": "Python 2",
   "language": "python",
   "name": "python2"
  },
  "language_info": {
   "codemirror_mode": {
    "name": "ipython",
    "version": 2
   },
   "file_extension": ".py",
   "mimetype": "text/x-python",
   "name": "python",
   "nbconvert_exporter": "python",
   "pygments_lexer": "ipython2",
   "version": "2.7.11"
  }
 },
 "nbformat": 4,
 "nbformat_minor": 0
}

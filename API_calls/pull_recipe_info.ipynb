{
 "cells": [
  {
   "cell_type": "markdown",
   "metadata": {},
   "source": [
    "## This code pulls recipes from the [Yummly Recipe API](https://developer.yummly.com/documentation)\n",
    "\n",
    "You need to request access to the API before using the following code"
   ]
  },
  {
   "cell_type": "code",
   "execution_count": 1,
   "metadata": {
    "collapsed": true
   },
   "outputs": [],
   "source": [
    "import json\n",
    "import requests\n",
    "import pandas as pd\n",
    "import numpy as np \n",
    "import re"
   ]
  },
  {
   "cell_type": "markdown",
   "metadata": {},
   "source": [
    "### Build functions "
   ]
  },
  {
   "cell_type": "markdown",
   "metadata": {},
   "source": [
    "##### 1. In order to make API call,  first need to get proper search terms from the API"
   ]
  },
  {
   "cell_type": "code",
   "execution_count": 2,
   "metadata": {
    "collapsed": true
   },
   "outputs": [],
   "source": [
    "def get_search_terms(ID, KEY, term_type):\n",
    "    \n",
    "    '''Prints out search terms to choose from for the\n",
    "    'allowed_course', 'excluded_course', 'allowed_cuisine', \n",
    "    'excluded_cuisine' parameters of the make_api_call function.\n",
    "    The term_type parameter can be either 'course' or 'cuisine'.'''\n",
    "    \n",
    "    response = requests.get('http://api.yummly.com/v1/api/metadata/%s?_app_id=%s&_app_key=%s' % (term_type, ID, KEY))\n",
    "    if response.status_code == 200:\n",
    "        print \"Status code normal\"\n",
    "        # Slice junk off beggining and end because response is in JSONP\n",
    "        json_string = response.text[23:-2]\n",
    "        # Decode JSON\n",
    "        terms = json.loads(json_string)\n",
    "        # Print out only what you want, the list of terms\n",
    "        print [x['searchValue'] for x in terms]\n",
    "    else:\n",
    "        print \"Status code error: %r\" % response.status_code\n"
   ]
  },
  {
   "cell_type": "markdown",
   "metadata": {},
   "source": [
    "##### 2. Make API call"
   ]
  },
  {
   "cell_type": "code",
   "execution_count": 3,
   "metadata": {
    "collapsed": true
   },
   "outputs": [],
   "source": [
    "def make_api_call(ID, KEY, allowed_course, excluded_course, allowed_cuisine, excluded_cuisine, max_result, start):\n",
    "    \n",
    "    '''Requests 500 recipes from the Yummly recipe API.\n",
    "    The parameters 'ID' and 'KEY' are API credentials,\n",
    "    'allowed_course', 'excluded course' 'allowed_cuisine' and\n",
    "    'exluded_cuisine' can be strings or lists. \n",
    "    For proper formatting for these, use the search_terms\n",
    "    function above.\n",
    "    If the 'start' parameter is 0, results 0-499 will \n",
    "    be returned.'''\n",
    "    \n",
    "    url = 'http://api.yummly.com/v1/api/recipes?'\n",
    "    headers = {'X-Yummly-App-ID':ID, 'X-Yummly-App-Key': KEY}\n",
    "    parameters = {'allowedCourse[]': allowed_course, \n",
    "                  'excludedCourse[]': excluded_course,\n",
    "                  'allowedCuisine[]': allowed_cuisine, \n",
    "                  'excludedCuisine[]': excluded_cuisine,\n",
    "                  'maxResult': max_result, \n",
    "                  'start': start}\n",
    "    response = requests.get(url, headers=headers, params=parameters)\n",
    "    if response.status_code == 200:\n",
    "        print \"Status code normal\"\n",
    "        return response.json()\n",
    "    else:\n",
    "        print \"Status code error: %r\" % response.status_code"
   ]
  },
  {
   "cell_type": "markdown",
   "metadata": {},
   "source": [
    "### Sample API pull"
   ]
  },
  {
   "cell_type": "markdown",
   "metadata": {},
   "source": [
    "##### Get cuisine search terms"
   ]
  },
  {
   "cell_type": "code",
   "execution_count": 5,
   "metadata": {
    "collapsed": false
   },
   "outputs": [
    {
     "name": "stdout",
     "output_type": "stream",
     "text": [
      "Status code normal\n",
      "[u'cuisine^cuisine-american', u'cuisine^cuisine-kid-friendly', u'cuisine^cuisine-italian', u'cuisine^cuisine-asian', u'cuisine^cuisine-mexican', u'cuisine^cuisine-southern', u'cuisine^cuisine-french', u'cuisine^cuisine-southwestern', u'cuisine^cuisine-barbecue-bbq', u'cuisine^cuisine-indian', u'cuisine^cuisine-chinese', u'cuisine^cuisine-cajun', u'cuisine^cuisine-mediterranean', u'cuisine^cuisine-greek', u'cuisine^cuisine-english', u'cuisine^cuisine-spanish', u'cuisine^cuisine-thai', u'cuisine^cuisine-german', u'cuisine^cuisine-moroccan', u'cuisine^cuisine-irish', u'cuisine^cuisine-japanese', u'cuisine^cuisine-cuban', u'cuisine^cuisine-hawaiian', u'cuisine^cuisine-swedish', u'cuisine^cuisine-hungarian', u'cuisine^cuisine-portuguese']\n"
     ]
    }
   ],
   "source": [
    "# Define parameters\n",
    "my_id = 'e2b9bebc'\n",
    "my_key = '4193215272970d956cfd5384a08580a9'\n",
    "term = 'cuisine'\n",
    "\n",
    "# Get cuisine terms\n",
    "get_search_terms(ID=my_id, KEY=my_key, term_type=term)"
   ]
  },
  {
   "cell_type": "markdown",
   "metadata": {},
   "source": [
    "##### Get course search terms"
   ]
  },
  {
   "cell_type": "code",
   "execution_count": 6,
   "metadata": {
    "collapsed": false
   },
   "outputs": [
    {
     "name": "stdout",
     "output_type": "stream",
     "text": [
      "Status code normal\n",
      "[u'course^course-Main Dishes', u'course^course-Desserts', u'course^course-Side Dishes', u'course^course-Appetizers', u'course^course-Salads', u'course^course-Breakfast and Brunch', u'course^course-Breads', u'course^course-Soups', u'course^course-Beverages', u'course^course-Condiments and Sauces', u'course^course-Cocktails', u'course^course-Snacks', u'course^course-Lunch']\n"
     ]
    }
   ],
   "source": [
    "# Define parameters\n",
    "my_id = 'e2b9bebc'\n",
    "my_key = '4193215272970d956cfd5384a08580a9'\n",
    "term = 'course'\n",
    "\n",
    "# Get course terms\n",
    "get_search_terms(ID=my_id, KEY=my_key, term_type=term)"
   ]
  },
  {
   "cell_type": "markdown",
   "metadata": {},
   "source": [
    "##### Make API pull for Asian appetizers"
   ]
  },
  {
   "cell_type": "code",
   "execution_count": 7,
   "metadata": {
    "collapsed": false
   },
   "outputs": [
    {
     "name": "stdout",
     "output_type": "stream",
     "text": [
      "Status code normal\n"
     ]
    }
   ],
   "source": [
    "# Define parameters\n",
    "my_id = 'e2b9bebc'\n",
    "my_key = '4193215272970d956cfd5384a08580a9'\n",
    "allowed_course = 'course^course-Appetizers'\n",
    "excluded_course = 'course^course-Main Dishes'\n",
    "allowed_cuisine = 'cuisine^cuisine-asian'\n",
    "excluded_cuisine = ['cuisine^cuisine-american', 'cuisine^cuisine-italian', 'cuisine^cuisine-indian',\n",
    "                                    'cuisine^cuisine-mexican', 'cuisine^cuisine-mediterranean', 'cuisine^cuisine-chinese',\n",
    "                                   'cuisine^cuisine-japanese']\n",
    "max_result = 100\n",
    "start = 500\n",
    "\n",
    "# Make API call\n",
    "api_call = make_api_call(ID=my_id, KEY=my_key, \n",
    "                         allowed_course=allowed_course, excluded_course=excluded_course,\n",
    "                        allowed_cuisine=allowed_cuisine, excluded_cuisine=excluded_cuisine,\n",
    "                        max_result=max_result, start=start)"
   ]
  },
  {
   "cell_type": "markdown",
   "metadata": {},
   "source": [
    "### Extract relevant data"
   ]
  },
  {
   "cell_type": "markdown",
   "metadata": {},
   "source": [
    "##### 1. Get information about the API response"
   ]
  },
  {
   "cell_type": "code",
   "execution_count": 8,
   "metadata": {
    "collapsed": false
   },
   "outputs": [
    {
     "name": "stdout",
     "output_type": "stream",
     "text": [
      "Data type: <type 'dict'>\n",
      "Response keys: [u'matches', u'totalMatchCount', u'attribution', u'facetCounts', u'criteria']\n",
      "Total match count: 1737\n"
     ]
    }
   ],
   "source": [
    "# Get data type\n",
    "print \"Data type:\", type(api_call)\n",
    "\n",
    "# Print keys\n",
    "response_keys = api_call.keys()\n",
    "print \"Response keys:\", response_keys\n",
    "\n",
    "# Print total match count\n",
    "print \"Total match count:\", api_call['totalMatchCount']"
   ]
  },
  {
   "cell_type": "markdown",
   "metadata": {},
   "source": [
    "##### 2. Extract data and store in a list of dictionaries"
   ]
  },
  {
   "cell_type": "code",
   "execution_count": 9,
   "metadata": {
    "collapsed": true
   },
   "outputs": [],
   "source": [
    "# Iterate through the content in the 'matches' key of the response\n",
    "main_list = [] \n",
    "for search_result in api_call['matches']:\n",
    "    sub_dict = {}\n",
    "    sub_dict['id'] = search_result['id']\n",
    "    sub_dict['recipe_name'] = search_result['recipeName']\n",
    "    sub_dict['source_display_name'] = search_result['sourceDisplayName']\n",
    "    sub_dict['course'] = search_result['attributes'].get('course')\n",
    "    sub_dict['cuisine'] = search_result['attributes'].get('cuisine')\n",
    "    sub_dict['ingredient_list'] = search_result['ingredients']\n",
    "    \n",
    "    main_list.append(sub_dict)"
   ]
  },
  {
   "cell_type": "markdown",
   "metadata": {},
   "source": [
    "##### 3. Build pandas DataFrame"
   ]
  },
  {
   "cell_type": "code",
   "execution_count": 10,
   "metadata": {
    "collapsed": true
   },
   "outputs": [],
   "source": [
    "df = pd.DataFrame(main_list)"
   ]
  },
  {
   "cell_type": "markdown",
   "metadata": {},
   "source": [
    "### From here, to store the data, you can either: \n",
    "1. Send this to a postgres instance on AWS\n",
    "    - Use the code in the send_to_AWS_RDS folder if you choose this option\n",
    "2. Save the dataframe as a csv\n",
    "\n",
    "Regardless of how you store it, you have to make many API calls, since there's a limit to the number of results per call. To get 20k recipes, I made forty calls at 500 each. "
   ]
  },
  {
   "cell_type": "code",
   "execution_count": null,
   "metadata": {
    "collapsed": true
   },
   "outputs": [],
   "source": []
  }
 ],
 "metadata": {
  "kernelspec": {
   "display_name": "Python 2",
   "language": "python",
   "name": "python2"
  },
  "language_info": {
   "codemirror_mode": {
    "name": "ipython",
    "version": 2
   },
   "file_extension": ".py",
   "mimetype": "text/x-python",
   "name": "python",
   "nbconvert_exporter": "python",
   "pygments_lexer": "ipython2",
   "version": "2.7.11"
  }
 },
 "nbformat": 4,
 "nbformat_minor": 0
}

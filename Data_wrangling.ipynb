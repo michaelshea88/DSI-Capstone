{
 "cells": [
  {
   "cell_type": "code",
   "execution_count": 821,
   "metadata": {
    "collapsed": true
   },
   "outputs": [],
   "source": [
    "import numpy as np\n",
    "import pandas as pd\n",
    "from pandas import *\n",
    "import csv"
   ]
  },
  {
   "cell_type": "code",
   "execution_count": 835,
   "metadata": {
    "collapsed": false
   },
   "outputs": [
    {
     "name": "stdout",
     "output_type": "stream",
     "text": [
      "['APP_data_reduced.csv', 'BB_data_reduced.csv', 'DS_data_reduced.csv', 'SLD_data_reduced.csv', 'SP_data_reduced.csv']\n"
     ]
    }
   ],
   "source": [
    "#create a list of csvs\n",
    "files = !ls *.csv\n",
    "#load into a df\n",
    "df_list = [pd.read_csv(file) for file in files]\n",
    "print files"
   ]
  },
  {
   "cell_type": "code",
   "execution_count": 836,
   "metadata": {
    "collapsed": false
   },
   "outputs": [],
   "source": [
    "data = pd.concat(df_list)"
   ]
  },
  {
   "cell_type": "code",
   "execution_count": 837,
   "metadata": {
    "collapsed": false
   },
   "outputs": [
    {
     "data": {
      "text/html": [
       "<div>\n",
       "<table border=\"1\" class=\"dataframe\">\n",
       "  <thead>\n",
       "    <tr style=\"text-align: right;\">\n",
       "      <th></th>\n",
       "      <th>id</th>\n",
       "      <th>rating</th>\n",
       "      <th>bitter</th>\n",
       "      <th>meaty</th>\n",
       "      <th>piquant</th>\n",
       "      <th>salty</th>\n",
       "      <th>sour</th>\n",
       "      <th>sweet</th>\n",
       "      <th>cookTimeInSeconds</th>\n",
       "      <th>ingredientCount</th>\n",
       "      <th>numberOfServings</th>\n",
       "      <th>prepTimeInSeconds</th>\n",
       "      <th>totalTimeInSeconds</th>\n",
       "      <th>ingredient_list</th>\n",
       "      <th>course</th>\n",
       "    </tr>\n",
       "  </thead>\n",
       "  <tbody>\n",
       "    <tr>\n",
       "      <th>0</th>\n",
       "      <td>Bacon-Cheddar-Pinwheels-768341</td>\n",
       "      <td>4</td>\n",
       "      <td>0.833333</td>\n",
       "      <td>0.833333</td>\n",
       "      <td>0.000000</td>\n",
       "      <td>0.833333</td>\n",
       "      <td>0.166667</td>\n",
       "      <td>0.166667</td>\n",
       "      <td>NaN</td>\n",
       "      <td>5</td>\n",
       "      <td>16.0</td>\n",
       "      <td>900.0</td>\n",
       "      <td>2100.0</td>\n",
       "      <td>[Pillsbury™ Refrigerated Crescent Dinner Rolls...</td>\n",
       "      <td>Appetizer</td>\n",
       "    </tr>\n",
       "    <tr>\n",
       "      <th>1</th>\n",
       "      <td>Fiesta-Corn-Dip-1711704</td>\n",
       "      <td>4</td>\n",
       "      <td>0.500000</td>\n",
       "      <td>0.166667</td>\n",
       "      <td>0.833333</td>\n",
       "      <td>0.833333</td>\n",
       "      <td>0.500000</td>\n",
       "      <td>0.166667</td>\n",
       "      <td>NaN</td>\n",
       "      <td>7</td>\n",
       "      <td>4.0</td>\n",
       "      <td>900.0</td>\n",
       "      <td>900.0</td>\n",
       "      <td>[sour cream, mayonnaise, ground cumin, mexicor...</td>\n",
       "      <td>Appetizer</td>\n",
       "    </tr>\n",
       "    <tr>\n",
       "      <th>2</th>\n",
       "      <td>Crunchy-Taco-Cups-1684027</td>\n",
       "      <td>4</td>\n",
       "      <td>0.833333</td>\n",
       "      <td>0.500000</td>\n",
       "      <td>0.166667</td>\n",
       "      <td>0.833333</td>\n",
       "      <td>0.166667</td>\n",
       "      <td>0.166667</td>\n",
       "      <td>NaN</td>\n",
       "      <td>5</td>\n",
       "      <td>12.0</td>\n",
       "      <td>NaN</td>\n",
       "      <td>2400.0</td>\n",
       "      <td>[lean ground beef, taco seasoning, diced tomat...</td>\n",
       "      <td>Appetizer</td>\n",
       "    </tr>\n",
       "    <tr>\n",
       "      <th>3</th>\n",
       "      <td>Chipotle-Meatball-Appetizers-768376</td>\n",
       "      <td>4</td>\n",
       "      <td>NaN</td>\n",
       "      <td>NaN</td>\n",
       "      <td>NaN</td>\n",
       "      <td>NaN</td>\n",
       "      <td>NaN</td>\n",
       "      <td>NaN</td>\n",
       "      <td>NaN</td>\n",
       "      <td>7</td>\n",
       "      <td>24.0</td>\n",
       "      <td>1800.0</td>\n",
       "      <td>3000.0</td>\n",
       "      <td>[Pillsbury™ Refrigerated Crescent Dinner Rolls...</td>\n",
       "      <td>Appetizer</td>\n",
       "    </tr>\n",
       "    <tr>\n",
       "      <th>4</th>\n",
       "      <td>Sausage-Crescent-Cheese-Balls-768337</td>\n",
       "      <td>4</td>\n",
       "      <td>NaN</td>\n",
       "      <td>NaN</td>\n",
       "      <td>NaN</td>\n",
       "      <td>NaN</td>\n",
       "      <td>NaN</td>\n",
       "      <td>NaN</td>\n",
       "      <td>NaN</td>\n",
       "      <td>5</td>\n",
       "      <td>42.0</td>\n",
       "      <td>1200.0</td>\n",
       "      <td>2400.0</td>\n",
       "      <td>[spicy sausage, shredded sharp cheddar cheese,...</td>\n",
       "      <td>Appetizer</td>\n",
       "    </tr>\n",
       "  </tbody>\n",
       "</table>\n",
       "</div>"
      ],
      "text/plain": [
       "                                     id  rating    bitter     meaty   piquant  \\\n",
       "0        Bacon-Cheddar-Pinwheels-768341       4  0.833333  0.833333  0.000000   \n",
       "1               Fiesta-Corn-Dip-1711704       4  0.500000  0.166667  0.833333   \n",
       "2             Crunchy-Taco-Cups-1684027       4  0.833333  0.500000  0.166667   \n",
       "3   Chipotle-Meatball-Appetizers-768376       4       NaN       NaN       NaN   \n",
       "4  Sausage-Crescent-Cheese-Balls-768337       4       NaN       NaN       NaN   \n",
       "\n",
       "      salty      sour     sweet  cookTimeInSeconds  ingredientCount  \\\n",
       "0  0.833333  0.166667  0.166667                NaN                5   \n",
       "1  0.833333  0.500000  0.166667                NaN                7   \n",
       "2  0.833333  0.166667  0.166667                NaN                5   \n",
       "3       NaN       NaN       NaN                NaN                7   \n",
       "4       NaN       NaN       NaN                NaN                5   \n",
       "\n",
       "   numberOfServings  prepTimeInSeconds  totalTimeInSeconds  \\\n",
       "0              16.0              900.0              2100.0   \n",
       "1               4.0              900.0               900.0   \n",
       "2              12.0                NaN              2400.0   \n",
       "3              24.0             1800.0              3000.0   \n",
       "4              42.0             1200.0              2400.0   \n",
       "\n",
       "                                     ingredient_list     course  \n",
       "0  [Pillsbury™ Refrigerated Crescent Dinner Rolls...  Appetizer  \n",
       "1  [sour cream, mayonnaise, ground cumin, mexicor...  Appetizer  \n",
       "2  [lean ground beef, taco seasoning, diced tomat...  Appetizer  \n",
       "3  [Pillsbury™ Refrigerated Crescent Dinner Rolls...  Appetizer  \n",
       "4  [spicy sausage, shredded sharp cheddar cheese,...  Appetizer  "
      ]
     },
     "execution_count": 837,
     "metadata": {},
     "output_type": "execute_result"
    }
   ],
   "source": [
    "data.head()"
   ]
  },
  {
   "cell_type": "code",
   "execution_count": 838,
   "metadata": {
    "collapsed": false
   },
   "outputs": [
    {
     "data": {
      "text/plain": [
       "(9996, 15)"
      ]
     },
     "execution_count": 838,
     "metadata": {},
     "output_type": "execute_result"
    }
   ],
   "source": [
    "# drop duplicates \n",
    "data = data.drop_duplicates('id')\n",
    "data.shape"
   ]
  },
  {
   "cell_type": "code",
   "execution_count": 839,
   "metadata": {
    "collapsed": false
   },
   "outputs": [],
   "source": [
    "# labelencode the course column\n",
    "from sklearn import preprocessing\n",
    "le = preprocessing.LabelEncoder()\n",
    "data['course_num'] = le.fit_transform(data.course)"
   ]
  },
  {
   "cell_type": "code",
   "execution_count": 840,
   "metadata": {
    "collapsed": false
   },
   "outputs": [],
   "source": [
    "#make all column headers, small cases\n",
    "data.columns = [col.lower() for col in data.columns]"
   ]
  },
  {
   "cell_type": "code",
   "execution_count": 841,
   "metadata": {
    "collapsed": false
   },
   "outputs": [
    {
     "data": {
      "text/plain": [
       "id                       0\n",
       "rating                   0\n",
       "bitter                3233\n",
       "meaty                 3233\n",
       "piquant               3233\n",
       "salty                 3233\n",
       "sour                  3233\n",
       "sweet                 3233\n",
       "cooktimeinseconds     7397\n",
       "ingredientcount          0\n",
       "numberofservings         2\n",
       "preptimeinseconds     6177\n",
       "totaltimeinseconds       0\n",
       "ingredient_list          0\n",
       "course                   0\n",
       "course_num               0\n",
       "dtype: int64"
      ]
     },
     "execution_count": 841,
     "metadata": {},
     "output_type": "execute_result"
    }
   ],
   "source": [
    "data.isnull().sum()"
   ]
  },
  {
   "cell_type": "code",
   "execution_count": 842,
   "metadata": {
    "collapsed": true
   },
   "outputs": [],
   "source": [
    "data = data.drop(['cooktimeinseconds','preptimeinseconds'], axis = 1)"
   ]
  },
  {
   "cell_type": "code",
   "execution_count": 843,
   "metadata": {
    "collapsed": false
   },
   "outputs": [],
   "source": [
    "# #clean cook/preptime columns\n",
    "# for index, row in data.iterrows():\n",
    "#     if row['cooktimeinseconds'].isnull() and row['preptimeinseconds'].isnull():\n",
    "#         print row\n",
    "    "
   ]
  },
  {
   "cell_type": "code",
   "execution_count": 844,
   "metadata": {
    "collapsed": false
   },
   "outputs": [],
   "source": [
    "# clean the ingredient column \n",
    "import string\n",
    "# strip non ascii characters \n",
    "printable = set(string.printable)\n",
    "ingredient = [filter(lambda x: x in printable, z) for z in data['ingredient_list']]"
   ]
  },
  {
   "cell_type": "code",
   "execution_count": 845,
   "metadata": {
    "collapsed": false
   },
   "outputs": [
    {
     "data": {
      "text/plain": [
       "'[Pillsbury Refrigerated Crescent Dinner Rolls, ranch dressing, bacon pieces, shredded cheddar cheese, green onions]'"
      ]
     },
     "execution_count": 845,
     "metadata": {},
     "output_type": "execute_result"
    }
   ],
   "source": [
    "ingredient[0]"
   ]
  },
  {
   "cell_type": "code",
   "execution_count": 846,
   "metadata": {
    "collapsed": false
   },
   "outputs": [],
   "source": [
    "# remove the braquets-convert to string\n",
    "ingredient = [z[1:-1] for z in ingredient]"
   ]
  },
  {
   "cell_type": "code",
   "execution_count": 847,
   "metadata": {
    "collapsed": false
   },
   "outputs": [
    {
     "data": {
      "text/plain": [
       "'Pillsbury Refrigerated Crescent Dinner Rolls, ranch dressing, bacon pieces, shredded cheddar cheese, green onions'"
      ]
     },
     "execution_count": 847,
     "metadata": {},
     "output_type": "execute_result"
    }
   ],
   "source": [
    "ingredient[0]"
   ]
  },
  {
   "cell_type": "code",
   "execution_count": 848,
   "metadata": {
    "collapsed": false
   },
   "outputs": [],
   "source": [
    "# Make each word a string\n",
    "ingredient = [z.split(\" \") for z in ingredient]"
   ]
  },
  {
   "cell_type": "code",
   "execution_count": 849,
   "metadata": {
    "collapsed": false
   },
   "outputs": [
    {
     "data": {
      "text/plain": [
       "['Pillsbury',\n",
       " 'Refrigerated',\n",
       " 'Crescent',\n",
       " 'Dinner',\n",
       " 'Rolls,',\n",
       " 'ranch',\n",
       " 'dressing,',\n",
       " 'bacon',\n",
       " 'pieces,',\n",
       " 'shredded',\n",
       " 'cheddar',\n",
       " 'cheese,',\n",
       " 'green',\n",
       " 'onions']"
      ]
     },
     "execution_count": 849,
     "metadata": {},
     "output_type": "execute_result"
    }
   ],
   "source": [
    "ingredient[0]"
   ]
  },
  {
   "cell_type": "code",
   "execution_count": 850,
   "metadata": {
    "collapsed": false
   },
   "outputs": [],
   "source": [
    "# perform word lemmatization\n",
    "from nltk import stem\n",
    "wordnet_lemm = stem.WordNetLemmatizer()\n",
    "\n",
    "lem_ingredient = [] # create a new list of lemmatized ingredient list for each recipe\n",
    "for ing in ingredient:\n",
    "    lem_ingredient.append([wordnet_lemm.lemmatize(w) for w in ing])\n",
    "     \n",
    "# convert back to a string for vectorization\n",
    "lem_ingredient = [' '.join(z) for z in lem_ingredient]\n",
    "  "
   ]
  },
  {
   "cell_type": "code",
   "execution_count": 851,
   "metadata": {
    "collapsed": false
   },
   "outputs": [
    {
     "data": {
      "text/html": [
       "<div>\n",
       "<table border=\"1\" class=\"dataframe\">\n",
       "  <thead>\n",
       "    <tr style=\"text-align: right;\">\n",
       "      <th></th>\n",
       "      <th>id</th>\n",
       "      <th>rating</th>\n",
       "      <th>bitter</th>\n",
       "      <th>meaty</th>\n",
       "      <th>piquant</th>\n",
       "      <th>salty</th>\n",
       "      <th>sour</th>\n",
       "      <th>sweet</th>\n",
       "      <th>ingredientcount</th>\n",
       "      <th>numberofservings</th>\n",
       "      <th>totaltimeinseconds</th>\n",
       "      <th>course</th>\n",
       "      <th>course_num</th>\n",
       "      <th>ingredient_lem</th>\n",
       "    </tr>\n",
       "  </thead>\n",
       "  <tbody>\n",
       "    <tr>\n",
       "      <th>0</th>\n",
       "      <td>Bacon-Cheddar-Pinwheels-768341</td>\n",
       "      <td>4</td>\n",
       "      <td>0.833333</td>\n",
       "      <td>0.833333</td>\n",
       "      <td>0.000000</td>\n",
       "      <td>0.833333</td>\n",
       "      <td>0.166667</td>\n",
       "      <td>0.166667</td>\n",
       "      <td>5</td>\n",
       "      <td>16.0</td>\n",
       "      <td>2100.0</td>\n",
       "      <td>Appetizer</td>\n",
       "      <td>0</td>\n",
       "      <td>Pillsbury Refrigerated Crescent Dinner Rolls, ...</td>\n",
       "    </tr>\n",
       "    <tr>\n",
       "      <th>1</th>\n",
       "      <td>Fiesta-Corn-Dip-1711704</td>\n",
       "      <td>4</td>\n",
       "      <td>0.500000</td>\n",
       "      <td>0.166667</td>\n",
       "      <td>0.833333</td>\n",
       "      <td>0.833333</td>\n",
       "      <td>0.500000</td>\n",
       "      <td>0.166667</td>\n",
       "      <td>7</td>\n",
       "      <td>4.0</td>\n",
       "      <td>900.0</td>\n",
       "      <td>Appetizer</td>\n",
       "      <td>0</td>\n",
       "      <td>sour cream, mayonnaise, ground cumin, mexicorn...</td>\n",
       "    </tr>\n",
       "  </tbody>\n",
       "</table>\n",
       "</div>"
      ],
      "text/plain": [
       "                               id  rating    bitter     meaty   piquant  \\\n",
       "0  Bacon-Cheddar-Pinwheels-768341       4  0.833333  0.833333  0.000000   \n",
       "1         Fiesta-Corn-Dip-1711704       4  0.500000  0.166667  0.833333   \n",
       "\n",
       "      salty      sour     sweet  ingredientcount  numberofservings  \\\n",
       "0  0.833333  0.166667  0.166667                5              16.0   \n",
       "1  0.833333  0.500000  0.166667                7               4.0   \n",
       "\n",
       "   totaltimeinseconds     course  course_num  \\\n",
       "0              2100.0  Appetizer           0   \n",
       "1               900.0  Appetizer           0   \n",
       "\n",
       "                                      ingredient_lem  \n",
       "0  Pillsbury Refrigerated Crescent Dinner Rolls, ...  \n",
       "1  sour cream, mayonnaise, ground cumin, mexicorn...  "
      ]
     },
     "execution_count": 851,
     "metadata": {},
     "output_type": "execute_result"
    }
   ],
   "source": [
    "data['ingredient_lem'] = lem_ingredient\n",
    "data = data.drop('ingredient_list', axis = 1)\n",
    "data.head(2)"
   ]
  },
  {
   "cell_type": "code",
   "execution_count": 852,
   "metadata": {
    "collapsed": true
   },
   "outputs": [],
   "source": [
    "data.to_csv('data.csv')"
   ]
  },
  {
   "cell_type": "code",
   "execution_count": 867,
   "metadata": {
    "collapsed": false
   },
   "outputs": [],
   "source": [
    "from sklearn.feature_extraction.text import TfidfVectorizer\n",
    "vect = TfidfVectorizer(stop_words='english')"
   ]
  },
  {
   "cell_type": "code",
   "execution_count": 868,
   "metadata": {
    "collapsed": false
   },
   "outputs": [
    {
     "name": "stdout",
     "output_type": "stream",
     "text": [
      "(9996,)\n",
      "(9996,)\n",
      "(7497,)\n",
      "(2499,)\n"
     ]
    }
   ],
   "source": [
    "array = data.values\n",
    "from sklearn import cross_validation\n",
    "\n",
    "X = data['ingredient_lem']\n",
    "print X.shape\n",
    "Y = data['course_num']\n",
    "print Y.shape\n",
    "X_train, X_test, Y_train, Y_test = cross_validation.train_test_split(X, Y, random_state=10)\n",
    "\n",
    "print X_train.shape\n",
    "print X_test.shape"
   ]
  },
  {
   "cell_type": "code",
   "execution_count": 869,
   "metadata": {
    "collapsed": false
   },
   "outputs": [],
   "source": [
    "#vectorize and convert the matrix into array \n",
    "X_train_vect = vect.fit_transform(X_train) \n",
    "X_train_vect = X_train_vect.toarray() \n",
    "X_test_vect = vect.transform(X_test)\n",
    "X_test_vect = X_test_vect.toarray()"
   ]
  },
  {
   "cell_type": "code",
   "execution_count": 870,
   "metadata": {
    "collapsed": false
   },
   "outputs": [
    {
     "data": {
      "text/plain": [
       "1801"
      ]
     },
     "execution_count": 870,
     "metadata": {},
     "output_type": "execute_result"
    }
   ],
   "source": [
    "#create a list of the feature names\n",
    "features = vect.get_feature_names()\n",
    "len(features)"
   ]
  },
  {
   "cell_type": "code",
   "execution_count": 871,
   "metadata": {
    "collapsed": false
   },
   "outputs": [
    {
     "name": "stdout",
     "output_type": "stream",
     "text": [
      "(7497, 1802)\n",
      "(2499, 1802)\n"
     ]
    }
   ],
   "source": [
    "#create dataframe of the vectorized dataset\n",
    "train_vect_df = pd.DataFrame(data = X_train_vect, columns = features)\n",
    "train_vect_df['course_num'] = Y_train.values\n",
    "test_vect_df = pd.DataFrame(data = X_test_vect, columns = features)\n",
    "test_vect_df['course_num'] = Y_test.values\n",
    "print train_vect_df.shape\n",
    "print test_vect_df.shape"
   ]
  },
  {
   "cell_type": "code",
   "execution_count": 872,
   "metadata": {
    "collapsed": false
   },
   "outputs": [
    {
     "data": {
      "text/html": [
       "<div>\n",
       "<table border=\"1\" class=\"dataframe\">\n",
       "  <thead>\n",
       "    <tr style=\"text-align: right;\">\n",
       "      <th></th>\n",
       "      <th>id</th>\n",
       "      <th>rating</th>\n",
       "      <th>bitter</th>\n",
       "      <th>meaty</th>\n",
       "      <th>piquant</th>\n",
       "      <th>salty</th>\n",
       "      <th>sour</th>\n",
       "      <th>sweet</th>\n",
       "      <th>ingredientcount</th>\n",
       "      <th>numberofservings</th>\n",
       "      <th>totaltimeinseconds</th>\n",
       "      <th>course</th>\n",
       "      <th>course_num</th>\n",
       "      <th>ingredient_lem</th>\n",
       "    </tr>\n",
       "  </thead>\n",
       "  <tbody>\n",
       "    <tr>\n",
       "      <th>0</th>\n",
       "      <td>Bacon-Cheddar-Pinwheels-768341</td>\n",
       "      <td>4</td>\n",
       "      <td>0.833333</td>\n",
       "      <td>0.833333</td>\n",
       "      <td>0.000000</td>\n",
       "      <td>0.833333</td>\n",
       "      <td>0.166667</td>\n",
       "      <td>0.166667</td>\n",
       "      <td>5</td>\n",
       "      <td>16.0</td>\n",
       "      <td>2100.0</td>\n",
       "      <td>Appetizer</td>\n",
       "      <td>0</td>\n",
       "      <td>Pillsbury Refrigerated Crescent Dinner Rolls, ...</td>\n",
       "    </tr>\n",
       "    <tr>\n",
       "      <th>1</th>\n",
       "      <td>Fiesta-Corn-Dip-1711704</td>\n",
       "      <td>4</td>\n",
       "      <td>0.500000</td>\n",
       "      <td>0.166667</td>\n",
       "      <td>0.833333</td>\n",
       "      <td>0.833333</td>\n",
       "      <td>0.500000</td>\n",
       "      <td>0.166667</td>\n",
       "      <td>7</td>\n",
       "      <td>4.0</td>\n",
       "      <td>900.0</td>\n",
       "      <td>Appetizer</td>\n",
       "      <td>0</td>\n",
       "      <td>sour cream, mayonnaise, ground cumin, mexicorn...</td>\n",
       "    </tr>\n",
       "  </tbody>\n",
       "</table>\n",
       "</div>"
      ],
      "text/plain": [
       "                               id  rating    bitter     meaty   piquant  \\\n",
       "0  Bacon-Cheddar-Pinwheels-768341       4  0.833333  0.833333  0.000000   \n",
       "1         Fiesta-Corn-Dip-1711704       4  0.500000  0.166667  0.833333   \n",
       "\n",
       "      salty      sour     sweet  ingredientcount  numberofservings  \\\n",
       "0  0.833333  0.166667  0.166667                5              16.0   \n",
       "1  0.833333  0.500000  0.166667                7               4.0   \n",
       "\n",
       "   totaltimeinseconds     course  course_num  \\\n",
       "0              2100.0  Appetizer           0   \n",
       "1               900.0  Appetizer           0   \n",
       "\n",
       "                                      ingredient_lem  \n",
       "0  Pillsbury Refrigerated Crescent Dinner Rolls, ...  \n",
       "1  sour cream, mayonnaise, ground cumin, mexicorn...  "
      ]
     },
     "execution_count": 872,
     "metadata": {},
     "output_type": "execute_result"
    }
   ],
   "source": [
    "data.head(2)"
   ]
  },
  {
   "cell_type": "code",
   "execution_count": 873,
   "metadata": {
    "collapsed": false
   },
   "outputs": [
    {
     "name": "stdout",
     "output_type": "stream",
     "text": [
      "(9996, 10)\n",
      "(9996,)\n",
      "(7497, 10)\n",
      "(2499, 10)\n"
     ]
    }
   ],
   "source": [
    "# train/test split the other columns from the main dataframe \n",
    "array = data.values\n",
    "_X = array[:, 1:11]\n",
    "print _X.shape\n",
    "Y = data['course_num']\n",
    "print Y.shape\n",
    "X_train, X_test, Y_train, Y_test = cross_validation.train_test_split(_X, Y, random_state=10)\n",
    "print X_train.shape\n",
    "print X_test.shape\n"
   ]
  },
  {
   "cell_type": "code",
   "execution_count": 874,
   "metadata": {
    "collapsed": false
   },
   "outputs": [
    {
     "name": "stdout",
     "output_type": "stream",
     "text": [
      "(7497, 10)\n"
     ]
    }
   ],
   "source": [
    "# create a dataframe for training and test set\n",
    "train_df = pd.DataFrame(data = X_train, columns = list(data.columns[1:11]))\n",
    "test_df = pd.DataFrame(data = X_test, columns = list(data.columns[1:11]))\n",
    "print train_df.shape "
   ]
  },
  {
   "cell_type": "code",
   "execution_count": 875,
   "metadata": {
    "collapsed": false
   },
   "outputs": [
    {
     "name": "stdout",
     "output_type": "stream",
     "text": [
      "(7497, 1812)\n",
      "(2499, 1812)\n"
     ]
    }
   ],
   "source": [
    "# combine the dataframes for the training set and for the testing set. The new dataframes will have the vectorized\n",
    "# columns and selected features together.\n",
    "data_train = pd.concat([train_df, train_vect_df], axis = 1)\n",
    "print data_train.shape\n",
    "data_test = pd.concat([test_df, test_vect_df], axis = 1)\n",
    "print data_test.shape"
   ]
  },
  {
   "cell_type": "code",
   "execution_count": 876,
   "metadata": {
    "collapsed": true
   },
   "outputs": [],
   "source": [
    "# save dfs to csv\n",
    "data_train.to_csv('train.csv')\n",
    "data_test.to_csv('test.csv')"
   ]
  },
  {
   "cell_type": "code",
   "execution_count": 866,
   "metadata": {
    "collapsed": false
   },
   "outputs": [
    {
     "data": {
      "text/html": [
       "<div>\n",
       "<table border=\"1\" class=\"dataframe\">\n",
       "  <thead>\n",
       "    <tr style=\"text-align: right;\">\n",
       "      <th></th>\n",
       "      <th>rating</th>\n",
       "      <th>bitter</th>\n",
       "      <th>meaty</th>\n",
       "      <th>piquant</th>\n",
       "      <th>salty</th>\n",
       "      <th>sour</th>\n",
       "      <th>sweet</th>\n",
       "      <th>ingredientcount</th>\n",
       "      <th>numberofservings</th>\n",
       "      <th>totaltimeinseconds</th>\n",
       "      <th>...</th>\n",
       "      <th>zucchini snow</th>\n",
       "      <th>zucchini squash</th>\n",
       "      <th>zucchini string</th>\n",
       "      <th>zucchini sweet</th>\n",
       "      <th>zucchini tahini</th>\n",
       "      <th>zucchini tomatoes</th>\n",
       "      <th>zucchini vegetable</th>\n",
       "      <th>zucchini vidalia</th>\n",
       "      <th>zucchini yellow</th>\n",
       "      <th>course_num</th>\n",
       "    </tr>\n",
       "  </thead>\n",
       "  <tbody>\n",
       "    <tr>\n",
       "      <th>0</th>\n",
       "      <td>4</td>\n",
       "      <td>NaN</td>\n",
       "      <td>NaN</td>\n",
       "      <td>NaN</td>\n",
       "      <td>NaN</td>\n",
       "      <td>NaN</td>\n",
       "      <td>NaN</td>\n",
       "      <td>5</td>\n",
       "      <td>1</td>\n",
       "      <td>900</td>\n",
       "      <td>...</td>\n",
       "      <td>0.0</td>\n",
       "      <td>0.0</td>\n",
       "      <td>0.0</td>\n",
       "      <td>0.0</td>\n",
       "      <td>0.0</td>\n",
       "      <td>0.0</td>\n",
       "      <td>0.0</td>\n",
       "      <td>0.0</td>\n",
       "      <td>0.0</td>\n",
       "      <td>2</td>\n",
       "    </tr>\n",
       "    <tr>\n",
       "      <th>1</th>\n",
       "      <td>4</td>\n",
       "      <td>0.833333</td>\n",
       "      <td>0.833333</td>\n",
       "      <td>0</td>\n",
       "      <td>0.833333</td>\n",
       "      <td>0.166667</td>\n",
       "      <td>0.166667</td>\n",
       "      <td>5</td>\n",
       "      <td>12</td>\n",
       "      <td>300</td>\n",
       "      <td>...</td>\n",
       "      <td>0.0</td>\n",
       "      <td>0.0</td>\n",
       "      <td>0.0</td>\n",
       "      <td>0.0</td>\n",
       "      <td>0.0</td>\n",
       "      <td>0.0</td>\n",
       "      <td>0.0</td>\n",
       "      <td>0.0</td>\n",
       "      <td>0.0</td>\n",
       "      <td>3</td>\n",
       "    </tr>\n",
       "    <tr>\n",
       "      <th>2</th>\n",
       "      <td>4</td>\n",
       "      <td>0.833333</td>\n",
       "      <td>0.833333</td>\n",
       "      <td>0</td>\n",
       "      <td>0.833333</td>\n",
       "      <td>0.833333</td>\n",
       "      <td>0.333333</td>\n",
       "      <td>7</td>\n",
       "      <td>4</td>\n",
       "      <td>900</td>\n",
       "      <td>...</td>\n",
       "      <td>0.0</td>\n",
       "      <td>0.0</td>\n",
       "      <td>0.0</td>\n",
       "      <td>0.0</td>\n",
       "      <td>0.0</td>\n",
       "      <td>0.0</td>\n",
       "      <td>0.0</td>\n",
       "      <td>0.0</td>\n",
       "      <td>0.0</td>\n",
       "      <td>0</td>\n",
       "    </tr>\n",
       "    <tr>\n",
       "      <th>3</th>\n",
       "      <td>4</td>\n",
       "      <td>0.666667</td>\n",
       "      <td>0.666667</td>\n",
       "      <td>0</td>\n",
       "      <td>0.833333</td>\n",
       "      <td>0.166667</td>\n",
       "      <td>0.833333</td>\n",
       "      <td>11</td>\n",
       "      <td>12</td>\n",
       "      <td>3120</td>\n",
       "      <td>...</td>\n",
       "      <td>0.0</td>\n",
       "      <td>0.0</td>\n",
       "      <td>0.0</td>\n",
       "      <td>0.0</td>\n",
       "      <td>0.0</td>\n",
       "      <td>0.0</td>\n",
       "      <td>0.0</td>\n",
       "      <td>0.0</td>\n",
       "      <td>0.0</td>\n",
       "      <td>2</td>\n",
       "    </tr>\n",
       "    <tr>\n",
       "      <th>4</th>\n",
       "      <td>4</td>\n",
       "      <td>NaN</td>\n",
       "      <td>NaN</td>\n",
       "      <td>NaN</td>\n",
       "      <td>NaN</td>\n",
       "      <td>NaN</td>\n",
       "      <td>NaN</td>\n",
       "      <td>15</td>\n",
       "      <td>12</td>\n",
       "      <td>5400</td>\n",
       "      <td>...</td>\n",
       "      <td>0.0</td>\n",
       "      <td>0.0</td>\n",
       "      <td>0.0</td>\n",
       "      <td>0.0</td>\n",
       "      <td>0.0</td>\n",
       "      <td>0.0</td>\n",
       "      <td>0.0</td>\n",
       "      <td>0.0</td>\n",
       "      <td>0.0</td>\n",
       "      <td>2</td>\n",
       "    </tr>\n",
       "  </tbody>\n",
       "</table>\n",
       "<p>5 rows × 23817 columns</p>\n",
       "</div>"
      ],
      "text/plain": [
       "  rating    bitter     meaty piquant     salty      sour     sweet  \\\n",
       "0      4       NaN       NaN     NaN       NaN       NaN       NaN   \n",
       "1      4  0.833333  0.833333       0  0.833333  0.166667  0.166667   \n",
       "2      4  0.833333  0.833333       0  0.833333  0.833333  0.333333   \n",
       "3      4  0.666667  0.666667       0  0.833333  0.166667  0.833333   \n",
       "4      4       NaN       NaN     NaN       NaN       NaN       NaN   \n",
       "\n",
       "  ingredientcount numberofservings totaltimeinseconds     ...      \\\n",
       "0               5                1                900     ...       \n",
       "1               5               12                300     ...       \n",
       "2               7                4                900     ...       \n",
       "3              11               12               3120     ...       \n",
       "4              15               12               5400     ...       \n",
       "\n",
       "   zucchini snow  zucchini squash  zucchini string  zucchini sweet  \\\n",
       "0            0.0              0.0              0.0             0.0   \n",
       "1            0.0              0.0              0.0             0.0   \n",
       "2            0.0              0.0              0.0             0.0   \n",
       "3            0.0              0.0              0.0             0.0   \n",
       "4            0.0              0.0              0.0             0.0   \n",
       "\n",
       "   zucchini tahini  zucchini tomatoes  zucchini vegetable  zucchini vidalia  \\\n",
       "0              0.0                0.0                 0.0               0.0   \n",
       "1              0.0                0.0                 0.0               0.0   \n",
       "2              0.0                0.0                 0.0               0.0   \n",
       "3              0.0                0.0                 0.0               0.0   \n",
       "4              0.0                0.0                 0.0               0.0   \n",
       "\n",
       "   zucchini yellow  course_num  \n",
       "0              0.0           2  \n",
       "1              0.0           3  \n",
       "2              0.0           0  \n",
       "3              0.0           2  \n",
       "4              0.0           2  \n",
       "\n",
       "[5 rows x 23817 columns]"
      ]
     },
     "execution_count": 866,
     "metadata": {},
     "output_type": "execute_result"
    }
   ],
   "source": [
    "data_train.head()"
   ]
  },
  {
   "cell_type": "code",
   "execution_count": null,
   "metadata": {
    "collapsed": true
   },
   "outputs": [],
   "source": []
  }
 ],
 "metadata": {
  "kernelspec": {
   "display_name": "Python 2",
   "language": "python",
   "name": "python2"
  },
  "language_info": {
   "codemirror_mode": {
    "name": "ipython",
    "version": 2
   },
   "file_extension": ".py",
   "mimetype": "text/x-python",
   "name": "python",
   "nbconvert_exporter": "python",
   "pygments_lexer": "ipython2",
   "version": "2.7.11"
  }
 },
 "nbformat": 4,
 "nbformat_minor": 0
}

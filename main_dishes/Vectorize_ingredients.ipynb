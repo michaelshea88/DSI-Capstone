{
 "cells": [
  {
   "cell_type": "code",
   "execution_count": 70,
   "metadata": {
    "collapsed": true
   },
   "outputs": [],
   "source": [
    "import pandas as pd\n",
    "import numpy as np\n",
    "from nltk.stem import WordNetLemmatizer\n",
    "import re\n",
    "from sklearn.feature_extraction.text import TfidfVectorizer"
   ]
  },
  {
   "cell_type": "code",
   "execution_count": 2,
   "metadata": {
    "collapsed": false
   },
   "outputs": [],
   "source": [
    "# Ingredients - American\n",
    "ingr_one = pd.read_csv('american/main_amer_ingredients1.csv')\n",
    "ingr_two = pd.read_csv('american/main_amer_ingredients2.csv')\n",
    "ingr_thr = pd.read_csv('american/main_amer_ingredients3.csv')\n",
    "ingr_fou = pd.read_csv('american/main_amer_ingredients4.csv')"
   ]
  },
  {
   "cell_type": "code",
   "execution_count": 3,
   "metadata": {
    "collapsed": false
   },
   "outputs": [],
   "source": [
    "data_ingred_amer = pd.concat([ingr_one, ingr_two, ingr_thr, ingr_fou], join = 'outer', axis =0, ignore_index=True)\n",
    "data_ingred_amer['cuisine'] = 'American'"
   ]
  },
  {
   "cell_type": "code",
   "execution_count": 4,
   "metadata": {
    "collapsed": true
   },
   "outputs": [],
   "source": [
    "# Ingredients - Italian\n",
    "ingr_one = pd.read_csv('italian/main_ital_ingredients1.csv')\n",
    "ingr_two = pd.read_csv('italian/main_ital_ingredients2.csv')\n",
    "ingr_thr = pd.read_csv('italian/main_ital_ingredients3.csv')\n",
    "ingr_fou = pd.read_csv('italian/main_ital_ingredients4.csv')"
   ]
  },
  {
   "cell_type": "code",
   "execution_count": 5,
   "metadata": {
    "collapsed": true
   },
   "outputs": [],
   "source": [
    "data_ingred_ital = pd.concat([ingr_one, ingr_two, ingr_thr, ingr_fou], join = 'outer', axis =0, ignore_index=True)\n",
    "data_ingred_ital['cuisine'] = 'Italian'"
   ]
  },
  {
   "cell_type": "code",
   "execution_count": 9,
   "metadata": {
    "collapsed": true
   },
   "outputs": [],
   "source": [
    "# Ingredients - Mexian\n",
    "ingr_one = pd.read_csv('mexican/main_mex_ingredients1.csv')\n",
    "ingr_two = pd.read_csv('mexican/main_mex_ingredients2.csv')\n",
    "ingr_thr = pd.read_csv('mexican/main_mex_ingredients3.csv')\n",
    "ingr_fou = pd.read_csv('mexican/main_mex_ingredients4.csv')"
   ]
  },
  {
   "cell_type": "code",
   "execution_count": 10,
   "metadata": {
    "collapsed": true
   },
   "outputs": [],
   "source": [
    "data_ingred_mex = pd.concat([ingr_one, ingr_two, ingr_thr, ingr_fou], join = 'outer', axis =0, ignore_index=True)\n",
    "data_ingred_mex['cuisine'] = 'Mexican'"
   ]
  },
  {
   "cell_type": "code",
   "execution_count": 11,
   "metadata": {
    "collapsed": true
   },
   "outputs": [],
   "source": [
    "# Ingredients - Asian\n",
    "ingr_one = pd.read_csv('asian/main_as_ingredients1.csv')\n",
    "ingr_two = pd.read_csv('asian/main_as_ingredients2.csv')\n",
    "ingr_thr = pd.read_csv('asian/main_as_ingredients3.csv')\n",
    "ingr_fou = pd.read_csv('asian/main_as_ingredients4.csv')"
   ]
  },
  {
   "cell_type": "code",
   "execution_count": 12,
   "metadata": {
    "collapsed": true
   },
   "outputs": [],
   "source": [
    "data_ingred_asian = pd.concat([ingr_one, ingr_two, ingr_thr, ingr_fou], join = 'outer', axis =0, ignore_index=True)\n",
    "data_ingred_asian['cuisine'] = 'Asian'"
   ]
  },
  {
   "cell_type": "code",
   "execution_count": 13,
   "metadata": {
    "collapsed": true
   },
   "outputs": [],
   "source": [
    "# Ingredients - Asian\n",
    "ingr_one = pd.read_csv('mediterranean/main_medit_ingredients1.csv')\n",
    "ingr_two = pd.read_csv('mediterranean/main_medit_ingredients2.csv')\n",
    "ingr_thr = pd.read_csv('mediterranean/main_medit_ingredients3.csv')\n",
    "ingr_fou = pd.read_csv('mediterranean/main_medit_ingredients4.csv')"
   ]
  },
  {
   "cell_type": "code",
   "execution_count": 14,
   "metadata": {
    "collapsed": true
   },
   "outputs": [],
   "source": [
    "data_ingred_medit = pd.concat([ingr_one, ingr_two, ingr_thr, ingr_fou], join = 'outer', axis =0, ignore_index=True)\n",
    "data_ingred_medit['cuisine'] = 'Mediterranean'"
   ]
  },
  {
   "cell_type": "code",
   "execution_count": 23,
   "metadata": {
    "collapsed": false
   },
   "outputs": [],
   "source": [
    "data_all_ingr = pd.concat([data_ingred_amer, data_ingred_asian, data_ingred_ital, data_ingred_medit,\n",
    "                          data_ingred_mex], join = 'outer', axis = 0, ignore_index=True)"
   ]
  },
  {
   "cell_type": "code",
   "execution_count": 112,
   "metadata": {
    "collapsed": false
   },
   "outputs": [],
   "source": [
    "data_reduced = data_all_ingr[['id', 'ingredient_list']]"
   ]
  },
  {
   "cell_type": "code",
   "execution_count": 113,
   "metadata": {
    "collapsed": false
   },
   "outputs": [
    {
     "name": "stderr",
     "output_type": "stream",
     "text": [
      "/Users/michaelshea/anaconda/lib/python2.7/site-packages/ipykernel/__main__.py:18: SettingWithCopyWarning: \n",
      "A value is trying to be set on a copy of a slice from a DataFrame.\n",
      "Try using .loc[row_indexer,col_indexer] = value instead\n",
      "\n",
      "See the caveats in the documentation: http://pandas.pydata.org/pandas-docs/stable/indexing.html#indexing-view-versus-copy\n"
     ]
    }
   ],
   "source": [
    "# Remove non-alpha chcaracters and convert to lower case\n",
    "# Note, this is still in string form here\n",
    "ingredient_string = [re.sub('[^A-Za-z]', ' ', z).strip().lower() for z in data_reduced['ingredient_list']]\n",
    "\n",
    "# To lemmatize each word, need to convert the string to a list to allow lemmatizer to iterate through\n",
    "convert_to_list = [z.split() for z in ingredient_string]\n",
    "lemmatized = [WordNetLemmatizer().lemmatize(z) for z in ingredient_string]\n",
    "\n",
    "# Here lematizer iterates through list; couldn't get it to work with list comprehension\n",
    "lemmatized = []\n",
    "for _list in convert_to_list:\n",
    "    sub_list = []\n",
    "    for word in _list:\n",
    "        sub_list.append(WordNetLemmatizer().lemmatize(word))\n",
    "    lemmatized.append(sub_list)\n",
    "\n",
    "# Then need to convert the list back into a string\n",
    "data_reduced['ingredient_string'] = [' '.join(z) for z in lemmatized]"
   ]
  },
  {
   "cell_type": "code",
   "execution_count": 116,
   "metadata": {
    "collapsed": false
   },
   "outputs": [],
   "source": [
    "# Now vectorize\n",
    "vect = TfidfVectorizer()"
   ]
  },
  {
   "cell_type": "code",
   "execution_count": 121,
   "metadata": {
    "collapsed": true
   },
   "outputs": [],
   "source": [
    "# Assign 'ingredient string' column to 'corpus' variable\n",
    "corpus = data_reduced['ingredient_string']\n",
    "\n",
    "# Fit, transform and convert corpus to dense matrix\n",
    "dense = vect.fit_transform(corpus).todense()"
   ]
  },
  {
   "cell_type": "code",
   "execution_count": 124,
   "metadata": {
    "collapsed": false
   },
   "outputs": [
    {
     "data": {
      "text/plain": [
       "matrix([], shape=(0, 1754), dtype=float64)"
      ]
     },
     "execution_count": 124,
     "metadata": {},
     "output_type": "execute_result"
    }
   ],
   "source": [
    "dense"
   ]
  },
  {
   "cell_type": "code",
   "execution_count": null,
   "metadata": {
    "collapsed": true
   },
   "outputs": [],
   "source": []
  }
 ],
 "metadata": {
  "kernelspec": {
   "display_name": "Python 2",
   "language": "python",
   "name": "python2"
  },
  "language_info": {
   "codemirror_mode": {
    "name": "ipython",
    "version": 2
   },
   "file_extension": ".py",
   "mimetype": "text/x-python",
   "name": "python",
   "nbconvert_exporter": "python",
   "pygments_lexer": "ipython2",
   "version": "2.7.11"
  }
 },
 "nbformat": 4,
 "nbformat_minor": 0
}

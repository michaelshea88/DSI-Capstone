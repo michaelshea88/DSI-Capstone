{
 "cells": [
  {
   "cell_type": "code",
   "execution_count": 1,
   "metadata": {
    "collapsed": true
   },
   "outputs": [],
   "source": [
    "from yummly import Client\n",
    "import json\n",
    "import requests\n",
    "import pandas as pd\n",
    "import numpy as np \n",
    "import re"
   ]
  },
  {
   "cell_type": "code",
   "execution_count": 7,
   "metadata": {
    "collapsed": false
   },
   "outputs": [],
   "source": [
    "# API call for the first 500 BB recipes labeled as such only!\n",
    "header= {'X-Yummly-App-ID':'79663a75', 'X-Yummly-App-Key':'02b233108f476f3110e0f65437c4d6dd'}\n",
    "url='http://api.yummly.com/v1/api/recipes?'\n",
    "parameters={\n",
    "            'allowedCourse[]':'course^course-Soups',\n",
    "            'excludedCourse[]': ['course^course-Main Dishes','course^course-Appetizers', 'course^course-Salads', 'course^course-Lunch',\n",
    "                                'course^course-Side Dishes','course^course-Desserts','course^course-Breads',\n",
    "                                 'course^course-Breakfast and Brunch', 'course^course-Beverages', 'course^course-Condiments and Sauces',\n",
    "                                'course^course-Cocktails', 'course^course-Snacks'],\n",
    "            'maxResult': 500,\n",
    "            'start': 1000\n",
    "            }\n",
    "\n",
    "response=requests.get(url, headers = header, params = parameters)"
   ]
  },
  {
   "cell_type": "code",
   "execution_count": 8,
   "metadata": {
    "collapsed": false
   },
   "outputs": [
    {
     "data": {
      "text/plain": [
       "200"
      ]
     },
     "execution_count": 8,
     "metadata": {},
     "output_type": "execute_result"
    }
   ],
   "source": [
    "response.status_code"
   ]
  },
  {
   "cell_type": "code",
   "execution_count": 9,
   "metadata": {
    "collapsed": false
   },
   "outputs": [
    {
     "name": "stdout",
     "output_type": "stream",
     "text": [
      "<type 'dict'>\n",
      "[u'matches', u'totalMatchCount', u'attribution', u'facetCounts', u'criteria']\n"
     ]
    }
   ],
   "source": [
    "SP=response.json()\n",
    "print type(SP)\n",
    "print SP.keys()"
   ]
  },
  {
   "cell_type": "code",
   "execution_count": 10,
   "metadata": {
    "collapsed": false
   },
   "outputs": [
    {
     "name": "stdout",
     "output_type": "stream",
     "text": [
      "500\n",
      "<type 'list'>\n",
      "[u'flavors', u'rating', u'totalTimeInSeconds', u'ingredients', u'smallImageUrls', u'sourceDisplayName', u'recipeName', u'attributes', u'id', u'imageUrlsBySize']\n"
     ]
    }
   ],
   "source": [
    "#only interrested in the information under matches. \n",
    "print len(SP['matches'])\n",
    "print type(SP['matches'])\n",
    "print SP['matches'][0].keys()"
   ]
  },
  {
   "cell_type": "code",
   "execution_count": 11,
   "metadata": {
    "collapsed": false
   },
   "outputs": [
    {
     "data": {
      "text/plain": [
       "{u'attributes': {u'course': [u'Soups']},\n",
       " u'flavors': {u'bitter': 0.16666666666666666,\n",
       "  u'meaty': 0.16666666666666666,\n",
       "  u'piquant': 0.16666666666666666,\n",
       "  u'salty': 0.5,\n",
       "  u'sour': 0.8333333333333334,\n",
       "  u'sweet': 0.16666666666666666},\n",
       " u'id': u'Broccoli-Spinach-Soup-1127371',\n",
       " u'imageUrlsBySize': {u'90': u'http://lh3.googleusercontent.com/5ncVmt7CfXv9LyU0rHmaf2BNw9Dn8fsLA6LBZOOlKYz_Hc7ISAmTSnExLYQ-hee50mGxvt1AaYrc1c_Eaydr8g=s90-c'},\n",
       " u'ingredients': [u'onions',\n",
       "  u'garlic cloves',\n",
       "  u'broccoli',\n",
       "  u'potatoes',\n",
       "  u'vegetable stock',\n",
       "  u'baby spinach',\n",
       "  u'thyme sprigs',\n",
       "  u'bay leaf',\n",
       "  u'extra-virgin olive oil',\n",
       "  u'sea salt',\n",
       "  u'red pepper flakes',\n",
       "  u'black pepper',\n",
       "  u'eggs',\n",
       "  u'fresh herbs'],\n",
       " u'rating': 4,\n",
       " u'recipeName': u'Broccoli Spinach Soup',\n",
       " u'smallImageUrls': [u'http://lh3.googleusercontent.com/aMlr6iAn0bz_-_h3kFp9IdJRpbxDDC_PHn8thrarmIKjiFGYc8BAyC6jSTjyLzohDqqKuVWw3cyIO5JVj6gmsw=s90'],\n",
       " u'sourceDisplayName': u'Ciao Florentina',\n",
       " u'totalTimeInSeconds': 1200}"
      ]
     },
     "execution_count": 11,
     "metadata": {},
     "output_type": "execute_result"
    }
   ],
   "source": [
    "#checkout one recipe\n",
    "SP_matches=SP['matches']\n",
    "SP_matches[499]"
   ]
  },
  {
   "cell_type": "code",
   "execution_count": 40,
   "metadata": {
    "collapsed": false
   },
   "outputs": [
    {
     "name": "stdout",
     "output_type": "stream",
     "text": [
      "Cheesy-Cauliflower-Soup-1710335\n",
      "Healthy-Carrot-_-Ginger-Soup-Maker-Soup-1521247\n"
     ]
    },
    {
     "data": {
      "text/plain": [
       "[]"
      ]
     },
     "execution_count": 40,
     "metadata": {},
     "output_type": "execute_result"
    }
   ],
   "source": [
    "#import previous list of recipes collected\n",
    "df=pd.read_csv('SP_main.csv')\n",
    "df1=pd.read_csv('SP_main_1.csv')\n",
    "SP_ids=df.id\n",
    "SP1_ids=df1.id\n",
    "print SP_ids[0]\n",
    "SP2_ids=[]\n",
    "for recipe in SP_matches:\n",
    "    SP2_ids.append(recipe['id'])\n",
    "print SP2_ids[0]\n",
    "#check if there are dupplicate recipes\n",
    "[i for i, j in zip(SP_ids, SP2_ids) if i == j]\n",
    "[i for i, j in zip(SP1_ids, SP2_ids) if i == j]"
   ]
  },
  {
   "cell_type": "code",
   "execution_count": 30,
   "metadata": {
    "collapsed": false
   },
   "outputs": [],
   "source": [
    "#forming lists to create dataframes of the features we want. \n",
    "main_list = []\n",
    "ingredients_list = []\n",
    "attributes_list = []\n",
    "\n",
    "\n",
    "for food in SP_matches:\n",
    "\n",
    "    _d1 = {}\n",
    "    _d1['id'] = food['id']\n",
    "    _d1['rating'] = food['rating']\n",
    "    _d1['recipeName'] = food['recipeName']\n",
    "    _d1['sourceDisplayName'] = food['sourceDisplayName']\n",
    "    main_list.append(_d1)\n",
    "    \n",
    "    _d2 = {}\n",
    "    _d2['id'] = food['id']\n",
    "    _d2['course'] = 'Breakfast and Brunch' \n",
    "    _d2['ingredient_list'] =  food['ingredients']\n",
    "    for i in food['ingredients']:\n",
    "        i = i.lower() # additional code to convert to lowercase\n",
    "        i = re.sub(r'\\d+%\\s', '', i) # additional code to remove 1%, 2%, etc\n",
    "        i = re.sub(r'\\xae', '', i) # remove '\\xae' characters\n",
    "        i = re.sub(r'shredded\\s', '', i)\n",
    "        i = re.sub(r'chopped\\s', '', i)\n",
    "        i = re.sub(r'diced\\s', '', i)\n",
    "        i = re.sub(r'crumbled\\s', '', i)\n",
    "        i = re.sub(r'fresh\\s', '', i)\n",
    "        i = re.sub(r'grated\\s', '', i)\n",
    "        i = re.sub(r'fat free\\s', '', i)\n",
    "        i = re.sub(r'boneless\\s', '', i)\n",
    "        i = re.sub(r'boneless skinless\\s', '', i)\n",
    "        i = re.sub(r'minced\\s', '', i)\n",
    "        i = re.sub(r'sliced\\s', '', i)\n",
    "        i = re.sub(r'(?!ground beef)ground ', '', i)\n",
    "        i = re.sub(r'^dried\\s', '', i)\n",
    "        i = re.sub(r'^cooked\\s', '', i)\n",
    "        \n",
    "        _d2[i] = 1\n",
    "    ingredients_list.append(_d2)\n",
    "\n",
    "    _d3 = {}\n",
    "    _d3['id'] = food['id']\n",
    "    for k, v in food['attributes'].items():\n",
    "        for i in v:\n",
    "            _d3[i] = 1\n",
    "    attributes_list.append(_d3)\n",
    "\n",
    "flavors_dict = {}\n",
    "\n",
    "for food in SP_matches:\n",
    "    flavors_dict[food.get('id')] = food.get('flavors') "
   ]
  },
  {
   "cell_type": "code",
   "execution_count": 31,
   "metadata": {
    "collapsed": false
   },
   "outputs": [],
   "source": [
    "# read in csv for cuisine and create list of possible values \n",
    "cuisine_df = pd.read_csv('/Users/bruktawitabebe/Desktop/Yummly/cuisine_headers.csv', names=['cuisine'])\n",
    "cuisine_list= cuisine_df.cuisine"
   ]
  },
  {
   "cell_type": "code",
   "execution_count": 32,
   "metadata": {
    "collapsed": false
   },
   "outputs": [],
   "source": [
    "#create dictionary of cuisine and course for each recipe\n",
    "\n",
    "cuisine_dict={}\n",
    "for food in SP_matches:\n",
    "    cuisine_dict[food.get('id')]= food['attributes'].get('cuisine')\n",
    "            \n",
    "_cuisines= {}       \n",
    "\n",
    "for k, v in cuisine_dict.iteritems():\n",
    "    cuisine_val = {}\n",
    "    for course in cuisine_list:\n",
    "        try:\n",
    "            if course in v :\n",
    "                cuisine_val[course] = 1\n",
    "            else:\n",
    "                cuisine_val[course] = 0\n",
    "        except TypeError:\n",
    "            cuisine_val[course] = 0\n",
    "    \n",
    "        _cuisines[k] = cuisine_val"
   ]
  },
  {
   "cell_type": "code",
   "execution_count": 33,
   "metadata": {
    "collapsed": false
   },
   "outputs": [],
   "source": [
    "#get list of recipe ids\n",
    "recipe_ids=[]\n",
    "for recipe in SP_matches:\n",
    "    recipe_ids.append(recipe['id'])"
   ]
  },
  {
   "cell_type": "code",
   "execution_count": 34,
   "metadata": {
    "collapsed": true
   },
   "outputs": [],
   "source": [
    "# second api call to get other features for each recipe\n",
    "key_id= '_app_id=79663a75&_app_key=02b233108f476f3110e0f65437c4d6dd'\n",
    "url='http://api.yummly.com/v1/api/recipe/'"
   ]
  },
  {
   "cell_type": "code",
   "execution_count": 35,
   "metadata": {
    "collapsed": true
   },
   "outputs": [],
   "source": [
    "# retrieve other features for all recipes\n",
    "\n",
    "def get_recipe(_id):\n",
    "    response = requests.get(url + _id + '?' + key_id)\n",
    "    return response.json()\n",
    "\n",
    "recipes=[]\n",
    "for _id in recipe_ids :\n",
    "    recipes.append(get_recipe(_id))"
   ]
  },
  {
   "cell_type": "code",
   "execution_count": 36,
   "metadata": {
    "collapsed": false
   },
   "outputs": [
    {
     "data": {
      "text/plain": [
       "200"
      ]
     },
     "execution_count": 36,
     "metadata": {},
     "output_type": "execute_result"
    }
   ],
   "source": [
    "response.status_code"
   ]
  },
  {
   "cell_type": "code",
   "execution_count": 37,
   "metadata": {
    "collapsed": false
   },
   "outputs": [
    {
     "name": "stdout",
     "output_type": "stream",
     "text": [
      "500\n",
      "[u'totalTime', u'ingredientLines', u'attribution', u'name', u'rating', u'numberOfServings', u'yield', u'nutritionEstimates', u'source', u'flavors', u'images', u'attributes', u'id', u'totalTimeInSeconds']\n"
     ]
    }
   ],
   "source": [
    "print len(recipes)\n",
    "print recipes[1].keys()"
   ]
  },
  {
   "cell_type": "code",
   "execution_count": 38,
   "metadata": {
    "collapsed": true
   },
   "outputs": [],
   "source": [
    "#for each recipe create a new dictionary of selected attributes and append into a list\n",
    "\n",
    "recipe_details=[]\n",
    "for recipe in recipes:\n",
    "    _dict={}\n",
    "    #import pdb; pdb.set_trace()\n",
    "    _dict['id']=recipe['id']\n",
    "    _dict['ingredientCount'] = len(recipe['ingredientLines'])\n",
    "    _dict['numberOfServings'] = recipe['numberOfServings']\n",
    "    _dict['prepTimeInSeconds'] = recipe.get('prepTimeInSeconds')\n",
    "    _dict['cookTimeInSeconds'] = recipe.get('cookTimeInSeconds')\n",
    "    _dict['totalTimeInSeconds'] = recipe.get('totalTimeInSeconds')\n",
    "    \n",
    "    recipe_details.append(_dict)"
   ]
  },
  {
   "cell_type": "code",
   "execution_count": 41,
   "metadata": {
    "collapsed": false
   },
   "outputs": [],
   "source": [
    "#create dataframes, arrange column index and save into csv\n",
    "df_main = pd.DataFrame(main_list)\n",
    "df_main.to_csv('SP_main_2.csv', encoding ='utf-8')\n",
    "\n",
    "df_ingredients = pd.DataFrame(ingredients_list)\n",
    "df_ingredients = df_ingredients.fillna(0)\n",
    "cols = list(df_ingredients)\n",
    "cols.insert(0, cols.pop(cols.index('id')))\n",
    "cols.insert(1, cols.pop(cols.index('course')))\n",
    "df_ingredients= df_ingredients.ix[:,cols]\n",
    "df_ingredients.to_csv('SP_ingredients_2.csv', encoding ='utf-8')\n",
    "\n",
    "df_attributes = pd.DataFrame(attributes_list)\n",
    "df_attributes = df_attributes.fillna(0)\n",
    "cols = list(df_attributes)\n",
    "cols.insert(0, cols.pop(cols.index('id')))\n",
    "df_attributes = df_attributes.ix[:,cols]\n",
    "df_attributes.to_csv('SP_attributes_2.csv')\n",
    "\n",
    "df_flavors = pd.DataFrame(flavors_dict).transpose()\n",
    "df_flavors.reset_index(level=0, inplace=True)\n",
    "df_flavors.to_csv('SP_flavors_2.csv')\n",
    "\n",
    "df_cuisines = pd.DataFrame(_cuisines).transpose()\n",
    "df_cuisines.reset_index(level=0, inplace=True)\n",
    "df_cuisines.to_csv('SP_cuisines_2.csv')\n",
    "\n",
    "df_details=pd.DataFrame(recipe_details)\n",
    "cols = list(df_details)\n",
    "cols.insert(0, cols.pop(cols.index('id')))\n",
    "df_details=df_details.ix[:,cols]\n",
    "df_details.to_csv('SP_details_2.csv')"
   ]
  }
 ],
 "metadata": {
  "kernelspec": {
   "display_name": "Python 2",
   "language": "python",
   "name": "python2"
  },
  "language_info": {
   "codemirror_mode": {
    "name": "ipython",
    "version": 2
   },
   "file_extension": ".py",
   "mimetype": "text/x-python",
   "name": "python",
   "nbconvert_exporter": "python",
   "pygments_lexer": "ipython2",
   "version": "2.7.11"
  }
 },
 "nbformat": 4,
 "nbformat_minor": 0
}
